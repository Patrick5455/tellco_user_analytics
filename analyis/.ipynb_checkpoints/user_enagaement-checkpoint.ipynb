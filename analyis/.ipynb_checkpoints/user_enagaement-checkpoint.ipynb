{
 "cells": [
  {
   "cell_type": "markdown",
   "metadata": {},
   "source": [
    "<a id='top'></a>\n",
    "\n",
    "## User Engagement Analysis of Tellco Telecommunications"
   ]
  },
  {
   "cell_type": "markdown",
   "metadata": {},
   "source": [
    "#### Tables of Content"
   ]
  },
  {
   "cell_type": "markdown",
   "metadata": {},
   "source": [
    "<html>\n",
    "    <ul>\n",
    "        <li><a href='#intro'>Introduction</a></li>\n",
    "        <li><a href='#obj'>Objective</a></li>\n",
    "        <li><a href= '#research'/>Research Questions<a/></li>\n",
    "              <br/>\n",
    "            <ul>\n",
    "             <li><a href='#fe'>Feature Engineering</a></li>\n",
    "             </ul>\n",
    "            <ol>\n",
    "            <li><a href='#r1'>Research Question 1</a></li>\n",
    "             <li><a href='#r2'>Research Question 2</a></li>\n",
    "             <li><a href='#r3'>Research Question 3</a></li>\n",
    "            </ol>\n",
    "        <br/>\n",
    "        <li><a href= '#ana'>Analysis<a/></li>\n",
    "        <li><a href= '#go'>General Observation<a/></li>\n",
    "        <li><a href= '#rc'>Recommendation & Conclusions<a/></li>\n",
    "        <li><a href= '#lim'>Limitations<a/></li>\n",
    "        <li><a href= '#ref'>Referecnes<a/></li>\n",
    "    </ul>\n",
    "</html>"
   ]
  },
  {
   "cell_type": "markdown",
   "metadata": {},
   "source": [
    "<a id= 'intro'> </a>\n",
    "\n",
    "#### Introduction"
   ]
  },
  {
   "cell_type": "markdown",
   "metadata": {},
   "source": [
    "In telecommunication , tracking the user activities on the database sessions is a good starting point to appreciate the user engagement for \n",
    "\n",
    "the overall applications and per application as well.\n",
    "\n",
    "If we can determine the level of engagement of a random user for any application, then it could help the technical teams of the business to \n",
    "\n",
    "know where to concentrate network resources for different clusters of customers based on the engagement scores "
   ]
  },
  {
   "cell_type": "markdown",
   "metadata": {},
   "source": [
    "<a id='obj'></a>\n",
    "\n",
    "#### Objective"
   ]
  },
  {
   "cell_type": "markdown",
   "metadata": {},
   "source": [
    "The objective of this analysis is outlised as below:\n",
    "    \n",
    "- Track the user’s engagement using the following engagement `metrics`:\n",
    "\n",
    "- -             Sessions frequency\n",
    "\n",
    "- -  The duration of the session\n",
    "\n",
    "- -  The sessions total traffic (download and upload (bytes))"
   ]
  },
  {
   "cell_type": "markdown",
   "metadata": {},
   "source": [
    "> Import libraries"
   ]
  },
  {
   "cell_type": "code",
   "execution_count": 51,
   "metadata": {},
   "outputs": [],
   "source": [
    "import numpy as np\n",
    "import pandas as pd\n",
    "import seaborn as sns\n",
    "%matplotlib inline\n",
    "import matplotlib.pyplot as plt\n",
    "from sklearn import cluster"
   ]
  },
  {
   "cell_type": "markdown",
   "metadata": {},
   "source": [
    " "
   ]
  },
  {
   "cell_type": "markdown",
   "metadata": {},
   "source": [
    "<a id='research'></a>\n",
    "\n",
    "#### Research Questions"
   ]
  },
  {
   "cell_type": "markdown",
   "metadata": {},
   "source": [
    "##### Research Question 1\n",
    "\n",
    "- Customer Aggregation\n",
    "\n",
    "             \n",
    " 1.    Aggregate the above metrics per customer id(MSISDN)  \n",
    "                     \n",
    "                 i  Report the top 10 customers per engagement metric\n",
    "\n",
    "2.      Aggregat euser total traffic per application \n",
    "                    \n",
    "                 i  Report the top 10 most engaged users per application \n",
    "                   \n",
    "                 ii  Plot the top 3 most used applications"
   ]
  },
  {
   "cell_type": "markdown",
   "metadata": {},
   "source": [
    " "
   ]
  },
  {
   "cell_type": "markdown",
   "metadata": {},
   "source": [
    "##### Research Question 2\n",
    "\n",
    "- Customer Classification\n",
    "\n",
    "             \n",
    " 1. K-Means Clustering \n",
    " \n",
    "      \n",
    "        i  Normalize each engagement metric & run a k-means(k=3)\n",
    "                  \n",
    "            to classify customers in three groups of engagement.\n",
    "                          \n",
    "        ii  Compute the minimum, maximum, average & total non-normalized metrics for each cluster.                        \n",
    "                          \n",
    "             - Visual representaiton of result and textual interpretations\n",
    "             \n",
    "        iii Using ​k​-means clustering algorithm:\n",
    "            \n",
    "            group users in k-engagement clusters based on the engagement metrics\n",
    "\n"
   ]
  },
  {
   "cell_type": "markdown",
   "metadata": {},
   "source": [
    " "
   ]
  },
  {
   "cell_type": "markdown",
   "metadata": {},
   "source": [
    " "
   ]
  },
  {
   "cell_type": "code",
   "execution_count": 17,
   "metadata": {},
   "outputs": [],
   "source": [
    "path = '../datasets/cleaned/cleanWk2_data.csv'\n",
    "data = pd.read_csv(path)"
   ]
  },
  {
   "cell_type": "code",
   "execution_count": 18,
   "metadata": {},
   "outputs": [
    {
     "data": {
      "text/html": [
       "<div>\n",
       "<style scoped>\n",
       "    .dataframe tbody tr th:only-of-type {\n",
       "        vertical-align: middle;\n",
       "    }\n",
       "\n",
       "    .dataframe tbody tr th {\n",
       "        vertical-align: top;\n",
       "    }\n",
       "\n",
       "    .dataframe thead th {\n",
       "        text-align: right;\n",
       "    }\n",
       "</style>\n",
       "<table border=\"1\" class=\"dataframe\">\n",
       "  <thead>\n",
       "    <tr style=\"text-align: right;\">\n",
       "      <th></th>\n",
       "      <th>bearer_id</th>\n",
       "      <th>start</th>\n",
       "      <th>start_ms</th>\n",
       "      <th>end</th>\n",
       "      <th>end_ms</th>\n",
       "      <th>imsi</th>\n",
       "      <th>msisdn_number</th>\n",
       "      <th>imei</th>\n",
       "      <th>last_location_name</th>\n",
       "      <th>avg_rtt_dl__ms_</th>\n",
       "      <th>...</th>\n",
       "      <th>youtube_dl__bytes_</th>\n",
       "      <th>youtube_ul__bytes_</th>\n",
       "      <th>netflix_dl__bytes_</th>\n",
       "      <th>netflix_ul__bytes_</th>\n",
       "      <th>gaming_dl__bytes_</th>\n",
       "      <th>gaming_ul__bytes_</th>\n",
       "      <th>other_dl__bytes_</th>\n",
       "      <th>other_ul__bytes_</th>\n",
       "      <th>total_ul__bytes_</th>\n",
       "      <th>total_dl__bytes_</th>\n",
       "    </tr>\n",
       "  </thead>\n",
       "  <tbody>\n",
       "    <tr>\n",
       "      <th>0</th>\n",
       "      <td>13114483460844900352</td>\n",
       "      <td>2019-04-04 12:01:18</td>\n",
       "      <td>770.0</td>\n",
       "      <td>2019-04-25 14:35:31</td>\n",
       "      <td>662.0</td>\n",
       "      <td>2.082014e+14</td>\n",
       "      <td>3.366496e+10</td>\n",
       "      <td>3.552121e+13</td>\n",
       "      <td>9164566995485190</td>\n",
       "      <td>42.0</td>\n",
       "      <td>...</td>\n",
       "      <td>1.585461e+07</td>\n",
       "      <td>2.501332e+06</td>\n",
       "      <td>8.198936e+06</td>\n",
       "      <td>9.656251e+06</td>\n",
       "      <td>2.780823e+08</td>\n",
       "      <td>1.434415e+07</td>\n",
       "      <td>1.717444e+08</td>\n",
       "      <td>8.814393e+06</td>\n",
       "      <td>36749741.0</td>\n",
       "      <td>308879636.0</td>\n",
       "    </tr>\n",
       "    <tr>\n",
       "      <th>1</th>\n",
       "      <td>13114483482878900224</td>\n",
       "      <td>2019-04-09 13:04:04</td>\n",
       "      <td>235.0</td>\n",
       "      <td>2019-04-25 08:15:48</td>\n",
       "      <td>606.0</td>\n",
       "      <td>2.082019e+14</td>\n",
       "      <td>3.368185e+10</td>\n",
       "      <td>3.579401e+13</td>\n",
       "      <td>L77566A</td>\n",
       "      <td>65.0</td>\n",
       "      <td>...</td>\n",
       "      <td>2.024740e+07</td>\n",
       "      <td>1.911173e+07</td>\n",
       "      <td>1.833841e+07</td>\n",
       "      <td>1.722713e+07</td>\n",
       "      <td>6.087501e+08</td>\n",
       "      <td>1.170709e+06</td>\n",
       "      <td>5.269042e+08</td>\n",
       "      <td>1.505514e+07</td>\n",
       "      <td>53800391.0</td>\n",
       "      <td>653384965.0</td>\n",
       "    </tr>\n",
       "    <tr>\n",
       "      <th>2</th>\n",
       "      <td>13114483484080500736</td>\n",
       "      <td>2019-04-09 17:42:11</td>\n",
       "      <td>1.0</td>\n",
       "      <td>2019-04-25 11:58:13</td>\n",
       "      <td>652.0</td>\n",
       "      <td>2.082003e+14</td>\n",
       "      <td>3.376063e+10</td>\n",
       "      <td>3.528151e+13</td>\n",
       "      <td>D42335A</td>\n",
       "      <td>45.0</td>\n",
       "      <td>...</td>\n",
       "      <td>1.972566e+07</td>\n",
       "      <td>1.469958e+07</td>\n",
       "      <td>1.758779e+07</td>\n",
       "      <td>6.163408e+06</td>\n",
       "      <td>2.295846e+08</td>\n",
       "      <td>3.956300e+05</td>\n",
       "      <td>4.106926e+08</td>\n",
       "      <td>4.215763e+06</td>\n",
       "      <td>27883638.0</td>\n",
       "      <td>279807335.0</td>\n",
       "    </tr>\n",
       "    <tr>\n",
       "      <th>3</th>\n",
       "      <td>13114483485442799616</td>\n",
       "      <td>2019-04-10 00:31:25</td>\n",
       "      <td>486.0</td>\n",
       "      <td>2019-04-25 07:36:35</td>\n",
       "      <td>171.0</td>\n",
       "      <td>2.082014e+14</td>\n",
       "      <td>3.375034e+10</td>\n",
       "      <td>3.535661e+13</td>\n",
       "      <td>T21824A</td>\n",
       "      <td>45.0</td>\n",
       "      <td>...</td>\n",
       "      <td>2.138812e+07</td>\n",
       "      <td>1.514664e+07</td>\n",
       "      <td>1.399465e+07</td>\n",
       "      <td>1.097942e+06</td>\n",
       "      <td>7.995382e+08</td>\n",
       "      <td>1.084972e+07</td>\n",
       "      <td>7.490399e+08</td>\n",
       "      <td>1.279728e+07</td>\n",
       "      <td>43324218.0</td>\n",
       "      <td>846028530.0</td>\n",
       "    </tr>\n",
       "    <tr>\n",
       "      <th>4</th>\n",
       "      <td>13114483499480700928</td>\n",
       "      <td>2019-04-12 20:10:23</td>\n",
       "      <td>565.0</td>\n",
       "      <td>2019-04-25 10:40:32</td>\n",
       "      <td>954.0</td>\n",
       "      <td>2.082014e+14</td>\n",
       "      <td>3.369980e+10</td>\n",
       "      <td>3.540701e+13</td>\n",
       "      <td>D88865A</td>\n",
       "      <td>45.0</td>\n",
       "      <td>...</td>\n",
       "      <td>1.525938e+07</td>\n",
       "      <td>1.896287e+07</td>\n",
       "      <td>1.712458e+07</td>\n",
       "      <td>4.152180e+05</td>\n",
       "      <td>5.277072e+08</td>\n",
       "      <td>3.529801e+06</td>\n",
       "      <td>5.507095e+08</td>\n",
       "      <td>1.391032e+07</td>\n",
       "      <td>38542814.0</td>\n",
       "      <td>569138589.0</td>\n",
       "    </tr>\n",
       "    <tr>\n",
       "      <th>...</th>\n",
       "      <td>...</td>\n",
       "      <td>...</td>\n",
       "      <td>...</td>\n",
       "      <td>...</td>\n",
       "      <td>...</td>\n",
       "      <td>...</td>\n",
       "      <td>...</td>\n",
       "      <td>...</td>\n",
       "      <td>...</td>\n",
       "      <td>...</td>\n",
       "      <td>...</td>\n",
       "      <td>...</td>\n",
       "      <td>...</td>\n",
       "      <td>...</td>\n",
       "      <td>...</td>\n",
       "      <td>...</td>\n",
       "      <td>...</td>\n",
       "      <td>...</td>\n",
       "      <td>...</td>\n",
       "      <td>...</td>\n",
       "      <td>...</td>\n",
       "    </tr>\n",
       "    <tr>\n",
       "      <th>149996</th>\n",
       "      <td>7277825670196679680</td>\n",
       "      <td>2019-04-29 07:28:42</td>\n",
       "      <td>451.0</td>\n",
       "      <td>2019-04-30 06:02:33</td>\n",
       "      <td>214.0</td>\n",
       "      <td>2.082022e+14</td>\n",
       "      <td>3.365069e+10</td>\n",
       "      <td>3.548311e+13</td>\n",
       "      <td>D20434A</td>\n",
       "      <td>32.0</td>\n",
       "      <td>...</td>\n",
       "      <td>1.619167e+07</td>\n",
       "      <td>1.176343e+07</td>\n",
       "      <td>1.788370e+07</td>\n",
       "      <td>1.967816e+07</td>\n",
       "      <td>5.266097e+08</td>\n",
       "      <td>9.197207e+06</td>\n",
       "      <td>3.264510e+06</td>\n",
       "      <td>1.348742e+07</td>\n",
       "      <td>57628851.0</td>\n",
       "      <td>574175259.0</td>\n",
       "    </tr>\n",
       "    <tr>\n",
       "      <th>149997</th>\n",
       "      <td>7349883264234609664</td>\n",
       "      <td>2019-04-29 07:28:42</td>\n",
       "      <td>483.0</td>\n",
       "      <td>2019-04-30 10:41:33</td>\n",
       "      <td>187.0</td>\n",
       "      <td>2.082019e+14</td>\n",
       "      <td>3.366345e+10</td>\n",
       "      <td>3.566051e+13</td>\n",
       "      <td>D10223C</td>\n",
       "      <td>27.0</td>\n",
       "      <td>...</td>\n",
       "      <td>1.387723e+07</td>\n",
       "      <td>8.288284e+06</td>\n",
       "      <td>1.935015e+07</td>\n",
       "      <td>2.129315e+07</td>\n",
       "      <td>6.268931e+08</td>\n",
       "      <td>4.735033e+06</td>\n",
       "      <td>7.121804e+08</td>\n",
       "      <td>2.457758e+06</td>\n",
       "      <td>39135081.0</td>\n",
       "      <td>666648844.0</td>\n",
       "    </tr>\n",
       "    <tr>\n",
       "      <th>149998</th>\n",
       "      <td>13114483573367300096</td>\n",
       "      <td>2019-04-29 07:28:43</td>\n",
       "      <td>283.0</td>\n",
       "      <td>2019-04-30 10:46:12</td>\n",
       "      <td>810.0</td>\n",
       "      <td>2.082017e+14</td>\n",
       "      <td>3.362189e+10</td>\n",
       "      <td>3.572121e+13</td>\n",
       "      <td>T51102A</td>\n",
       "      <td>43.0</td>\n",
       "      <td>...</td>\n",
       "      <td>2.266051e+07</td>\n",
       "      <td>1.855903e+06</td>\n",
       "      <td>9.963942e+06</td>\n",
       "      <td>5.065760e+06</td>\n",
       "      <td>5.535395e+08</td>\n",
       "      <td>1.339432e+07</td>\n",
       "      <td>1.211009e+08</td>\n",
       "      <td>1.131473e+07</td>\n",
       "      <td>34912224.0</td>\n",
       "      <td>592786405.0</td>\n",
       "    </tr>\n",
       "    <tr>\n",
       "      <th>149999</th>\n",
       "      <td>13114483573367300096</td>\n",
       "      <td>2019-04-29 07:28:43</td>\n",
       "      <td>696.0</td>\n",
       "      <td>2019-04-30 10:40:34</td>\n",
       "      <td>327.0</td>\n",
       "      <td>2.082021e+14</td>\n",
       "      <td>3.361962e+10</td>\n",
       "      <td>8.618620e+13</td>\n",
       "      <td>L88342B</td>\n",
       "      <td>37.0</td>\n",
       "      <td>...</td>\n",
       "      <td>8.817106e+06</td>\n",
       "      <td>8.305402e+06</td>\n",
       "      <td>3.322253e+06</td>\n",
       "      <td>1.317259e+07</td>\n",
       "      <td>3.525370e+08</td>\n",
       "      <td>2.529475e+06</td>\n",
       "      <td>8.147131e+08</td>\n",
       "      <td>1.406930e+06</td>\n",
       "      <td>29626096.0</td>\n",
       "      <td>371895920.0</td>\n",
       "    </tr>\n",
       "    <tr>\n",
       "      <th>150000</th>\n",
       "      <td></td>\n",
       "      <td>2019-04-29 07:08:38</td>\n",
       "      <td>499.0</td>\n",
       "      <td>2019-04-25 00:01:32</td>\n",
       "      <td>500.0</td>\n",
       "      <td>2.082014e+14</td>\n",
       "      <td>3.362632e+10</td>\n",
       "      <td>3.518231e+13</td>\n",
       "      <td>D41377B</td>\n",
       "      <td>45.0</td>\n",
       "      <td>...</td>\n",
       "      <td>1.163407e+07</td>\n",
       "      <td>1.100941e+07</td>\n",
       "      <td>1.162685e+07</td>\n",
       "      <td>1.100175e+07</td>\n",
       "      <td>4.220447e+08</td>\n",
       "      <td>8.288398e+06</td>\n",
       "      <td>4.211005e+08</td>\n",
       "      <td>8.264799e+06</td>\n",
       "      <td>41143312.0</td>\n",
       "      <td>455841077.5</td>\n",
       "    </tr>\n",
       "  </tbody>\n",
       "</table>\n",
       "<p>150001 rows × 54 columns</p>\n",
       "</div>"
      ],
      "text/plain": [
       "                   bearer_id                start  start_ms  \\\n",
       "0       13114483460844900352  2019-04-04 12:01:18     770.0   \n",
       "1       13114483482878900224  2019-04-09 13:04:04     235.0   \n",
       "2       13114483484080500736  2019-04-09 17:42:11       1.0   \n",
       "3       13114483485442799616  2019-04-10 00:31:25     486.0   \n",
       "4       13114483499480700928  2019-04-12 20:10:23     565.0   \n",
       "...                      ...                  ...       ...   \n",
       "149996   7277825670196679680  2019-04-29 07:28:42     451.0   \n",
       "149997   7349883264234609664  2019-04-29 07:28:42     483.0   \n",
       "149998  13114483573367300096  2019-04-29 07:28:43     283.0   \n",
       "149999  13114483573367300096  2019-04-29 07:28:43     696.0   \n",
       "150000                        2019-04-29 07:08:38     499.0   \n",
       "\n",
       "                        end  end_ms          imsi  msisdn_number  \\\n",
       "0       2019-04-25 14:35:31   662.0  2.082014e+14   3.366496e+10   \n",
       "1       2019-04-25 08:15:48   606.0  2.082019e+14   3.368185e+10   \n",
       "2       2019-04-25 11:58:13   652.0  2.082003e+14   3.376063e+10   \n",
       "3       2019-04-25 07:36:35   171.0  2.082014e+14   3.375034e+10   \n",
       "4       2019-04-25 10:40:32   954.0  2.082014e+14   3.369980e+10   \n",
       "...                     ...     ...           ...            ...   \n",
       "149996  2019-04-30 06:02:33   214.0  2.082022e+14   3.365069e+10   \n",
       "149997  2019-04-30 10:41:33   187.0  2.082019e+14   3.366345e+10   \n",
       "149998  2019-04-30 10:46:12   810.0  2.082017e+14   3.362189e+10   \n",
       "149999  2019-04-30 10:40:34   327.0  2.082021e+14   3.361962e+10   \n",
       "150000  2019-04-25 00:01:32   500.0  2.082014e+14   3.362632e+10   \n",
       "\n",
       "                imei last_location_name  avg_rtt_dl__ms_  ...  \\\n",
       "0       3.552121e+13   9164566995485190             42.0  ...   \n",
       "1       3.579401e+13            L77566A             65.0  ...   \n",
       "2       3.528151e+13            D42335A             45.0  ...   \n",
       "3       3.535661e+13            T21824A             45.0  ...   \n",
       "4       3.540701e+13            D88865A             45.0  ...   \n",
       "...              ...                ...              ...  ...   \n",
       "149996  3.548311e+13            D20434A             32.0  ...   \n",
       "149997  3.566051e+13            D10223C             27.0  ...   \n",
       "149998  3.572121e+13            T51102A             43.0  ...   \n",
       "149999  8.618620e+13            L88342B             37.0  ...   \n",
       "150000  3.518231e+13            D41377B             45.0  ...   \n",
       "\n",
       "        youtube_dl__bytes_  youtube_ul__bytes_  netflix_dl__bytes_  \\\n",
       "0             1.585461e+07        2.501332e+06        8.198936e+06   \n",
       "1             2.024740e+07        1.911173e+07        1.833841e+07   \n",
       "2             1.972566e+07        1.469958e+07        1.758779e+07   \n",
       "3             2.138812e+07        1.514664e+07        1.399465e+07   \n",
       "4             1.525938e+07        1.896287e+07        1.712458e+07   \n",
       "...                    ...                 ...                 ...   \n",
       "149996        1.619167e+07        1.176343e+07        1.788370e+07   \n",
       "149997        1.387723e+07        8.288284e+06        1.935015e+07   \n",
       "149998        2.266051e+07        1.855903e+06        9.963942e+06   \n",
       "149999        8.817106e+06        8.305402e+06        3.322253e+06   \n",
       "150000        1.163407e+07        1.100941e+07        1.162685e+07   \n",
       "\n",
       "        netflix_ul__bytes_  gaming_dl__bytes_  gaming_ul__bytes_  \\\n",
       "0             9.656251e+06       2.780823e+08       1.434415e+07   \n",
       "1             1.722713e+07       6.087501e+08       1.170709e+06   \n",
       "2             6.163408e+06       2.295846e+08       3.956300e+05   \n",
       "3             1.097942e+06       7.995382e+08       1.084972e+07   \n",
       "4             4.152180e+05       5.277072e+08       3.529801e+06   \n",
       "...                    ...                ...                ...   \n",
       "149996        1.967816e+07       5.266097e+08       9.197207e+06   \n",
       "149997        2.129315e+07       6.268931e+08       4.735033e+06   \n",
       "149998        5.065760e+06       5.535395e+08       1.339432e+07   \n",
       "149999        1.317259e+07       3.525370e+08       2.529475e+06   \n",
       "150000        1.100175e+07       4.220447e+08       8.288398e+06   \n",
       "\n",
       "        other_dl__bytes_  other_ul__bytes_  total_ul__bytes_  total_dl__bytes_  \n",
       "0           1.717444e+08      8.814393e+06        36749741.0       308879636.0  \n",
       "1           5.269042e+08      1.505514e+07        53800391.0       653384965.0  \n",
       "2           4.106926e+08      4.215763e+06        27883638.0       279807335.0  \n",
       "3           7.490399e+08      1.279728e+07        43324218.0       846028530.0  \n",
       "4           5.507095e+08      1.391032e+07        38542814.0       569138589.0  \n",
       "...                  ...               ...               ...               ...  \n",
       "149996      3.264510e+06      1.348742e+07        57628851.0       574175259.0  \n",
       "149997      7.121804e+08      2.457758e+06        39135081.0       666648844.0  \n",
       "149998      1.211009e+08      1.131473e+07        34912224.0       592786405.0  \n",
       "149999      8.147131e+08      1.406930e+06        29626096.0       371895920.0  \n",
       "150000      4.211005e+08      8.264799e+06        41143312.0       455841077.5  \n",
       "\n",
       "[150001 rows x 54 columns]"
      ]
     },
     "execution_count": 18,
     "metadata": {},
     "output_type": "execute_result"
    }
   ],
   "source": [
    "data"
   ]
  },
  {
   "cell_type": "code",
   "execution_count": 19,
   "metadata": {},
   "outputs": [
    {
     "data": {
      "text/plain": [
       "Index(['bearer_id', 'start', 'start_ms', 'end', 'end_ms', 'imsi',\n",
       "       'msisdn_number', 'imei', 'last_location_name', 'avg_rtt_dl__ms_',\n",
       "       'avg_rtt_ul__ms_', 'avg_bearer_tp_dl__kbps_', 'avg_bearer_tp_ul__kbps_',\n",
       "       'tcp_dl_retrans__vol__bytes_', 'tcp_ul_retrans__vol__bytes_',\n",
       "       'dl_tp_<_50_kbps__%_', '50_kbps_<_dl_tp_<_250_kbps__%_',\n",
       "       '250_kbps_<_dl_tp_<_1_mbps__%_', 'dl_tp_>_1_mbps__%_',\n",
       "       'ul_tp_<_10_kbps__%_', '10_kbps_<_ul_tp_<_50_kbps__%_',\n",
       "       '50_kbps_<_ul_tp_<_300_kbps__%_', 'ul_tp_>_300_kbps__%_',\n",
       "       'http_dl__bytes_', 'http_ul__bytes_', 'activity_duration_dl__ms_',\n",
       "       'activity_duration_ul__ms_', 'dur___ms__1', 'handset_manufacturer',\n",
       "       'handset_type', 'nb_of_sec_with_125000b_<_vol_dl',\n",
       "       'nb_of_sec_with_1250b_<_vol_ul_<_6250b',\n",
       "       'nb_of_sec_with_31250b_<_vol_dl_<_125000b',\n",
       "       'nb_of_sec_with_37500b_<_vol_ul',\n",
       "       'nb_of_sec_with_6250b_<_vol_dl_<_31250b',\n",
       "       'nb_of_sec_with_6250b_<_vol_ul_<_37500b',\n",
       "       'nb_of_sec_with_vol_dl_<_6250b', 'nb_of_sec_with_vol_ul_<_1250b',\n",
       "       'social_media_dl__bytes_', 'social_media_ul__bytes_',\n",
       "       'google_dl__bytes_', 'google_ul__bytes_', 'email_dl__bytes_',\n",
       "       'email_ul__bytes_', 'youtube_dl__bytes_', 'youtube_ul__bytes_',\n",
       "       'netflix_dl__bytes_', 'netflix_ul__bytes_', 'gaming_dl__bytes_',\n",
       "       'gaming_ul__bytes_', 'other_dl__bytes_', 'other_ul__bytes_',\n",
       "       'total_ul__bytes_', 'total_dl__bytes_'],\n",
       "      dtype='object')"
      ]
     },
     "execution_count": 19,
     "metadata": {},
     "output_type": "execute_result"
    }
   ],
   "source": [
    "data.columns"
   ]
  },
  {
   "cell_type": "markdown",
   "metadata": {},
   "source": [
    "<a id='fe'></a>\n",
    "\n",
    "#### Feature Engineering\n",
    " - For this analyis, we would be working with the following features"
   ]
  },
  {
   "cell_type": "code",
   "execution_count": 20,
   "metadata": {},
   "outputs": [],
   "source": [
    "columns = ['bearer_id', 'msisdn_number',\n",
    "           'http_dl__bytes_', 'http_ul__bytes_', 'activity_duration_dl__ms_',\n",
    "       'activity_duration_ul__ms_', 'dur___ms__1', \n",
    "          'social_media_dl__bytes_', 'social_media_ul__bytes_',\n",
    "       'google_dl__bytes_', 'google_ul__bytes_', 'email_dl__bytes_',\n",
    "       'email_ul__bytes_', 'youtube_dl__bytes_', 'youtube_ul__bytes_',\n",
    "       'netflix_dl__bytes_', 'netflix_ul__bytes_', 'gaming_dl__bytes_',\n",
    "       'gaming_ul__bytes_', 'other_dl__bytes_', 'other_ul__bytes_',\n",
    "       'total_ul__bytes_', 'total_dl__bytes_']"
   ]
  },
  {
   "cell_type": "markdown",
   "metadata": {},
   "source": [
    "> Get working data"
   ]
  },
  {
   "cell_type": "code",
   "execution_count": 21,
   "metadata": {},
   "outputs": [],
   "source": [
    "working_data = data[columns]"
   ]
  },
  {
   "cell_type": "code",
   "execution_count": 22,
   "metadata": {},
   "outputs": [
    {
     "data": {
      "text/html": [
       "<div>\n",
       "<style scoped>\n",
       "    .dataframe tbody tr th:only-of-type {\n",
       "        vertical-align: middle;\n",
       "    }\n",
       "\n",
       "    .dataframe tbody tr th {\n",
       "        vertical-align: top;\n",
       "    }\n",
       "\n",
       "    .dataframe thead th {\n",
       "        text-align: right;\n",
       "    }\n",
       "</style>\n",
       "<table border=\"1\" class=\"dataframe\">\n",
       "  <thead>\n",
       "    <tr style=\"text-align: right;\">\n",
       "      <th></th>\n",
       "      <th>bearer_id</th>\n",
       "      <th>msisdn_number</th>\n",
       "      <th>http_dl__bytes_</th>\n",
       "      <th>http_ul__bytes_</th>\n",
       "      <th>activity_duration_dl__ms_</th>\n",
       "      <th>activity_duration_ul__ms_</th>\n",
       "      <th>dur___ms__1</th>\n",
       "      <th>social_media_dl__bytes_</th>\n",
       "      <th>social_media_ul__bytes_</th>\n",
       "      <th>google_dl__bytes_</th>\n",
       "      <th>...</th>\n",
       "      <th>youtube_dl__bytes_</th>\n",
       "      <th>youtube_ul__bytes_</th>\n",
       "      <th>netflix_dl__bytes_</th>\n",
       "      <th>netflix_ul__bytes_</th>\n",
       "      <th>gaming_dl__bytes_</th>\n",
       "      <th>gaming_ul__bytes_</th>\n",
       "      <th>other_dl__bytes_</th>\n",
       "      <th>other_ul__bytes_</th>\n",
       "      <th>total_ul__bytes_</th>\n",
       "      <th>total_dl__bytes_</th>\n",
       "    </tr>\n",
       "  </thead>\n",
       "  <tbody>\n",
       "    <tr>\n",
       "      <th>0</th>\n",
       "      <td>13114483460844900352</td>\n",
       "      <td>3.366496e+10</td>\n",
       "      <td>1941949.0</td>\n",
       "      <td>229733.0</td>\n",
       "      <td>37624.0</td>\n",
       "      <td>38787.0</td>\n",
       "      <td>86399953.0</td>\n",
       "      <td>1.545765e+06</td>\n",
       "      <td>24420.00000</td>\n",
       "      <td>1.634479e+06</td>\n",
       "      <td>...</td>\n",
       "      <td>1.585461e+07</td>\n",
       "      <td>2.501332e+06</td>\n",
       "      <td>8.198936e+06</td>\n",
       "      <td>9.656251e+06</td>\n",
       "      <td>2.780823e+08</td>\n",
       "      <td>1.434415e+07</td>\n",
       "      <td>1.717444e+08</td>\n",
       "      <td>8.814393e+06</td>\n",
       "      <td>36749741.0</td>\n",
       "      <td>308879636.0</td>\n",
       "    </tr>\n",
       "    <tr>\n",
       "      <th>1</th>\n",
       "      <td>13114483482878900224</td>\n",
       "      <td>3.368185e+10</td>\n",
       "      <td>1941949.0</td>\n",
       "      <td>229733.0</td>\n",
       "      <td>168.0</td>\n",
       "      <td>3560.0</td>\n",
       "      <td>86399953.0</td>\n",
       "      <td>1.926113e+06</td>\n",
       "      <td>7165.00000</td>\n",
       "      <td>3.493924e+06</td>\n",
       "      <td>...</td>\n",
       "      <td>2.024740e+07</td>\n",
       "      <td>1.911173e+07</td>\n",
       "      <td>1.833841e+07</td>\n",
       "      <td>1.722713e+07</td>\n",
       "      <td>6.087501e+08</td>\n",
       "      <td>1.170709e+06</td>\n",
       "      <td>5.269042e+08</td>\n",
       "      <td>1.505514e+07</td>\n",
       "      <td>53800391.0</td>\n",
       "      <td>653384965.0</td>\n",
       "    </tr>\n",
       "    <tr>\n",
       "      <th>2</th>\n",
       "      <td>13114483484080500736</td>\n",
       "      <td>3.376063e+10</td>\n",
       "      <td>1941949.0</td>\n",
       "      <td>229733.0</td>\n",
       "      <td>0.0</td>\n",
       "      <td>0.0</td>\n",
       "      <td>86399953.0</td>\n",
       "      <td>1.684053e+06</td>\n",
       "      <td>42224.00000</td>\n",
       "      <td>8.535055e+06</td>\n",
       "      <td>...</td>\n",
       "      <td>1.972566e+07</td>\n",
       "      <td>1.469958e+07</td>\n",
       "      <td>1.758779e+07</td>\n",
       "      <td>6.163408e+06</td>\n",
       "      <td>2.295846e+08</td>\n",
       "      <td>3.956300e+05</td>\n",
       "      <td>4.106926e+08</td>\n",
       "      <td>4.215763e+06</td>\n",
       "      <td>27883638.0</td>\n",
       "      <td>279807335.0</td>\n",
       "    </tr>\n",
       "    <tr>\n",
       "      <th>3</th>\n",
       "      <td>13114483485442799616</td>\n",
       "      <td>3.375034e+10</td>\n",
       "      <td>1941949.0</td>\n",
       "      <td>229733.0</td>\n",
       "      <td>3330.0</td>\n",
       "      <td>37882.0</td>\n",
       "      <td>86399953.0</td>\n",
       "      <td>6.441210e+05</td>\n",
       "      <td>13372.00000</td>\n",
       "      <td>9.023734e+06</td>\n",
       "      <td>...</td>\n",
       "      <td>2.138812e+07</td>\n",
       "      <td>1.514664e+07</td>\n",
       "      <td>1.399465e+07</td>\n",
       "      <td>1.097942e+06</td>\n",
       "      <td>7.995382e+08</td>\n",
       "      <td>1.084972e+07</td>\n",
       "      <td>7.490399e+08</td>\n",
       "      <td>1.279728e+07</td>\n",
       "      <td>43324218.0</td>\n",
       "      <td>846028530.0</td>\n",
       "    </tr>\n",
       "    <tr>\n",
       "      <th>4</th>\n",
       "      <td>13114483499480700928</td>\n",
       "      <td>3.369980e+10</td>\n",
       "      <td>1941949.0</td>\n",
       "      <td>229733.0</td>\n",
       "      <td>0.0</td>\n",
       "      <td>0.0</td>\n",
       "      <td>86399953.0</td>\n",
       "      <td>8.626000e+05</td>\n",
       "      <td>50188.00000</td>\n",
       "      <td>6.248284e+06</td>\n",
       "      <td>...</td>\n",
       "      <td>1.525938e+07</td>\n",
       "      <td>1.896287e+07</td>\n",
       "      <td>1.712458e+07</td>\n",
       "      <td>4.152180e+05</td>\n",
       "      <td>5.277072e+08</td>\n",
       "      <td>3.529801e+06</td>\n",
       "      <td>5.507095e+08</td>\n",
       "      <td>1.391032e+07</td>\n",
       "      <td>38542814.0</td>\n",
       "      <td>569138589.0</td>\n",
       "    </tr>\n",
       "    <tr>\n",
       "      <th>...</th>\n",
       "      <td>...</td>\n",
       "      <td>...</td>\n",
       "      <td>...</td>\n",
       "      <td>...</td>\n",
       "      <td>...</td>\n",
       "      <td>...</td>\n",
       "      <td>...</td>\n",
       "      <td>...</td>\n",
       "      <td>...</td>\n",
       "      <td>...</td>\n",
       "      <td>...</td>\n",
       "      <td>...</td>\n",
       "      <td>...</td>\n",
       "      <td>...</td>\n",
       "      <td>...</td>\n",
       "      <td>...</td>\n",
       "      <td>...</td>\n",
       "      <td>...</td>\n",
       "      <td>...</td>\n",
       "      <td>...</td>\n",
       "      <td>...</td>\n",
       "    </tr>\n",
       "    <tr>\n",
       "      <th>149996</th>\n",
       "      <td>7277825670196679680</td>\n",
       "      <td>3.365069e+10</td>\n",
       "      <td>1941949.0</td>\n",
       "      <td>229733.0</td>\n",
       "      <td>42376.0</td>\n",
       "      <td>41915.0</td>\n",
       "      <td>81230763.0</td>\n",
       "      <td>3.464974e+06</td>\n",
       "      <td>52091.00000</td>\n",
       "      <td>9.967603e+06</td>\n",
       "      <td>...</td>\n",
       "      <td>1.619167e+07</td>\n",
       "      <td>1.176343e+07</td>\n",
       "      <td>1.788370e+07</td>\n",
       "      <td>1.967816e+07</td>\n",
       "      <td>5.266097e+08</td>\n",
       "      <td>9.197207e+06</td>\n",
       "      <td>3.264510e+06</td>\n",
       "      <td>1.348742e+07</td>\n",
       "      <td>57628851.0</td>\n",
       "      <td>574175259.0</td>\n",
       "    </tr>\n",
       "    <tr>\n",
       "      <th>149997</th>\n",
       "      <td>7349883264234609664</td>\n",
       "      <td>3.366345e+10</td>\n",
       "      <td>1941949.0</td>\n",
       "      <td>229733.0</td>\n",
       "      <td>17264.0</td>\n",
       "      <td>16759.0</td>\n",
       "      <td>97970704.0</td>\n",
       "      <td>2.344568e+06</td>\n",
       "      <td>7613.00000</td>\n",
       "      <td>2.229420e+06</td>\n",
       "      <td>...</td>\n",
       "      <td>1.387723e+07</td>\n",
       "      <td>8.288284e+06</td>\n",
       "      <td>1.935015e+07</td>\n",
       "      <td>2.129315e+07</td>\n",
       "      <td>6.268931e+08</td>\n",
       "      <td>4.735033e+06</td>\n",
       "      <td>7.121804e+08</td>\n",
       "      <td>2.457758e+06</td>\n",
       "      <td>39135081.0</td>\n",
       "      <td>666648844.0</td>\n",
       "    </tr>\n",
       "    <tr>\n",
       "      <th>149998</th>\n",
       "      <td>13114483573367300096</td>\n",
       "      <td>3.362189e+10</td>\n",
       "      <td>1941949.0</td>\n",
       "      <td>229733.0</td>\n",
       "      <td>25003.0</td>\n",
       "      <td>28640.0</td>\n",
       "      <td>98249527.0</td>\n",
       "      <td>1.245845e+06</td>\n",
       "      <td>14394.00000</td>\n",
       "      <td>3.850890e+06</td>\n",
       "      <td>...</td>\n",
       "      <td>2.266051e+07</td>\n",
       "      <td>1.855903e+06</td>\n",
       "      <td>9.963942e+06</td>\n",
       "      <td>5.065760e+06</td>\n",
       "      <td>5.535395e+08</td>\n",
       "      <td>1.339432e+07</td>\n",
       "      <td>1.211009e+08</td>\n",
       "      <td>1.131473e+07</td>\n",
       "      <td>34912224.0</td>\n",
       "      <td>592786405.0</td>\n",
       "    </tr>\n",
       "    <tr>\n",
       "      <th>149999</th>\n",
       "      <td>13114483573367300096</td>\n",
       "      <td>3.361962e+10</td>\n",
       "      <td>1941949.0</td>\n",
       "      <td>229733.0</td>\n",
       "      <td>13405.0</td>\n",
       "      <td>34088.0</td>\n",
       "      <td>97910631.0</td>\n",
       "      <td>8.015470e+05</td>\n",
       "      <td>21562.00000</td>\n",
       "      <td>4.189773e+06</td>\n",
       "      <td>...</td>\n",
       "      <td>8.817106e+06</td>\n",
       "      <td>8.305402e+06</td>\n",
       "      <td>3.322253e+06</td>\n",
       "      <td>1.317259e+07</td>\n",
       "      <td>3.525370e+08</td>\n",
       "      <td>2.529475e+06</td>\n",
       "      <td>8.147131e+08</td>\n",
       "      <td>1.406930e+06</td>\n",
       "      <td>29626096.0</td>\n",
       "      <td>371895920.0</td>\n",
       "    </tr>\n",
       "    <tr>\n",
       "      <th>150000</th>\n",
       "      <td></td>\n",
       "      <td>3.362632e+10</td>\n",
       "      <td>1941949.0</td>\n",
       "      <td>229733.0</td>\n",
       "      <td>39304.5</td>\n",
       "      <td>46793.5</td>\n",
       "      <td>86399983.0</td>\n",
       "      <td>1.795322e+06</td>\n",
       "      <td>32928.43438</td>\n",
       "      <td>5.750753e+06</td>\n",
       "      <td>...</td>\n",
       "      <td>1.163407e+07</td>\n",
       "      <td>1.100941e+07</td>\n",
       "      <td>1.162685e+07</td>\n",
       "      <td>1.100175e+07</td>\n",
       "      <td>4.220447e+08</td>\n",
       "      <td>8.288398e+06</td>\n",
       "      <td>4.211005e+08</td>\n",
       "      <td>8.264799e+06</td>\n",
       "      <td>41143312.0</td>\n",
       "      <td>455841077.5</td>\n",
       "    </tr>\n",
       "  </tbody>\n",
       "</table>\n",
       "<p>150001 rows × 23 columns</p>\n",
       "</div>"
      ],
      "text/plain": [
       "                   bearer_id  msisdn_number  http_dl__bytes_  http_ul__bytes_  \\\n",
       "0       13114483460844900352   3.366496e+10        1941949.0         229733.0   \n",
       "1       13114483482878900224   3.368185e+10        1941949.0         229733.0   \n",
       "2       13114483484080500736   3.376063e+10        1941949.0         229733.0   \n",
       "3       13114483485442799616   3.375034e+10        1941949.0         229733.0   \n",
       "4       13114483499480700928   3.369980e+10        1941949.0         229733.0   \n",
       "...                      ...            ...              ...              ...   \n",
       "149996   7277825670196679680   3.365069e+10        1941949.0         229733.0   \n",
       "149997   7349883264234609664   3.366345e+10        1941949.0         229733.0   \n",
       "149998  13114483573367300096   3.362189e+10        1941949.0         229733.0   \n",
       "149999  13114483573367300096   3.361962e+10        1941949.0         229733.0   \n",
       "150000                         3.362632e+10        1941949.0         229733.0   \n",
       "\n",
       "        activity_duration_dl__ms_  activity_duration_ul__ms_  dur___ms__1  \\\n",
       "0                         37624.0                    38787.0   86399953.0   \n",
       "1                           168.0                     3560.0   86399953.0   \n",
       "2                             0.0                        0.0   86399953.0   \n",
       "3                          3330.0                    37882.0   86399953.0   \n",
       "4                             0.0                        0.0   86399953.0   \n",
       "...                           ...                        ...          ...   \n",
       "149996                    42376.0                    41915.0   81230763.0   \n",
       "149997                    17264.0                    16759.0   97970704.0   \n",
       "149998                    25003.0                    28640.0   98249527.0   \n",
       "149999                    13405.0                    34088.0   97910631.0   \n",
       "150000                    39304.5                    46793.5   86399983.0   \n",
       "\n",
       "        social_media_dl__bytes_  social_media_ul__bytes_  google_dl__bytes_  \\\n",
       "0                  1.545765e+06              24420.00000       1.634479e+06   \n",
       "1                  1.926113e+06               7165.00000       3.493924e+06   \n",
       "2                  1.684053e+06              42224.00000       8.535055e+06   \n",
       "3                  6.441210e+05              13372.00000       9.023734e+06   \n",
       "4                  8.626000e+05              50188.00000       6.248284e+06   \n",
       "...                         ...                      ...                ...   \n",
       "149996             3.464974e+06              52091.00000       9.967603e+06   \n",
       "149997             2.344568e+06               7613.00000       2.229420e+06   \n",
       "149998             1.245845e+06              14394.00000       3.850890e+06   \n",
       "149999             8.015470e+05              21562.00000       4.189773e+06   \n",
       "150000             1.795322e+06              32928.43438       5.750753e+06   \n",
       "\n",
       "        ...  youtube_dl__bytes_  youtube_ul__bytes_  netflix_dl__bytes_  \\\n",
       "0       ...        1.585461e+07        2.501332e+06        8.198936e+06   \n",
       "1       ...        2.024740e+07        1.911173e+07        1.833841e+07   \n",
       "2       ...        1.972566e+07        1.469958e+07        1.758779e+07   \n",
       "3       ...        2.138812e+07        1.514664e+07        1.399465e+07   \n",
       "4       ...        1.525938e+07        1.896287e+07        1.712458e+07   \n",
       "...     ...                 ...                 ...                 ...   \n",
       "149996  ...        1.619167e+07        1.176343e+07        1.788370e+07   \n",
       "149997  ...        1.387723e+07        8.288284e+06        1.935015e+07   \n",
       "149998  ...        2.266051e+07        1.855903e+06        9.963942e+06   \n",
       "149999  ...        8.817106e+06        8.305402e+06        3.322253e+06   \n",
       "150000  ...        1.163407e+07        1.100941e+07        1.162685e+07   \n",
       "\n",
       "        netflix_ul__bytes_  gaming_dl__bytes_  gaming_ul__bytes_  \\\n",
       "0             9.656251e+06       2.780823e+08       1.434415e+07   \n",
       "1             1.722713e+07       6.087501e+08       1.170709e+06   \n",
       "2             6.163408e+06       2.295846e+08       3.956300e+05   \n",
       "3             1.097942e+06       7.995382e+08       1.084972e+07   \n",
       "4             4.152180e+05       5.277072e+08       3.529801e+06   \n",
       "...                    ...                ...                ...   \n",
       "149996        1.967816e+07       5.266097e+08       9.197207e+06   \n",
       "149997        2.129315e+07       6.268931e+08       4.735033e+06   \n",
       "149998        5.065760e+06       5.535395e+08       1.339432e+07   \n",
       "149999        1.317259e+07       3.525370e+08       2.529475e+06   \n",
       "150000        1.100175e+07       4.220447e+08       8.288398e+06   \n",
       "\n",
       "        other_dl__bytes_  other_ul__bytes_  total_ul__bytes_  total_dl__bytes_  \n",
       "0           1.717444e+08      8.814393e+06        36749741.0       308879636.0  \n",
       "1           5.269042e+08      1.505514e+07        53800391.0       653384965.0  \n",
       "2           4.106926e+08      4.215763e+06        27883638.0       279807335.0  \n",
       "3           7.490399e+08      1.279728e+07        43324218.0       846028530.0  \n",
       "4           5.507095e+08      1.391032e+07        38542814.0       569138589.0  \n",
       "...                  ...               ...               ...               ...  \n",
       "149996      3.264510e+06      1.348742e+07        57628851.0       574175259.0  \n",
       "149997      7.121804e+08      2.457758e+06        39135081.0       666648844.0  \n",
       "149998      1.211009e+08      1.131473e+07        34912224.0       592786405.0  \n",
       "149999      8.147131e+08      1.406930e+06        29626096.0       371895920.0  \n",
       "150000      4.211005e+08      8.264799e+06        41143312.0       455841077.5  \n",
       "\n",
       "[150001 rows x 23 columns]"
      ]
     },
     "execution_count": 22,
     "metadata": {},
     "output_type": "execute_result"
    }
   ],
   "source": [
    "working_data"
   ]
  },
  {
   "cell_type": "code",
   "execution_count": 23,
   "metadata": {},
   "outputs": [
    {
     "name": "stdout",
     "output_type": "stream",
     "text": [
      "<class 'pandas.core.frame.DataFrame'>\n",
      "RangeIndex: 150001 entries, 0 to 150000\n",
      "Data columns (total 23 columns):\n",
      " #   Column                     Non-Null Count   Dtype  \n",
      "---  ------                     --------------   -----  \n",
      " 0   bearer_id                  150001 non-null  object \n",
      " 1   msisdn_number              150001 non-null  float64\n",
      " 2   http_dl__bytes_            150001 non-null  float64\n",
      " 3   http_ul__bytes_            150001 non-null  float64\n",
      " 4   activity_duration_dl__ms_  150001 non-null  float64\n",
      " 5   activity_duration_ul__ms_  150001 non-null  float64\n",
      " 6   dur___ms__1                150001 non-null  float64\n",
      " 7   social_media_dl__bytes_    150001 non-null  float64\n",
      " 8   social_media_ul__bytes_    150001 non-null  float64\n",
      " 9   google_dl__bytes_          150001 non-null  float64\n",
      " 10  google_ul__bytes_          150001 non-null  float64\n",
      " 11  email_dl__bytes_           150001 non-null  float64\n",
      " 12  email_ul__bytes_           150001 non-null  float64\n",
      " 13  youtube_dl__bytes_         150001 non-null  float64\n",
      " 14  youtube_ul__bytes_         150001 non-null  float64\n",
      " 15  netflix_dl__bytes_         150001 non-null  float64\n",
      " 16  netflix_ul__bytes_         150001 non-null  float64\n",
      " 17  gaming_dl__bytes_          150001 non-null  float64\n",
      " 18  gaming_ul__bytes_          150001 non-null  float64\n",
      " 19  other_dl__bytes_           150001 non-null  float64\n",
      " 20  other_ul__bytes_           150001 non-null  float64\n",
      " 21  total_ul__bytes_           150001 non-null  float64\n",
      " 22  total_dl__bytes_           150001 non-null  float64\n",
      "dtypes: float64(22), object(1)\n",
      "memory usage: 26.3+ MB\n"
     ]
    }
   ],
   "source": [
    "working_data.info()"
   ]
  },
  {
   "cell_type": "markdown",
   "metadata": {},
   "source": [
    " "
   ]
  },
  {
   "cell_type": "markdown",
   "metadata": {},
   "source": [
    "<a id=\"r1\"></a>\n",
    "#### Research Question 1\n"
   ]
  },
  {
   "cell_type": "markdown",
   "metadata": {},
   "source": [
    "`metrics`:\n",
    "\n",
    "- -             Sessions frequency\n",
    "\n",
    "- -  The duration of the session\n",
    "\n",
    "- -  The sessions total traffic (download and upload (bytes))"
   ]
  },
  {
   "cell_type": "markdown",
   "metadata": {},
   "source": [
    "- Customer Aggregation\n",
    "\n",
    "             \n",
    " 1.    Aggregate the above metrics per customer id(MSISDN)  \n",
    "                     \n",
    "                 i  Report the top 10 customers per engagement metric\n",
    "\n",
    "2.      Aggregat euser total traffic per application \n",
    "                    \n",
    "                 i  Report the top 10 most engaged users per application \n",
    "                   \n",
    "                 ii  Plot the top 3 most used applications"
   ]
  },
  {
   "cell_type": "markdown",
   "metadata": {},
   "source": [
    " "
   ]
  },
  {
   "cell_type": "markdown",
   "metadata": {},
   "source": [
    "> Report the top 10 customers per engagement metric"
   ]
  },
  {
   "cell_type": "markdown",
   "metadata": {},
   "source": [
    "We would start by inspecting the msisdn column"
   ]
  },
  {
   "cell_type": "code",
   "execution_count": 24,
   "metadata": {},
   "outputs": [
    {
     "data": {
      "text/plain": [
       "3.362632e+10    1084\n",
       "3.361489e+10      17\n",
       "3.362578e+10      17\n",
       "3.365973e+10      16\n",
       "3.376054e+10      15\n",
       "                ... \n",
       "3.366162e+10       1\n",
       "3.365868e+10       1\n",
       "3.366778e+10       1\n",
       "3.361812e+10       1\n",
       "3.362668e+10       1\n",
       "Name: msisdn_number, Length: 106856, dtype: int64"
      ]
     },
     "execution_count": 24,
     "metadata": {},
     "output_type": "execute_result"
    }
   ],
   "source": [
    "working_data.msisdn_number.value_counts()"
   ]
  },
  {
   "cell_type": "code",
   "execution_count": 25,
   "metadata": {},
   "outputs": [
    {
     "data": {
      "text/plain": [
       "False"
      ]
     },
     "execution_count": 25,
     "metadata": {},
     "output_type": "execute_result"
    }
   ],
   "source": [
    "working_data.msisdn_number.isnull().any()"
   ]
  },
  {
   "cell_type": "code",
   "execution_count": 26,
   "metadata": {},
   "outputs": [
    {
     "data": {
      "text/plain": [
       "False"
      ]
     },
     "execution_count": 26,
     "metadata": {},
     "output_type": "execute_result"
    }
   ],
   "source": [
    "\"\" in working_data.msisdn_number"
   ]
  },
  {
   "cell_type": "markdown",
   "metadata": {},
   "source": [
    "> convert msisdn number to string datatype"
   ]
  },
  {
   "cell_type": "code",
   "execution_count": 27,
   "metadata": {},
   "outputs": [],
   "source": [
    " working_data = working_data.astype({'msisdn_number':'str'})"
   ]
  },
  {
   "cell_type": "code",
   "execution_count": 28,
   "metadata": {},
   "outputs": [
    {
     "data": {
      "text/plain": [
       "bearer_id                     object\n",
       "msisdn_number                 object\n",
       "http_dl__bytes_              float64\n",
       "http_ul__bytes_              float64\n",
       "activity_duration_dl__ms_    float64\n",
       "activity_duration_ul__ms_    float64\n",
       "dur___ms__1                  float64\n",
       "social_media_dl__bytes_      float64\n",
       "social_media_ul__bytes_      float64\n",
       "google_dl__bytes_            float64\n",
       "google_ul__bytes_            float64\n",
       "email_dl__bytes_             float64\n",
       "email_ul__bytes_             float64\n",
       "youtube_dl__bytes_           float64\n",
       "youtube_ul__bytes_           float64\n",
       "netflix_dl__bytes_           float64\n",
       "netflix_ul__bytes_           float64\n",
       "gaming_dl__bytes_            float64\n",
       "gaming_ul__bytes_            float64\n",
       "other_dl__bytes_             float64\n",
       "other_ul__bytes_             float64\n",
       "total_ul__bytes_             float64\n",
       "total_dl__bytes_             float64\n",
       "dtype: object"
      ]
     },
     "execution_count": 28,
     "metadata": {},
     "output_type": "execute_result"
    }
   ],
   "source": [
    "working_data.dtypes"
   ]
  },
  {
   "cell_type": "markdown",
   "metadata": {},
   "source": [
    "> group each metric by users msisdn number"
   ]
  },
  {
   "cell_type": "markdown",
   "metadata": {},
   "source": [
    "1. Group by `session frequency`"
   ]
  },
  {
   "cell_type": "code",
   "execution_count": 29,
   "metadata": {},
   "outputs": [],
   "source": [
    "sess_fre = working_data.groupby('msisdn_number')['bearer_id'].count().reset_index(name='session_fre').sort_values('session_fre', ascending = False)"
   ]
  },
  {
   "cell_type": "code",
   "execution_count": 30,
   "metadata": {},
   "outputs": [
    {
     "data": {
      "text/html": [
       "<div>\n",
       "<style scoped>\n",
       "    .dataframe tbody tr th:only-of-type {\n",
       "        vertical-align: middle;\n",
       "    }\n",
       "\n",
       "    .dataframe tbody tr th {\n",
       "        vertical-align: top;\n",
       "    }\n",
       "\n",
       "    .dataframe thead th {\n",
       "        text-align: right;\n",
       "    }\n",
       "</style>\n",
       "<table border=\"1\" class=\"dataframe\">\n",
       "  <thead>\n",
       "    <tr style=\"text-align: right;\">\n",
       "      <th></th>\n",
       "      <th>msisdn_number</th>\n",
       "      <th>session_fre</th>\n",
       "    </tr>\n",
       "  </thead>\n",
       "  <tbody>\n",
       "    <tr>\n",
       "      <th>13527</th>\n",
       "      <td>33626320676.0</td>\n",
       "      <td>1084</td>\n",
       "    </tr>\n",
       "    <tr>\n",
       "      <th>6438</th>\n",
       "      <td>33614892860.0</td>\n",
       "      <td>17</td>\n",
       "    </tr>\n",
       "    <tr>\n",
       "      <th>13181</th>\n",
       "      <td>33625779332.0</td>\n",
       "      <td>17</td>\n",
       "    </tr>\n",
       "    <tr>\n",
       "      <th>37053</th>\n",
       "      <td>33659725664.0</td>\n",
       "      <td>16</td>\n",
       "    </tr>\n",
       "    <tr>\n",
       "      <th>92925</th>\n",
       "      <td>33760536639.0</td>\n",
       "      <td>15</td>\n",
       "    </tr>\n",
       "  </tbody>\n",
       "</table>\n",
       "</div>"
      ],
      "text/plain": [
       "       msisdn_number  session_fre\n",
       "13527  33626320676.0         1084\n",
       "6438   33614892860.0           17\n",
       "13181  33625779332.0           17\n",
       "37053  33659725664.0           16\n",
       "92925  33760536639.0           15"
      ]
     },
     "execution_count": 30,
     "metadata": {},
     "output_type": "execute_result"
    }
   ],
   "source": [
    "sess_fre.head()"
   ]
  },
  {
   "cell_type": "markdown",
   "metadata": {},
   "source": [
    "2. Grouo by `session duration`"
   ]
  },
  {
   "cell_type": "code",
   "execution_count": 31,
   "metadata": {},
   "outputs": [],
   "source": [
    "sess_dur = working_data.groupby('msisdn_number')['dur___ms__1'].sum().reset_index(name='session_dur').sort_values('session_dur', ascending = False)"
   ]
  },
  {
   "cell_type": "code",
   "execution_count": 32,
   "metadata": {},
   "outputs": [
    {
     "data": {
      "text/html": [
       "<div>\n",
       "<style scoped>\n",
       "    .dataframe tbody tr th:only-of-type {\n",
       "        vertical-align: middle;\n",
       "    }\n",
       "\n",
       "    .dataframe tbody tr th {\n",
       "        vertical-align: top;\n",
       "    }\n",
       "\n",
       "    .dataframe thead th {\n",
       "        text-align: right;\n",
       "    }\n",
       "</style>\n",
       "<table border=\"1\" class=\"dataframe\">\n",
       "  <thead>\n",
       "    <tr style=\"text-align: right;\">\n",
       "      <th></th>\n",
       "      <th>msisdn_number</th>\n",
       "      <th>session_dur</th>\n",
       "    </tr>\n",
       "  </thead>\n",
       "  <tbody>\n",
       "    <tr>\n",
       "      <th>13527</th>\n",
       "      <td>33626320676.0</td>\n",
       "      <td>7.099096e+10</td>\n",
       "    </tr>\n",
       "    <tr>\n",
       "      <th>37053</th>\n",
       "      <td>33659725664.0</td>\n",
       "      <td>3.625663e+09</td>\n",
       "    </tr>\n",
       "    <tr>\n",
       "      <th>76364</th>\n",
       "      <td>33675877202.0</td>\n",
       "      <td>2.961686e+09</td>\n",
       "    </tr>\n",
       "    <tr>\n",
       "      <th>57242</th>\n",
       "      <td>33664712899.0</td>\n",
       "      <td>2.927790e+09</td>\n",
       "    </tr>\n",
       "    <tr>\n",
       "      <th>60339</th>\n",
       "      <td>33665530316.0</td>\n",
       "      <td>2.684571e+09</td>\n",
       "    </tr>\n",
       "    <tr>\n",
       "      <th>...</th>\n",
       "      <td>...</td>\n",
       "      <td>...</td>\n",
       "    </tr>\n",
       "    <tr>\n",
       "      <th>24742</th>\n",
       "      <td>33650431620.0</td>\n",
       "      <td>7.267018e+06</td>\n",
       "    </tr>\n",
       "    <tr>\n",
       "      <th>85147</th>\n",
       "      <td>33698390293.0</td>\n",
       "      <td>7.258080e+06</td>\n",
       "    </tr>\n",
       "    <tr>\n",
       "      <th>35288</th>\n",
       "      <td>33659328207.0</td>\n",
       "      <td>7.189000e+06</td>\n",
       "    </tr>\n",
       "    <tr>\n",
       "      <th>60768</th>\n",
       "      <td>33665660120.0</td>\n",
       "      <td>7.146574e+06</td>\n",
       "    </tr>\n",
       "    <tr>\n",
       "      <th>99738</th>\n",
       "      <td>33763505878.0</td>\n",
       "      <td>7.142988e+06</td>\n",
       "    </tr>\n",
       "  </tbody>\n",
       "</table>\n",
       "<p>106856 rows × 2 columns</p>\n",
       "</div>"
      ],
      "text/plain": [
       "       msisdn_number   session_dur\n",
       "13527  33626320676.0  7.099096e+10\n",
       "37053  33659725664.0  3.625663e+09\n",
       "76364  33675877202.0  2.961686e+09\n",
       "57242  33664712899.0  2.927790e+09\n",
       "60339  33665530316.0  2.684571e+09\n",
       "...              ...           ...\n",
       "24742  33650431620.0  7.267018e+06\n",
       "85147  33698390293.0  7.258080e+06\n",
       "35288  33659328207.0  7.189000e+06\n",
       "60768  33665660120.0  7.146574e+06\n",
       "99738  33763505878.0  7.142988e+06\n",
       "\n",
       "[106856 rows x 2 columns]"
      ]
     },
     "execution_count": 32,
     "metadata": {},
     "output_type": "execute_result"
    }
   ],
   "source": [
    "sess_dur"
   ]
  },
  {
   "cell_type": "markdown",
   "metadata": {},
   "source": [
    "> We have to convert the session duration to hours, so our interpreations can be more clear after analysis"
   ]
  },
  {
   "cell_type": "code",
   "execution_count": 33,
   "metadata": {},
   "outputs": [],
   "source": [
    "sess_dur.session_dur=sess_dur.session_dur.apply(lambda x: int(x/(1000*60*60)%24))"
   ]
  },
  {
   "cell_type": "code",
   "execution_count": 34,
   "metadata": {},
   "outputs": [],
   "source": [
    "sess_dur.rename(columns={'session_dur':'session_dur_hours'}, inplace=True)"
   ]
  },
  {
   "cell_type": "code",
   "execution_count": 35,
   "metadata": {},
   "outputs": [
    {
     "data": {
      "text/html": [
       "<div>\n",
       "<style scoped>\n",
       "    .dataframe tbody tr th:only-of-type {\n",
       "        vertical-align: middle;\n",
       "    }\n",
       "\n",
       "    .dataframe tbody tr th {\n",
       "        vertical-align: top;\n",
       "    }\n",
       "\n",
       "    .dataframe thead th {\n",
       "        text-align: right;\n",
       "    }\n",
       "</style>\n",
       "<table border=\"1\" class=\"dataframe\">\n",
       "  <thead>\n",
       "    <tr style=\"text-align: right;\">\n",
       "      <th></th>\n",
       "      <th>msisdn_number</th>\n",
       "      <th>session_dur_hours</th>\n",
       "    </tr>\n",
       "  </thead>\n",
       "  <tbody>\n",
       "    <tr>\n",
       "      <th>13527</th>\n",
       "      <td>33626320676.0</td>\n",
       "      <td>15</td>\n",
       "    </tr>\n",
       "    <tr>\n",
       "      <th>37053</th>\n",
       "      <td>33659725664.0</td>\n",
       "      <td>23</td>\n",
       "    </tr>\n",
       "    <tr>\n",
       "      <th>76364</th>\n",
       "      <td>33675877202.0</td>\n",
       "      <td>6</td>\n",
       "    </tr>\n",
       "    <tr>\n",
       "      <th>57242</th>\n",
       "      <td>33664712899.0</td>\n",
       "      <td>21</td>\n",
       "    </tr>\n",
       "    <tr>\n",
       "      <th>60339</th>\n",
       "      <td>33665530316.0</td>\n",
       "      <td>1</td>\n",
       "    </tr>\n",
       "    <tr>\n",
       "      <th>...</th>\n",
       "      <td>...</td>\n",
       "      <td>...</td>\n",
       "    </tr>\n",
       "    <tr>\n",
       "      <th>24742</th>\n",
       "      <td>33650431620.0</td>\n",
       "      <td>2</td>\n",
       "    </tr>\n",
       "    <tr>\n",
       "      <th>85147</th>\n",
       "      <td>33698390293.0</td>\n",
       "      <td>2</td>\n",
       "    </tr>\n",
       "    <tr>\n",
       "      <th>35288</th>\n",
       "      <td>33659328207.0</td>\n",
       "      <td>1</td>\n",
       "    </tr>\n",
       "    <tr>\n",
       "      <th>60768</th>\n",
       "      <td>33665660120.0</td>\n",
       "      <td>1</td>\n",
       "    </tr>\n",
       "    <tr>\n",
       "      <th>99738</th>\n",
       "      <td>33763505878.0</td>\n",
       "      <td>1</td>\n",
       "    </tr>\n",
       "  </tbody>\n",
       "</table>\n",
       "<p>106856 rows × 2 columns</p>\n",
       "</div>"
      ],
      "text/plain": [
       "       msisdn_number  session_dur_hours\n",
       "13527  33626320676.0                 15\n",
       "37053  33659725664.0                 23\n",
       "76364  33675877202.0                  6\n",
       "57242  33664712899.0                 21\n",
       "60339  33665530316.0                  1\n",
       "...              ...                ...\n",
       "24742  33650431620.0                  2\n",
       "85147  33698390293.0                  2\n",
       "35288  33659328207.0                  1\n",
       "60768  33665660120.0                  1\n",
       "99738  33763505878.0                  1\n",
       "\n",
       "[106856 rows x 2 columns]"
      ]
     },
     "execution_count": 35,
     "metadata": {},
     "output_type": "execute_result"
    }
   ],
   "source": [
    "sess_dur"
   ]
  },
  {
   "cell_type": "markdown",
   "metadata": {},
   "source": [
    "3. Group by session `total traffic`"
   ]
  },
  {
   "cell_type": "code",
   "execution_count": 36,
   "metadata": {},
   "outputs": [],
   "source": [
    "working_data['total_traffic_bytes'] = working_data.total_dl__bytes_ + working_data.total_ul__bytes_"
   ]
  },
  {
   "cell_type": "code",
   "execution_count": 37,
   "metadata": {},
   "outputs": [
    {
     "data": {
      "text/plain": [
       "0         345629377.0\n",
       "1         707185356.0\n",
       "2         307690973.0\n",
       "3         889352748.0\n",
       "4         607681403.0\n",
       "             ...     \n",
       "149996    631804110.0\n",
       "149997    705783925.0\n",
       "149998    627698629.0\n",
       "149999    401522016.0\n",
       "150000    496984389.5\n",
       "Name: total_traffic_bytes, Length: 150001, dtype: float64"
      ]
     },
     "execution_count": 37,
     "metadata": {},
     "output_type": "execute_result"
    }
   ],
   "source": [
    "working_data.total_traffic_bytes"
   ]
  },
  {
   "cell_type": "code",
   "execution_count": 38,
   "metadata": {},
   "outputs": [],
   "source": [
    "sess_trfc = working_data.groupby('msisdn_number')['total_traffic_bytes'].sum().reset_index(name='session_trfc').sort_values('session_trfc', ascending = False)"
   ]
  },
  {
   "cell_type": "code",
   "execution_count": 39,
   "metadata": {},
   "outputs": [
    {
     "data": {
      "text/html": [
       "<div>\n",
       "<style scoped>\n",
       "    .dataframe tbody tr th:only-of-type {\n",
       "        vertical-align: middle;\n",
       "    }\n",
       "\n",
       "    .dataframe tbody tr th {\n",
       "        vertical-align: top;\n",
       "    }\n",
       "\n",
       "    .dataframe thead th {\n",
       "        text-align: right;\n",
       "    }\n",
       "</style>\n",
       "<table border=\"1\" class=\"dataframe\">\n",
       "  <thead>\n",
       "    <tr style=\"text-align: right;\">\n",
       "      <th></th>\n",
       "      <th>msisdn_number</th>\n",
       "      <th>session_trfc</th>\n",
       "    </tr>\n",
       "  </thead>\n",
       "  <tbody>\n",
       "    <tr>\n",
       "      <th>13527</th>\n",
       "      <td>33626320676.0</td>\n",
       "      <td>5.397171e+11</td>\n",
       "    </tr>\n",
       "    <tr>\n",
       "      <th>6438</th>\n",
       "      <td>33614892860.0</td>\n",
       "      <td>8.846226e+09</td>\n",
       "    </tr>\n",
       "    <tr>\n",
       "      <th>92925</th>\n",
       "      <td>33760536639.0</td>\n",
       "      <td>8.514774e+09</td>\n",
       "    </tr>\n",
       "    <tr>\n",
       "      <th>13181</th>\n",
       "      <td>33625779332.0</td>\n",
       "      <td>8.499621e+09</td>\n",
       "    </tr>\n",
       "    <tr>\n",
       "      <th>76364</th>\n",
       "      <td>33675877202.0</td>\n",
       "      <td>7.891111e+09</td>\n",
       "    </tr>\n",
       "    <tr>\n",
       "      <th>...</th>\n",
       "      <td>...</td>\n",
       "      <td>...</td>\n",
       "    </tr>\n",
       "    <tr>\n",
       "      <th>76162</th>\n",
       "      <td>33675475328.0</td>\n",
       "      <td>3.802236e+07</td>\n",
       "    </tr>\n",
       "    <tr>\n",
       "      <th>104771</th>\n",
       "      <td>33782507973.0</td>\n",
       "      <td>3.792924e+07</td>\n",
       "    </tr>\n",
       "    <tr>\n",
       "      <th>63658</th>\n",
       "      <td>33666684512.0</td>\n",
       "      <td>3.399962e+07</td>\n",
       "    </tr>\n",
       "    <tr>\n",
       "      <th>43678</th>\n",
       "      <td>33661319633.0</td>\n",
       "      <td>3.357584e+07</td>\n",
       "    </tr>\n",
       "    <tr>\n",
       "      <th>34697</th>\n",
       "      <td>33659200818.0</td>\n",
       "      <td>3.324901e+07</td>\n",
       "    </tr>\n",
       "  </tbody>\n",
       "</table>\n",
       "<p>106856 rows × 2 columns</p>\n",
       "</div>"
      ],
      "text/plain": [
       "        msisdn_number  session_trfc\n",
       "13527   33626320676.0  5.397171e+11\n",
       "6438    33614892860.0  8.846226e+09\n",
       "92925   33760536639.0  8.514774e+09\n",
       "13181   33625779332.0  8.499621e+09\n",
       "76364   33675877202.0  7.891111e+09\n",
       "...               ...           ...\n",
       "76162   33675475328.0  3.802236e+07\n",
       "104771  33782507973.0  3.792924e+07\n",
       "63658   33666684512.0  3.399962e+07\n",
       "43678   33661319633.0  3.357584e+07\n",
       "34697   33659200818.0  3.324901e+07\n",
       "\n",
       "[106856 rows x 2 columns]"
      ]
     },
     "execution_count": 39,
     "metadata": {},
     "output_type": "execute_result"
    }
   ],
   "source": [
    "sess_trfc"
   ]
  },
  {
   "cell_type": "markdown",
   "metadata": {},
   "source": [
    "> Fro the purpose of our analytics, we would convert bytes figure of total_traffic to megabytes"
   ]
  },
  {
   "cell_type": "code",
   "execution_count": 116,
   "metadata": {},
   "outputs": [],
   "source": [
    "sess_trfc.session_trfc=sess_trfc.session_trfc.apply(lambda x : round((x/1024)/1024,4))"
   ]
  },
  {
   "cell_type": "code",
   "execution_count": 118,
   "metadata": {},
   "outputs": [
    {
     "data": {
      "text/html": [
       "<div>\n",
       "<style scoped>\n",
       "    .dataframe tbody tr th:only-of-type {\n",
       "        vertical-align: middle;\n",
       "    }\n",
       "\n",
       "    .dataframe tbody tr th {\n",
       "        vertical-align: top;\n",
       "    }\n",
       "\n",
       "    .dataframe thead th {\n",
       "        text-align: right;\n",
       "    }\n",
       "</style>\n",
       "<table border=\"1\" class=\"dataframe\">\n",
       "  <thead>\n",
       "    <tr style=\"text-align: right;\">\n",
       "      <th></th>\n",
       "      <th>msisdn_number</th>\n",
       "      <th>session_trfc</th>\n",
       "    </tr>\n",
       "  </thead>\n",
       "  <tbody>\n",
       "    <tr>\n",
       "      <th>13527</th>\n",
       "      <td>33626320676.0</td>\n",
       "      <td>514714.3328</td>\n",
       "    </tr>\n",
       "    <tr>\n",
       "      <th>6438</th>\n",
       "      <td>33614892860.0</td>\n",
       "      <td>8436.4190</td>\n",
       "    </tr>\n",
       "    <tr>\n",
       "      <th>92925</th>\n",
       "      <td>33760536639.0</td>\n",
       "      <td>8120.3212</td>\n",
       "    </tr>\n",
       "    <tr>\n",
       "      <th>13181</th>\n",
       "      <td>33625779332.0</td>\n",
       "      <td>8105.8700</td>\n",
       "    </tr>\n",
       "    <tr>\n",
       "      <th>76364</th>\n",
       "      <td>33675877202.0</td>\n",
       "      <td>7525.5495</td>\n",
       "    </tr>\n",
       "    <tr>\n",
       "      <th>...</th>\n",
       "      <td>...</td>\n",
       "      <td>...</td>\n",
       "    </tr>\n",
       "    <tr>\n",
       "      <th>76162</th>\n",
       "      <td>33675475328.0</td>\n",
       "      <td>36.2609</td>\n",
       "    </tr>\n",
       "    <tr>\n",
       "      <th>104771</th>\n",
       "      <td>33782507973.0</td>\n",
       "      <td>36.1721</td>\n",
       "    </tr>\n",
       "    <tr>\n",
       "      <th>63658</th>\n",
       "      <td>33666684512.0</td>\n",
       "      <td>32.4246</td>\n",
       "    </tr>\n",
       "    <tr>\n",
       "      <th>43678</th>\n",
       "      <td>33661319633.0</td>\n",
       "      <td>32.0204</td>\n",
       "    </tr>\n",
       "    <tr>\n",
       "      <th>34697</th>\n",
       "      <td>33659200818.0</td>\n",
       "      <td>31.7087</td>\n",
       "    </tr>\n",
       "  </tbody>\n",
       "</table>\n",
       "<p>106856 rows × 2 columns</p>\n",
       "</div>"
      ],
      "text/plain": [
       "        msisdn_number  session_trfc\n",
       "13527   33626320676.0   514714.3328\n",
       "6438    33614892860.0     8436.4190\n",
       "92925   33760536639.0     8120.3212\n",
       "13181   33625779332.0     8105.8700\n",
       "76364   33675877202.0     7525.5495\n",
       "...               ...           ...\n",
       "76162   33675475328.0       36.2609\n",
       "104771  33782507973.0       36.1721\n",
       "63658   33666684512.0       32.4246\n",
       "43678   33661319633.0       32.0204\n",
       "34697   33659200818.0       31.7087\n",
       "\n",
       "[106856 rows x 2 columns]"
      ]
     },
     "execution_count": 118,
     "metadata": {},
     "output_type": "execute_result"
    }
   ],
   "source": [
    "sess_trfc"
   ]
  },
  {
   "cell_type": "markdown",
   "metadata": {},
   "source": [
    " "
   ]
  },
  {
   "cell_type": "markdown",
   "metadata": {},
   "source": [
    "> merge all metrics to a single metrics table"
   ]
  },
  {
   "cell_type": "code",
   "execution_count": 119,
   "metadata": {},
   "outputs": [],
   "source": [
    "agg_metrics = sess_dur.merge(sess_fre,on='msisdn_number').merge(sess_trfc, on='msisdn_number')"
   ]
  },
  {
   "cell_type": "code",
   "execution_count": 120,
   "metadata": {},
   "outputs": [
    {
     "data": {
      "text/html": [
       "<div>\n",
       "<style scoped>\n",
       "    .dataframe tbody tr th:only-of-type {\n",
       "        vertical-align: middle;\n",
       "    }\n",
       "\n",
       "    .dataframe tbody tr th {\n",
       "        vertical-align: top;\n",
       "    }\n",
       "\n",
       "    .dataframe thead th {\n",
       "        text-align: right;\n",
       "    }\n",
       "</style>\n",
       "<table border=\"1\" class=\"dataframe\">\n",
       "  <thead>\n",
       "    <tr style=\"text-align: right;\">\n",
       "      <th></th>\n",
       "      <th>msisdn_number</th>\n",
       "      <th>session_dur_hours</th>\n",
       "      <th>session_fre</th>\n",
       "      <th>session_trfc</th>\n",
       "    </tr>\n",
       "  </thead>\n",
       "  <tbody>\n",
       "    <tr>\n",
       "      <th>0</th>\n",
       "      <td>33626320676.0</td>\n",
       "      <td>15</td>\n",
       "      <td>1084</td>\n",
       "      <td>514714.3328</td>\n",
       "    </tr>\n",
       "    <tr>\n",
       "      <th>1</th>\n",
       "      <td>33659725664.0</td>\n",
       "      <td>23</td>\n",
       "      <td>16</td>\n",
       "      <td>7348.8834</td>\n",
       "    </tr>\n",
       "    <tr>\n",
       "      <th>2</th>\n",
       "      <td>33675877202.0</td>\n",
       "      <td>6</td>\n",
       "      <td>15</td>\n",
       "      <td>7525.5495</td>\n",
       "    </tr>\n",
       "    <tr>\n",
       "      <th>3</th>\n",
       "      <td>33664712899.0</td>\n",
       "      <td>21</td>\n",
       "      <td>11</td>\n",
       "      <td>6553.6673</td>\n",
       "    </tr>\n",
       "    <tr>\n",
       "      <th>4</th>\n",
       "      <td>33665530316.0</td>\n",
       "      <td>1</td>\n",
       "      <td>10</td>\n",
       "      <td>4656.6544</td>\n",
       "    </tr>\n",
       "    <tr>\n",
       "      <th>...</th>\n",
       "      <td>...</td>\n",
       "      <td>...</td>\n",
       "      <td>...</td>\n",
       "      <td>...</td>\n",
       "    </tr>\n",
       "    <tr>\n",
       "      <th>106851</th>\n",
       "      <td>33650431620.0</td>\n",
       "      <td>2</td>\n",
       "      <td>1</td>\n",
       "      <td>199.2166</td>\n",
       "    </tr>\n",
       "    <tr>\n",
       "      <th>106852</th>\n",
       "      <td>33698390293.0</td>\n",
       "      <td>2</td>\n",
       "      <td>1</td>\n",
       "      <td>797.9008</td>\n",
       "    </tr>\n",
       "    <tr>\n",
       "      <th>106853</th>\n",
       "      <td>33659328207.0</td>\n",
       "      <td>1</td>\n",
       "      <td>1</td>\n",
       "      <td>266.8424</td>\n",
       "    </tr>\n",
       "    <tr>\n",
       "      <th>106854</th>\n",
       "      <td>33665660120.0</td>\n",
       "      <td>1</td>\n",
       "      <td>1</td>\n",
       "      <td>647.0846</td>\n",
       "    </tr>\n",
       "    <tr>\n",
       "      <th>106855</th>\n",
       "      <td>33763505878.0</td>\n",
       "      <td>1</td>\n",
       "      <td>1</td>\n",
       "      <td>532.4696</td>\n",
       "    </tr>\n",
       "  </tbody>\n",
       "</table>\n",
       "<p>106856 rows × 4 columns</p>\n",
       "</div>"
      ],
      "text/plain": [
       "        msisdn_number  session_dur_hours  session_fre  session_trfc\n",
       "0       33626320676.0                 15         1084   514714.3328\n",
       "1       33659725664.0                 23           16     7348.8834\n",
       "2       33675877202.0                  6           15     7525.5495\n",
       "3       33664712899.0                 21           11     6553.6673\n",
       "4       33665530316.0                  1           10     4656.6544\n",
       "...               ...                ...          ...           ...\n",
       "106851  33650431620.0                  2            1      199.2166\n",
       "106852  33698390293.0                  2            1      797.9008\n",
       "106853  33659328207.0                  1            1      266.8424\n",
       "106854  33665660120.0                  1            1      647.0846\n",
       "106855  33763505878.0                  1            1      532.4696\n",
       "\n",
       "[106856 rows x 4 columns]"
      ]
     },
     "execution_count": 120,
     "metadata": {},
     "output_type": "execute_result"
    }
   ],
   "source": [
    "agg_metrics"
   ]
  },
  {
   "cell_type": "markdown",
   "metadata": {},
   "source": [
    "> from the metrics aggregation table, we can perform various analysis"
   ]
  },
  {
   "cell_type": "markdown",
   "metadata": {},
   "source": [
    ">> Top 10 customers per engagement metric"
   ]
  },
  {
   "cell_type": "markdown",
   "metadata": {},
   "source": [
    "- Top 10 customers per sessions frequency "
   ]
  },
  {
   "cell_type": "code",
   "execution_count": 121,
   "metadata": {},
   "outputs": [],
   "source": [
    "top10_fre = agg_metrics.sort_values(by='session_fre', ascending=False).head(10)"
   ]
  },
  {
   "cell_type": "code",
   "execution_count": 122,
   "metadata": {},
   "outputs": [
    {
     "data": {
      "text/html": [
       "<div>\n",
       "<style scoped>\n",
       "    .dataframe tbody tr th:only-of-type {\n",
       "        vertical-align: middle;\n",
       "    }\n",
       "\n",
       "    .dataframe tbody tr th {\n",
       "        vertical-align: top;\n",
       "    }\n",
       "\n",
       "    .dataframe thead th {\n",
       "        text-align: right;\n",
       "    }\n",
       "</style>\n",
       "<table border=\"1\" class=\"dataframe\">\n",
       "  <thead>\n",
       "    <tr style=\"text-align: right;\">\n",
       "      <th></th>\n",
       "      <th>msisdn_number</th>\n",
       "      <th>session_dur_hours</th>\n",
       "      <th>session_fre</th>\n",
       "      <th>session_trfc</th>\n",
       "    </tr>\n",
       "  </thead>\n",
       "  <tbody>\n",
       "    <tr>\n",
       "      <th>0</th>\n",
       "      <td>33626320676.0</td>\n",
       "      <td>15</td>\n",
       "      <td>1084</td>\n",
       "      <td>514714.3328</td>\n",
       "    </tr>\n",
       "    <tr>\n",
       "      <th>14</th>\n",
       "      <td>33625779332.0</td>\n",
       "      <td>0</td>\n",
       "      <td>17</td>\n",
       "      <td>8105.8700</td>\n",
       "    </tr>\n",
       "    <tr>\n",
       "      <th>9</th>\n",
       "      <td>33614892860.0</td>\n",
       "      <td>14</td>\n",
       "      <td>17</td>\n",
       "      <td>8436.4190</td>\n",
       "    </tr>\n",
       "    <tr>\n",
       "      <th>1</th>\n",
       "      <td>33659725664.0</td>\n",
       "      <td>23</td>\n",
       "      <td>16</td>\n",
       "      <td>7348.8834</td>\n",
       "    </tr>\n",
       "    <tr>\n",
       "      <th>2</th>\n",
       "      <td>33675877202.0</td>\n",
       "      <td>6</td>\n",
       "      <td>15</td>\n",
       "      <td>7525.5495</td>\n",
       "    </tr>\n",
       "    <tr>\n",
       "      <th>8</th>\n",
       "      <td>33760536639.0</td>\n",
       "      <td>21</td>\n",
       "      <td>15</td>\n",
       "      <td>8120.3212</td>\n",
       "    </tr>\n",
       "    <tr>\n",
       "      <th>23</th>\n",
       "      <td>33667163239.0</td>\n",
       "      <td>0</td>\n",
       "      <td>13</td>\n",
       "      <td>5358.1181</td>\n",
       "    </tr>\n",
       "    <tr>\n",
       "      <th>40</th>\n",
       "      <td>33604515716.0</td>\n",
       "      <td>18</td>\n",
       "      <td>12</td>\n",
       "      <td>5233.6266</td>\n",
       "    </tr>\n",
       "    <tr>\n",
       "      <th>29</th>\n",
       "      <td>33786323068.0</td>\n",
       "      <td>12</td>\n",
       "      <td>12</td>\n",
       "      <td>5361.7778</td>\n",
       "    </tr>\n",
       "    <tr>\n",
       "      <th>28</th>\n",
       "      <td>33603127838.0</td>\n",
       "      <td>13</td>\n",
       "      <td>12</td>\n",
       "      <td>4745.6694</td>\n",
       "    </tr>\n",
       "  </tbody>\n",
       "</table>\n",
       "</div>"
      ],
      "text/plain": [
       "    msisdn_number  session_dur_hours  session_fre  session_trfc\n",
       "0   33626320676.0                 15         1084   514714.3328\n",
       "14  33625779332.0                  0           17     8105.8700\n",
       "9   33614892860.0                 14           17     8436.4190\n",
       "1   33659725664.0                 23           16     7348.8834\n",
       "2   33675877202.0                  6           15     7525.5495\n",
       "8   33760536639.0                 21           15     8120.3212\n",
       "23  33667163239.0                  0           13     5358.1181\n",
       "40  33604515716.0                 18           12     5233.6266\n",
       "29  33786323068.0                 12           12     5361.7778\n",
       "28  33603127838.0                 13           12     4745.6694"
      ]
     },
     "execution_count": 122,
     "metadata": {},
     "output_type": "execute_result"
    }
   ],
   "source": [
    "top10_fre"
   ]
  },
  {
   "cell_type": "code",
   "execution_count": 123,
   "metadata": {},
   "outputs": [
    {
     "data": {
      "image/png": "[encoded data removed]",
      "text/plain": [
       "<Figure size 1080x720 with 1 Axes>"
      ]
     },
     "metadata": {
      "needs_background": "light"
     },
     "output_type": "display_data"
    }
   ],
   "source": [
    "plt.subplots(figsize=(15,10))\n",
    "plt.xticks(rotation=40, fontsize=14)\n",
    "plt.yticks(fontsize=14)\n",
    "plt.xlabel('MSISDN Number', fontsize=16)\n",
    "plt.ylabel('Session Frequency', fontsize=16)\n",
    "plt.title('TOP 10 Customers BY Session Frequency', fontsize=20)\n",
    "sns.barplot(x='msisdn_number', y= 'session_fre', data=top10_fre, color='b', order=top10_fre.msisdn_number.values.tolist())\n",
    "# save chart\n",
    "plt.savefig(fname='visuals/user_engagement/top10CustSessionFreq.png', format='png')\n",
    "plt.show()"
   ]
  },
  {
   "cell_type": "markdown",
   "metadata": {},
   "source": [
    "> The customer with MSISDN number `33626320676` has an outsized (outlier) positive difference from the average session frequency of the top ten."
   ]
  },
  {
   "cell_type": "markdown",
   "metadata": {},
   "source": [
    " "
   ]
  },
  {
   "cell_type": "code",
   "execution_count": null,
   "metadata": {},
   "outputs": [],
   "source": []
  },
  {
   "cell_type": "code",
   "execution_count": null,
   "metadata": {},
   "outputs": [],
   "source": []
  },
  {
   "cell_type": "markdown",
   "metadata": {},
   "source": [
    "- Top 10 customers per session deuration "
   ]
  },
  {
   "cell_type": "code",
   "execution_count": 137,
   "metadata": {},
   "outputs": [],
   "source": [
    "top10_dur = agg_metrics.sort_values(by='session_dur_hours', ascending=False).head(10)"
   ]
  },
  {
   "cell_type": "code",
   "execution_count": 138,
   "metadata": {},
   "outputs": [
    {
     "data": {
      "text/html": [
       "<div>\n",
       "<style scoped>\n",
       "    .dataframe tbody tr th:only-of-type {\n",
       "        vertical-align: middle;\n",
       "    }\n",
       "\n",
       "    .dataframe tbody tr th {\n",
       "        vertical-align: top;\n",
       "    }\n",
       "\n",
       "    .dataframe thead th {\n",
       "        text-align: right;\n",
       "    }\n",
       "</style>\n",
       "<table border=\"1\" class=\"dataframe\">\n",
       "  <thead>\n",
       "    <tr style=\"text-align: right;\">\n",
       "      <th></th>\n",
       "      <th>msisdn_number</th>\n",
       "      <th>session_dur_hours</th>\n",
       "      <th>session_fre</th>\n",
       "      <th>session_trfc</th>\n",
       "    </tr>\n",
       "  </thead>\n",
       "  <tbody>\n",
       "    <tr>\n",
       "      <th>70789</th>\n",
       "      <td>33629884865.0</td>\n",
       "      <td>23</td>\n",
       "      <td>1</td>\n",
       "      <td>499.0391</td>\n",
       "    </tr>\n",
       "    <tr>\n",
       "      <th>70901</th>\n",
       "      <td>33662272079.0</td>\n",
       "      <td>23</td>\n",
       "      <td>1</td>\n",
       "      <td>220.1930</td>\n",
       "    </tr>\n",
       "    <tr>\n",
       "      <th>70873</th>\n",
       "      <td>33664756935.0</td>\n",
       "      <td>23</td>\n",
       "      <td>1</td>\n",
       "      <td>324.3748</td>\n",
       "    </tr>\n",
       "    <tr>\n",
       "      <th>70874</th>\n",
       "      <td>33658803699.0</td>\n",
       "      <td>23</td>\n",
       "      <td>1</td>\n",
       "      <td>755.1174</td>\n",
       "    </tr>\n",
       "    <tr>\n",
       "      <th>70875</th>\n",
       "      <td>33664902544.0</td>\n",
       "      <td>23</td>\n",
       "      <td>1</td>\n",
       "      <td>258.6858</td>\n",
       "    </tr>\n",
       "    <tr>\n",
       "      <th>70876</th>\n",
       "      <td>33666343217.0</td>\n",
       "      <td>23</td>\n",
       "      <td>1</td>\n",
       "      <td>694.4959</td>\n",
       "    </tr>\n",
       "    <tr>\n",
       "      <th>70877</th>\n",
       "      <td>33668535683.0</td>\n",
       "      <td>23</td>\n",
       "      <td>1</td>\n",
       "      <td>747.6504</td>\n",
       "    </tr>\n",
       "    <tr>\n",
       "      <th>70878</th>\n",
       "      <td>33663260254.0</td>\n",
       "      <td>23</td>\n",
       "      <td>1</td>\n",
       "      <td>668.7175</td>\n",
       "    </tr>\n",
       "    <tr>\n",
       "      <th>70879</th>\n",
       "      <td>33668011021.0</td>\n",
       "      <td>23</td>\n",
       "      <td>1</td>\n",
       "      <td>362.9932</td>\n",
       "    </tr>\n",
       "    <tr>\n",
       "      <th>70880</th>\n",
       "      <td>33665398301.0</td>\n",
       "      <td>23</td>\n",
       "      <td>1</td>\n",
       "      <td>679.0479</td>\n",
       "    </tr>\n",
       "  </tbody>\n",
       "</table>\n",
       "</div>"
      ],
      "text/plain": [
       "       msisdn_number  session_dur_hours  session_fre  session_trfc\n",
       "70789  33629884865.0                 23            1      499.0391\n",
       "70901  33662272079.0                 23            1      220.1930\n",
       "70873  33664756935.0                 23            1      324.3748\n",
       "70874  33658803699.0                 23            1      755.1174\n",
       "70875  33664902544.0                 23            1      258.6858\n",
       "70876  33666343217.0                 23            1      694.4959\n",
       "70877  33668535683.0                 23            1      747.6504\n",
       "70878  33663260254.0                 23            1      668.7175\n",
       "70879  33668011021.0                 23            1      362.9932\n",
       "70880  33665398301.0                 23            1      679.0479"
      ]
     },
     "execution_count": 138,
     "metadata": {},
     "output_type": "execute_result"
    }
   ],
   "source": [
    "top10_dur"
   ]
  },
  {
   "cell_type": "code",
   "execution_count": null,
   "metadata": {},
   "outputs": [],
   "source": []
  },
  {
   "cell_type": "code",
   "execution_count": 139,
   "metadata": {},
   "outputs": [
    {
     "data": {
      "image/png": "[encoded data removed]",
      "text/plain": [
       "<Figure size 1080x720 with 1 Axes>"
      ]
     },
     "metadata": {
      "needs_background": "light"
     },
     "output_type": "display_data"
    }
   ],
   "source": [
    "plt.subplots(figsize=(15,10))\n",
    "plt.xticks(rotation=40, fontsize=14)\n",
    "plt.yticks(fontsize=14)\n",
    "plt.xlabel('MSISDN Number', fontsize=16)\n",
    "plt.ylabel('Session Frequency', fontsize=16)\n",
    "plt.title('TOP 10 Customers BY Session Frequency', fontsize=20)\n",
    "sns.barplot(x='msisdn_number', y= 'session_fre', data=top10_dur, color='g', order=top10_dur.msisdn_number.values.tolist())\n",
    "# save chart\n",
    "plt.savefig(fname='visuals/user_engagement/top10CustSessionFreq.png', format='png')\n",
    "plt.show()"
   ]
  },
  {
   "cell_type": "markdown",
   "metadata": {},
   "source": [
    "> All top 10 customers by session duration in hours have the spent approximately the same number of hours on Data Sessions"
   ]
  },
  {
   "cell_type": "markdown",
   "metadata": {},
   "source": [
    " "
   ]
  },
  {
   "cell_type": "markdown",
   "metadata": {},
   "source": [
    "> Howveer, further investigation reveals that we actaully have over twn customer s who have spent 23 hours on xDR sessions"
   ]
  },
  {
   "cell_type": "markdown",
   "metadata": {},
   "source": [
    "> A value counts of hours in session durations reveals this"
   ]
  },
  {
   "cell_type": "code",
   "execution_count": 140,
   "metadata": {},
   "outputs": [
    {
     "data": {
      "text/plain": [
       "23    18537\n",
       "0      7126\n",
       "3      5133\n",
       "4      4876\n",
       "5      4366\n",
       "7      4277\n",
       "8      4238\n",
       "2      4190\n",
       "6      4066\n",
       "9      3968\n",
       "1      3794\n",
       "10     3704\n",
       "22     3603\n",
       "11     3587\n",
       "13     3459\n",
       "12     3300\n",
       "16     3296\n",
       "15     3289\n",
       "14     3284\n",
       "21     3238\n",
       "17     3119\n",
       "18     2881\n",
       "20     2858\n",
       "19     2667\n",
       "Name: session_dur_hours, dtype: int64"
      ]
     },
     "execution_count": 140,
     "metadata": {},
     "output_type": "execute_result"
    }
   ],
   "source": [
    "agg_metrics.session_dur_hours.value_counts()"
   ]
  },
  {
   "cell_type": "markdown",
   "metadata": {},
   "source": [
    "> Lets visualize this"
   ]
  },
  {
   "cell_type": "code",
   "execution_count": 141,
   "metadata": {},
   "outputs": [],
   "source": [
    "sess_dur_counts = agg_metrics.session_dur_hours.value_counts().sort_values(ascending=False).reset_index(name='customer counts')"
   ]
  },
  {
   "cell_type": "code",
   "execution_count": 142,
   "metadata": {},
   "outputs": [],
   "source": [
    "sess_dur_counts.rename(columns={\"index\":'hours'}, inplace=True)"
   ]
  },
  {
   "cell_type": "code",
   "execution_count": 143,
   "metadata": {},
   "outputs": [
    {
     "data": {
      "text/html": [
       "<div>\n",
       "<style scoped>\n",
       "    .dataframe tbody tr th:only-of-type {\n",
       "        vertical-align: middle;\n",
       "    }\n",
       "\n",
       "    .dataframe tbody tr th {\n",
       "        vertical-align: top;\n",
       "    }\n",
       "\n",
       "    .dataframe thead th {\n",
       "        text-align: right;\n",
       "    }\n",
       "</style>\n",
       "<table border=\"1\" class=\"dataframe\">\n",
       "  <thead>\n",
       "    <tr style=\"text-align: right;\">\n",
       "      <th></th>\n",
       "      <th>hours</th>\n",
       "      <th>customer counts</th>\n",
       "    </tr>\n",
       "  </thead>\n",
       "  <tbody>\n",
       "    <tr>\n",
       "      <th>0</th>\n",
       "      <td>23</td>\n",
       "      <td>18537</td>\n",
       "    </tr>\n",
       "    <tr>\n",
       "      <th>1</th>\n",
       "      <td>0</td>\n",
       "      <td>7126</td>\n",
       "    </tr>\n",
       "    <tr>\n",
       "      <th>2</th>\n",
       "      <td>3</td>\n",
       "      <td>5133</td>\n",
       "    </tr>\n",
       "    <tr>\n",
       "      <th>3</th>\n",
       "      <td>4</td>\n",
       "      <td>4876</td>\n",
       "    </tr>\n",
       "    <tr>\n",
       "      <th>4</th>\n",
       "      <td>5</td>\n",
       "      <td>4366</td>\n",
       "    </tr>\n",
       "    <tr>\n",
       "      <th>5</th>\n",
       "      <td>7</td>\n",
       "      <td>4277</td>\n",
       "    </tr>\n",
       "    <tr>\n",
       "      <th>6</th>\n",
       "      <td>8</td>\n",
       "      <td>4238</td>\n",
       "    </tr>\n",
       "    <tr>\n",
       "      <th>7</th>\n",
       "      <td>2</td>\n",
       "      <td>4190</td>\n",
       "    </tr>\n",
       "    <tr>\n",
       "      <th>8</th>\n",
       "      <td>6</td>\n",
       "      <td>4066</td>\n",
       "    </tr>\n",
       "    <tr>\n",
       "      <th>9</th>\n",
       "      <td>9</td>\n",
       "      <td>3968</td>\n",
       "    </tr>\n",
       "    <tr>\n",
       "      <th>10</th>\n",
       "      <td>1</td>\n",
       "      <td>3794</td>\n",
       "    </tr>\n",
       "    <tr>\n",
       "      <th>11</th>\n",
       "      <td>10</td>\n",
       "      <td>3704</td>\n",
       "    </tr>\n",
       "    <tr>\n",
       "      <th>12</th>\n",
       "      <td>22</td>\n",
       "      <td>3603</td>\n",
       "    </tr>\n",
       "    <tr>\n",
       "      <th>13</th>\n",
       "      <td>11</td>\n",
       "      <td>3587</td>\n",
       "    </tr>\n",
       "    <tr>\n",
       "      <th>14</th>\n",
       "      <td>13</td>\n",
       "      <td>3459</td>\n",
       "    </tr>\n",
       "    <tr>\n",
       "      <th>15</th>\n",
       "      <td>12</td>\n",
       "      <td>3300</td>\n",
       "    </tr>\n",
       "    <tr>\n",
       "      <th>16</th>\n",
       "      <td>16</td>\n",
       "      <td>3296</td>\n",
       "    </tr>\n",
       "    <tr>\n",
       "      <th>17</th>\n",
       "      <td>15</td>\n",
       "      <td>3289</td>\n",
       "    </tr>\n",
       "    <tr>\n",
       "      <th>18</th>\n",
       "      <td>14</td>\n",
       "      <td>3284</td>\n",
       "    </tr>\n",
       "    <tr>\n",
       "      <th>19</th>\n",
       "      <td>21</td>\n",
       "      <td>3238</td>\n",
       "    </tr>\n",
       "    <tr>\n",
       "      <th>20</th>\n",
       "      <td>17</td>\n",
       "      <td>3119</td>\n",
       "    </tr>\n",
       "    <tr>\n",
       "      <th>21</th>\n",
       "      <td>18</td>\n",
       "      <td>2881</td>\n",
       "    </tr>\n",
       "    <tr>\n",
       "      <th>22</th>\n",
       "      <td>20</td>\n",
       "      <td>2858</td>\n",
       "    </tr>\n",
       "    <tr>\n",
       "      <th>23</th>\n",
       "      <td>19</td>\n",
       "      <td>2667</td>\n",
       "    </tr>\n",
       "  </tbody>\n",
       "</table>\n",
       "</div>"
      ],
      "text/plain": [
       "    hours  customer counts\n",
       "0      23            18537\n",
       "1       0             7126\n",
       "2       3             5133\n",
       "3       4             4876\n",
       "4       5             4366\n",
       "5       7             4277\n",
       "6       8             4238\n",
       "7       2             4190\n",
       "8       6             4066\n",
       "9       9             3968\n",
       "10      1             3794\n",
       "11     10             3704\n",
       "12     22             3603\n",
       "13     11             3587\n",
       "14     13             3459\n",
       "15     12             3300\n",
       "16     16             3296\n",
       "17     15             3289\n",
       "18     14             3284\n",
       "19     21             3238\n",
       "20     17             3119\n",
       "21     18             2881\n",
       "22     20             2858\n",
       "23     19             2667"
      ]
     },
     "execution_count": 143,
     "metadata": {},
     "output_type": "execute_result"
    }
   ],
   "source": [
    "sess_dur_counts"
   ]
  },
  {
   "cell_type": "code",
   "execution_count": 145,
   "metadata": {},
   "outputs": [
    {
     "data": {
      "image/png": "[encoded data removed]",
      "text/plain": [
       "<Figure size 1080x720 with 1 Axes>"
      ]
     },
     "metadata": {
      "needs_background": "light"
     },
     "output_type": "display_data"
    }
   ],
   "source": [
    "plt.subplots(figsize=(15,10))\n",
    "plt.xticks(rotation=0, fontsize=14)\n",
    "plt.yticks(fontsize=14)\n",
    "plt.xlabel('Hours', fontsize=16)\n",
    "plt.ylabel('Customer Count', fontsize=16)\n",
    "plt.title('Customer Count in each Hour', fontsize=20)\n",
    "sns.barplot(x='hours', y= 'customer counts', data=sess_dur_counts, color='m', order=sess_dur_counts.hours.values.tolist())\n",
    "# save chart\n",
    "plt.savefig(fname='visuals/user_engagement/SessionDurCounts.png', format='png')\n",
    "plt.show()"
   ]
  },
  {
   "cell_type": "markdown",
   "metadata": {},
   "source": [
    "> From the above we can see that our top customers by session duration are actrually `18,537 customers`\n",
    "\n",
    "> This is quite significant as it is indicative growth in patronage"
   ]
  },
  {
   "cell_type": "code",
   "execution_count": null,
   "metadata": {},
   "outputs": [],
   "source": []
  },
  {
   "cell_type": "markdown",
   "metadata": {},
   "source": [
    "- Top 10 customers per sessions traffic "
   ]
  },
  {
   "cell_type": "code",
   "execution_count": 146,
   "metadata": {},
   "outputs": [],
   "source": [
    "top10_trfc = agg_metrics.sort_values(by='session_trfc', ascending=False).head(10)"
   ]
  },
  {
   "cell_type": "code",
   "execution_count": 147,
   "metadata": {},
   "outputs": [
    {
     "data": {
      "text/html": [
       "<div>\n",
       "<style scoped>\n",
       "    .dataframe tbody tr th:only-of-type {\n",
       "        vertical-align: middle;\n",
       "    }\n",
       "\n",
       "    .dataframe tbody tr th {\n",
       "        vertical-align: top;\n",
       "    }\n",
       "\n",
       "    .dataframe thead th {\n",
       "        text-align: right;\n",
       "    }\n",
       "</style>\n",
       "<table border=\"1\" class=\"dataframe\">\n",
       "  <thead>\n",
       "    <tr style=\"text-align: right;\">\n",
       "      <th></th>\n",
       "      <th>msisdn_number</th>\n",
       "      <th>session_dur_hours</th>\n",
       "      <th>session_fre</th>\n",
       "      <th>session_trfc</th>\n",
       "    </tr>\n",
       "  </thead>\n",
       "  <tbody>\n",
       "    <tr>\n",
       "      <th>0</th>\n",
       "      <td>33626320676.0</td>\n",
       "      <td>15</td>\n",
       "      <td>1084</td>\n",
       "      <td>514714.3328</td>\n",
       "    </tr>\n",
       "    <tr>\n",
       "      <th>9</th>\n",
       "      <td>33614892860.0</td>\n",
       "      <td>14</td>\n",
       "      <td>17</td>\n",
       "      <td>8436.4190</td>\n",
       "    </tr>\n",
       "    <tr>\n",
       "      <th>8</th>\n",
       "      <td>33760536639.0</td>\n",
       "      <td>21</td>\n",
       "      <td>15</td>\n",
       "      <td>8120.3212</td>\n",
       "    </tr>\n",
       "    <tr>\n",
       "      <th>14</th>\n",
       "      <td>33625779332.0</td>\n",
       "      <td>0</td>\n",
       "      <td>17</td>\n",
       "      <td>8105.8700</td>\n",
       "    </tr>\n",
       "    <tr>\n",
       "      <th>2</th>\n",
       "      <td>33675877202.0</td>\n",
       "      <td>6</td>\n",
       "      <td>15</td>\n",
       "      <td>7525.5495</td>\n",
       "    </tr>\n",
       "    <tr>\n",
       "      <th>1</th>\n",
       "      <td>33659725664.0</td>\n",
       "      <td>23</td>\n",
       "      <td>16</td>\n",
       "      <td>7348.8834</td>\n",
       "    </tr>\n",
       "    <tr>\n",
       "      <th>11</th>\n",
       "      <td>33666464084.0</td>\n",
       "      <td>6</td>\n",
       "      <td>11</td>\n",
       "      <td>6969.9296</td>\n",
       "    </tr>\n",
       "    <tr>\n",
       "      <th>18</th>\n",
       "      <td>33760413819.0</td>\n",
       "      <td>8</td>\n",
       "      <td>12</td>\n",
       "      <td>6801.9586</td>\n",
       "    </tr>\n",
       "    <tr>\n",
       "      <th>3</th>\n",
       "      <td>33664712899.0</td>\n",
       "      <td>21</td>\n",
       "      <td>11</td>\n",
       "      <td>6553.6673</td>\n",
       "    </tr>\n",
       "    <tr>\n",
       "      <th>57</th>\n",
       "      <td>33698792269.0</td>\n",
       "      <td>12</td>\n",
       "      <td>11</td>\n",
       "      <td>6237.8875</td>\n",
       "    </tr>\n",
       "  </tbody>\n",
       "</table>\n",
       "</div>"
      ],
      "text/plain": [
       "    msisdn_number  session_dur_hours  session_fre  session_trfc\n",
       "0   33626320676.0                 15         1084   514714.3328\n",
       "9   33614892860.0                 14           17     8436.4190\n",
       "8   33760536639.0                 21           15     8120.3212\n",
       "14  33625779332.0                  0           17     8105.8700\n",
       "2   33675877202.0                  6           15     7525.5495\n",
       "1   33659725664.0                 23           16     7348.8834\n",
       "11  33666464084.0                  6           11     6969.9296\n",
       "18  33760413819.0                  8           12     6801.9586\n",
       "3   33664712899.0                 21           11     6553.6673\n",
       "57  33698792269.0                 12           11     6237.8875"
      ]
     },
     "execution_count": 147,
     "metadata": {},
     "output_type": "execute_result"
    }
   ],
   "source": [
    "top10_trfc"
   ]
  },
  {
   "cell_type": "code",
   "execution_count": 152,
   "metadata": {},
   "outputs": [
    {
     "data": {
      "image/png": "[encoded data removed]",
      "text/plain": [
       "<Figure size 1080x720 with 1 Axes>"
      ]
     },
     "metadata": {
      "needs_background": "light"
     },
     "output_type": "display_data"
    }
   ],
   "source": [
    "plt.subplots(figsize=(15,10))\n",
    "plt.xticks(rotation=40, fontsize=14)\n",
    "plt.yticks(fontsize=14)\n",
    "plt.xlabel('MSISDN Number', fontsize=16)\n",
    "plt.ylabel('Session Traffic', fontsize=16)\n",
    "plt.title('TOP 10 Customers by Session Traffic (Mega Bytes)', fontsize=20)\n",
    "sns.barplot(x='msisdn_number', y= 'session_trfc', data=top10_trfc, color='r', order=top10_trfc.msisdn_number.values.tolist())\n",
    "# save chart\n",
    "plt.savefig(fname='visuals/user_engagement/top10CustSessTrfc.png', format='png')\n",
    "plt.show()"
   ]
  },
  {
   "cell_type": "markdown",
   "metadata": {},
   "source": [
    "> Just like in the case of session frequency, the customer with MSISDN number `33626320676` has an outsized (outlier) positive difference from the average session traffic of the top ten."
   ]
  },
  {
   "cell_type": "markdown",
   "metadata": {},
   "source": [
    " "
   ]
  },
  {
   "cell_type": "markdown",
   "metadata": {},
   "source": [
    "> We can take a step further in trying to understand why this is the case by calculating the correaltion between session frequency and session traffic"
   ]
  },
  {
   "cell_type": "code",
   "execution_count": 165,
   "metadata": {},
   "outputs": [
    {
     "data": {
      "text/html": [
       "<div>\n",
       "<style scoped>\n",
       "    .dataframe tbody tr th:only-of-type {\n",
       "        vertical-align: middle;\n",
       "    }\n",
       "\n",
       "    .dataframe tbody tr th {\n",
       "        vertical-align: top;\n",
       "    }\n",
       "\n",
       "    .dataframe thead th {\n",
       "        text-align: right;\n",
       "    }\n",
       "</style>\n",
       "<table border=\"1\" class=\"dataframe\">\n",
       "  <thead>\n",
       "    <tr style=\"text-align: right;\">\n",
       "      <th></th>\n",
       "      <th>session_fre</th>\n",
       "      <th>session_trfc</th>\n",
       "    </tr>\n",
       "  </thead>\n",
       "  <tbody>\n",
       "    <tr>\n",
       "      <th>0</th>\n",
       "      <td>1084</td>\n",
       "      <td>514714.3328</td>\n",
       "    </tr>\n",
       "    <tr>\n",
       "      <th>1</th>\n",
       "      <td>16</td>\n",
       "      <td>7348.8834</td>\n",
       "    </tr>\n",
       "    <tr>\n",
       "      <th>2</th>\n",
       "      <td>15</td>\n",
       "      <td>7525.5495</td>\n",
       "    </tr>\n",
       "    <tr>\n",
       "      <th>3</th>\n",
       "      <td>11</td>\n",
       "      <td>6553.6673</td>\n",
       "    </tr>\n",
       "    <tr>\n",
       "      <th>4</th>\n",
       "      <td>10</td>\n",
       "      <td>4656.6544</td>\n",
       "    </tr>\n",
       "    <tr>\n",
       "      <th>...</th>\n",
       "      <td>...</td>\n",
       "      <td>...</td>\n",
       "    </tr>\n",
       "    <tr>\n",
       "      <th>106851</th>\n",
       "      <td>1</td>\n",
       "      <td>199.2166</td>\n",
       "    </tr>\n",
       "    <tr>\n",
       "      <th>106852</th>\n",
       "      <td>1</td>\n",
       "      <td>797.9008</td>\n",
       "    </tr>\n",
       "    <tr>\n",
       "      <th>106853</th>\n",
       "      <td>1</td>\n",
       "      <td>266.8424</td>\n",
       "    </tr>\n",
       "    <tr>\n",
       "      <th>106854</th>\n",
       "      <td>1</td>\n",
       "      <td>647.0846</td>\n",
       "    </tr>\n",
       "    <tr>\n",
       "      <th>106855</th>\n",
       "      <td>1</td>\n",
       "      <td>532.4696</td>\n",
       "    </tr>\n",
       "  </tbody>\n",
       "</table>\n",
       "<p>106856 rows × 2 columns</p>\n",
       "</div>"
      ],
      "text/plain": [
       "        session_fre  session_trfc\n",
       "0              1084   514714.3328\n",
       "1                16     7348.8834\n",
       "2                15     7525.5495\n",
       "3                11     6553.6673\n",
       "4                10     4656.6544\n",
       "...             ...           ...\n",
       "106851            1      199.2166\n",
       "106852            1      797.9008\n",
       "106853            1      266.8424\n",
       "106854            1      647.0846\n",
       "106855            1      532.4696\n",
       "\n",
       "[106856 rows x 2 columns]"
      ]
     },
     "execution_count": 165,
     "metadata": {},
     "output_type": "execute_result"
    }
   ],
   "source": [
    "trfc_frq = agg_metrics[['session_fre','session_trfc']]\n",
    "trfc_frq"
   ]
  },
  {
   "cell_type": "code",
   "execution_count": 179,
   "metadata": {},
   "outputs": [
    {
     "data": {
      "text/plain": [
       "0.985798499715484"
      ]
     },
     "execution_count": 179,
     "metadata": {},
     "output_type": "execute_result"
    }
   ],
   "source": [
    "trfc_frq_corr = trfc_frq.corr()\n",
    "trfc_frq_corr.iloc[1,0]"
   ]
  },
  {
   "cell_type": "markdown",
   "metadata": {},
   "source": [
    "> From the above, we can see that there is a `strong positive correlaion between session frequency and session traffic`"
   ]
  },
  {
   "cell_type": "markdown",
   "metadata": {},
   "source": [
    "> Let's visualize this"
   ]
  },
  {
   "cell_type": "code",
   "execution_count": 203,
   "metadata": {},
   "outputs": [
    {
     "data": {
      "image/png": "[encoded data removed]",
      "text/plain": [
       "<Figure size 1080x720 with 1 Axes>"
      ]
     },
     "metadata": {
      "needs_background": "light"
     },
     "output_type": "display_data"
    }
   ],
   "source": [
    "plt.subplots(figsize=(15,10))\n",
    "plt.xticks(rotation=40, fontsize=14)\n",
    "plt.yticks(fontsize=14)\n",
    "plt.xlabel('Session Frequency', fontsize=16)\n",
    "plt.ylabel('Session Traffic', fontsize=16)\n",
    "plt.title('Correlation between Session Traffic & Frequency', fontsize=20)\n",
    "sns.regplot(data=trfc_frq, y='session_trfc', x='session_fre', scatter=True, color='r')\n",
    "plt.text(500, 400000, s= f'Corr: {trfc_frq_corr.iloc[1,0]}\\nStrong Positive', fontsize=15,\n",
    "         horizontalalignment='right',\n",
    "         bbox=dict(facecolor='w', alpha=0.5),\n",
    "         verticalalignment='top')\n",
    "plt.savefig(fname='visuals/user_engagement/sessFrqTrfcCorr.png', format='png')\n",
    "plt.show()"
   ]
  },
  {
   "cell_type": "markdown",
   "metadata": {},
   "source": [
    "####  Let's plot a correlation matrix for all metrics"
   ]
  },
  {
   "cell_type": "code",
   "execution_count": 206,
   "metadata": {},
   "outputs": [],
   "source": [
    "agg_metrics_corr = agg_metrics.corr()"
   ]
  },
  {
   "cell_type": "code",
   "execution_count": 207,
   "metadata": {},
   "outputs": [
    {
     "data": {
      "text/html": [
       "<div>\n",
       "<style scoped>\n",
       "    .dataframe tbody tr th:only-of-type {\n",
       "        vertical-align: middle;\n",
       "    }\n",
       "\n",
       "    .dataframe tbody tr th {\n",
       "        vertical-align: top;\n",
       "    }\n",
       "\n",
       "    .dataframe thead th {\n",
       "        text-align: right;\n",
       "    }\n",
       "</style>\n",
       "<table border=\"1\" class=\"dataframe\">\n",
       "  <thead>\n",
       "    <tr style=\"text-align: right;\">\n",
       "      <th></th>\n",
       "      <th>session_dur_hours</th>\n",
       "      <th>session_fre</th>\n",
       "      <th>session_trfc</th>\n",
       "    </tr>\n",
       "  </thead>\n",
       "  <tbody>\n",
       "    <tr>\n",
       "      <th>session_dur_hours</th>\n",
       "      <td>1.000000</td>\n",
       "      <td>0.012097</td>\n",
       "      <td>0.011890</td>\n",
       "    </tr>\n",
       "    <tr>\n",
       "      <th>session_fre</th>\n",
       "      <td>0.012097</td>\n",
       "      <td>1.000000</td>\n",
       "      <td>0.985798</td>\n",
       "    </tr>\n",
       "    <tr>\n",
       "      <th>session_trfc</th>\n",
       "      <td>0.011890</td>\n",
       "      <td>0.985798</td>\n",
       "      <td>1.000000</td>\n",
       "    </tr>\n",
       "  </tbody>\n",
       "</table>\n",
       "</div>"
      ],
      "text/plain": [
       "                   session_dur_hours  session_fre  session_trfc\n",
       "session_dur_hours           1.000000     0.012097      0.011890\n",
       "session_fre                 0.012097     1.000000      0.985798\n",
       "session_trfc                0.011890     0.985798      1.000000"
      ]
     },
     "execution_count": 207,
     "metadata": {},
     "output_type": "execute_result"
    }
   ],
   "source": [
    "agg_metrics_corr"
   ]
  },
  {
   "cell_type": "code",
   "execution_count": 209,
   "metadata": {},
   "outputs": [
    {
     "data": {
      "image/png": "[encoded data removed]",
      "text/plain": [
       "<Figure size 1440x1080 with 2 Axes>"
      ]
     },
     "metadata": {
      "needs_background": "light"
     },
     "output_type": "display_data"
    }
   ],
   "source": [
    "plt.subplots(figsize=(20, 15))\n",
    "plt.title('Correlation among Engagement Metrics', fontsize=20)\n",
    "ax = sns.heatmap(\n",
    "    agg_metrics_corr, \n",
    "    vmin=-1, vmax=1, center=0,\n",
    "    cmap=sns.diverging_palette(150, 275, s=80, l=55, n=9),\n",
    "    square=True\n",
    ")\n",
    "ax.set_xticklabels(\n",
    "    ax.get_xticklabels(),\n",
    "    rotation=90,\n",
    "    horizontalalignment='right'\n",
    ");\n",
    "plt.xticks(fontsize=15)\n",
    "plt.yticks(fontsize=15)\n",
    "plt.savefig(format='png', fname='visuals/user_engagement/aggMatrixCorr.png')\n",
    "plt.show()"
   ]
  },
  {
   "cell_type": "markdown",
   "metadata": {},
   "source": [
    "#### Interpretation"
   ]
  },
  {
   "cell_type": "markdown",
   "metadata": {},
   "source": [
    "> 1. There is very little or no correlation between session duration (hours) and any of the other metrics\n",
    "\n",
    "> 2. There is  a strong positive correlation between session frequency and session traffic"
   ]
  },
  {
   "cell_type": "code",
   "execution_count": null,
   "metadata": {},
   "outputs": [],
   "source": []
  }
 ],
 "metadata": {
  "kernelspec": {
   "display_name": "venv_tellco_user_analytics",
   "language": "python",
   "name": "venv_tellco_user_analytics"
  },
  "language_info": {
   "codemirror_mode": {
    "name": "ipython",
    "version": 3
   },
   "file_extension": ".py",
   "mimetype": "text/x-python",
   "name": "python",
   "nbconvert_exporter": "python",
   "pygments_lexer": "ipython3",
   "version": "3.6.9"
  }
 },
 "nbformat": 4,
 "nbformat_minor": 4
}
