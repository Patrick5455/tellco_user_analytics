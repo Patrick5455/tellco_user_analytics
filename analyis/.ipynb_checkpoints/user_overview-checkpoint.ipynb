{
 "cells": [
  {
   "cell_type": "markdown",
   "metadata": {},
   "source": [
    "## User Overview Analysis of Tellco Telecommunications"
   ]
  },
  {
   "cell_type": "markdown",
   "metadata": {},
   "source": [
    "#### Tables of Content"
   ]
  },
  {
   "cell_type": "markdown",
   "metadata": {},
   "source": [
    "<html>\n",
    "    <ul>\n",
    "        <li><a href='#intro'>Introduction</a></li>\n",
    "        <li><a href='#obj'>Objective</a></li>\n",
    "        <li><a href= '#research'/>Research Questions<a/></li>\n",
    "              <br/>\n",
    "            <ul>\n",
    "             <li><a href='#fe'>Feature Engineering</a></li>\n",
    "             </ul>\n",
    "            <ol>\n",
    "            <li><a href='#r1'>Research Question 1</a></li>\n",
    "             <li><a href='#r2'>Research Question 2</a></li>\n",
    "             <li><a href='#r3'>Research Question 3</a></li>\n",
    "            </ol>\n",
    "        <br/>\n",
    "        <li><a href= '#ana'>Analysis<a/></li>\n",
    "        <li><a href= '#go'>General Observation<a/></li>\n",
    "        <li><a href= '#rc'>Recommendation & Conclusions<a/></li>\n",
    "        <li><a href= '#lim'>Limitations<a/></li>\n",
    "        <li><a href= '#ref'>Referecnes<a/></li>\n",
    "    </ul>\n",
    "</html>"
   ]
  },
  {
   "cell_type": "markdown",
   "metadata": {},
   "source": [
    "<a id='intro'></a>\n",
    "#### Introduction\n"
   ]
  },
  {
   "cell_type": "markdown",
   "metadata": {},
   "source": [
    "<a id='obj'></a>\n",
    "#### Objective"
   ]
  },
  {
   "cell_type": "code",
   "execution_count": null,
   "metadata": {},
   "outputs": [],
   "source": []
  },
  {
   "cell_type": "markdown",
   "metadata": {},
   "source": []
  },
  {
   "cell_type": "markdown",
   "metadata": {},
   "source": [
    "<a id='research'></a>\n",
    "\n",
    "#### Research Questions\n",
    "\n",
    " - Research Question 1\n",
    " \n",
    "     - Top performers\n",
    " \n",
    "          - Who/What are the top tiers accros manufacturers, handsets and customers\n",
    "          \n",
    "          - What group of users belong each to the top 5 decile classes based on the total duration for all sessions\n",
    "          \n",
    "   \n",
    "  \n",
    " -  Research Question 2\n",
    " \n",
    "       - User Behaviour in xDR sessions\n",
    " \n",
    "         - What inisghts can be gooten from user behaviour accross the xDR sessions (Data Channel)\n",
    "  \n",
    "  \n",
    " -  Research Question 3\n",
    " \n",
    "      - Siginificant Relationships \n",
    " \n",
    "          - Are  there an existing significant relationship across\n",
    "          \n",
    "              1. each application & the total DL+UL data\n",
    "          \n",
    "              2. the various xDR sessions (Google,Youtbe,Netflix, etc.)\n",
    "              \n",
    "              \n",
    "              \n",
    "        \n",
    " \n",
    "     \n"
   ]
  },
  {
   "cell_type": "code",
   "execution_count": null,
   "metadata": {},
   "outputs": [],
   "source": []
  },
  {
   "cell_type": "markdown",
   "metadata": {},
   "source": [
    "import libraries"
   ]
  },
  {
   "cell_type": "code",
   "execution_count": 591,
   "metadata": {},
   "outputs": [],
   "source": [
    "import pandas as pd\n",
    "import seaborn as sns\n",
    "import numpy as np\n",
    "%matplotlib inline\n",
    "import matplotlib.pyplot as plt"
   ]
  },
  {
   "cell_type": "markdown",
   "metadata": {},
   "source": [
    "#### Load data into workspace"
   ]
  },
  {
   "cell_type": "code",
   "execution_count": 592,
   "metadata": {},
   "outputs": [],
   "source": [
    "path = '../datasets/cleaned/cleanWk2_data.csv'\n",
    "data = pd.read_csv(path)"
   ]
  },
  {
   "cell_type": "code",
   "execution_count": 593,
   "metadata": {},
   "outputs": [
    {
     "data": {
      "text/html": [
       "<div>\n",
       "<style scoped>\n",
       "    .dataframe tbody tr th:only-of-type {\n",
       "        vertical-align: middle;\n",
       "    }\n",
       "\n",
       "    .dataframe tbody tr th {\n",
       "        vertical-align: top;\n",
       "    }\n",
       "\n",
       "    .dataframe thead th {\n",
       "        text-align: right;\n",
       "    }\n",
       "</style>\n",
       "<table border=\"1\" class=\"dataframe\">\n",
       "  <thead>\n",
       "    <tr style=\"text-align: right;\">\n",
       "      <th></th>\n",
       "      <th>bearer_id</th>\n",
       "      <th>start</th>\n",
       "      <th>start_ms</th>\n",
       "      <th>end</th>\n",
       "      <th>end_ms</th>\n",
       "      <th>imsi</th>\n",
       "      <th>msisdn_number</th>\n",
       "      <th>imei</th>\n",
       "      <th>last_location_name</th>\n",
       "      <th>avg_rtt_dl__ms_</th>\n",
       "      <th>...</th>\n",
       "      <th>youtube_dl__bytes_</th>\n",
       "      <th>youtube_ul__bytes_</th>\n",
       "      <th>netflix_dl__bytes_</th>\n",
       "      <th>netflix_ul__bytes_</th>\n",
       "      <th>gaming_dl__bytes_</th>\n",
       "      <th>gaming_ul__bytes_</th>\n",
       "      <th>other_dl__bytes_</th>\n",
       "      <th>other_ul__bytes_</th>\n",
       "      <th>total_ul__bytes_</th>\n",
       "      <th>total_dl__bytes_</th>\n",
       "    </tr>\n",
       "  </thead>\n",
       "  <tbody>\n",
       "    <tr>\n",
       "      <th>0</th>\n",
       "      <td>13114483460844900352</td>\n",
       "      <td>2019-04-04 12:01:18</td>\n",
       "      <td>770.0000</td>\n",
       "      <td>2019-04-25 14:35:31</td>\n",
       "      <td>662.00000</td>\n",
       "      <td>2.082014e+14</td>\n",
       "      <td>3.366496e+10</td>\n",
       "      <td>3.552121e+13</td>\n",
       "      <td>9164566995485190</td>\n",
       "      <td>42.000000</td>\n",
       "      <td>...</td>\n",
       "      <td>1.585461e+07</td>\n",
       "      <td>2.501332e+06</td>\n",
       "      <td>8.198936e+06</td>\n",
       "      <td>9.656251e+06</td>\n",
       "      <td>2.780823e+08</td>\n",
       "      <td>1.434415e+07</td>\n",
       "      <td>1.717444e+08</td>\n",
       "      <td>8.814393e+06</td>\n",
       "      <td>3.674974e+07</td>\n",
       "      <td>3.088796e+08</td>\n",
       "    </tr>\n",
       "    <tr>\n",
       "      <th>1</th>\n",
       "      <td>13114483482878900224</td>\n",
       "      <td>2019-04-09 13:04:04</td>\n",
       "      <td>235.0000</td>\n",
       "      <td>2019-04-25 08:15:48</td>\n",
       "      <td>606.00000</td>\n",
       "      <td>2.082019e+14</td>\n",
       "      <td>3.368185e+10</td>\n",
       "      <td>3.579401e+13</td>\n",
       "      <td>L77566A</td>\n",
       "      <td>65.000000</td>\n",
       "      <td>...</td>\n",
       "      <td>2.024740e+07</td>\n",
       "      <td>1.911173e+07</td>\n",
       "      <td>1.833841e+07</td>\n",
       "      <td>1.722713e+07</td>\n",
       "      <td>6.087501e+08</td>\n",
       "      <td>1.170709e+06</td>\n",
       "      <td>5.269042e+08</td>\n",
       "      <td>1.505514e+07</td>\n",
       "      <td>5.380039e+07</td>\n",
       "      <td>6.533850e+08</td>\n",
       "    </tr>\n",
       "    <tr>\n",
       "      <th>2</th>\n",
       "      <td>13114483484080500736</td>\n",
       "      <td>2019-04-09 17:42:11</td>\n",
       "      <td>1.0000</td>\n",
       "      <td>2019-04-25 11:58:13</td>\n",
       "      <td>652.00000</td>\n",
       "      <td>2.082003e+14</td>\n",
       "      <td>3.376063e+10</td>\n",
       "      <td>3.528151e+13</td>\n",
       "      <td>D42335A</td>\n",
       "      <td>109.795706</td>\n",
       "      <td>...</td>\n",
       "      <td>1.972566e+07</td>\n",
       "      <td>1.469958e+07</td>\n",
       "      <td>1.758779e+07</td>\n",
       "      <td>6.163408e+06</td>\n",
       "      <td>2.295846e+08</td>\n",
       "      <td>3.956300e+05</td>\n",
       "      <td>4.106926e+08</td>\n",
       "      <td>4.215763e+06</td>\n",
       "      <td>2.788364e+07</td>\n",
       "      <td>2.798073e+08</td>\n",
       "    </tr>\n",
       "    <tr>\n",
       "      <th>3</th>\n",
       "      <td>13114483485442799616</td>\n",
       "      <td>2019-04-10 00:31:25</td>\n",
       "      <td>486.0000</td>\n",
       "      <td>2019-04-25 07:36:35</td>\n",
       "      <td>171.00000</td>\n",
       "      <td>2.082014e+14</td>\n",
       "      <td>3.375034e+10</td>\n",
       "      <td>3.535661e+13</td>\n",
       "      <td>T21824A</td>\n",
       "      <td>109.795706</td>\n",
       "      <td>...</td>\n",
       "      <td>2.138812e+07</td>\n",
       "      <td>1.514664e+07</td>\n",
       "      <td>1.399465e+07</td>\n",
       "      <td>1.097942e+06</td>\n",
       "      <td>7.995382e+08</td>\n",
       "      <td>1.084972e+07</td>\n",
       "      <td>7.490399e+08</td>\n",
       "      <td>1.279728e+07</td>\n",
       "      <td>4.332422e+07</td>\n",
       "      <td>8.460285e+08</td>\n",
       "    </tr>\n",
       "    <tr>\n",
       "      <th>4</th>\n",
       "      <td>13114483499480700928</td>\n",
       "      <td>2019-04-12 20:10:23</td>\n",
       "      <td>565.0000</td>\n",
       "      <td>2019-04-25 10:40:32</td>\n",
       "      <td>954.00000</td>\n",
       "      <td>2.082014e+14</td>\n",
       "      <td>3.369980e+10</td>\n",
       "      <td>3.540701e+13</td>\n",
       "      <td>D88865A</td>\n",
       "      <td>109.795706</td>\n",
       "      <td>...</td>\n",
       "      <td>1.525938e+07</td>\n",
       "      <td>1.896287e+07</td>\n",
       "      <td>1.712458e+07</td>\n",
       "      <td>4.152180e+05</td>\n",
       "      <td>5.277072e+08</td>\n",
       "      <td>3.529801e+06</td>\n",
       "      <td>5.507095e+08</td>\n",
       "      <td>1.391032e+07</td>\n",
       "      <td>3.854281e+07</td>\n",
       "      <td>5.691386e+08</td>\n",
       "    </tr>\n",
       "    <tr>\n",
       "      <th>...</th>\n",
       "      <td>...</td>\n",
       "      <td>...</td>\n",
       "      <td>...</td>\n",
       "      <td>...</td>\n",
       "      <td>...</td>\n",
       "      <td>...</td>\n",
       "      <td>...</td>\n",
       "      <td>...</td>\n",
       "      <td>...</td>\n",
       "      <td>...</td>\n",
       "      <td>...</td>\n",
       "      <td>...</td>\n",
       "      <td>...</td>\n",
       "      <td>...</td>\n",
       "      <td>...</td>\n",
       "      <td>...</td>\n",
       "      <td>...</td>\n",
       "      <td>...</td>\n",
       "      <td>...</td>\n",
       "      <td>...</td>\n",
       "      <td>...</td>\n",
       "    </tr>\n",
       "    <tr>\n",
       "      <th>149996</th>\n",
       "      <td>7277825670196679680</td>\n",
       "      <td>2019-04-29 07:28:42</td>\n",
       "      <td>451.0000</td>\n",
       "      <td>2019-04-30 06:02:33</td>\n",
       "      <td>214.00000</td>\n",
       "      <td>2.082022e+14</td>\n",
       "      <td>3.365069e+10</td>\n",
       "      <td>3.548311e+13</td>\n",
       "      <td>D20434A</td>\n",
       "      <td>32.000000</td>\n",
       "      <td>...</td>\n",
       "      <td>1.619167e+07</td>\n",
       "      <td>1.176343e+07</td>\n",
       "      <td>1.788370e+07</td>\n",
       "      <td>1.967816e+07</td>\n",
       "      <td>5.266097e+08</td>\n",
       "      <td>9.197207e+06</td>\n",
       "      <td>3.264510e+06</td>\n",
       "      <td>1.348742e+07</td>\n",
       "      <td>5.762885e+07</td>\n",
       "      <td>5.741753e+08</td>\n",
       "    </tr>\n",
       "    <tr>\n",
       "      <th>149997</th>\n",
       "      <td>7349883264234609664</td>\n",
       "      <td>2019-04-29 07:28:42</td>\n",
       "      <td>483.0000</td>\n",
       "      <td>2019-04-30 10:41:33</td>\n",
       "      <td>187.00000</td>\n",
       "      <td>2.082019e+14</td>\n",
       "      <td>3.366345e+10</td>\n",
       "      <td>3.566051e+13</td>\n",
       "      <td>D10223C</td>\n",
       "      <td>27.000000</td>\n",
       "      <td>...</td>\n",
       "      <td>1.387723e+07</td>\n",
       "      <td>8.288284e+06</td>\n",
       "      <td>1.935015e+07</td>\n",
       "      <td>2.129315e+07</td>\n",
       "      <td>6.268931e+08</td>\n",
       "      <td>4.735033e+06</td>\n",
       "      <td>7.121804e+08</td>\n",
       "      <td>2.457758e+06</td>\n",
       "      <td>3.913508e+07</td>\n",
       "      <td>6.666488e+08</td>\n",
       "    </tr>\n",
       "    <tr>\n",
       "      <th>149998</th>\n",
       "      <td>13114483573367300096</td>\n",
       "      <td>2019-04-29 07:28:43</td>\n",
       "      <td>283.0000</td>\n",
       "      <td>2019-04-30 10:46:12</td>\n",
       "      <td>810.00000</td>\n",
       "      <td>2.082017e+14</td>\n",
       "      <td>3.362189e+10</td>\n",
       "      <td>3.572121e+13</td>\n",
       "      <td>T51102A</td>\n",
       "      <td>43.000000</td>\n",
       "      <td>...</td>\n",
       "      <td>2.266051e+07</td>\n",
       "      <td>1.855903e+06</td>\n",
       "      <td>9.963942e+06</td>\n",
       "      <td>5.065760e+06</td>\n",
       "      <td>5.535395e+08</td>\n",
       "      <td>1.339432e+07</td>\n",
       "      <td>1.211009e+08</td>\n",
       "      <td>1.131473e+07</td>\n",
       "      <td>3.491222e+07</td>\n",
       "      <td>5.927864e+08</td>\n",
       "    </tr>\n",
       "    <tr>\n",
       "      <th>149999</th>\n",
       "      <td>13114483573367300096</td>\n",
       "      <td>2019-04-29 07:28:43</td>\n",
       "      <td>696.0000</td>\n",
       "      <td>2019-04-30 10:40:34</td>\n",
       "      <td>327.00000</td>\n",
       "      <td>2.082021e+14</td>\n",
       "      <td>3.361962e+10</td>\n",
       "      <td>8.618620e+13</td>\n",
       "      <td>L88342B</td>\n",
       "      <td>37.000000</td>\n",
       "      <td>...</td>\n",
       "      <td>8.817106e+06</td>\n",
       "      <td>8.305402e+06</td>\n",
       "      <td>3.322253e+06</td>\n",
       "      <td>1.317259e+07</td>\n",
       "      <td>3.525370e+08</td>\n",
       "      <td>2.529475e+06</td>\n",
       "      <td>8.147131e+08</td>\n",
       "      <td>1.406930e+06</td>\n",
       "      <td>2.962610e+07</td>\n",
       "      <td>3.718959e+08</td>\n",
       "    </tr>\n",
       "    <tr>\n",
       "      <th>150000</th>\n",
       "      <td></td>\n",
       "      <td>2019-04-29 07:08:38</td>\n",
       "      <td>499.1882</td>\n",
       "      <td>2019-04-25 00:01:32</td>\n",
       "      <td>498.80088</td>\n",
       "      <td>2.082014e+14</td>\n",
       "      <td>3.362632e+10</td>\n",
       "      <td>3.518231e+13</td>\n",
       "      <td>D41377B</td>\n",
       "      <td>109.795706</td>\n",
       "      <td>...</td>\n",
       "      <td>1.163407e+07</td>\n",
       "      <td>1.100941e+07</td>\n",
       "      <td>1.162685e+07</td>\n",
       "      <td>1.100175e+07</td>\n",
       "      <td>4.220447e+08</td>\n",
       "      <td>8.288398e+06</td>\n",
       "      <td>4.211005e+08</td>\n",
       "      <td>8.264799e+06</td>\n",
       "      <td>4.112121e+07</td>\n",
       "      <td>4.546434e+08</td>\n",
       "    </tr>\n",
       "  </tbody>\n",
       "</table>\n",
       "<p>150001 rows × 54 columns</p>\n",
       "</div>"
      ],
      "text/plain": [
       "                   bearer_id                start  start_ms  \\\n",
       "0       13114483460844900352  2019-04-04 12:01:18  770.0000   \n",
       "1       13114483482878900224  2019-04-09 13:04:04  235.0000   \n",
       "2       13114483484080500736  2019-04-09 17:42:11    1.0000   \n",
       "3       13114483485442799616  2019-04-10 00:31:25  486.0000   \n",
       "4       13114483499480700928  2019-04-12 20:10:23  565.0000   \n",
       "...                      ...                  ...       ...   \n",
       "149996   7277825670196679680  2019-04-29 07:28:42  451.0000   \n",
       "149997   7349883264234609664  2019-04-29 07:28:42  483.0000   \n",
       "149998  13114483573367300096  2019-04-29 07:28:43  283.0000   \n",
       "149999  13114483573367300096  2019-04-29 07:28:43  696.0000   \n",
       "150000                        2019-04-29 07:08:38  499.1882   \n",
       "\n",
       "                        end     end_ms          imsi  msisdn_number  \\\n",
       "0       2019-04-25 14:35:31  662.00000  2.082014e+14   3.366496e+10   \n",
       "1       2019-04-25 08:15:48  606.00000  2.082019e+14   3.368185e+10   \n",
       "2       2019-04-25 11:58:13  652.00000  2.082003e+14   3.376063e+10   \n",
       "3       2019-04-25 07:36:35  171.00000  2.082014e+14   3.375034e+10   \n",
       "4       2019-04-25 10:40:32  954.00000  2.082014e+14   3.369980e+10   \n",
       "...                     ...        ...           ...            ...   \n",
       "149996  2019-04-30 06:02:33  214.00000  2.082022e+14   3.365069e+10   \n",
       "149997  2019-04-30 10:41:33  187.00000  2.082019e+14   3.366345e+10   \n",
       "149998  2019-04-30 10:46:12  810.00000  2.082017e+14   3.362189e+10   \n",
       "149999  2019-04-30 10:40:34  327.00000  2.082021e+14   3.361962e+10   \n",
       "150000  2019-04-25 00:01:32  498.80088  2.082014e+14   3.362632e+10   \n",
       "\n",
       "                imei last_location_name  avg_rtt_dl__ms_  ...  \\\n",
       "0       3.552121e+13   9164566995485190        42.000000  ...   \n",
       "1       3.579401e+13            L77566A        65.000000  ...   \n",
       "2       3.528151e+13            D42335A       109.795706  ...   \n",
       "3       3.535661e+13            T21824A       109.795706  ...   \n",
       "4       3.540701e+13            D88865A       109.795706  ...   \n",
       "...              ...                ...              ...  ...   \n",
       "149996  3.548311e+13            D20434A        32.000000  ...   \n",
       "149997  3.566051e+13            D10223C        27.000000  ...   \n",
       "149998  3.572121e+13            T51102A        43.000000  ...   \n",
       "149999  8.618620e+13            L88342B        37.000000  ...   \n",
       "150000  3.518231e+13            D41377B       109.795706  ...   \n",
       "\n",
       "        youtube_dl__bytes_  youtube_ul__bytes_  netflix_dl__bytes_  \\\n",
       "0             1.585461e+07        2.501332e+06        8.198936e+06   \n",
       "1             2.024740e+07        1.911173e+07        1.833841e+07   \n",
       "2             1.972566e+07        1.469958e+07        1.758779e+07   \n",
       "3             2.138812e+07        1.514664e+07        1.399465e+07   \n",
       "4             1.525938e+07        1.896287e+07        1.712458e+07   \n",
       "...                    ...                 ...                 ...   \n",
       "149996        1.619167e+07        1.176343e+07        1.788370e+07   \n",
       "149997        1.387723e+07        8.288284e+06        1.935015e+07   \n",
       "149998        2.266051e+07        1.855903e+06        9.963942e+06   \n",
       "149999        8.817106e+06        8.305402e+06        3.322253e+06   \n",
       "150000        1.163407e+07        1.100941e+07        1.162685e+07   \n",
       "\n",
       "        netflix_ul__bytes_  gaming_dl__bytes_  gaming_ul__bytes_  \\\n",
       "0             9.656251e+06       2.780823e+08       1.434415e+07   \n",
       "1             1.722713e+07       6.087501e+08       1.170709e+06   \n",
       "2             6.163408e+06       2.295846e+08       3.956300e+05   \n",
       "3             1.097942e+06       7.995382e+08       1.084972e+07   \n",
       "4             4.152180e+05       5.277072e+08       3.529801e+06   \n",
       "...                    ...                ...                ...   \n",
       "149996        1.967816e+07       5.266097e+08       9.197207e+06   \n",
       "149997        2.129315e+07       6.268931e+08       4.735033e+06   \n",
       "149998        5.065760e+06       5.535395e+08       1.339432e+07   \n",
       "149999        1.317259e+07       3.525370e+08       2.529475e+06   \n",
       "150000        1.100175e+07       4.220447e+08       8.288398e+06   \n",
       "\n",
       "        other_dl__bytes_  other_ul__bytes_  total_ul__bytes_  total_dl__bytes_  \n",
       "0           1.717444e+08      8.814393e+06      3.674974e+07      3.088796e+08  \n",
       "1           5.269042e+08      1.505514e+07      5.380039e+07      6.533850e+08  \n",
       "2           4.106926e+08      4.215763e+06      2.788364e+07      2.798073e+08  \n",
       "3           7.490399e+08      1.279728e+07      4.332422e+07      8.460285e+08  \n",
       "4           5.507095e+08      1.391032e+07      3.854281e+07      5.691386e+08  \n",
       "...                  ...               ...               ...               ...  \n",
       "149996      3.264510e+06      1.348742e+07      5.762885e+07      5.741753e+08  \n",
       "149997      7.121804e+08      2.457758e+06      3.913508e+07      6.666488e+08  \n",
       "149998      1.211009e+08      1.131473e+07      3.491222e+07      5.927864e+08  \n",
       "149999      8.147131e+08      1.406930e+06      2.962610e+07      3.718959e+08  \n",
       "150000      4.211005e+08      8.264799e+06      4.112121e+07      4.546434e+08  \n",
       "\n",
       "[150001 rows x 54 columns]"
      ]
     },
     "execution_count": 593,
     "metadata": {},
     "output_type": "execute_result"
    }
   ],
   "source": [
    "data"
   ]
  },
  {
   "cell_type": "code",
   "execution_count": 594,
   "metadata": {},
   "outputs": [
    {
     "data": {
      "text/plain": [
       "Index(['bearer_id', 'start', 'start_ms', 'end', 'end_ms', 'imsi',\n",
       "       'msisdn_number', 'imei', 'last_location_name', 'avg_rtt_dl__ms_',\n",
       "       'avg_rtt_ul__ms_', 'avg_bearer_tp_dl__kbps_', 'avg_bearer_tp_ul__kbps_',\n",
       "       'tcp_dl_retrans__vol__bytes_', 'tcp_ul_retrans__vol__bytes_',\n",
       "       'dl_tp_<_50_kbps__%_', '50_kbps_<_dl_tp_<_250_kbps__%_',\n",
       "       '250_kbps_<_dl_tp_<_1_mbps__%_', 'dl_tp_>_1_mbps__%_',\n",
       "       'ul_tp_<_10_kbps__%_', '10_kbps_<_ul_tp_<_50_kbps__%_',\n",
       "       '50_kbps_<_ul_tp_<_300_kbps__%_', 'ul_tp_>_300_kbps__%_',\n",
       "       'http_dl__bytes_', 'http_ul__bytes_', 'activity_duration_dl__ms_',\n",
       "       'activity_duration_ul__ms_', 'dur___ms__1', 'handset_manufacturer',\n",
       "       'handset_type', 'nb_of_sec_with_125000b_<_vol_dl',\n",
       "       'nb_of_sec_with_1250b_<_vol_ul_<_6250b',\n",
       "       'nb_of_sec_with_31250b_<_vol_dl_<_125000b',\n",
       "       'nb_of_sec_with_37500b_<_vol_ul',\n",
       "       'nb_of_sec_with_6250b_<_vol_dl_<_31250b',\n",
       "       'nb_of_sec_with_6250b_<_vol_ul_<_37500b',\n",
       "       'nb_of_sec_with_vol_dl_<_6250b', 'nb_of_sec_with_vol_ul_<_1250b',\n",
       "       'social_media_dl__bytes_', 'social_media_ul__bytes_',\n",
       "       'google_dl__bytes_', 'google_ul__bytes_', 'email_dl__bytes_',\n",
       "       'email_ul__bytes_', 'youtube_dl__bytes_', 'youtube_ul__bytes_',\n",
       "       'netflix_dl__bytes_', 'netflix_ul__bytes_', 'gaming_dl__bytes_',\n",
       "       'gaming_ul__bytes_', 'other_dl__bytes_', 'other_ul__bytes_',\n",
       "       'total_ul__bytes_', 'total_dl__bytes_'],\n",
       "      dtype='object')"
      ]
     },
     "execution_count": 594,
     "metadata": {},
     "output_type": "execute_result"
    }
   ],
   "source": [
    "data.columns"
   ]
  },
  {
   "cell_type": "markdown",
   "metadata": {},
   "source": [
    " "
   ]
  },
  {
   "cell_type": "markdown",
   "metadata": {},
   "source": [
    "#### Feature Engineering\n",
    " - For this analyis, we would be working with the following features"
   ]
  },
  {
   "cell_type": "code",
   "execution_count": 595,
   "metadata": {},
   "outputs": [],
   "source": [
    "columns = ['bearer_id', 'dur___ms__1','http_dl__bytes_',\n",
    "           'http_ul__bytes_', 'activity_duration_dl__ms_',\n",
    "           'activity_duration_ul__ms_',\n",
    "           'handset_manufacturer', 'handset_type',\n",
    "          'social_media_dl__bytes_', 'social_media_ul__bytes_',\n",
    "       'google_dl__bytes_', 'google_ul__bytes_', 'email_dl__bytes_',\n",
    "       'email_ul__bytes_', 'youtube_dl__bytes_', 'youtube_ul__bytes_',\n",
    "       'netflix_dl__bytes_', 'netflix_ul__bytes_', 'gaming_dl__bytes_',\n",
    "       'gaming_ul__bytes_', 'other_dl__bytes_', 'other_ul__bytes_',\n",
    "       'total_ul__bytes_', 'total_dl__bytes_']"
   ]
  },
  {
   "cell_type": "code",
   "execution_count": 596,
   "metadata": {},
   "outputs": [],
   "source": [
    "data2 = data[columns]"
   ]
  },
  {
   "cell_type": "code",
   "execution_count": 597,
   "metadata": {},
   "outputs": [
    {
     "data": {
      "text/html": [
       "<div>\n",
       "<style scoped>\n",
       "    .dataframe tbody tr th:only-of-type {\n",
       "        vertical-align: middle;\n",
       "    }\n",
       "\n",
       "    .dataframe tbody tr th {\n",
       "        vertical-align: top;\n",
       "    }\n",
       "\n",
       "    .dataframe thead th {\n",
       "        text-align: right;\n",
       "    }\n",
       "</style>\n",
       "<table border=\"1\" class=\"dataframe\">\n",
       "  <thead>\n",
       "    <tr style=\"text-align: right;\">\n",
       "      <th></th>\n",
       "      <th>bearer_id</th>\n",
       "      <th>dur___ms__1</th>\n",
       "      <th>http_dl__bytes_</th>\n",
       "      <th>http_ul__bytes_</th>\n",
       "      <th>activity_duration_dl__ms_</th>\n",
       "      <th>activity_duration_ul__ms_</th>\n",
       "      <th>handset_manufacturer</th>\n",
       "      <th>handset_type</th>\n",
       "      <th>social_media_dl__bytes_</th>\n",
       "      <th>social_media_ul__bytes_</th>\n",
       "      <th>...</th>\n",
       "      <th>youtube_dl__bytes_</th>\n",
       "      <th>youtube_ul__bytes_</th>\n",
       "      <th>netflix_dl__bytes_</th>\n",
       "      <th>netflix_ul__bytes_</th>\n",
       "      <th>gaming_dl__bytes_</th>\n",
       "      <th>gaming_ul__bytes_</th>\n",
       "      <th>other_dl__bytes_</th>\n",
       "      <th>other_ul__bytes_</th>\n",
       "      <th>total_ul__bytes_</th>\n",
       "      <th>total_dl__bytes_</th>\n",
       "    </tr>\n",
       "  </thead>\n",
       "  <tbody>\n",
       "    <tr>\n",
       "      <th>0</th>\n",
       "      <td>13114483460844900352</td>\n",
       "      <td>1.823653e+09</td>\n",
       "      <td>1.144710e+08</td>\n",
       "      <td>3.242301e+06</td>\n",
       "      <td>3.762400e+04</td>\n",
       "      <td>3.878700e+04</td>\n",
       "      <td>samsung</td>\n",
       "      <td>samsung galaxy a5 sm-a520f</td>\n",
       "      <td>1.545765e+06</td>\n",
       "      <td>24420.00000</td>\n",
       "      <td>...</td>\n",
       "      <td>1.585461e+07</td>\n",
       "      <td>2.501332e+06</td>\n",
       "      <td>8.198936e+06</td>\n",
       "      <td>9.656251e+06</td>\n",
       "      <td>2.780823e+08</td>\n",
       "      <td>1.434415e+07</td>\n",
       "      <td>1.717444e+08</td>\n",
       "      <td>8.814393e+06</td>\n",
       "      <td>3.674974e+07</td>\n",
       "      <td>3.088796e+08</td>\n",
       "    </tr>\n",
       "    <tr>\n",
       "      <th>1</th>\n",
       "      <td>13114483482878900224</td>\n",
       "      <td>1.365104e+09</td>\n",
       "      <td>1.144710e+08</td>\n",
       "      <td>3.242301e+06</td>\n",
       "      <td>1.680000e+02</td>\n",
       "      <td>3.560000e+03</td>\n",
       "      <td>samsung</td>\n",
       "      <td>samsung galaxy j5 (sm-j530)</td>\n",
       "      <td>1.926113e+06</td>\n",
       "      <td>7165.00000</td>\n",
       "      <td>...</td>\n",
       "      <td>2.024740e+07</td>\n",
       "      <td>1.911173e+07</td>\n",
       "      <td>1.833841e+07</td>\n",
       "      <td>1.722713e+07</td>\n",
       "      <td>6.087501e+08</td>\n",
       "      <td>1.170709e+06</td>\n",
       "      <td>5.269042e+08</td>\n",
       "      <td>1.505514e+07</td>\n",
       "      <td>5.380039e+07</td>\n",
       "      <td>6.533850e+08</td>\n",
       "    </tr>\n",
       "    <tr>\n",
       "      <th>2</th>\n",
       "      <td>13114483484080500736</td>\n",
       "      <td>1.361763e+09</td>\n",
       "      <td>1.144710e+08</td>\n",
       "      <td>3.242301e+06</td>\n",
       "      <td>0.000000e+00</td>\n",
       "      <td>0.000000e+00</td>\n",
       "      <td>samsung</td>\n",
       "      <td>samsung galaxy a8 (2018)</td>\n",
       "      <td>1.684053e+06</td>\n",
       "      <td>42224.00000</td>\n",
       "      <td>...</td>\n",
       "      <td>1.972566e+07</td>\n",
       "      <td>1.469958e+07</td>\n",
       "      <td>1.758779e+07</td>\n",
       "      <td>6.163408e+06</td>\n",
       "      <td>2.295846e+08</td>\n",
       "      <td>3.956300e+05</td>\n",
       "      <td>4.106926e+08</td>\n",
       "      <td>4.215763e+06</td>\n",
       "      <td>2.788364e+07</td>\n",
       "      <td>2.798073e+08</td>\n",
       "    </tr>\n",
       "    <tr>\n",
       "      <th>3</th>\n",
       "      <td>13114483485442799616</td>\n",
       "      <td>1.321510e+09</td>\n",
       "      <td>1.144710e+08</td>\n",
       "      <td>3.242301e+06</td>\n",
       "      <td>3.330000e+03</td>\n",
       "      <td>3.788200e+04</td>\n",
       "      <td>undefined</td>\n",
       "      <td>undefined</td>\n",
       "      <td>6.441210e+05</td>\n",
       "      <td>13372.00000</td>\n",
       "      <td>...</td>\n",
       "      <td>2.138812e+07</td>\n",
       "      <td>1.514664e+07</td>\n",
       "      <td>1.399465e+07</td>\n",
       "      <td>1.097942e+06</td>\n",
       "      <td>7.995382e+08</td>\n",
       "      <td>1.084972e+07</td>\n",
       "      <td>7.490399e+08</td>\n",
       "      <td>1.279728e+07</td>\n",
       "      <td>4.332422e+07</td>\n",
       "      <td>8.460285e+08</td>\n",
       "    </tr>\n",
       "    <tr>\n",
       "      <th>4</th>\n",
       "      <td>13114483499480700928</td>\n",
       "      <td>1.089009e+09</td>\n",
       "      <td>1.144710e+08</td>\n",
       "      <td>3.242301e+06</td>\n",
       "      <td>0.000000e+00</td>\n",
       "      <td>0.000000e+00</td>\n",
       "      <td>samsung</td>\n",
       "      <td>samsung sm-g390f</td>\n",
       "      <td>8.626000e+05</td>\n",
       "      <td>50188.00000</td>\n",
       "      <td>...</td>\n",
       "      <td>1.525938e+07</td>\n",
       "      <td>1.896287e+07</td>\n",
       "      <td>1.712458e+07</td>\n",
       "      <td>4.152180e+05</td>\n",
       "      <td>5.277072e+08</td>\n",
       "      <td>3.529801e+06</td>\n",
       "      <td>5.507095e+08</td>\n",
       "      <td>1.391032e+07</td>\n",
       "      <td>3.854281e+07</td>\n",
       "      <td>5.691386e+08</td>\n",
       "    </tr>\n",
       "    <tr>\n",
       "      <th>...</th>\n",
       "      <td>...</td>\n",
       "      <td>...</td>\n",
       "      <td>...</td>\n",
       "      <td>...</td>\n",
       "      <td>...</td>\n",
       "      <td>...</td>\n",
       "      <td>...</td>\n",
       "      <td>...</td>\n",
       "      <td>...</td>\n",
       "      <td>...</td>\n",
       "      <td>...</td>\n",
       "      <td>...</td>\n",
       "      <td>...</td>\n",
       "      <td>...</td>\n",
       "      <td>...</td>\n",
       "      <td>...</td>\n",
       "      <td>...</td>\n",
       "      <td>...</td>\n",
       "      <td>...</td>\n",
       "      <td>...</td>\n",
       "      <td>...</td>\n",
       "    </tr>\n",
       "    <tr>\n",
       "      <th>149996</th>\n",
       "      <td>7277825670196679680</td>\n",
       "      <td>8.123076e+07</td>\n",
       "      <td>1.144710e+08</td>\n",
       "      <td>3.242301e+06</td>\n",
       "      <td>4.237600e+04</td>\n",
       "      <td>4.191500e+04</td>\n",
       "      <td>apple</td>\n",
       "      <td>apple iphone 8 plus (a1897)</td>\n",
       "      <td>3.464974e+06</td>\n",
       "      <td>52091.00000</td>\n",
       "      <td>...</td>\n",
       "      <td>1.619167e+07</td>\n",
       "      <td>1.176343e+07</td>\n",
       "      <td>1.788370e+07</td>\n",
       "      <td>1.967816e+07</td>\n",
       "      <td>5.266097e+08</td>\n",
       "      <td>9.197207e+06</td>\n",
       "      <td>3.264510e+06</td>\n",
       "      <td>1.348742e+07</td>\n",
       "      <td>5.762885e+07</td>\n",
       "      <td>5.741753e+08</td>\n",
       "    </tr>\n",
       "    <tr>\n",
       "      <th>149997</th>\n",
       "      <td>7349883264234609664</td>\n",
       "      <td>9.797070e+07</td>\n",
       "      <td>1.144710e+08</td>\n",
       "      <td>3.242301e+06</td>\n",
       "      <td>1.726400e+04</td>\n",
       "      <td>1.675900e+04</td>\n",
       "      <td>apple</td>\n",
       "      <td>apple iphone se (a1723)</td>\n",
       "      <td>2.344568e+06</td>\n",
       "      <td>7613.00000</td>\n",
       "      <td>...</td>\n",
       "      <td>1.387723e+07</td>\n",
       "      <td>8.288284e+06</td>\n",
       "      <td>1.935015e+07</td>\n",
       "      <td>2.129315e+07</td>\n",
       "      <td>6.268931e+08</td>\n",
       "      <td>4.735033e+06</td>\n",
       "      <td>7.121804e+08</td>\n",
       "      <td>2.457758e+06</td>\n",
       "      <td>3.913508e+07</td>\n",
       "      <td>6.666488e+08</td>\n",
       "    </tr>\n",
       "    <tr>\n",
       "      <th>149998</th>\n",
       "      <td>13114483573367300096</td>\n",
       "      <td>9.824953e+07</td>\n",
       "      <td>1.144710e+08</td>\n",
       "      <td>3.242301e+06</td>\n",
       "      <td>2.500300e+04</td>\n",
       "      <td>2.864000e+04</td>\n",
       "      <td>apple</td>\n",
       "      <td>apple iphone xs (a2097)</td>\n",
       "      <td>1.245845e+06</td>\n",
       "      <td>14394.00000</td>\n",
       "      <td>...</td>\n",
       "      <td>2.266051e+07</td>\n",
       "      <td>1.855903e+06</td>\n",
       "      <td>9.963942e+06</td>\n",
       "      <td>5.065760e+06</td>\n",
       "      <td>5.535395e+08</td>\n",
       "      <td>1.339432e+07</td>\n",
       "      <td>1.211009e+08</td>\n",
       "      <td>1.131473e+07</td>\n",
       "      <td>3.491222e+07</td>\n",
       "      <td>5.927864e+08</td>\n",
       "    </tr>\n",
       "    <tr>\n",
       "      <th>149999</th>\n",
       "      <td>13114483573367300096</td>\n",
       "      <td>9.791063e+07</td>\n",
       "      <td>1.144710e+08</td>\n",
       "      <td>3.242301e+06</td>\n",
       "      <td>1.340500e+04</td>\n",
       "      <td>3.408800e+04</td>\n",
       "      <td>huawei</td>\n",
       "      <td>huawei fig-lx1</td>\n",
       "      <td>8.015470e+05</td>\n",
       "      <td>21562.00000</td>\n",
       "      <td>...</td>\n",
       "      <td>8.817106e+06</td>\n",
       "      <td>8.305402e+06</td>\n",
       "      <td>3.322253e+06</td>\n",
       "      <td>1.317259e+07</td>\n",
       "      <td>3.525370e+08</td>\n",
       "      <td>2.529475e+06</td>\n",
       "      <td>8.147131e+08</td>\n",
       "      <td>1.406930e+06</td>\n",
       "      <td>2.962610e+07</td>\n",
       "      <td>3.718959e+08</td>\n",
       "    </tr>\n",
       "    <tr>\n",
       "      <th>150000</th>\n",
       "      <td></td>\n",
       "      <td>1.046091e+08</td>\n",
       "      <td>1.144710e+08</td>\n",
       "      <td>3.242301e+06</td>\n",
       "      <td>1.829177e+06</td>\n",
       "      <td>1.408880e+06</td>\n",
       "      <td>apple</td>\n",
       "      <td>huawei b528s-23a</td>\n",
       "      <td>1.795322e+06</td>\n",
       "      <td>32928.43438</td>\n",
       "      <td>...</td>\n",
       "      <td>1.163407e+07</td>\n",
       "      <td>1.100941e+07</td>\n",
       "      <td>1.162685e+07</td>\n",
       "      <td>1.100175e+07</td>\n",
       "      <td>4.220447e+08</td>\n",
       "      <td>8.288398e+06</td>\n",
       "      <td>4.211005e+08</td>\n",
       "      <td>8.264799e+06</td>\n",
       "      <td>4.112121e+07</td>\n",
       "      <td>4.546434e+08</td>\n",
       "    </tr>\n",
       "  </tbody>\n",
       "</table>\n",
       "<p>150001 rows × 24 columns</p>\n",
       "</div>"
      ],
      "text/plain": [
       "                   bearer_id   dur___ms__1  http_dl__bytes_  http_ul__bytes_  \\\n",
       "0       13114483460844900352  1.823653e+09     1.144710e+08     3.242301e+06   \n",
       "1       13114483482878900224  1.365104e+09     1.144710e+08     3.242301e+06   \n",
       "2       13114483484080500736  1.361763e+09     1.144710e+08     3.242301e+06   \n",
       "3       13114483485442799616  1.321510e+09     1.144710e+08     3.242301e+06   \n",
       "4       13114483499480700928  1.089009e+09     1.144710e+08     3.242301e+06   \n",
       "...                      ...           ...              ...              ...   \n",
       "149996   7277825670196679680  8.123076e+07     1.144710e+08     3.242301e+06   \n",
       "149997   7349883264234609664  9.797070e+07     1.144710e+08     3.242301e+06   \n",
       "149998  13114483573367300096  9.824953e+07     1.144710e+08     3.242301e+06   \n",
       "149999  13114483573367300096  9.791063e+07     1.144710e+08     3.242301e+06   \n",
       "150000                        1.046091e+08     1.144710e+08     3.242301e+06   \n",
       "\n",
       "        activity_duration_dl__ms_  activity_duration_ul__ms_  \\\n",
       "0                    3.762400e+04               3.878700e+04   \n",
       "1                    1.680000e+02               3.560000e+03   \n",
       "2                    0.000000e+00               0.000000e+00   \n",
       "3                    3.330000e+03               3.788200e+04   \n",
       "4                    0.000000e+00               0.000000e+00   \n",
       "...                           ...                        ...   \n",
       "149996               4.237600e+04               4.191500e+04   \n",
       "149997               1.726400e+04               1.675900e+04   \n",
       "149998               2.500300e+04               2.864000e+04   \n",
       "149999               1.340500e+04               3.408800e+04   \n",
       "150000               1.829177e+06               1.408880e+06   \n",
       "\n",
       "       handset_manufacturer                 handset_type  \\\n",
       "0                   samsung   samsung galaxy a5 sm-a520f   \n",
       "1                   samsung  samsung galaxy j5 (sm-j530)   \n",
       "2                   samsung     samsung galaxy a8 (2018)   \n",
       "3                 undefined                    undefined   \n",
       "4                   samsung             samsung sm-g390f   \n",
       "...                     ...                          ...   \n",
       "149996                apple  apple iphone 8 plus (a1897)   \n",
       "149997                apple      apple iphone se (a1723)   \n",
       "149998                apple      apple iphone xs (a2097)   \n",
       "149999               huawei               huawei fig-lx1   \n",
       "150000                apple             huawei b528s-23a   \n",
       "\n",
       "        social_media_dl__bytes_  social_media_ul__bytes_  ...  \\\n",
       "0                  1.545765e+06              24420.00000  ...   \n",
       "1                  1.926113e+06               7165.00000  ...   \n",
       "2                  1.684053e+06              42224.00000  ...   \n",
       "3                  6.441210e+05              13372.00000  ...   \n",
       "4                  8.626000e+05              50188.00000  ...   \n",
       "...                         ...                      ...  ...   \n",
       "149996             3.464974e+06              52091.00000  ...   \n",
       "149997             2.344568e+06               7613.00000  ...   \n",
       "149998             1.245845e+06              14394.00000  ...   \n",
       "149999             8.015470e+05              21562.00000  ...   \n",
       "150000             1.795322e+06              32928.43438  ...   \n",
       "\n",
       "        youtube_dl__bytes_  youtube_ul__bytes_  netflix_dl__bytes_  \\\n",
       "0             1.585461e+07        2.501332e+06        8.198936e+06   \n",
       "1             2.024740e+07        1.911173e+07        1.833841e+07   \n",
       "2             1.972566e+07        1.469958e+07        1.758779e+07   \n",
       "3             2.138812e+07        1.514664e+07        1.399465e+07   \n",
       "4             1.525938e+07        1.896287e+07        1.712458e+07   \n",
       "...                    ...                 ...                 ...   \n",
       "149996        1.619167e+07        1.176343e+07        1.788370e+07   \n",
       "149997        1.387723e+07        8.288284e+06        1.935015e+07   \n",
       "149998        2.266051e+07        1.855903e+06        9.963942e+06   \n",
       "149999        8.817106e+06        8.305402e+06        3.322253e+06   \n",
       "150000        1.163407e+07        1.100941e+07        1.162685e+07   \n",
       "\n",
       "        netflix_ul__bytes_  gaming_dl__bytes_  gaming_ul__bytes_  \\\n",
       "0             9.656251e+06       2.780823e+08       1.434415e+07   \n",
       "1             1.722713e+07       6.087501e+08       1.170709e+06   \n",
       "2             6.163408e+06       2.295846e+08       3.956300e+05   \n",
       "3             1.097942e+06       7.995382e+08       1.084972e+07   \n",
       "4             4.152180e+05       5.277072e+08       3.529801e+06   \n",
       "...                    ...                ...                ...   \n",
       "149996        1.967816e+07       5.266097e+08       9.197207e+06   \n",
       "149997        2.129315e+07       6.268931e+08       4.735033e+06   \n",
       "149998        5.065760e+06       5.535395e+08       1.339432e+07   \n",
       "149999        1.317259e+07       3.525370e+08       2.529475e+06   \n",
       "150000        1.100175e+07       4.220447e+08       8.288398e+06   \n",
       "\n",
       "        other_dl__bytes_  other_ul__bytes_  total_ul__bytes_  total_dl__bytes_  \n",
       "0           1.717444e+08      8.814393e+06      3.674974e+07      3.088796e+08  \n",
       "1           5.269042e+08      1.505514e+07      5.380039e+07      6.533850e+08  \n",
       "2           4.106926e+08      4.215763e+06      2.788364e+07      2.798073e+08  \n",
       "3           7.490399e+08      1.279728e+07      4.332422e+07      8.460285e+08  \n",
       "4           5.507095e+08      1.391032e+07      3.854281e+07      5.691386e+08  \n",
       "...                  ...               ...               ...               ...  \n",
       "149996      3.264510e+06      1.348742e+07      5.762885e+07      5.741753e+08  \n",
       "149997      7.121804e+08      2.457758e+06      3.913508e+07      6.666488e+08  \n",
       "149998      1.211009e+08      1.131473e+07      3.491222e+07      5.927864e+08  \n",
       "149999      8.147131e+08      1.406930e+06      2.962610e+07      3.718959e+08  \n",
       "150000      4.211005e+08      8.264799e+06      4.112121e+07      4.546434e+08  \n",
       "\n",
       "[150001 rows x 24 columns]"
      ]
     },
     "execution_count": 597,
     "metadata": {},
     "output_type": "execute_result"
    }
   ],
   "source": [
    "data2"
   ]
  },
  {
   "cell_type": "code",
   "execution_count": 598,
   "metadata": {},
   "outputs": [
    {
     "data": {
      "text/plain": [
       "Index(['bearer_id', 'dur___ms__1', 'http_dl__bytes_', 'http_ul__bytes_',\n",
       "       'activity_duration_dl__ms_', 'activity_duration_ul__ms_',\n",
       "       'handset_manufacturer', 'handset_type', 'social_media_dl__bytes_',\n",
       "       'social_media_ul__bytes_', 'google_dl__bytes_', 'google_ul__bytes_',\n",
       "       'email_dl__bytes_', 'email_ul__bytes_', 'youtube_dl__bytes_',\n",
       "       'youtube_ul__bytes_', 'netflix_dl__bytes_', 'netflix_ul__bytes_',\n",
       "       'gaming_dl__bytes_', 'gaming_ul__bytes_', 'other_dl__bytes_',\n",
       "       'other_ul__bytes_', 'total_ul__bytes_', 'total_dl__bytes_'],\n",
       "      dtype='object')"
      ]
     },
     "execution_count": 598,
     "metadata": {},
     "output_type": "execute_result"
    }
   ],
   "source": [
    "data2.columns"
   ]
  },
  {
   "cell_type": "markdown",
   "metadata": {},
   "source": [
    "<a id='r1'></a>\n",
    "\n",
    "#### Research Question 1"
   ]
  },
  {
   "cell_type": "markdown",
   "metadata": {},
   "source": [
    "  - Top performers\n",
    " \n",
    "       - Who/What are the top tiers accros manufacturers, handsets and customers\n",
    "          \n",
    "       - What group of users belong each to the top 5 decile classes based on the total duration for all sessions"
   ]
  },
  {
   "cell_type": "markdown",
   "metadata": {},
   "source": [
    " "
   ]
  },
  {
   "cell_type": "markdown",
   "metadata": {},
   "source": [
    "#### Who/What are the top tiers accros manufacturers, handsets and customers\n",
    " "
   ]
  },
  {
   "cell_type": "markdown",
   "metadata": {},
   "source": [
    " ##### A\n",
    " \n",
    " In answering these, we would focus on identifying the following:"
   ]
  },
  {
   "cell_type": "markdown",
   "metadata": {},
   "source": [
    "- top 10 handsets used by the customers.\n",
    "\n",
    "- top 3 handset manufacturers\n",
    "\n",
    "- top 5 handsets per handset manufacturer"
   ]
  },
  {
   "cell_type": "markdown",
   "metadata": {},
   "source": [
    "> top 10 handsets used by the customers"
   ]
  },
  {
   "cell_type": "code",
   "execution_count": 599,
   "metadata": {},
   "outputs": [],
   "source": [
    "top10_handests = data2.groupby('handset_type')['bearer_id'].count().reset_index().sort_values('bearer_id', ascending=False).head(10)"
   ]
  },
  {
   "cell_type": "code",
   "execution_count": 600,
   "metadata": {},
   "outputs": [],
   "source": [
    "top10_handests.rename(columns={'handset_type': 'Handset_Type', 'bearer_id':'Customer_Count'}, inplace=True)"
   ]
  },
  {
   "cell_type": "code",
   "execution_count": 601,
   "metadata": {},
   "outputs": [
    {
     "data": {
      "text/html": [
       "<div>\n",
       "<style scoped>\n",
       "    .dataframe tbody tr th:only-of-type {\n",
       "        vertical-align: middle;\n",
       "    }\n",
       "\n",
       "    .dataframe tbody tr th {\n",
       "        vertical-align: top;\n",
       "    }\n",
       "\n",
       "    .dataframe thead th {\n",
       "        text-align: right;\n",
       "    }\n",
       "</style>\n",
       "<table border=\"1\" class=\"dataframe\">\n",
       "  <thead>\n",
       "    <tr style=\"text-align: right;\">\n",
       "      <th></th>\n",
       "      <th>Handset_Type</th>\n",
       "      <th>Customer_Count</th>\n",
       "    </tr>\n",
       "  </thead>\n",
       "  <tbody>\n",
       "    <tr>\n",
       "      <th>316</th>\n",
       "      <td>huawei b528s-23a</td>\n",
       "      <td>20324</td>\n",
       "    </tr>\n",
       "    <tr>\n",
       "      <th>53</th>\n",
       "      <td>apple iphone 6s (a1688)</td>\n",
       "      <td>9419</td>\n",
       "    </tr>\n",
       "    <tr>\n",
       "      <th>49</th>\n",
       "      <td>apple iphone 6 (a1586)</td>\n",
       "      <td>9023</td>\n",
       "    </tr>\n",
       "    <tr>\n",
       "      <th>1247</th>\n",
       "      <td>undefined</td>\n",
       "      <td>8987</td>\n",
       "    </tr>\n",
       "    <tr>\n",
       "      <th>59</th>\n",
       "      <td>apple iphone 7 (a1778)</td>\n",
       "      <td>6326</td>\n",
       "    </tr>\n",
       "    <tr>\n",
       "      <th>73</th>\n",
       "      <td>apple iphone se (a1723)</td>\n",
       "      <td>5187</td>\n",
       "    </tr>\n",
       "    <tr>\n",
       "      <th>66</th>\n",
       "      <td>apple iphone 8 (a1905)</td>\n",
       "      <td>4993</td>\n",
       "    </tr>\n",
       "    <tr>\n",
       "      <th>78</th>\n",
       "      <td>apple iphone xr (a2105)</td>\n",
       "      <td>4568</td>\n",
       "    </tr>\n",
       "    <tr>\n",
       "      <th>955</th>\n",
       "      <td>samsung galaxy s8 (sm-g950f)</td>\n",
       "      <td>4520</td>\n",
       "    </tr>\n",
       "    <tr>\n",
       "      <th>75</th>\n",
       "      <td>apple iphone x (a1901)</td>\n",
       "      <td>3813</td>\n",
       "    </tr>\n",
       "  </tbody>\n",
       "</table>\n",
       "</div>"
      ],
      "text/plain": [
       "                      Handset_Type  Customer_Count\n",
       "316               huawei b528s-23a           20324\n",
       "53         apple iphone 6s (a1688)            9419\n",
       "49          apple iphone 6 (a1586)            9023\n",
       "1247                     undefined            8987\n",
       "59          apple iphone 7 (a1778)            6326\n",
       "73         apple iphone se (a1723)            5187\n",
       "66          apple iphone 8 (a1905)            4993\n",
       "78         apple iphone xr (a2105)            4568\n",
       "955   samsung galaxy s8 (sm-g950f)            4520\n",
       "75          apple iphone x (a1901)            3813"
      ]
     },
     "execution_count": 601,
     "metadata": {},
     "output_type": "execute_result"
    }
   ],
   "source": [
    "top10_handests"
   ]
  },
  {
   "cell_type": "code",
   "execution_count": 602,
   "metadata": {},
   "outputs": [
    {
     "data": {
      "image/png": "[encoded data removed]",
      "text/plain": [
       "<Figure size 1080x720 with 1 Axes>"
      ]
     },
     "metadata": {
      "needs_background": "light"
     },
     "output_type": "display_data"
    }
   ],
   "source": [
    "plt.subplots(figsize=(15,10))\n",
    "plt.xticks(rotation=40, fontsize=14)\n",
    "plt.yticks(fontsize=14)\n",
    "plt.xlabel('Customer_Count', fontsize=16)\n",
    "plt.ylabel('Cust', fontsize=16)\n",
    "plt.title('TOP 10 HANDSETS USED BY CUSTOMERS', fontsize=20)\n",
    "sns.barplot(x='Handset_Type', y= 'Customer_Count', data=top10_handests, color='g')\n",
    "# save chart\n",
    "plt.savefig(fname='visuals/top10Hansets.png', format='png')\n",
    "plt.show()"
   ]
  },
  {
   "cell_type": "markdown",
   "metadata": {},
   "source": [
    "- Observation\n",
    "\n",
    "> From the above we can deduce the folowing:\n",
    "\n",
    "    1. Smart Phones are the most popularly used phones \n",
    "    \n",
    "    2. Huawei phone specifically brand (_Huawei B528S-23A_) have the largest purchase\n",
    "    \n",
    "    3. Apple phone brands is the most popular (and possibly have the highest market share)"
   ]
  },
  {
   "cell_type": "markdown",
   "metadata": {},
   "source": [
    " "
   ]
  },
  {
   "cell_type": "markdown",
   "metadata": {},
   "source": [
    " "
   ]
  },
  {
   "cell_type": "markdown",
   "metadata": {},
   "source": [
    "  "
   ]
  },
  {
   "cell_type": "markdown",
   "metadata": {},
   "source": [
    "> top 3 handset manufacturers"
   ]
  },
  {
   "cell_type": "code",
   "execution_count": 603,
   "metadata": {},
   "outputs": [],
   "source": [
    "top3_man = data2.groupby('handset_manufacturer')['bearer_id'].count().reset_index().sort_values('bearer_id', ascending=False).head(3)"
   ]
  },
  {
   "cell_type": "code",
   "execution_count": 604,
   "metadata": {},
   "outputs": [],
   "source": [
    "top3_man.rename(columns={'handset_manufacturer': 'Manufacturer', 'bearer_id':'Customer_Count'}, inplace=True)"
   ]
  },
  {
   "cell_type": "code",
   "execution_count": 605,
   "metadata": {},
   "outputs": [
    {
     "data": {
      "text/html": [
       "<div>\n",
       "<style scoped>\n",
       "    .dataframe tbody tr th:only-of-type {\n",
       "        vertical-align: middle;\n",
       "    }\n",
       "\n",
       "    .dataframe tbody tr th {\n",
       "        vertical-align: top;\n",
       "    }\n",
       "\n",
       "    .dataframe thead th {\n",
       "        text-align: right;\n",
       "    }\n",
       "</style>\n",
       "<table border=\"1\" class=\"dataframe\">\n",
       "  <thead>\n",
       "    <tr style=\"text-align: right;\">\n",
       "      <th></th>\n",
       "      <th>Manufacturer</th>\n",
       "      <th>Customer_Count</th>\n",
       "    </tr>\n",
       "  </thead>\n",
       "  <tbody>\n",
       "    <tr>\n",
       "      <th>4</th>\n",
       "      <td>apple</td>\n",
       "      <td>60137</td>\n",
       "    </tr>\n",
       "    <tr>\n",
       "      <th>93</th>\n",
       "      <td>samsung</td>\n",
       "      <td>40839</td>\n",
       "    </tr>\n",
       "    <tr>\n",
       "      <th>46</th>\n",
       "      <td>huawei</td>\n",
       "      <td>34423</td>\n",
       "    </tr>\n",
       "  </tbody>\n",
       "</table>\n",
       "</div>"
      ],
      "text/plain": [
       "   Manufacturer  Customer_Count\n",
       "4         apple           60137\n",
       "93      samsung           40839\n",
       "46       huawei           34423"
      ]
     },
     "execution_count": 605,
     "metadata": {},
     "output_type": "execute_result"
    }
   ],
   "source": [
    "top3_man"
   ]
  },
  {
   "cell_type": "code",
   "execution_count": 606,
   "metadata": {},
   "outputs": [
    {
     "data": {
      "image/png": "[encoded data removed]",
      "text/plain": [
       "<Figure size 1080x720 with 1 Axes>"
      ]
     },
     "metadata": {
      "needs_background": "light"
     },
     "output_type": "display_data"
    }
   ],
   "source": [
    "plt.subplots(figsize=(15,10))\n",
    "plt.xticks(rotation=40, fontsize=14)\n",
    "plt.yticks(fontsize=14)\n",
    "plt.xlabel('Manufacturer', fontsize=16)\n",
    "plt.ylabel('Cust', fontsize=16)\n",
    "plt.title('TOP 3 HANDSETS  MANUFACTURERS', fontsize=20)\n",
    "sns.barplot(x='Manufacturer', y= 'Customer_Count', data=top3_man, color='b')\n",
    "plt.savefig(fname='visuals/top3Man.png', format='png')\n",
    "plt.show()"
   ]
  },
  {
   "cell_type": "markdown",
   "metadata": {},
   "source": [
    "- Observation\n",
    "\n",
    "> From the above we can deduce the folowing:\n",
    "\n",
    "    1. Smart Phones are the most popularly used phones \n",
    "    \n",
    "    2. Huawei phone specifically brand (_Huawei B528S-23A_) have the largest purchase\n",
    "    \n",
    "    3. Apple phone brands is the most popular (and possibly have the highest market share)"
   ]
  },
  {
   "cell_type": "markdown",
   "metadata": {},
   "source": [
    " "
   ]
  },
  {
   "cell_type": "markdown",
   "metadata": {},
   "source": [
    " "
   ]
  },
  {
   "cell_type": "markdown",
   "metadata": {},
   "source": [
    "> top 5 handsets per handset manufacturer"
   ]
  },
  {
   "cell_type": "code",
   "execution_count": 607,
   "metadata": {},
   "outputs": [],
   "source": [
    "top5Hands_man = data2.groupby(['handset_manufacturer','handset_type'])['handset_type'].count()"
   ]
  },
  {
   "cell_type": "code",
   "execution_count": 608,
   "metadata": {},
   "outputs": [
    {
     "data": {
      "text/plain": [
       "handset_manufacturer                     handset_type                                                                       \n",
       "a-link telecom international co limited  a-link telecom i. cubot a5                                                             1\n",
       "                                         a-link telecom i. cubot note plus                                                      1\n",
       "                                         a-link telecom i. cubot note s                                                         1\n",
       "                                         a-link telecom i. cubot nova                                                           1\n",
       "                                         a-link telecom i. cubot power                                                          1\n",
       "                                                                                                                               ..\n",
       "zte                                      zte starxtrem by sfr                                                                   1\n",
       "                                         zte zte blade c2 smartphone android by sfr startrail 4 zte blade flex t809 zte t809    2\n",
       "zyxel communications corp                zyxel communicat. lte7460                                                              1\n",
       "                                         zyxel communicat. sbg3600                                                              1\n",
       "                                         zyxel communicat. zyxel wah7706                                                        1\n",
       "Name: handset_type, Length: 1397, dtype: int64"
      ]
     },
     "execution_count": 608,
     "metadata": {},
     "output_type": "execute_result"
    }
   ],
   "source": [
    "top5Hands_man"
   ]
  },
  {
   "cell_type": "code",
   "execution_count": 609,
   "metadata": {},
   "outputs": [],
   "source": [
    "top5Hands_man=top5Hands_man.reset_index(name='count')"
   ]
  },
  {
   "cell_type": "code",
   "execution_count": 610,
   "metadata": {},
   "outputs": [
    {
     "data": {
      "text/html": [
       "<div>\n",
       "<style scoped>\n",
       "    .dataframe tbody tr th:only-of-type {\n",
       "        vertical-align: middle;\n",
       "    }\n",
       "\n",
       "    .dataframe tbody tr th {\n",
       "        vertical-align: top;\n",
       "    }\n",
       "\n",
       "    .dataframe thead th {\n",
       "        text-align: right;\n",
       "    }\n",
       "</style>\n",
       "<table border=\"1\" class=\"dataframe\">\n",
       "  <thead>\n",
       "    <tr style=\"text-align: right;\">\n",
       "      <th></th>\n",
       "      <th>handset_manufacturer</th>\n",
       "      <th>handset_type</th>\n",
       "      <th>count</th>\n",
       "    </tr>\n",
       "  </thead>\n",
       "  <tbody>\n",
       "    <tr>\n",
       "      <th>0</th>\n",
       "      <td>a-link telecom international co limited</td>\n",
       "      <td>a-link telecom i. cubot a5</td>\n",
       "      <td>1</td>\n",
       "    </tr>\n",
       "    <tr>\n",
       "      <th>1</th>\n",
       "      <td>a-link telecom international co limited</td>\n",
       "      <td>a-link telecom i. cubot note plus</td>\n",
       "      <td>1</td>\n",
       "    </tr>\n",
       "    <tr>\n",
       "      <th>2</th>\n",
       "      <td>a-link telecom international co limited</td>\n",
       "      <td>a-link telecom i. cubot note s</td>\n",
       "      <td>1</td>\n",
       "    </tr>\n",
       "    <tr>\n",
       "      <th>3</th>\n",
       "      <td>a-link telecom international co limited</td>\n",
       "      <td>a-link telecom i. cubot nova</td>\n",
       "      <td>1</td>\n",
       "    </tr>\n",
       "    <tr>\n",
       "      <th>4</th>\n",
       "      <td>a-link telecom international co limited</td>\n",
       "      <td>a-link telecom i. cubot power</td>\n",
       "      <td>1</td>\n",
       "    </tr>\n",
       "    <tr>\n",
       "      <th>...</th>\n",
       "      <td>...</td>\n",
       "      <td>...</td>\n",
       "      <td>...</td>\n",
       "    </tr>\n",
       "    <tr>\n",
       "      <th>1392</th>\n",
       "      <td>zte</td>\n",
       "      <td>zte starxtrem by sfr</td>\n",
       "      <td>1</td>\n",
       "    </tr>\n",
       "    <tr>\n",
       "      <th>1393</th>\n",
       "      <td>zte</td>\n",
       "      <td>zte zte blade c2 smartphone android by sfr sta...</td>\n",
       "      <td>2</td>\n",
       "    </tr>\n",
       "    <tr>\n",
       "      <th>1394</th>\n",
       "      <td>zyxel communications corp</td>\n",
       "      <td>zyxel communicat. lte7460</td>\n",
       "      <td>1</td>\n",
       "    </tr>\n",
       "    <tr>\n",
       "      <th>1395</th>\n",
       "      <td>zyxel communications corp</td>\n",
       "      <td>zyxel communicat. sbg3600</td>\n",
       "      <td>1</td>\n",
       "    </tr>\n",
       "    <tr>\n",
       "      <th>1396</th>\n",
       "      <td>zyxel communications corp</td>\n",
       "      <td>zyxel communicat. zyxel wah7706</td>\n",
       "      <td>1</td>\n",
       "    </tr>\n",
       "  </tbody>\n",
       "</table>\n",
       "<p>1397 rows × 3 columns</p>\n",
       "</div>"
      ],
      "text/plain": [
       "                         handset_manufacturer  \\\n",
       "0     a-link telecom international co limited   \n",
       "1     a-link telecom international co limited   \n",
       "2     a-link telecom international co limited   \n",
       "3     a-link telecom international co limited   \n",
       "4     a-link telecom international co limited   \n",
       "...                                       ...   \n",
       "1392                                      zte   \n",
       "1393                                      zte   \n",
       "1394                zyxel communications corp   \n",
       "1395                zyxel communications corp   \n",
       "1396                zyxel communications corp   \n",
       "\n",
       "                                           handset_type  count  \n",
       "0                            a-link telecom i. cubot a5      1  \n",
       "1                     a-link telecom i. cubot note plus      1  \n",
       "2                        a-link telecom i. cubot note s      1  \n",
       "3                          a-link telecom i. cubot nova      1  \n",
       "4                         a-link telecom i. cubot power      1  \n",
       "...                                                 ...    ...  \n",
       "1392                               zte starxtrem by sfr      1  \n",
       "1393  zte zte blade c2 smartphone android by sfr sta...      2  \n",
       "1394                          zyxel communicat. lte7460      1  \n",
       "1395                          zyxel communicat. sbg3600      1  \n",
       "1396                    zyxel communicat. zyxel wah7706      1  \n",
       "\n",
       "[1397 rows x 3 columns]"
      ]
     },
     "execution_count": 610,
     "metadata": {},
     "output_type": "execute_result"
    }
   ],
   "source": [
    "top5Hands_man"
   ]
  },
  {
   "cell_type": "code",
   "execution_count": 611,
   "metadata": {},
   "outputs": [],
   "source": [
    "top5Hands_man = top5Hands_man.sort_values(['handset_manufacturer', 'count'], ascending=False)"
   ]
  },
  {
   "cell_type": "code",
   "execution_count": 612,
   "metadata": {},
   "outputs": [],
   "source": [
    "top5Hands_man=top5Hands_man.groupby('handset_manufacturer').head(5)"
   ]
  },
  {
   "cell_type": "code",
   "execution_count": 613,
   "metadata": {},
   "outputs": [],
   "source": [
    "top5Hands_man = top5Hands_man.rename(columns={'handset_manufacturer':'Manufacturer', 'handset_type':'Handset'})"
   ]
  },
  {
   "cell_type": "code",
   "execution_count": 614,
   "metadata": {},
   "outputs": [
    {
     "data": {
      "text/html": [
       "<div>\n",
       "<style scoped>\n",
       "    .dataframe tbody tr th:only-of-type {\n",
       "        vertical-align: middle;\n",
       "    }\n",
       "\n",
       "    .dataframe tbody tr th {\n",
       "        vertical-align: top;\n",
       "    }\n",
       "\n",
       "    .dataframe thead th {\n",
       "        text-align: right;\n",
       "    }\n",
       "</style>\n",
       "<table border=\"1\" class=\"dataframe\">\n",
       "  <thead>\n",
       "    <tr style=\"text-align: right;\">\n",
       "      <th></th>\n",
       "      <th>Manufacturer</th>\n",
       "      <th>Handset</th>\n",
       "      <th>count</th>\n",
       "    </tr>\n",
       "  </thead>\n",
       "  <tbody>\n",
       "    <tr>\n",
       "      <th>1394</th>\n",
       "      <td>zyxel communications corp</td>\n",
       "      <td>zyxel communicat. lte7460</td>\n",
       "      <td>1</td>\n",
       "    </tr>\n",
       "    <tr>\n",
       "      <th>1395</th>\n",
       "      <td>zyxel communications corp</td>\n",
       "      <td>zyxel communicat. sbg3600</td>\n",
       "      <td>1</td>\n",
       "    </tr>\n",
       "    <tr>\n",
       "      <th>1396</th>\n",
       "      <td>zyxel communications corp</td>\n",
       "      <td>zyxel communicat. zyxel wah7706</td>\n",
       "      <td>1</td>\n",
       "    </tr>\n",
       "    <tr>\n",
       "      <th>1389</th>\n",
       "      <td>zte</td>\n",
       "      <td>zte mf259</td>\n",
       "      <td>170</td>\n",
       "    </tr>\n",
       "    <tr>\n",
       "      <th>1391</th>\n",
       "      <td>zte</td>\n",
       "      <td>zte racer iii mini zte switch x1 bouygues tele...</td>\n",
       "      <td>5</td>\n",
       "    </tr>\n",
       "    <tr>\n",
       "      <th>...</th>\n",
       "      <td>...</td>\n",
       "      <td>...</td>\n",
       "      <td>...</td>\n",
       "    </tr>\n",
       "    <tr>\n",
       "      <th>6</th>\n",
       "      <td>a-link telecom international co limited</td>\n",
       "      <td>a-link telecom i. cubot x18 plus</td>\n",
       "      <td>2</td>\n",
       "    </tr>\n",
       "    <tr>\n",
       "      <th>0</th>\n",
       "      <td>a-link telecom international co limited</td>\n",
       "      <td>a-link telecom i. cubot a5</td>\n",
       "      <td>1</td>\n",
       "    </tr>\n",
       "    <tr>\n",
       "      <th>1</th>\n",
       "      <td>a-link telecom international co limited</td>\n",
       "      <td>a-link telecom i. cubot note plus</td>\n",
       "      <td>1</td>\n",
       "    </tr>\n",
       "    <tr>\n",
       "      <th>2</th>\n",
       "      <td>a-link telecom international co limited</td>\n",
       "      <td>a-link telecom i. cubot note s</td>\n",
       "      <td>1</td>\n",
       "    </tr>\n",
       "    <tr>\n",
       "      <th>3</th>\n",
       "      <td>a-link telecom international co limited</td>\n",
       "      <td>a-link telecom i. cubot nova</td>\n",
       "      <td>1</td>\n",
       "    </tr>\n",
       "  </tbody>\n",
       "</table>\n",
       "<p>385 rows × 3 columns</p>\n",
       "</div>"
      ],
      "text/plain": [
       "                                 Manufacturer  \\\n",
       "1394                zyxel communications corp   \n",
       "1395                zyxel communications corp   \n",
       "1396                zyxel communications corp   \n",
       "1389                                      zte   \n",
       "1391                                      zte   \n",
       "...                                       ...   \n",
       "6     a-link telecom international co limited   \n",
       "0     a-link telecom international co limited   \n",
       "1     a-link telecom international co limited   \n",
       "2     a-link telecom international co limited   \n",
       "3     a-link telecom international co limited   \n",
       "\n",
       "                                                Handset  count  \n",
       "1394                          zyxel communicat. lte7460      1  \n",
       "1395                          zyxel communicat. sbg3600      1  \n",
       "1396                    zyxel communicat. zyxel wah7706      1  \n",
       "1389                                          zte mf259    170  \n",
       "1391  zte racer iii mini zte switch x1 bouygues tele...      5  \n",
       "...                                                 ...    ...  \n",
       "6                      a-link telecom i. cubot x18 plus      2  \n",
       "0                            a-link telecom i. cubot a5      1  \n",
       "1                     a-link telecom i. cubot note plus      1  \n",
       "2                        a-link telecom i. cubot note s      1  \n",
       "3                          a-link telecom i. cubot nova      1  \n",
       "\n",
       "[385 rows x 3 columns]"
      ]
     },
     "execution_count": 614,
     "metadata": {},
     "output_type": "execute_result"
    }
   ],
   "source": [
    "top5Hands_man"
   ]
  },
  {
   "cell_type": "code",
   "execution_count": 615,
   "metadata": {},
   "outputs": [
    {
     "data": {
      "text/plain": [
       "38.5"
      ]
     },
     "execution_count": 615,
     "metadata": {},
     "output_type": "execute_result"
    }
   ],
   "source": [
    "top5Hands_man.shape[0]/10"
   ]
  },
  {
   "cell_type": "code",
   "execution_count": 616,
   "metadata": {},
   "outputs": [
    {
     "data": {
      "text/html": [
       "<div>\n",
       "<style scoped>\n",
       "    .dataframe tbody tr th:only-of-type {\n",
       "        vertical-align: middle;\n",
       "    }\n",
       "\n",
       "    .dataframe tbody tr th {\n",
       "        vertical-align: top;\n",
       "    }\n",
       "\n",
       "    .dataframe thead th {\n",
       "        text-align: right;\n",
       "    }\n",
       "</style>\n",
       "<table border=\"1\" class=\"dataframe\">\n",
       "  <thead>\n",
       "    <tr style=\"text-align: right;\">\n",
       "      <th></th>\n",
       "      <th>Manufacturer</th>\n",
       "      <th>Handset</th>\n",
       "      <th>count</th>\n",
       "    </tr>\n",
       "  </thead>\n",
       "  <tbody>\n",
       "    <tr>\n",
       "      <th>1394</th>\n",
       "      <td>zyxel communications corp</td>\n",
       "      <td>zyxel communicat. lte7460</td>\n",
       "      <td>1</td>\n",
       "    </tr>\n",
       "    <tr>\n",
       "      <th>1395</th>\n",
       "      <td>zyxel communications corp</td>\n",
       "      <td>zyxel communicat. sbg3600</td>\n",
       "      <td>1</td>\n",
       "    </tr>\n",
       "    <tr>\n",
       "      <th>1396</th>\n",
       "      <td>zyxel communications corp</td>\n",
       "      <td>zyxel communicat. zyxel wah7706</td>\n",
       "      <td>1</td>\n",
       "    </tr>\n",
       "    <tr>\n",
       "      <th>1389</th>\n",
       "      <td>zte</td>\n",
       "      <td>zte mf259</td>\n",
       "      <td>170</td>\n",
       "    </tr>\n",
       "    <tr>\n",
       "      <th>1391</th>\n",
       "      <td>zte</td>\n",
       "      <td>zte racer iii mini zte switch x1 bouygues tele...</td>\n",
       "      <td>5</td>\n",
       "    </tr>\n",
       "    <tr>\n",
       "      <th>1385</th>\n",
       "      <td>zte</td>\n",
       "      <td>zte blade v7 lite blade v6 plus zte blitz</td>\n",
       "      <td>3</td>\n",
       "    </tr>\n",
       "    <tr>\n",
       "      <th>1377</th>\n",
       "      <td>zte</td>\n",
       "      <td>zte a2016</td>\n",
       "      <td>2</td>\n",
       "    </tr>\n",
       "    <tr>\n",
       "      <th>1393</th>\n",
       "      <td>zte</td>\n",
       "      <td>zte zte blade c2 smartphone android by sfr sta...</td>\n",
       "      <td>2</td>\n",
       "    </tr>\n",
       "    <tr>\n",
       "      <th>1376</th>\n",
       "      <td>zebra technologies corp.</td>\n",
       "      <td>zebra technologi. symbol tc55bh</td>\n",
       "      <td>8</td>\n",
       "    </tr>\n",
       "    <tr>\n",
       "      <th>1374</th>\n",
       "      <td>zebra technologies corp.</td>\n",
       "      <td>zebra technologi. mc659b</td>\n",
       "      <td>4</td>\n",
       "    </tr>\n",
       "    <tr>\n",
       "      <th>1373</th>\n",
       "      <td>zebra technologies corp.</td>\n",
       "      <td>zebra technologi. mc5574</td>\n",
       "      <td>1</td>\n",
       "    </tr>\n",
       "    <tr>\n",
       "      <th>1375</th>\n",
       "      <td>zebra technologies corp.</td>\n",
       "      <td>zebra technologi. mc67na</td>\n",
       "      <td>1</td>\n",
       "    </tr>\n",
       "    <tr>\n",
       "      <th>1371</th>\n",
       "      <td>yota devices</td>\n",
       "      <td>yota devices yota y3</td>\n",
       "      <td>1</td>\n",
       "    </tr>\n",
       "    <tr>\n",
       "      <th>1372</th>\n",
       "      <td>yota devices</td>\n",
       "      <td>yota devices yotaphone2</td>\n",
       "      <td>1</td>\n",
       "    </tr>\n",
       "    <tr>\n",
       "      <th>1370</th>\n",
       "      <td>yop technology co limited</td>\n",
       "      <td>yop technology c. maze alpha</td>\n",
       "      <td>1</td>\n",
       "    </tr>\n",
       "    <tr>\n",
       "      <th>1369</th>\n",
       "      <td>yi sheng technology international (hk) co limited</td>\n",
       "      <td>yi sheng technol. gretel a7</td>\n",
       "      <td>1</td>\n",
       "    </tr>\n",
       "    <tr>\n",
       "      <th>1363</th>\n",
       "      <td>xiaomi communications co ltd</td>\n",
       "      <td>xiaomi communica. redmi note5</td>\n",
       "      <td>140</td>\n",
       "    </tr>\n",
       "    <tr>\n",
       "      <th>1343</th>\n",
       "      <td>xiaomi communications co ltd</td>\n",
       "      <td>xiaomi communica. mi a2</td>\n",
       "      <td>18</td>\n",
       "    </tr>\n",
       "    <tr>\n",
       "      <th>1341</th>\n",
       "      <td>xiaomi communications co ltd</td>\n",
       "      <td>xiaomi communica. mi 8</td>\n",
       "      <td>17</td>\n",
       "    </tr>\n",
       "    <tr>\n",
       "      <th>1349</th>\n",
       "      <td>xiaomi communications co ltd</td>\n",
       "      <td>xiaomi communica. pocophone f1</td>\n",
       "      <td>17</td>\n",
       "    </tr>\n",
       "    <tr>\n",
       "      <th>1353</th>\n",
       "      <td>xiaomi communications co ltd</td>\n",
       "      <td>xiaomi communica. redmi 4x</td>\n",
       "      <td>17</td>\n",
       "    </tr>\n",
       "    <tr>\n",
       "      <th>1319</th>\n",
       "      <td>wistron</td>\n",
       "      <td>wistron m18qw</td>\n",
       "      <td>2</td>\n",
       "    </tr>\n",
       "    <tr>\n",
       "      <th>1320</th>\n",
       "      <td>wistron</td>\n",
       "      <td>wistron wnc d18qx</td>\n",
       "      <td>2</td>\n",
       "    </tr>\n",
       "    <tr>\n",
       "      <th>1318</th>\n",
       "      <td>wileyfox europe limited</td>\n",
       "      <td>wileyfox europe. wileyfox swift 2</td>\n",
       "      <td>2</td>\n",
       "    </tr>\n",
       "    <tr>\n",
       "      <th>1317</th>\n",
       "      <td>wileyfox europe limited</td>\n",
       "      <td>wileyfox europe. wileyfox spark</td>\n",
       "      <td>1</td>\n",
       "    </tr>\n",
       "    <tr>\n",
       "      <th>1263</th>\n",
       "      <td>wiko global sasu</td>\n",
       "      <td>wiko global sasu sunny3</td>\n",
       "      <td>76</td>\n",
       "    </tr>\n",
       "    <tr>\n",
       "      <th>1287</th>\n",
       "      <td>wiko global sasu</td>\n",
       "      <td>wiko global sasu wiko lenny3</td>\n",
       "      <td>56</td>\n",
       "    </tr>\n",
       "    <tr>\n",
       "      <th>1286</th>\n",
       "      <td>wiko global sasu</td>\n",
       "      <td>wiko global sasu wiko lenny2</td>\n",
       "      <td>48</td>\n",
       "    </tr>\n",
       "    <tr>\n",
       "      <th>1295</th>\n",
       "      <td>wiko global sasu</td>\n",
       "      <td>wiko global sasu wiko rainbow lite 4g</td>\n",
       "      <td>44</td>\n",
       "    </tr>\n",
       "    <tr>\n",
       "      <th>1299</th>\n",
       "      <td>wiko global sasu</td>\n",
       "      <td>wiko global sasu wiko sunny</td>\n",
       "      <td>34</td>\n",
       "    </tr>\n",
       "    <tr>\n",
       "      <th>1256</th>\n",
       "      <td>wiko</td>\n",
       "      <td>wiko jerry3</td>\n",
       "      <td>18</td>\n",
       "    </tr>\n",
       "    <tr>\n",
       "      <th>1255</th>\n",
       "      <td>wct</td>\n",
       "      <td>wct uno</td>\n",
       "      <td>1</td>\n",
       "    </tr>\n",
       "    <tr>\n",
       "      <th>1254</th>\n",
       "      <td>vplus communication technology co limited</td>\n",
       "      <td>vplus communicat. vplus v5001</td>\n",
       "      <td>3</td>\n",
       "    </tr>\n",
       "    <tr>\n",
       "      <th>1250</th>\n",
       "      <td>vivo mobile communication co ltd</td>\n",
       "      <td>vivo mobile comm. vivo v7+</td>\n",
       "      <td>1</td>\n",
       "    </tr>\n",
       "    <tr>\n",
       "      <th>1251</th>\n",
       "      <td>vivo mobile communication co ltd</td>\n",
       "      <td>vivo mobile comm. vivo vivo 1718</td>\n",
       "      <td>1</td>\n",
       "    </tr>\n",
       "    <tr>\n",
       "      <th>1252</th>\n",
       "      <td>vivo mobile communication co ltd</td>\n",
       "      <td>vivo mobile comm. vivo vivo x21a</td>\n",
       "      <td>1</td>\n",
       "    </tr>\n",
       "    <tr>\n",
       "      <th>1253</th>\n",
       "      <td>vivo mobile communication co ltd</td>\n",
       "      <td>vivo mobile comm. vivo vivo x7plus</td>\n",
       "      <td>1</td>\n",
       "    </tr>\n",
       "    <tr>\n",
       "      <th>1249</th>\n",
       "      <td>vastking technology (hk) limited</td>\n",
       "      <td>vastking technol. vastking m750</td>\n",
       "      <td>1</td>\n",
       "    </tr>\n",
       "    <tr>\n",
       "      <th>1248</th>\n",
       "      <td>undefined</td>\n",
       "      <td>undefined</td>\n",
       "      <td>8987</td>\n",
       "    </tr>\n",
       "    <tr>\n",
       "      <th>1246</th>\n",
       "      <td>umi network technology co limited</td>\n",
       "      <td>umi network tech. umidigi z1 pro</td>\n",
       "      <td>2</td>\n",
       "    </tr>\n",
       "  </tbody>\n",
       "</table>\n",
       "</div>"
      ],
      "text/plain": [
       "                                           Manufacturer  \\\n",
       "1394                          zyxel communications corp   \n",
       "1395                          zyxel communications corp   \n",
       "1396                          zyxel communications corp   \n",
       "1389                                                zte   \n",
       "1391                                                zte   \n",
       "1385                                                zte   \n",
       "1377                                                zte   \n",
       "1393                                                zte   \n",
       "1376                           zebra technologies corp.   \n",
       "1374                           zebra technologies corp.   \n",
       "1373                           zebra technologies corp.   \n",
       "1375                           zebra technologies corp.   \n",
       "1371                                       yota devices   \n",
       "1372                                       yota devices   \n",
       "1370                          yop technology co limited   \n",
       "1369  yi sheng technology international (hk) co limited   \n",
       "1363                       xiaomi communications co ltd   \n",
       "1343                       xiaomi communications co ltd   \n",
       "1341                       xiaomi communications co ltd   \n",
       "1349                       xiaomi communications co ltd   \n",
       "1353                       xiaomi communications co ltd   \n",
       "1319                                            wistron   \n",
       "1320                                            wistron   \n",
       "1318                            wileyfox europe limited   \n",
       "1317                            wileyfox europe limited   \n",
       "1263                                   wiko global sasu   \n",
       "1287                                   wiko global sasu   \n",
       "1286                                   wiko global sasu   \n",
       "1295                                   wiko global sasu   \n",
       "1299                                   wiko global sasu   \n",
       "1256                                               wiko   \n",
       "1255                                                wct   \n",
       "1254          vplus communication technology co limited   \n",
       "1250                   vivo mobile communication co ltd   \n",
       "1251                   vivo mobile communication co ltd   \n",
       "1252                   vivo mobile communication co ltd   \n",
       "1253                   vivo mobile communication co ltd   \n",
       "1249                   vastking technology (hk) limited   \n",
       "1248                                          undefined   \n",
       "1246                  umi network technology co limited   \n",
       "\n",
       "                                                Handset  count  \n",
       "1394                          zyxel communicat. lte7460      1  \n",
       "1395                          zyxel communicat. sbg3600      1  \n",
       "1396                    zyxel communicat. zyxel wah7706      1  \n",
       "1389                                          zte mf259    170  \n",
       "1391  zte racer iii mini zte switch x1 bouygues tele...      5  \n",
       "1385          zte blade v7 lite blade v6 plus zte blitz      3  \n",
       "1377                                          zte a2016      2  \n",
       "1393  zte zte blade c2 smartphone android by sfr sta...      2  \n",
       "1376                    zebra technologi. symbol tc55bh      8  \n",
       "1374                           zebra technologi. mc659b      4  \n",
       "1373                           zebra technologi. mc5574      1  \n",
       "1375                           zebra technologi. mc67na      1  \n",
       "1371                               yota devices yota y3      1  \n",
       "1372                            yota devices yotaphone2      1  \n",
       "1370                       yop technology c. maze alpha      1  \n",
       "1369                        yi sheng technol. gretel a7      1  \n",
       "1363                      xiaomi communica. redmi note5    140  \n",
       "1343                            xiaomi communica. mi a2     18  \n",
       "1341                             xiaomi communica. mi 8     17  \n",
       "1349                     xiaomi communica. pocophone f1     17  \n",
       "1353                         xiaomi communica. redmi 4x     17  \n",
       "1319                                      wistron m18qw      2  \n",
       "1320                                  wistron wnc d18qx      2  \n",
       "1318                  wileyfox europe. wileyfox swift 2      2  \n",
       "1317                    wileyfox europe. wileyfox spark      1  \n",
       "1263                            wiko global sasu sunny3     76  \n",
       "1287                       wiko global sasu wiko lenny3     56  \n",
       "1286                       wiko global sasu wiko lenny2     48  \n",
       "1295              wiko global sasu wiko rainbow lite 4g     44  \n",
       "1299                        wiko global sasu wiko sunny     34  \n",
       "1256                                        wiko jerry3     18  \n",
       "1255                                            wct uno      1  \n",
       "1254                      vplus communicat. vplus v5001      3  \n",
       "1250                         vivo mobile comm. vivo v7+      1  \n",
       "1251                   vivo mobile comm. vivo vivo 1718      1  \n",
       "1252                   vivo mobile comm. vivo vivo x21a      1  \n",
       "1253                 vivo mobile comm. vivo vivo x7plus      1  \n",
       "1249                    vastking technol. vastking m750      1  \n",
       "1248                                          undefined   8987  \n",
       "1246                   umi network tech. umidigi z1 pro      2  "
      ]
     },
     "execution_count": 616,
     "metadata": {},
     "output_type": "execute_result"
    }
   ],
   "source": [
    "top5Hands_man.iloc[0:40,0:3]"
   ]
  },
  {
   "cell_type": "code",
   "execution_count": 617,
   "metadata": {},
   "outputs": [
    {
     "data": {
      "image/png": "[encoded data removed]",
      "text/plain": [
       "<Figure size 1663.22x576 with 1 Axes>"
      ]
     },
     "metadata": {},
     "output_type": "display_data"
    }
   ],
   "source": [
    "sns.set(style=\"whitegrid\")\n",
    "plot = sns.catplot(x='Manufacturer', y='count',hue = 'Handset',  data=top5Hands_man.iloc[0:40,0:3],\n",
    "           aspect=2, kind='bar', height=8), #palette=[\"#001C7F\", \"#B1400D\", '#12711C'])\n",
    "\n",
    "plt.title('Top 5 Cereals rich in Carbohydrates', fontsize=20)\n",
    "plt.xticks(rotation=30, fontsize=18)\n",
    "plt.xlabel('Name of Cereal', fontsize=15)\n",
    "plt.ylabel('Gram Size', fontsize=15)\n",
    "# plot.despine(left=True)\n",
    "plt.savefig(fname='visuals/top5Hands_man.png', format='png')\n",
    "plt.show()"
   ]
  },
  {
   "cell_type": "markdown",
   "metadata": {},
   "source": [
    "- Observation\n",
    "\n",
    "> From the above we can deduce the folowing:\n",
    "\n",
    "    1. Smart Phones are the most popularly used phones \n",
    "    \n",
    "    2. Huawei phone specifically brand (_Huawei B528S-23A_) have the largest purchase\n",
    "    \n",
    "    3. Apple phone brands is the most popular (and possibly have the highest market share)"
   ]
  },
  {
   "cell_type": "code",
   "execution_count": null,
   "metadata": {},
   "outputs": [],
   "source": []
  },
  {
   "cell_type": "code",
   "execution_count": null,
   "metadata": {},
   "outputs": [],
   "source": []
  },
  {
   "cell_type": "code",
   "execution_count": null,
   "metadata": {},
   "outputs": [],
   "source": []
  },
  {
   "cell_type": "code",
   "execution_count": null,
   "metadata": {},
   "outputs": [],
   "source": []
  },
  {
   "cell_type": "code",
   "execution_count": null,
   "metadata": {},
   "outputs": [],
   "source": []
  },
  {
   "cell_type": "code",
   "execution_count": null,
   "metadata": {},
   "outputs": [],
   "source": []
  },
  {
   "cell_type": "markdown",
   "metadata": {},
   "source": [
    " "
   ]
  },
  {
   "cell_type": "markdown",
   "metadata": {},
   "source": [
    " "
   ]
  },
  {
   "cell_type": "markdown",
   "metadata": {},
   "source": [
    "<a id=\"r2\"></a>\n",
    "\n",
    "#### Research Question 2\n",
    "\n",
    "- User Behaviour in xDR sessions\n",
    " \n",
    "     - What inisghts can be gooten from user behaviour accross the xDR sessions (Data Channel)"
   ]
  },
  {
   "cell_type": "markdown",
   "metadata": {},
   "source": [
    " "
   ]
  },
  {
   "cell_type": "markdown",
   "metadata": {},
   "source": [
    "#### In answering the question above, we would focus on the following user aggreagations"
   ]
  },
  {
   "cell_type": "markdown",
   "metadata": {},
   "source": [
    "aggregate per user the following information in the column:\n",
    "\n",
    "   1. number of xDR sessions\n",
    "    \n",
    "   2. session duration\n",
    "    \n",
    "   3. the total download (DL) and upload (UL) data\n",
    "    \n",
    "   4. the total data volume (in Bytes) during this session for each application"
   ]
  },
  {
   "cell_type": "markdown",
   "metadata": {},
   "source": [
    " "
   ]
  },
  {
   "cell_type": "markdown",
   "metadata": {},
   "source": [
    "1. number of XDR sessions  per user"
   ]
  },
  {
   "cell_type": "code",
   "execution_count": 618,
   "metadata": {},
   "outputs": [
    {
     "data": {
      "text/plain": [
       "                        991\n",
       "13042425979269199872     16\n",
       "13042425965944199168     10\n",
       "13042425974582800384      9\n",
       "13042425978774599680      9\n",
       "                       ... \n",
       "7277825667259140096       1\n",
       "7349883251202240512       1\n",
       "13042425971694100480      1\n",
       "7349883251747399680       1\n",
       "13114483550170300416      1\n",
       "Name: bearer_id, Length: 134709, dtype: int64"
      ]
     },
     "execution_count": 618,
     "metadata": {},
     "output_type": "execute_result"
    }
   ],
   "source": [
    "data2.bearer_id.value_counts()"
   ]
  },
  {
   "cell_type": "markdown",
   "metadata": {},
   "source": [
    "> There are empty rows in our columns, let's confirm this"
   ]
  },
  {
   "cell_type": "code",
   "execution_count": 619,
   "metadata": {},
   "outputs": [
    {
     "data": {
      "text/plain": [
       "True"
      ]
     },
     "execution_count": 619,
     "metadata": {},
     "output_type": "execute_result"
    }
   ],
   "source": [
    "\"\" in data2.bearer_id.unique().tolist()"
   ]
  },
  {
   "cell_type": "markdown",
   "metadata": {},
   "source": [
    "> This might affect our reporting, so let's drop them"
   ]
  },
  {
   "cell_type": "code",
   "execution_count": 620,
   "metadata": {},
   "outputs": [],
   "source": [
    "bearers = data.query('bearer_id == \"\" ')"
   ]
  },
  {
   "cell_type": "code",
   "execution_count": 621,
   "metadata": {},
   "outputs": [],
   "source": [
    "true_bearers = data.drop(bearers.index, axis=0) "
   ]
  },
  {
   "cell_type": "markdown",
   "metadata": {},
   "source": [
    "> Test"
   ]
  },
  {
   "cell_type": "code",
   "execution_count": 622,
   "metadata": {},
   "outputs": [
    {
     "data": {
      "text/plain": [
       "False"
      ]
     },
     "execution_count": 622,
     "metadata": {},
     "output_type": "execute_result"
    }
   ],
   "source": [
    "\"\" in true_bearers.bearer_id.unique().tolist()"
   ]
  },
  {
   "cell_type": "code",
   "execution_count": 623,
   "metadata": {},
   "outputs": [],
   "source": [
    "all_xDR_sessions = true_bearers.groupby('bearer_id')['bearer_id'].count().reset_index(name='count').sort_values(by='count', ascending=False)"
   ]
  },
  {
   "cell_type": "code",
   "execution_count": 624,
   "metadata": {},
   "outputs": [
    {
     "data": {
      "text/html": [
       "<div>\n",
       "<style scoped>\n",
       "    .dataframe tbody tr th:only-of-type {\n",
       "        vertical-align: middle;\n",
       "    }\n",
       "\n",
       "    .dataframe tbody tr th {\n",
       "        vertical-align: top;\n",
       "    }\n",
       "\n",
       "    .dataframe thead th {\n",
       "        text-align: right;\n",
       "    }\n",
       "</style>\n",
       "<table border=\"1\" class=\"dataframe\">\n",
       "  <thead>\n",
       "    <tr style=\"text-align: right;\">\n",
       "      <th></th>\n",
       "      <th>bearer_id</th>\n",
       "      <th>count</th>\n",
       "    </tr>\n",
       "  </thead>\n",
       "  <tbody>\n",
       "    <tr>\n",
       "      <th>29837</th>\n",
       "      <td>13042425979269199872</td>\n",
       "      <td>16</td>\n",
       "    </tr>\n",
       "    <tr>\n",
       "      <th>14584</th>\n",
       "      <td>13042425965944199168</td>\n",
       "      <td>10</td>\n",
       "    </tr>\n",
       "    <tr>\n",
       "      <th>28047</th>\n",
       "      <td>13042425978774599680</td>\n",
       "      <td>9</td>\n",
       "    </tr>\n",
       "    <tr>\n",
       "      <th>20367</th>\n",
       "      <td>13042425972278300672</td>\n",
       "      <td>9</td>\n",
       "    </tr>\n",
       "    <tr>\n",
       "      <th>30195</th>\n",
       "      <td>13042425981873399808</td>\n",
       "      <td>9</td>\n",
       "    </tr>\n",
       "    <tr>\n",
       "      <th>...</th>\n",
       "      <td>...</td>\n",
       "      <td>...</td>\n",
       "    </tr>\n",
       "    <tr>\n",
       "      <th>50114</th>\n",
       "      <td>13114483565776900096</td>\n",
       "      <td>1</td>\n",
       "    </tr>\n",
       "    <tr>\n",
       "      <th>50113</th>\n",
       "      <td>13114483565775900672</td>\n",
       "      <td>1</td>\n",
       "    </tr>\n",
       "    <tr>\n",
       "      <th>50112</th>\n",
       "      <td>13114483565775499264</td>\n",
       "      <td>1</td>\n",
       "    </tr>\n",
       "    <tr>\n",
       "      <th>50111</th>\n",
       "      <td>13114483565775400960</td>\n",
       "      <td>1</td>\n",
       "    </tr>\n",
       "    <tr>\n",
       "      <th>134707</th>\n",
       "      <td>7566056041073649664</td>\n",
       "      <td>1</td>\n",
       "    </tr>\n",
       "  </tbody>\n",
       "</table>\n",
       "<p>134708 rows × 2 columns</p>\n",
       "</div>"
      ],
      "text/plain": [
       "                   bearer_id  count\n",
       "29837   13042425979269199872     16\n",
       "14584   13042425965944199168     10\n",
       "28047   13042425978774599680      9\n",
       "20367   13042425972278300672      9\n",
       "30195   13042425981873399808      9\n",
       "...                      ...    ...\n",
       "50114   13114483565776900096      1\n",
       "50113   13114483565775900672      1\n",
       "50112   13114483565775499264      1\n",
       "50111   13114483565775400960      1\n",
       "134707   7566056041073649664      1\n",
       "\n",
       "[134708 rows x 2 columns]"
      ]
     },
     "execution_count": 624,
     "metadata": {},
     "output_type": "execute_result"
    }
   ],
   "source": [
    "all_xDR_sessions"
   ]
  },
  {
   "cell_type": "markdown",
   "metadata": {},
   "source": [
    "Non graphical univariate analysis"
   ]
  },
  {
   "cell_type": "code",
   "execution_count": 625,
   "metadata": {},
   "outputs": [],
   "source": [
    "xDR_stats = all_xDR_sessions.describe().reset_index()"
   ]
  },
  {
   "cell_type": "code",
   "execution_count": 626,
   "metadata": {},
   "outputs": [
    {
     "data": {
      "text/html": [
       "<div>\n",
       "<style scoped>\n",
       "    .dataframe tbody tr th:only-of-type {\n",
       "        vertical-align: middle;\n",
       "    }\n",
       "\n",
       "    .dataframe tbody tr th {\n",
       "        vertical-align: top;\n",
       "    }\n",
       "\n",
       "    .dataframe thead th {\n",
       "        text-align: right;\n",
       "    }\n",
       "</style>\n",
       "<table border=\"1\" class=\"dataframe\">\n",
       "  <thead>\n",
       "    <tr style=\"text-align: right;\">\n",
       "      <th></th>\n",
       "      <th>index</th>\n",
       "      <th>count</th>\n",
       "    </tr>\n",
       "  </thead>\n",
       "  <tbody>\n",
       "    <tr>\n",
       "      <th>0</th>\n",
       "      <td>count</td>\n",
       "      <td>134708.000000</td>\n",
       "    </tr>\n",
       "    <tr>\n",
       "      <th>1</th>\n",
       "      <td>mean</td>\n",
       "      <td>1.106170</td>\n",
       "    </tr>\n",
       "    <tr>\n",
       "      <th>2</th>\n",
       "      <td>std</td>\n",
       "      <td>0.385199</td>\n",
       "    </tr>\n",
       "    <tr>\n",
       "      <th>3</th>\n",
       "      <td>min</td>\n",
       "      <td>1.000000</td>\n",
       "    </tr>\n",
       "    <tr>\n",
       "      <th>4</th>\n",
       "      <td>25%</td>\n",
       "      <td>1.000000</td>\n",
       "    </tr>\n",
       "    <tr>\n",
       "      <th>5</th>\n",
       "      <td>50%</td>\n",
       "      <td>1.000000</td>\n",
       "    </tr>\n",
       "    <tr>\n",
       "      <th>6</th>\n",
       "      <td>75%</td>\n",
       "      <td>1.000000</td>\n",
       "    </tr>\n",
       "    <tr>\n",
       "      <th>7</th>\n",
       "      <td>max</td>\n",
       "      <td>16.000000</td>\n",
       "    </tr>\n",
       "  </tbody>\n",
       "</table>\n",
       "</div>"
      ],
      "text/plain": [
       "   index          count\n",
       "0  count  134708.000000\n",
       "1   mean       1.106170\n",
       "2    std       0.385199\n",
       "3    min       1.000000\n",
       "4    25%       1.000000\n",
       "5    50%       1.000000\n",
       "6    75%       1.000000\n",
       "7    max      16.000000"
      ]
     },
     "execution_count": 626,
     "metadata": {},
     "output_type": "execute_result"
    }
   ],
   "source": [
    "xDR_stats"
   ]
  },
  {
   "cell_type": "code",
   "execution_count": 627,
   "metadata": {},
   "outputs": [],
   "source": [
    "xDR_stats.rename(columns={'index':'xDR_statistics', 'count':'value'}, inplace=True)"
   ]
  },
  {
   "cell_type": "code",
   "execution_count": 628,
   "metadata": {},
   "outputs": [
    {
     "data": {
      "text/html": [
       "<div>\n",
       "<style scoped>\n",
       "    .dataframe tbody tr th:only-of-type {\n",
       "        vertical-align: middle;\n",
       "    }\n",
       "\n",
       "    .dataframe tbody tr th {\n",
       "        vertical-align: top;\n",
       "    }\n",
       "\n",
       "    .dataframe thead th {\n",
       "        text-align: right;\n",
       "    }\n",
       "</style>\n",
       "<table border=\"1\" class=\"dataframe\">\n",
       "  <thead>\n",
       "    <tr style=\"text-align: right;\">\n",
       "      <th></th>\n",
       "      <th>xDR_statistics</th>\n",
       "      <th>value</th>\n",
       "    </tr>\n",
       "  </thead>\n",
       "  <tbody>\n",
       "    <tr>\n",
       "      <th>0</th>\n",
       "      <td>count</td>\n",
       "      <td>134708.000000</td>\n",
       "    </tr>\n",
       "    <tr>\n",
       "      <th>1</th>\n",
       "      <td>mean</td>\n",
       "      <td>1.106170</td>\n",
       "    </tr>\n",
       "    <tr>\n",
       "      <th>2</th>\n",
       "      <td>std</td>\n",
       "      <td>0.385199</td>\n",
       "    </tr>\n",
       "    <tr>\n",
       "      <th>3</th>\n",
       "      <td>min</td>\n",
       "      <td>1.000000</td>\n",
       "    </tr>\n",
       "    <tr>\n",
       "      <th>4</th>\n",
       "      <td>25%</td>\n",
       "      <td>1.000000</td>\n",
       "    </tr>\n",
       "    <tr>\n",
       "      <th>5</th>\n",
       "      <td>50%</td>\n",
       "      <td>1.000000</td>\n",
       "    </tr>\n",
       "    <tr>\n",
       "      <th>6</th>\n",
       "      <td>75%</td>\n",
       "      <td>1.000000</td>\n",
       "    </tr>\n",
       "    <tr>\n",
       "      <th>7</th>\n",
       "      <td>max</td>\n",
       "      <td>16.000000</td>\n",
       "    </tr>\n",
       "  </tbody>\n",
       "</table>\n",
       "</div>"
      ],
      "text/plain": [
       "  xDR_statistics          value\n",
       "0          count  134708.000000\n",
       "1           mean       1.106170\n",
       "2            std       0.385199\n",
       "3            min       1.000000\n",
       "4            25%       1.000000\n",
       "5            50%       1.000000\n",
       "6            75%       1.000000\n",
       "7            max      16.000000"
      ]
     },
     "execution_count": 628,
     "metadata": {},
     "output_type": "execute_result"
    }
   ],
   "source": [
    "xDR_stats"
   ]
  },
  {
   "cell_type": "markdown",
   "metadata": {},
   "source": [
    "#### Interpretation"
   ]
  },
  {
   "cell_type": "markdown",
   "metadata": {},
   "source": [
    "- From the above statistics table, we have `134708` unique users - this signifies the proportion of Tellco Market Share in the telecommunications industry"
   ]
  },
  {
   "cell_type": "markdown",
   "metadata": {},
   "source": [
    "- The mean of `1` signifies the average number of Data Sessions by most user is 1"
   ]
  },
  {
   "cell_type": "markdown",
   "metadata": {},
   "source": [
    "- The minimum number of seesions by users is `1` while the maximum number of seesion is `16`"
   ]
  },
  {
   "cell_type": "markdown",
   "metadata": {},
   "source": [
    "- A value of `1` across the first 3 quartiles, tells us that most of Tellco users have one data session on thier platform"
   ]
  },
  {
   "cell_type": "markdown",
   "metadata": {},
   "source": [
    " "
   ]
  },
  {
   "cell_type": "markdown",
   "metadata": {},
   "source": [
    "Graphical Univariate Analysis"
   ]
  },
  {
   "cell_type": "markdown",
   "metadata": {},
   "source": [
    "histrogam distribution"
   ]
  },
  {
   "cell_type": "code",
   "execution_count": 629,
   "metadata": {},
   "outputs": [],
   "source": [
    "# from scipy.stats import norm\n",
    "# bins = pd.qcut(all_xDR_sessions['count'], q=[0,.25, .50, .75], duplicates='drop')\n",
    "# bins"
   ]
  },
  {
   "cell_type": "code",
   "execution_count": 630,
   "metadata": {},
   "outputs": [
    {
     "data": {
      "text/plain": [
       "<matplotlib.axes._subplots.AxesSubplot at 0x7fd1af594e80>"
      ]
     },
     "execution_count": 630,
     "metadata": {},
     "output_type": "execute_result"
    },
    {
     "data": {
      "image/png": "[encoded data removed]",
      "text/plain": [
       "<Figure size 1152x720 with 1 Axes>"
      ]
     },
     "metadata": {},
     "output_type": "display_data"
    }
   ],
   "source": [
    "plt.subplots(figsize=(16, 10))\n",
    "sns.distplot(xDR_stats.value, hist=True)"
   ]
  },
  {
   "cell_type": "markdown",
   "metadata": {},
   "source": [
    "> The plot above doesn't seem weel scaled, let's try to normalize it with the z-score"
   ]
  },
  {
   "cell_type": "markdown",
   "metadata": {},
   "source": [
    "<!-- Graphical Analysis -->"
   ]
  },
  {
   "cell_type": "code",
   "execution_count": 631,
   "metadata": {},
   "outputs": [],
   "source": [
    "# cols = list(numeric_data.columns)\n",
    "# outliers = pd.DataFrame()\n",
    "# #now iterate over the remaining columns and create a new zscore column\n",
    "# for col in cols:\n",
    "#     col_zscore = col + '_zscore'\n",
    "xDR_stats_z = (xDR_stats.value - xDR_stats.value.mean())/xDR_stats.value.std(ddof=0)"
   ]
  },
  {
   "cell_type": "code",
   "execution_count": 632,
   "metadata": {},
   "outputs": [
    {
     "data": {
      "text/plain": [
       "<matplotlib.axes._subplots.AxesSubplot at 0x7fd1bb54c780>"
      ]
     },
     "execution_count": 632,
     "metadata": {},
     "output_type": "execute_result"
    },
    {
     "data": {
      "image/png": "[encoded data removed]",
      "text/plain": [
       "<Figure size 1152x720 with 1 Axes>"
      ]
     },
     "metadata": {},
     "output_type": "display_data"
    }
   ],
   "source": [
    "plt.subplots(figsize=(16, 10))\n",
    "sns.distplot((xDR_stats_z), hist=True)"
   ]
  },
  {
   "cell_type": "markdown",
   "metadata": {},
   "source": [
    "> Let's try using numpy log funciton to transform "
   ]
  },
  {
   "cell_type": "code",
   "execution_count": 633,
   "metadata": {},
   "outputs": [],
   "source": [
    "xDR_stats_log = np.log(xDR_stats.value)"
   ]
  },
  {
   "cell_type": "code",
   "execution_count": 634,
   "metadata": {},
   "outputs": [
    {
     "data": {
      "image/png": "[encoded data removed]",
      "text/plain": [
       "<Figure size 1152x720 with 1 Axes>"
      ]
     },
     "metadata": {},
     "output_type": "display_data"
    }
   ],
   "source": [
    "plt.subplots(figsize=(16, 10))\n",
    "sns.distplot((xDR_stats_log), hist=True)\n",
    "plt.title('Data Sessions Distribution  (log)', fontsize=20)\n",
    "plt.xlabel('Data Sessions', fontsize=15)\n",
    "plt.savefig('visuals/xDRdist.png', format='png')\n",
    "plt.show()"
   ]
  },
  {
   "cell_type": "markdown",
   "metadata": {},
   "source": [
    "Visuallizing, the barplot might be quite too busy on the chart.\n",
    "\n",
    "Hence we would use visualize the top 10 xDR sessions"
   ]
  },
  {
   "cell_type": "code",
   "execution_count": 635,
   "metadata": {},
   "outputs": [],
   "source": [
    "top_xDr = xDR_sessions.head(10)"
   ]
  },
  {
   "cell_type": "code",
   "execution_count": 636,
   "metadata": {},
   "outputs": [
    {
     "data": {
      "image/png": "[encoded data removed]",
      "text/plain": [
       "<Figure size 1080x720 with 1 Axes>"
      ]
     },
     "metadata": {},
     "output_type": "display_data"
    }
   ],
   "source": [
    "plt.subplots(figsize=(15, 10))\n",
    "plt.xticks(rotation=35)\n",
    "plt.xlabel('bearer id', fontsize=15)\n",
    "plt.ylabel('xDR Sessions',fontsize=15)\n",
    "plt.title('Top 10 Data Session Users', fontsize=20)\n",
    "sns.barplot(x='bearer_id', y='count', data=top_xDr, color='m')\n",
    "plt.savefig('visuals/topxDRusers.png', format='png')\n",
    "plt.show()"
   ]
  },
  {
   "cell_type": "markdown",
   "metadata": {},
   "source": [
    "#### Observations\n",
    "> From the above, we can deduce the that most of the top data users, use data sessions within the range of 8-10"
   ]
  },
  {
   "cell_type": "markdown",
   "metadata": {},
   "source": [
    "2. session duration"
   ]
  },
  {
   "cell_type": "code",
   "execution_count": 637,
   "metadata": {},
   "outputs": [],
   "source": [
    "session_duration = true_bearers.groupby('bearer_id')['dur___ms__1'].sum().reset_index(name='time_spent').sort_values(by='time_spent', ascending=False)\n",
    "# true_bearers['dur___ms__1']"
   ]
  },
  {
   "cell_type": "code",
   "execution_count": 638,
   "metadata": {},
   "outputs": [
    {
     "data": {
      "text/html": [
       "<div>\n",
       "<style scoped>\n",
       "    .dataframe tbody tr th:only-of-type {\n",
       "        vertical-align: middle;\n",
       "    }\n",
       "\n",
       "    .dataframe tbody tr th {\n",
       "        vertical-align: top;\n",
       "    }\n",
       "\n",
       "    .dataframe thead th {\n",
       "        text-align: right;\n",
       "    }\n",
       "</style>\n",
       "<table border=\"1\" class=\"dataframe\">\n",
       "  <thead>\n",
       "    <tr style=\"text-align: right;\">\n",
       "      <th></th>\n",
       "      <th>bearer_id</th>\n",
       "      <th>time_spent</th>\n",
       "    </tr>\n",
       "  </thead>\n",
       "  <tbody>\n",
       "    <tr>\n",
       "      <th>46452</th>\n",
       "      <td>13114483561758900224</td>\n",
       "      <td>5.659737e+09</td>\n",
       "    </tr>\n",
       "    <tr>\n",
       "      <th>20128</th>\n",
       "      <td>13042425972205000704</td>\n",
       "      <td>4.838430e+09</td>\n",
       "    </tr>\n",
       "    <tr>\n",
       "      <th>29039</th>\n",
       "      <td>13042425978965499904</td>\n",
       "      <td>3.990249e+09</td>\n",
       "    </tr>\n",
       "    <tr>\n",
       "      <th>26249</th>\n",
       "      <td>13042425975793299456</td>\n",
       "      <td>3.667448e+09</td>\n",
       "    </tr>\n",
       "    <tr>\n",
       "      <th>30195</th>\n",
       "      <td>13042425981873399808</td>\n",
       "      <td>2.863472e+09</td>\n",
       "    </tr>\n",
       "    <tr>\n",
       "      <th>...</th>\n",
       "      <td>...</td>\n",
       "      <td>...</td>\n",
       "    </tr>\n",
       "    <tr>\n",
       "      <th>74848</th>\n",
       "      <td>7277825656116110336</td>\n",
       "      <td>7.284802e+06</td>\n",
       "    </tr>\n",
       "    <tr>\n",
       "      <th>62268</th>\n",
       "      <td>6917537685489510400</td>\n",
       "      <td>7.267018e+06</td>\n",
       "    </tr>\n",
       "    <tr>\n",
       "      <th>61210</th>\n",
       "      <td>6917537673690099712</td>\n",
       "      <td>7.258080e+06</td>\n",
       "    </tr>\n",
       "    <tr>\n",
       "      <th>61198</th>\n",
       "      <td>6917537669513839616</td>\n",
       "      <td>7.146574e+06</td>\n",
       "    </tr>\n",
       "    <tr>\n",
       "      <th>8890</th>\n",
       "      <td>13042425959676700672</td>\n",
       "      <td>7.142988e+06</td>\n",
       "    </tr>\n",
       "  </tbody>\n",
       "</table>\n",
       "<p>134708 rows × 2 columns</p>\n",
       "</div>"
      ],
      "text/plain": [
       "                  bearer_id    time_spent\n",
       "46452  13114483561758900224  5.659737e+09\n",
       "20128  13042425972205000704  4.838430e+09\n",
       "29039  13042425978965499904  3.990249e+09\n",
       "26249  13042425975793299456  3.667448e+09\n",
       "30195  13042425981873399808  2.863472e+09\n",
       "...                     ...           ...\n",
       "74848   7277825656116110336  7.284802e+06\n",
       "62268   6917537685489510400  7.267018e+06\n",
       "61210   6917537673690099712  7.258080e+06\n",
       "61198   6917537669513839616  7.146574e+06\n",
       "8890   13042425959676700672  7.142988e+06\n",
       "\n",
       "[134708 rows x 2 columns]"
      ]
     },
     "execution_count": 638,
     "metadata": {},
     "output_type": "execute_result"
    }
   ],
   "source": [
    "session_duration"
   ]
  },
  {
   "cell_type": "markdown",
   "metadata": {},
   "source": [
    "> To get an accurate description, we have to convert the vlaue in milliseconds to hours"
   ]
  },
  {
   "cell_type": "code",
   "execution_count": 639,
   "metadata": {},
   "outputs": [],
   "source": [
    "session_duration['time_spent']=session_duration['time_spent'].apply(lambda x: x/(1000*60*60)%24)"
   ]
  },
  {
   "cell_type": "code",
   "execution_count": 640,
   "metadata": {},
   "outputs": [],
   "source": [
    "session_duration.rename(columns={'time_spent':'hours_spent'}, inplace=True)"
   ]
  },
  {
   "cell_type": "code",
   "execution_count": 641,
   "metadata": {},
   "outputs": [
    {
     "data": {
      "text/html": [
       "<div>\n",
       "<style scoped>\n",
       "    .dataframe tbody tr th:only-of-type {\n",
       "        vertical-align: middle;\n",
       "    }\n",
       "\n",
       "    .dataframe tbody tr th {\n",
       "        vertical-align: top;\n",
       "    }\n",
       "\n",
       "    .dataframe thead th {\n",
       "        text-align: right;\n",
       "    }\n",
       "</style>\n",
       "<table border=\"1\" class=\"dataframe\">\n",
       "  <thead>\n",
       "    <tr style=\"text-align: right;\">\n",
       "      <th></th>\n",
       "      <th>bearer_id</th>\n",
       "      <th>hours_spent</th>\n",
       "    </tr>\n",
       "  </thead>\n",
       "  <tbody>\n",
       "    <tr>\n",
       "      <th>46452</th>\n",
       "      <td>13114483561758900224</td>\n",
       "      <td>12.149104</td>\n",
       "    </tr>\n",
       "    <tr>\n",
       "      <th>20128</th>\n",
       "      <td>13042425972205000704</td>\n",
       "      <td>0.008350</td>\n",
       "    </tr>\n",
       "    <tr>\n",
       "      <th>29039</th>\n",
       "      <td>13042425978965499904</td>\n",
       "      <td>4.402587</td>\n",
       "    </tr>\n",
       "    <tr>\n",
       "      <th>26249</th>\n",
       "      <td>13042425975793299456</td>\n",
       "      <td>10.735547</td>\n",
       "    </tr>\n",
       "    <tr>\n",
       "      <th>30195</th>\n",
       "      <td>13042425981873399808</td>\n",
       "      <td>3.408767</td>\n",
       "    </tr>\n",
       "    <tr>\n",
       "      <th>...</th>\n",
       "      <td>...</td>\n",
       "      <td>...</td>\n",
       "    </tr>\n",
       "    <tr>\n",
       "      <th>74848</th>\n",
       "      <td>7277825656116110336</td>\n",
       "      <td>2.023556</td>\n",
       "    </tr>\n",
       "    <tr>\n",
       "      <th>62268</th>\n",
       "      <td>6917537685489510400</td>\n",
       "      <td>2.018616</td>\n",
       "    </tr>\n",
       "    <tr>\n",
       "      <th>61210</th>\n",
       "      <td>6917537673690099712</td>\n",
       "      <td>2.016133</td>\n",
       "    </tr>\n",
       "    <tr>\n",
       "      <th>61198</th>\n",
       "      <td>6917537669513839616</td>\n",
       "      <td>1.985159</td>\n",
       "    </tr>\n",
       "    <tr>\n",
       "      <th>8890</th>\n",
       "      <td>13042425959676700672</td>\n",
       "      <td>1.984163</td>\n",
       "    </tr>\n",
       "  </tbody>\n",
       "</table>\n",
       "<p>134708 rows × 2 columns</p>\n",
       "</div>"
      ],
      "text/plain": [
       "                  bearer_id  hours_spent\n",
       "46452  13114483561758900224    12.149104\n",
       "20128  13042425972205000704     0.008350\n",
       "29039  13042425978965499904     4.402587\n",
       "26249  13042425975793299456    10.735547\n",
       "30195  13042425981873399808     3.408767\n",
       "...                     ...          ...\n",
       "74848   7277825656116110336     2.023556\n",
       "62268   6917537685489510400     2.018616\n",
       "61210   6917537673690099712     2.016133\n",
       "61198   6917537669513839616     1.985159\n",
       "8890   13042425959676700672     1.984163\n",
       "\n",
       "[134708 rows x 2 columns]"
      ]
     },
     "execution_count": 641,
     "metadata": {},
     "output_type": "execute_result"
    }
   ],
   "source": [
    "session_duration"
   ]
  },
  {
   "cell_type": "markdown",
   "metadata": {},
   "source": [
    "Non Graphical Univariate Analysis"
   ]
  },
  {
   "cell_type": "code",
   "execution_count": 642,
   "metadata": {},
   "outputs": [],
   "source": [
    "sess_dur_stats = session_duration.describe().reset_index()"
   ]
  },
  {
   "cell_type": "code",
   "execution_count": 643,
   "metadata": {},
   "outputs": [],
   "source": [
    "sess_dur_stats.rename(columns={'index':'session_duration_stats', 'time_spent':'value'}, inplace=True)"
   ]
  },
  {
   "cell_type": "code",
   "execution_count": 644,
   "metadata": {},
   "outputs": [
    {
     "data": {
      "text/html": [
       "<div>\n",
       "<style scoped>\n",
       "    .dataframe tbody tr th:only-of-type {\n",
       "        vertical-align: middle;\n",
       "    }\n",
       "\n",
       "    .dataframe tbody tr th {\n",
       "        vertical-align: top;\n",
       "    }\n",
       "\n",
       "    .dataframe thead th {\n",
       "        text-align: right;\n",
       "    }\n",
       "</style>\n",
       "<table border=\"1\" class=\"dataframe\">\n",
       "  <thead>\n",
       "    <tr style=\"text-align: right;\">\n",
       "      <th></th>\n",
       "      <th>session_duration_stats</th>\n",
       "      <th>hours_spent</th>\n",
       "    </tr>\n",
       "  </thead>\n",
       "  <tbody>\n",
       "    <tr>\n",
       "      <th>0</th>\n",
       "      <td>count</td>\n",
       "      <td>134708.000000</td>\n",
       "    </tr>\n",
       "    <tr>\n",
       "      <th>1</th>\n",
       "      <td>mean</td>\n",
       "      <td>12.901180</td>\n",
       "    </tr>\n",
       "    <tr>\n",
       "      <th>2</th>\n",
       "      <td>std</td>\n",
       "      <td>8.117882</td>\n",
       "    </tr>\n",
       "    <tr>\n",
       "      <th>3</th>\n",
       "      <td>min</td>\n",
       "      <td>0.000000</td>\n",
       "    </tr>\n",
       "    <tr>\n",
       "      <th>4</th>\n",
       "      <td>25%</td>\n",
       "      <td>5.698989</td>\n",
       "    </tr>\n",
       "    <tr>\n",
       "      <th>5</th>\n",
       "      <td>50%</td>\n",
       "      <td>12.650733</td>\n",
       "    </tr>\n",
       "    <tr>\n",
       "      <th>6</th>\n",
       "      <td>75%</td>\n",
       "      <td>21.095601</td>\n",
       "    </tr>\n",
       "    <tr>\n",
       "      <th>7</th>\n",
       "      <td>max</td>\n",
       "      <td>24.000000</td>\n",
       "    </tr>\n",
       "  </tbody>\n",
       "</table>\n",
       "</div>"
      ],
      "text/plain": [
       "  session_duration_stats    hours_spent\n",
       "0                  count  134708.000000\n",
       "1                   mean      12.901180\n",
       "2                    std       8.117882\n",
       "3                    min       0.000000\n",
       "4                    25%       5.698989\n",
       "5                    50%      12.650733\n",
       "6                    75%      21.095601\n",
       "7                    max      24.000000"
      ]
     },
     "execution_count": 644,
     "metadata": {},
     "output_type": "execute_result"
    }
   ],
   "source": [
    "sess_dur_stats"
   ]
  },
  {
   "cell_type": "markdown",
   "metadata": {},
   "source": [
    "> I will add sum of the hours to the stats table"
   ]
  },
  {
   "cell_type": "code",
   "execution_count": 645,
   "metadata": {},
   "outputs": [],
   "source": [
    "sum_hours = pd.Series({'sum':session_duration.hours_spent.sum()}).reset_index(name='hours_spent')"
   ]
  },
  {
   "cell_type": "code",
   "execution_count": 646,
   "metadata": {},
   "outputs": [],
   "source": [
    "sum_hours=sum_hours.rename(columns={'index':'session_duration_stats'})"
   ]
  },
  {
   "cell_type": "code",
   "execution_count": 647,
   "metadata": {},
   "outputs": [
    {
     "data": {
      "text/html": [
       "<div>\n",
       "<style scoped>\n",
       "    .dataframe tbody tr th:only-of-type {\n",
       "        vertical-align: middle;\n",
       "    }\n",
       "\n",
       "    .dataframe tbody tr th {\n",
       "        vertical-align: top;\n",
       "    }\n",
       "\n",
       "    .dataframe thead th {\n",
       "        text-align: right;\n",
       "    }\n",
       "</style>\n",
       "<table border=\"1\" class=\"dataframe\">\n",
       "  <thead>\n",
       "    <tr style=\"text-align: right;\">\n",
       "      <th></th>\n",
       "      <th>session_duration_stats</th>\n",
       "      <th>hours_spent</th>\n",
       "    </tr>\n",
       "  </thead>\n",
       "  <tbody>\n",
       "    <tr>\n",
       "      <th>0</th>\n",
       "      <td>sum</td>\n",
       "      <td>1.737892e+06</td>\n",
       "    </tr>\n",
       "  </tbody>\n",
       "</table>\n",
       "</div>"
      ],
      "text/plain": [
       "  session_duration_stats   hours_spent\n",
       "0                    sum  1.737892e+06"
      ]
     },
     "execution_count": 647,
     "metadata": {},
     "output_type": "execute_result"
    }
   ],
   "source": [
    "sum_hours"
   ]
  },
  {
   "cell_type": "code",
   "execution_count": 648,
   "metadata": {},
   "outputs": [],
   "source": [
    "sess_dur_stats=sess_dur_stats.append(sum_hours)"
   ]
  },
  {
   "cell_type": "code",
   "execution_count": 649,
   "metadata": {},
   "outputs": [
    {
     "data": {
      "text/html": [
       "<div>\n",
       "<style scoped>\n",
       "    .dataframe tbody tr th:only-of-type {\n",
       "        vertical-align: middle;\n",
       "    }\n",
       "\n",
       "    .dataframe tbody tr th {\n",
       "        vertical-align: top;\n",
       "    }\n",
       "\n",
       "    .dataframe thead th {\n",
       "        text-align: right;\n",
       "    }\n",
       "</style>\n",
       "<table border=\"1\" class=\"dataframe\">\n",
       "  <thead>\n",
       "    <tr style=\"text-align: right;\">\n",
       "      <th></th>\n",
       "      <th>session_duration_stats</th>\n",
       "      <th>hours_spent</th>\n",
       "    </tr>\n",
       "  </thead>\n",
       "  <tbody>\n",
       "    <tr>\n",
       "      <th>0</th>\n",
       "      <td>count</td>\n",
       "      <td>1.347080e+05</td>\n",
       "    </tr>\n",
       "    <tr>\n",
       "      <th>1</th>\n",
       "      <td>mean</td>\n",
       "      <td>1.290118e+01</td>\n",
       "    </tr>\n",
       "    <tr>\n",
       "      <th>2</th>\n",
       "      <td>std</td>\n",
       "      <td>8.117882e+00</td>\n",
       "    </tr>\n",
       "    <tr>\n",
       "      <th>3</th>\n",
       "      <td>min</td>\n",
       "      <td>0.000000e+00</td>\n",
       "    </tr>\n",
       "    <tr>\n",
       "      <th>4</th>\n",
       "      <td>25%</td>\n",
       "      <td>5.698989e+00</td>\n",
       "    </tr>\n",
       "    <tr>\n",
       "      <th>5</th>\n",
       "      <td>50%</td>\n",
       "      <td>1.265073e+01</td>\n",
       "    </tr>\n",
       "    <tr>\n",
       "      <th>6</th>\n",
       "      <td>75%</td>\n",
       "      <td>2.109560e+01</td>\n",
       "    </tr>\n",
       "    <tr>\n",
       "      <th>7</th>\n",
       "      <td>max</td>\n",
       "      <td>2.400000e+01</td>\n",
       "    </tr>\n",
       "    <tr>\n",
       "      <th>0</th>\n",
       "      <td>sum</td>\n",
       "      <td>1.737892e+06</td>\n",
       "    </tr>\n",
       "  </tbody>\n",
       "</table>\n",
       "</div>"
      ],
      "text/plain": [
       "  session_duration_stats   hours_spent\n",
       "0                  count  1.347080e+05\n",
       "1                   mean  1.290118e+01\n",
       "2                    std  8.117882e+00\n",
       "3                    min  0.000000e+00\n",
       "4                    25%  5.698989e+00\n",
       "5                    50%  1.265073e+01\n",
       "6                    75%  2.109560e+01\n",
       "7                    max  2.400000e+01\n",
       "0                    sum  1.737892e+06"
      ]
     },
     "execution_count": 649,
     "metadata": {},
     "output_type": "execute_result"
    }
   ],
   "source": [
    "sess_dur_stats"
   ]
  },
  {
   "cell_type": "markdown",
   "metadata": {},
   "source": [
    "####  Interpretation"
   ]
  },
  {
   "cell_type": "markdown",
   "metadata": {},
   "source": [
    "> Total hours spent by all users in the data sessions is `1,737,892 hrs`"
   ]
  },
  {
   "cell_type": "markdown",
   "metadata": {},
   "source": [
    "> Average hours spent by a user in the data seesion is `12.90118`, appx `13 hrs`"
   ]
  },
  {
   "cell_type": "markdown",
   "metadata": {},
   "source": [
    "> The minimum number of hours spent by each user is `0 hours`.\n",
    "\n",
    ">  This means there are users who have never subscribed to Tellco data before"
   ]
  },
  {
   "cell_type": "markdown",
   "metadata": {},
   "source": [
    "> The maximum number of hours spent by each user is `0 hours`. \n",
    "\n",
    "> This means there are users who have never subscribed to Tellco data before"
   ]
  },
  {
   "cell_type": "markdown",
   "metadata": {},
   "source": [
    "> Half of the users spends `12.6 hrs` on data "
   ]
  },
  {
   "cell_type": "markdown",
   "metadata": {},
   "source": [
    " "
   ]
  },
  {
   "cell_type": "markdown",
   "metadata": {},
   "source": [
    "Graphical Univariate Analysis"
   ]
  },
  {
   "cell_type": "markdown",
   "metadata": {},
   "source": [
    "lets plot the distributuion of hours spent on data"
   ]
  },
  {
   "cell_type": "code",
   "execution_count": 650,
   "metadata": {},
   "outputs": [
    {
     "data": {
      "image/png": "[encoded data removed]",
      "text/plain": [
       "<Figure size 1152x720 with 1 Axes>"
      ]
     },
     "metadata": {},
     "output_type": "display_data"
    }
   ],
   "source": [
    "plt.subplots(figsize=(16, 10))\n",
    "sns.distplot((session_duration['hours_spent']), hist=True)\n",
    "plt.title('Session Duration (hours)', fontsize=20)\n",
    "plt.xlabel('Data Sessions', fontsize=15)\n",
    "plt.savefig('visuals/seesion_durationDist.png', format='png')\n",
    "plt.show()"
   ]
  },
  {
   "cell_type": "markdown",
   "metadata": {},
   "source": [
    "> We face the same issue of a non-normally ditributed data"
   ]
  },
  {
   "cell_type": "markdown",
   "metadata": {},
   "source": [
    "#### Interpration\n",
    "\n",
    "> generally the data is not normally distributed"
   ]
  },
  {
   "cell_type": "markdown",
   "metadata": {},
   "source": [
    " "
   ]
  },
  {
   "cell_type": "markdown",
   "metadata": {},
   "source": [
    " "
   ]
  },
  {
   "cell_type": "markdown",
   "metadata": {},
   "source": [
    "3. the total download (DL) and upload (UL) data"
   ]
  },
  {
   "cell_type": "code",
   "execution_count": 651,
   "metadata": {},
   "outputs": [
    {
     "data": {
      "text/html": [
       "<div>\n",
       "<style scoped>\n",
       "    .dataframe tbody tr th:only-of-type {\n",
       "        vertical-align: middle;\n",
       "    }\n",
       "\n",
       "    .dataframe tbody tr th {\n",
       "        vertical-align: top;\n",
       "    }\n",
       "\n",
       "    .dataframe thead th {\n",
       "        text-align: right;\n",
       "    }\n",
       "</style>\n",
       "<table border=\"1\" class=\"dataframe\">\n",
       "  <thead>\n",
       "    <tr style=\"text-align: right;\">\n",
       "      <th></th>\n",
       "      <th>bearer_id</th>\n",
       "      <th>dur___ms__1</th>\n",
       "      <th>http_dl__bytes_</th>\n",
       "      <th>http_ul__bytes_</th>\n",
       "      <th>activity_duration_dl__ms_</th>\n",
       "      <th>activity_duration_ul__ms_</th>\n",
       "      <th>handset_manufacturer</th>\n",
       "      <th>handset_type</th>\n",
       "      <th>social_media_dl__bytes_</th>\n",
       "      <th>social_media_ul__bytes_</th>\n",
       "      <th>...</th>\n",
       "      <th>youtube_dl__bytes_</th>\n",
       "      <th>youtube_ul__bytes_</th>\n",
       "      <th>netflix_dl__bytes_</th>\n",
       "      <th>netflix_ul__bytes_</th>\n",
       "      <th>gaming_dl__bytes_</th>\n",
       "      <th>gaming_ul__bytes_</th>\n",
       "      <th>other_dl__bytes_</th>\n",
       "      <th>other_ul__bytes_</th>\n",
       "      <th>total_ul__bytes_</th>\n",
       "      <th>total_dl__bytes_</th>\n",
       "    </tr>\n",
       "  </thead>\n",
       "  <tbody>\n",
       "    <tr>\n",
       "      <th>0</th>\n",
       "      <td>13114483460844900352</td>\n",
       "      <td>1.823653e+09</td>\n",
       "      <td>1.144710e+08</td>\n",
       "      <td>3.242301e+06</td>\n",
       "      <td>3.762400e+04</td>\n",
       "      <td>3.878700e+04</td>\n",
       "      <td>samsung</td>\n",
       "      <td>samsung galaxy a5 sm-a520f</td>\n",
       "      <td>1.545765e+06</td>\n",
       "      <td>24420.00000</td>\n",
       "      <td>...</td>\n",
       "      <td>1.585461e+07</td>\n",
       "      <td>2.501332e+06</td>\n",
       "      <td>8.198936e+06</td>\n",
       "      <td>9.656251e+06</td>\n",
       "      <td>2.780823e+08</td>\n",
       "      <td>1.434415e+07</td>\n",
       "      <td>1.717444e+08</td>\n",
       "      <td>8.814393e+06</td>\n",
       "      <td>3.674974e+07</td>\n",
       "      <td>3.088796e+08</td>\n",
       "    </tr>\n",
       "    <tr>\n",
       "      <th>1</th>\n",
       "      <td>13114483482878900224</td>\n",
       "      <td>1.365104e+09</td>\n",
       "      <td>1.144710e+08</td>\n",
       "      <td>3.242301e+06</td>\n",
       "      <td>1.680000e+02</td>\n",
       "      <td>3.560000e+03</td>\n",
       "      <td>samsung</td>\n",
       "      <td>samsung galaxy j5 (sm-j530)</td>\n",
       "      <td>1.926113e+06</td>\n",
       "      <td>7165.00000</td>\n",
       "      <td>...</td>\n",
       "      <td>2.024740e+07</td>\n",
       "      <td>1.911173e+07</td>\n",
       "      <td>1.833841e+07</td>\n",
       "      <td>1.722713e+07</td>\n",
       "      <td>6.087501e+08</td>\n",
       "      <td>1.170709e+06</td>\n",
       "      <td>5.269042e+08</td>\n",
       "      <td>1.505514e+07</td>\n",
       "      <td>5.380039e+07</td>\n",
       "      <td>6.533850e+08</td>\n",
       "    </tr>\n",
       "    <tr>\n",
       "      <th>2</th>\n",
       "      <td>13114483484080500736</td>\n",
       "      <td>1.361763e+09</td>\n",
       "      <td>1.144710e+08</td>\n",
       "      <td>3.242301e+06</td>\n",
       "      <td>0.000000e+00</td>\n",
       "      <td>0.000000e+00</td>\n",
       "      <td>samsung</td>\n",
       "      <td>samsung galaxy a8 (2018)</td>\n",
       "      <td>1.684053e+06</td>\n",
       "      <td>42224.00000</td>\n",
       "      <td>...</td>\n",
       "      <td>1.972566e+07</td>\n",
       "      <td>1.469958e+07</td>\n",
       "      <td>1.758779e+07</td>\n",
       "      <td>6.163408e+06</td>\n",
       "      <td>2.295846e+08</td>\n",
       "      <td>3.956300e+05</td>\n",
       "      <td>4.106926e+08</td>\n",
       "      <td>4.215763e+06</td>\n",
       "      <td>2.788364e+07</td>\n",
       "      <td>2.798073e+08</td>\n",
       "    </tr>\n",
       "    <tr>\n",
       "      <th>3</th>\n",
       "      <td>13114483485442799616</td>\n",
       "      <td>1.321510e+09</td>\n",
       "      <td>1.144710e+08</td>\n",
       "      <td>3.242301e+06</td>\n",
       "      <td>3.330000e+03</td>\n",
       "      <td>3.788200e+04</td>\n",
       "      <td>undefined</td>\n",
       "      <td>undefined</td>\n",
       "      <td>6.441210e+05</td>\n",
       "      <td>13372.00000</td>\n",
       "      <td>...</td>\n",
       "      <td>2.138812e+07</td>\n",
       "      <td>1.514664e+07</td>\n",
       "      <td>1.399465e+07</td>\n",
       "      <td>1.097942e+06</td>\n",
       "      <td>7.995382e+08</td>\n",
       "      <td>1.084972e+07</td>\n",
       "      <td>7.490399e+08</td>\n",
       "      <td>1.279728e+07</td>\n",
       "      <td>4.332422e+07</td>\n",
       "      <td>8.460285e+08</td>\n",
       "    </tr>\n",
       "    <tr>\n",
       "      <th>4</th>\n",
       "      <td>13114483499480700928</td>\n",
       "      <td>1.089009e+09</td>\n",
       "      <td>1.144710e+08</td>\n",
       "      <td>3.242301e+06</td>\n",
       "      <td>0.000000e+00</td>\n",
       "      <td>0.000000e+00</td>\n",
       "      <td>samsung</td>\n",
       "      <td>samsung sm-g390f</td>\n",
       "      <td>8.626000e+05</td>\n",
       "      <td>50188.00000</td>\n",
       "      <td>...</td>\n",
       "      <td>1.525938e+07</td>\n",
       "      <td>1.896287e+07</td>\n",
       "      <td>1.712458e+07</td>\n",
       "      <td>4.152180e+05</td>\n",
       "      <td>5.277072e+08</td>\n",
       "      <td>3.529801e+06</td>\n",
       "      <td>5.507095e+08</td>\n",
       "      <td>1.391032e+07</td>\n",
       "      <td>3.854281e+07</td>\n",
       "      <td>5.691386e+08</td>\n",
       "    </tr>\n",
       "    <tr>\n",
       "      <th>...</th>\n",
       "      <td>...</td>\n",
       "      <td>...</td>\n",
       "      <td>...</td>\n",
       "      <td>...</td>\n",
       "      <td>...</td>\n",
       "      <td>...</td>\n",
       "      <td>...</td>\n",
       "      <td>...</td>\n",
       "      <td>...</td>\n",
       "      <td>...</td>\n",
       "      <td>...</td>\n",
       "      <td>...</td>\n",
       "      <td>...</td>\n",
       "      <td>...</td>\n",
       "      <td>...</td>\n",
       "      <td>...</td>\n",
       "      <td>...</td>\n",
       "      <td>...</td>\n",
       "      <td>...</td>\n",
       "      <td>...</td>\n",
       "      <td>...</td>\n",
       "    </tr>\n",
       "    <tr>\n",
       "      <th>149996</th>\n",
       "      <td>7277825670196679680</td>\n",
       "      <td>8.123076e+07</td>\n",
       "      <td>1.144710e+08</td>\n",
       "      <td>3.242301e+06</td>\n",
       "      <td>4.237600e+04</td>\n",
       "      <td>4.191500e+04</td>\n",
       "      <td>apple</td>\n",
       "      <td>apple iphone 8 plus (a1897)</td>\n",
       "      <td>3.464974e+06</td>\n",
       "      <td>52091.00000</td>\n",
       "      <td>...</td>\n",
       "      <td>1.619167e+07</td>\n",
       "      <td>1.176343e+07</td>\n",
       "      <td>1.788370e+07</td>\n",
       "      <td>1.967816e+07</td>\n",
       "      <td>5.266097e+08</td>\n",
       "      <td>9.197207e+06</td>\n",
       "      <td>3.264510e+06</td>\n",
       "      <td>1.348742e+07</td>\n",
       "      <td>5.762885e+07</td>\n",
       "      <td>5.741753e+08</td>\n",
       "    </tr>\n",
       "    <tr>\n",
       "      <th>149997</th>\n",
       "      <td>7349883264234609664</td>\n",
       "      <td>9.797070e+07</td>\n",
       "      <td>1.144710e+08</td>\n",
       "      <td>3.242301e+06</td>\n",
       "      <td>1.726400e+04</td>\n",
       "      <td>1.675900e+04</td>\n",
       "      <td>apple</td>\n",
       "      <td>apple iphone se (a1723)</td>\n",
       "      <td>2.344568e+06</td>\n",
       "      <td>7613.00000</td>\n",
       "      <td>...</td>\n",
       "      <td>1.387723e+07</td>\n",
       "      <td>8.288284e+06</td>\n",
       "      <td>1.935015e+07</td>\n",
       "      <td>2.129315e+07</td>\n",
       "      <td>6.268931e+08</td>\n",
       "      <td>4.735033e+06</td>\n",
       "      <td>7.121804e+08</td>\n",
       "      <td>2.457758e+06</td>\n",
       "      <td>3.913508e+07</td>\n",
       "      <td>6.666488e+08</td>\n",
       "    </tr>\n",
       "    <tr>\n",
       "      <th>149998</th>\n",
       "      <td>13114483573367300096</td>\n",
       "      <td>9.824953e+07</td>\n",
       "      <td>1.144710e+08</td>\n",
       "      <td>3.242301e+06</td>\n",
       "      <td>2.500300e+04</td>\n",
       "      <td>2.864000e+04</td>\n",
       "      <td>apple</td>\n",
       "      <td>apple iphone xs (a2097)</td>\n",
       "      <td>1.245845e+06</td>\n",
       "      <td>14394.00000</td>\n",
       "      <td>...</td>\n",
       "      <td>2.266051e+07</td>\n",
       "      <td>1.855903e+06</td>\n",
       "      <td>9.963942e+06</td>\n",
       "      <td>5.065760e+06</td>\n",
       "      <td>5.535395e+08</td>\n",
       "      <td>1.339432e+07</td>\n",
       "      <td>1.211009e+08</td>\n",
       "      <td>1.131473e+07</td>\n",
       "      <td>3.491222e+07</td>\n",
       "      <td>5.927864e+08</td>\n",
       "    </tr>\n",
       "    <tr>\n",
       "      <th>149999</th>\n",
       "      <td>13114483573367300096</td>\n",
       "      <td>9.791063e+07</td>\n",
       "      <td>1.144710e+08</td>\n",
       "      <td>3.242301e+06</td>\n",
       "      <td>1.340500e+04</td>\n",
       "      <td>3.408800e+04</td>\n",
       "      <td>huawei</td>\n",
       "      <td>huawei fig-lx1</td>\n",
       "      <td>8.015470e+05</td>\n",
       "      <td>21562.00000</td>\n",
       "      <td>...</td>\n",
       "      <td>8.817106e+06</td>\n",
       "      <td>8.305402e+06</td>\n",
       "      <td>3.322253e+06</td>\n",
       "      <td>1.317259e+07</td>\n",
       "      <td>3.525370e+08</td>\n",
       "      <td>2.529475e+06</td>\n",
       "      <td>8.147131e+08</td>\n",
       "      <td>1.406930e+06</td>\n",
       "      <td>2.962610e+07</td>\n",
       "      <td>3.718959e+08</td>\n",
       "    </tr>\n",
       "    <tr>\n",
       "      <th>150000</th>\n",
       "      <td></td>\n",
       "      <td>1.046091e+08</td>\n",
       "      <td>1.144710e+08</td>\n",
       "      <td>3.242301e+06</td>\n",
       "      <td>1.829177e+06</td>\n",
       "      <td>1.408880e+06</td>\n",
       "      <td>apple</td>\n",
       "      <td>huawei b528s-23a</td>\n",
       "      <td>1.795322e+06</td>\n",
       "      <td>32928.43438</td>\n",
       "      <td>...</td>\n",
       "      <td>1.163407e+07</td>\n",
       "      <td>1.100941e+07</td>\n",
       "      <td>1.162685e+07</td>\n",
       "      <td>1.100175e+07</td>\n",
       "      <td>4.220447e+08</td>\n",
       "      <td>8.288398e+06</td>\n",
       "      <td>4.211005e+08</td>\n",
       "      <td>8.264799e+06</td>\n",
       "      <td>4.112121e+07</td>\n",
       "      <td>4.546434e+08</td>\n",
       "    </tr>\n",
       "  </tbody>\n",
       "</table>\n",
       "<p>150001 rows × 24 columns</p>\n",
       "</div>"
      ],
      "text/plain": [
       "                   bearer_id   dur___ms__1  http_dl__bytes_  http_ul__bytes_  \\\n",
       "0       13114483460844900352  1.823653e+09     1.144710e+08     3.242301e+06   \n",
       "1       13114483482878900224  1.365104e+09     1.144710e+08     3.242301e+06   \n",
       "2       13114483484080500736  1.361763e+09     1.144710e+08     3.242301e+06   \n",
       "3       13114483485442799616  1.321510e+09     1.144710e+08     3.242301e+06   \n",
       "4       13114483499480700928  1.089009e+09     1.144710e+08     3.242301e+06   \n",
       "...                      ...           ...              ...              ...   \n",
       "149996   7277825670196679680  8.123076e+07     1.144710e+08     3.242301e+06   \n",
       "149997   7349883264234609664  9.797070e+07     1.144710e+08     3.242301e+06   \n",
       "149998  13114483573367300096  9.824953e+07     1.144710e+08     3.242301e+06   \n",
       "149999  13114483573367300096  9.791063e+07     1.144710e+08     3.242301e+06   \n",
       "150000                        1.046091e+08     1.144710e+08     3.242301e+06   \n",
       "\n",
       "        activity_duration_dl__ms_  activity_duration_ul__ms_  \\\n",
       "0                    3.762400e+04               3.878700e+04   \n",
       "1                    1.680000e+02               3.560000e+03   \n",
       "2                    0.000000e+00               0.000000e+00   \n",
       "3                    3.330000e+03               3.788200e+04   \n",
       "4                    0.000000e+00               0.000000e+00   \n",
       "...                           ...                        ...   \n",
       "149996               4.237600e+04               4.191500e+04   \n",
       "149997               1.726400e+04               1.675900e+04   \n",
       "149998               2.500300e+04               2.864000e+04   \n",
       "149999               1.340500e+04               3.408800e+04   \n",
       "150000               1.829177e+06               1.408880e+06   \n",
       "\n",
       "       handset_manufacturer                 handset_type  \\\n",
       "0                   samsung   samsung galaxy a5 sm-a520f   \n",
       "1                   samsung  samsung galaxy j5 (sm-j530)   \n",
       "2                   samsung     samsung galaxy a8 (2018)   \n",
       "3                 undefined                    undefined   \n",
       "4                   samsung             samsung sm-g390f   \n",
       "...                     ...                          ...   \n",
       "149996                apple  apple iphone 8 plus (a1897)   \n",
       "149997                apple      apple iphone se (a1723)   \n",
       "149998                apple      apple iphone xs (a2097)   \n",
       "149999               huawei               huawei fig-lx1   \n",
       "150000                apple             huawei b528s-23a   \n",
       "\n",
       "        social_media_dl__bytes_  social_media_ul__bytes_  ...  \\\n",
       "0                  1.545765e+06              24420.00000  ...   \n",
       "1                  1.926113e+06               7165.00000  ...   \n",
       "2                  1.684053e+06              42224.00000  ...   \n",
       "3                  6.441210e+05              13372.00000  ...   \n",
       "4                  8.626000e+05              50188.00000  ...   \n",
       "...                         ...                      ...  ...   \n",
       "149996             3.464974e+06              52091.00000  ...   \n",
       "149997             2.344568e+06               7613.00000  ...   \n",
       "149998             1.245845e+06              14394.00000  ...   \n",
       "149999             8.015470e+05              21562.00000  ...   \n",
       "150000             1.795322e+06              32928.43438  ...   \n",
       "\n",
       "        youtube_dl__bytes_  youtube_ul__bytes_  netflix_dl__bytes_  \\\n",
       "0             1.585461e+07        2.501332e+06        8.198936e+06   \n",
       "1             2.024740e+07        1.911173e+07        1.833841e+07   \n",
       "2             1.972566e+07        1.469958e+07        1.758779e+07   \n",
       "3             2.138812e+07        1.514664e+07        1.399465e+07   \n",
       "4             1.525938e+07        1.896287e+07        1.712458e+07   \n",
       "...                    ...                 ...                 ...   \n",
       "149996        1.619167e+07        1.176343e+07        1.788370e+07   \n",
       "149997        1.387723e+07        8.288284e+06        1.935015e+07   \n",
       "149998        2.266051e+07        1.855903e+06        9.963942e+06   \n",
       "149999        8.817106e+06        8.305402e+06        3.322253e+06   \n",
       "150000        1.163407e+07        1.100941e+07        1.162685e+07   \n",
       "\n",
       "        netflix_ul__bytes_  gaming_dl__bytes_  gaming_ul__bytes_  \\\n",
       "0             9.656251e+06       2.780823e+08       1.434415e+07   \n",
       "1             1.722713e+07       6.087501e+08       1.170709e+06   \n",
       "2             6.163408e+06       2.295846e+08       3.956300e+05   \n",
       "3             1.097942e+06       7.995382e+08       1.084972e+07   \n",
       "4             4.152180e+05       5.277072e+08       3.529801e+06   \n",
       "...                    ...                ...                ...   \n",
       "149996        1.967816e+07       5.266097e+08       9.197207e+06   \n",
       "149997        2.129315e+07       6.268931e+08       4.735033e+06   \n",
       "149998        5.065760e+06       5.535395e+08       1.339432e+07   \n",
       "149999        1.317259e+07       3.525370e+08       2.529475e+06   \n",
       "150000        1.100175e+07       4.220447e+08       8.288398e+06   \n",
       "\n",
       "        other_dl__bytes_  other_ul__bytes_  total_ul__bytes_  total_dl__bytes_  \n",
       "0           1.717444e+08      8.814393e+06      3.674974e+07      3.088796e+08  \n",
       "1           5.269042e+08      1.505514e+07      5.380039e+07      6.533850e+08  \n",
       "2           4.106926e+08      4.215763e+06      2.788364e+07      2.798073e+08  \n",
       "3           7.490399e+08      1.279728e+07      4.332422e+07      8.460285e+08  \n",
       "4           5.507095e+08      1.391032e+07      3.854281e+07      5.691386e+08  \n",
       "...                  ...               ...               ...               ...  \n",
       "149996      3.264510e+06      1.348742e+07      5.762885e+07      5.741753e+08  \n",
       "149997      7.121804e+08      2.457758e+06      3.913508e+07      6.666488e+08  \n",
       "149998      1.211009e+08      1.131473e+07      3.491222e+07      5.927864e+08  \n",
       "149999      8.147131e+08      1.406930e+06      2.962610e+07      3.718959e+08  \n",
       "150000      4.211005e+08      8.264799e+06      4.112121e+07      4.546434e+08  \n",
       "\n",
       "[150001 rows x 24 columns]"
      ]
     },
     "execution_count": 651,
     "metadata": {},
     "output_type": "execute_result"
    }
   ],
   "source": [
    "data2"
   ]
  },
  {
   "cell_type": "code",
   "execution_count": 652,
   "metadata": {},
   "outputs": [
    {
     "name": "stderr",
     "output_type": "stream",
     "text": [
      "/home/patrick/.local/lib/python3.6/site-packages/ipykernel_launcher.py:1: SettingWithCopyWarning: \n",
      "A value is trying to be set on a copy of a slice from a DataFrame.\n",
      "Try using .loc[row_indexer,col_indexer] = value instead\n",
      "\n",
      "See the caveats in the documentation: https://pandas.pydata.org/pandas-docs/stable/user_guide/indexing.html#returning-a-view-versus-a-copy\n",
      "  \"\"\"Entry point for launching an IPython kernel.\n"
     ]
    }
   ],
   "source": [
    "data2['total_data_usage'] = data2.total_dl__bytes_ + data2.total_ul__bytes_"
   ]
  },
  {
   "cell_type": "code",
   "execution_count": 653,
   "metadata": {},
   "outputs": [
    {
     "data": {
      "text/plain": [
       "0         3.456294e+08\n",
       "1         7.071854e+08\n",
       "2         3.076910e+08\n",
       "3         8.893527e+08\n",
       "4         6.076814e+08\n",
       "              ...     \n",
       "149996    6.318041e+08\n",
       "149997    7.057839e+08\n",
       "149998    6.276986e+08\n",
       "149999    4.015220e+08\n",
       "150000    4.957646e+08\n",
       "Name: total_data_usage, Length: 150001, dtype: float64"
      ]
     },
     "execution_count": 653,
     "metadata": {},
     "output_type": "execute_result"
    }
   ],
   "source": [
    "data2['total_data_usage']"
   ]
  },
  {
   "cell_type": "code",
   "execution_count": 654,
   "metadata": {},
   "outputs": [],
   "source": [
    "true_bearers=true_bearers.join(data2['total_data_usage'], how='inner')"
   ]
  },
  {
   "cell_type": "code",
   "execution_count": 655,
   "metadata": {},
   "outputs": [],
   "source": [
    "data_usage = true_bearers.groupby('bearer_id')['total_data_usage'].sum().reset_index(name='total_data_usage').sort_values(by='total_data_usage', ascending=False)\n",
    "# true_bearers['dur___ms__1']"
   ]
  },
  {
   "cell_type": "code",
   "execution_count": 656,
   "metadata": {},
   "outputs": [
    {
     "data": {
      "text/html": [
       "<div>\n",
       "<style scoped>\n",
       "    .dataframe tbody tr th:only-of-type {\n",
       "        vertical-align: middle;\n",
       "    }\n",
       "\n",
       "    .dataframe tbody tr th {\n",
       "        vertical-align: top;\n",
       "    }\n",
       "\n",
       "    .dataframe thead th {\n",
       "        text-align: right;\n",
       "    }\n",
       "</style>\n",
       "<table border=\"1\" class=\"dataframe\">\n",
       "  <thead>\n",
       "    <tr style=\"text-align: right;\">\n",
       "      <th></th>\n",
       "      <th>bearer_id</th>\n",
       "      <th>total_data_usage</th>\n",
       "    </tr>\n",
       "  </thead>\n",
       "  <tbody>\n",
       "    <tr>\n",
       "      <th>29837</th>\n",
       "      <td>13042425979269199872</td>\n",
       "      <td>6.990615e+09</td>\n",
       "    </tr>\n",
       "    <tr>\n",
       "      <th>20367</th>\n",
       "      <td>13042425972278300672</td>\n",
       "      <td>5.809100e+09</td>\n",
       "    </tr>\n",
       "    <tr>\n",
       "      <th>14584</th>\n",
       "      <td>13042425965944199168</td>\n",
       "      <td>4.970328e+09</td>\n",
       "    </tr>\n",
       "    <tr>\n",
       "      <th>25853</th>\n",
       "      <td>13042425975039100928</td>\n",
       "      <td>4.953519e+09</td>\n",
       "    </tr>\n",
       "    <tr>\n",
       "      <th>30195</th>\n",
       "      <td>13042425981873399808</td>\n",
       "      <td>4.575518e+09</td>\n",
       "    </tr>\n",
       "    <tr>\n",
       "      <th>...</th>\n",
       "      <td>...</td>\n",
       "      <td>...</td>\n",
       "    </tr>\n",
       "    <tr>\n",
       "      <th>128963</th>\n",
       "      <td>7349883261658779648</td>\n",
       "      <td>3.614993e+07</td>\n",
       "    </tr>\n",
       "    <tr>\n",
       "      <th>38101</th>\n",
       "      <td>13114483554777399296</td>\n",
       "      <td>3.399962e+07</td>\n",
       "    </tr>\n",
       "    <tr>\n",
       "      <th>33892</th>\n",
       "      <td>13114483551116199936</td>\n",
       "      <td>3.357584e+07</td>\n",
       "    </tr>\n",
       "    <tr>\n",
       "      <th>83637</th>\n",
       "      <td>7277825664644849664</td>\n",
       "      <td>3.324901e+07</td>\n",
       "    </tr>\n",
       "    <tr>\n",
       "      <th>33543</th>\n",
       "      <td>13114483550934099968</td>\n",
       "      <td>2.895611e+07</td>\n",
       "    </tr>\n",
       "  </tbody>\n",
       "</table>\n",
       "<p>134708 rows × 2 columns</p>\n",
       "</div>"
      ],
      "text/plain": [
       "                   bearer_id  total_data_usage\n",
       "29837   13042425979269199872      6.990615e+09\n",
       "20367   13042425972278300672      5.809100e+09\n",
       "14584   13042425965944199168      4.970328e+09\n",
       "25853   13042425975039100928      4.953519e+09\n",
       "30195   13042425981873399808      4.575518e+09\n",
       "...                      ...               ...\n",
       "128963   7349883261658779648      3.614993e+07\n",
       "38101   13114483554777399296      3.399962e+07\n",
       "33892   13114483551116199936      3.357584e+07\n",
       "83637    7277825664644849664      3.324901e+07\n",
       "33543   13114483550934099968      2.895611e+07\n",
       "\n",
       "[134708 rows x 2 columns]"
      ]
     },
     "execution_count": 656,
     "metadata": {},
     "output_type": "execute_result"
    }
   ],
   "source": [
    "data_usage"
   ]
  },
  {
   "cell_type": "markdown",
   "metadata": {},
   "source": [
    "Non Graphical Univariate Analysis"
   ]
  },
  {
   "cell_type": "code",
   "execution_count": 657,
   "metadata": {},
   "outputs": [],
   "source": [
    "data_usage_stats = data_usage.describe().reset_index()"
   ]
  },
  {
   "cell_type": "code",
   "execution_count": 658,
   "metadata": {},
   "outputs": [
    {
     "data": {
      "text/html": [
       "<div>\n",
       "<style scoped>\n",
       "    .dataframe tbody tr th:only-of-type {\n",
       "        vertical-align: middle;\n",
       "    }\n",
       "\n",
       "    .dataframe tbody tr th {\n",
       "        vertical-align: top;\n",
       "    }\n",
       "\n",
       "    .dataframe thead th {\n",
       "        text-align: right;\n",
       "    }\n",
       "</style>\n",
       "<table border=\"1\" class=\"dataframe\">\n",
       "  <thead>\n",
       "    <tr style=\"text-align: right;\">\n",
       "      <th></th>\n",
       "      <th>index</th>\n",
       "      <th>total_data_usage</th>\n",
       "    </tr>\n",
       "  </thead>\n",
       "  <tbody>\n",
       "    <tr>\n",
       "      <th>0</th>\n",
       "      <td>count</td>\n",
       "      <td>1.347080e+05</td>\n",
       "    </tr>\n",
       "    <tr>\n",
       "      <th>1</th>\n",
       "      <td>mean</td>\n",
       "      <td>5.484519e+08</td>\n",
       "    </tr>\n",
       "    <tr>\n",
       "      <th>2</th>\n",
       "      <td>std</td>\n",
       "      <td>3.199073e+08</td>\n",
       "    </tr>\n",
       "    <tr>\n",
       "      <th>3</th>\n",
       "      <td>min</td>\n",
       "      <td>2.895611e+07</td>\n",
       "    </tr>\n",
       "    <tr>\n",
       "      <th>4</th>\n",
       "      <td>25%</td>\n",
       "      <td>3.030796e+08</td>\n",
       "    </tr>\n",
       "    <tr>\n",
       "      <th>5</th>\n",
       "      <td>50%</td>\n",
       "      <td>5.304096e+08</td>\n",
       "    </tr>\n",
       "    <tr>\n",
       "      <th>6</th>\n",
       "      <td>75%</td>\n",
       "      <td>7.501322e+08</td>\n",
       "    </tr>\n",
       "    <tr>\n",
       "      <th>7</th>\n",
       "      <td>max</td>\n",
       "      <td>6.990615e+09</td>\n",
       "    </tr>\n",
       "  </tbody>\n",
       "</table>\n",
       "</div>"
      ],
      "text/plain": [
       "   index  total_data_usage\n",
       "0  count      1.347080e+05\n",
       "1   mean      5.484519e+08\n",
       "2    std      3.199073e+08\n",
       "3    min      2.895611e+07\n",
       "4    25%      3.030796e+08\n",
       "5    50%      5.304096e+08\n",
       "6    75%      7.501322e+08\n",
       "7    max      6.990615e+09"
      ]
     },
     "execution_count": 658,
     "metadata": {},
     "output_type": "execute_result"
    }
   ],
   "source": [
    "data_usage_stats"
   ]
  },
  {
   "cell_type": "code",
   "execution_count": 659,
   "metadata": {},
   "outputs": [],
   "source": [
    "data_usage_stats.rename(columns={'index':'data_usage_stats', 'total_data_usage':'value'}, inplace=True)"
   ]
  },
  {
   "cell_type": "code",
   "execution_count": 660,
   "metadata": {},
   "outputs": [
    {
     "data": {
      "text/html": [
       "<div>\n",
       "<style scoped>\n",
       "    .dataframe tbody tr th:only-of-type {\n",
       "        vertical-align: middle;\n",
       "    }\n",
       "\n",
       "    .dataframe tbody tr th {\n",
       "        vertical-align: top;\n",
       "    }\n",
       "\n",
       "    .dataframe thead th {\n",
       "        text-align: right;\n",
       "    }\n",
       "</style>\n",
       "<table border=\"1\" class=\"dataframe\">\n",
       "  <thead>\n",
       "    <tr style=\"text-align: right;\">\n",
       "      <th></th>\n",
       "      <th>data_usage_stats</th>\n",
       "      <th>value</th>\n",
       "    </tr>\n",
       "  </thead>\n",
       "  <tbody>\n",
       "    <tr>\n",
       "      <th>0</th>\n",
       "      <td>count</td>\n",
       "      <td>1.347080e+05</td>\n",
       "    </tr>\n",
       "    <tr>\n",
       "      <th>1</th>\n",
       "      <td>mean</td>\n",
       "      <td>5.484519e+08</td>\n",
       "    </tr>\n",
       "    <tr>\n",
       "      <th>2</th>\n",
       "      <td>std</td>\n",
       "      <td>3.199073e+08</td>\n",
       "    </tr>\n",
       "    <tr>\n",
       "      <th>3</th>\n",
       "      <td>min</td>\n",
       "      <td>2.895611e+07</td>\n",
       "    </tr>\n",
       "    <tr>\n",
       "      <th>4</th>\n",
       "      <td>25%</td>\n",
       "      <td>3.030796e+08</td>\n",
       "    </tr>\n",
       "    <tr>\n",
       "      <th>5</th>\n",
       "      <td>50%</td>\n",
       "      <td>5.304096e+08</td>\n",
       "    </tr>\n",
       "    <tr>\n",
       "      <th>6</th>\n",
       "      <td>75%</td>\n",
       "      <td>7.501322e+08</td>\n",
       "    </tr>\n",
       "    <tr>\n",
       "      <th>7</th>\n",
       "      <td>max</td>\n",
       "      <td>6.990615e+09</td>\n",
       "    </tr>\n",
       "  </tbody>\n",
       "</table>\n",
       "</div>"
      ],
      "text/plain": [
       "  data_usage_stats         value\n",
       "0            count  1.347080e+05\n",
       "1             mean  5.484519e+08\n",
       "2              std  3.199073e+08\n",
       "3              min  2.895611e+07\n",
       "4              25%  3.030796e+08\n",
       "5              50%  5.304096e+08\n",
       "6              75%  7.501322e+08\n",
       "7              max  6.990615e+09"
      ]
     },
     "execution_count": 660,
     "metadata": {},
     "output_type": "execute_result"
    }
   ],
   "source": [
    "data_usage_stats"
   ]
  },
  {
   "cell_type": "markdown",
   "metadata": {},
   "source": [
    "> I will add sum of the data usage to the stats table"
   ]
  },
  {
   "cell_type": "code",
   "execution_count": 661,
   "metadata": {},
   "outputs": [],
   "source": [
    "sum_data = pd.Series({'sum':data_usage.total_data_usage.sum()}).reset_index(name='value')"
   ]
  },
  {
   "cell_type": "code",
   "execution_count": 662,
   "metadata": {},
   "outputs": [
    {
     "data": {
      "text/html": [
       "<div>\n",
       "<style scoped>\n",
       "    .dataframe tbody tr th:only-of-type {\n",
       "        vertical-align: middle;\n",
       "    }\n",
       "\n",
       "    .dataframe tbody tr th {\n",
       "        vertical-align: top;\n",
       "    }\n",
       "\n",
       "    .dataframe thead th {\n",
       "        text-align: right;\n",
       "    }\n",
       "</style>\n",
       "<table border=\"1\" class=\"dataframe\">\n",
       "  <thead>\n",
       "    <tr style=\"text-align: right;\">\n",
       "      <th></th>\n",
       "      <th>index</th>\n",
       "      <th>value</th>\n",
       "    </tr>\n",
       "  </thead>\n",
       "  <tbody>\n",
       "    <tr>\n",
       "      <th>0</th>\n",
       "      <td>sum</td>\n",
       "      <td>7.388086e+13</td>\n",
       "    </tr>\n",
       "  </tbody>\n",
       "</table>\n",
       "</div>"
      ],
      "text/plain": [
       "  index         value\n",
       "0   sum  7.388086e+13"
      ]
     },
     "execution_count": 662,
     "metadata": {},
     "output_type": "execute_result"
    }
   ],
   "source": [
    "sum_data"
   ]
  },
  {
   "cell_type": "code",
   "execution_count": 663,
   "metadata": {},
   "outputs": [],
   "source": [
    "sum_data=sum_data.rename(columns={'index':'data_usage_stats'})"
   ]
  },
  {
   "cell_type": "code",
   "execution_count": 664,
   "metadata": {},
   "outputs": [
    {
     "data": {
      "text/html": [
       "<div>\n",
       "<style scoped>\n",
       "    .dataframe tbody tr th:only-of-type {\n",
       "        vertical-align: middle;\n",
       "    }\n",
       "\n",
       "    .dataframe tbody tr th {\n",
       "        vertical-align: top;\n",
       "    }\n",
       "\n",
       "    .dataframe thead th {\n",
       "        text-align: right;\n",
       "    }\n",
       "</style>\n",
       "<table border=\"1\" class=\"dataframe\">\n",
       "  <thead>\n",
       "    <tr style=\"text-align: right;\">\n",
       "      <th></th>\n",
       "      <th>data_usage_stats</th>\n",
       "      <th>value</th>\n",
       "    </tr>\n",
       "  </thead>\n",
       "  <tbody>\n",
       "    <tr>\n",
       "      <th>0</th>\n",
       "      <td>sum</td>\n",
       "      <td>7.388086e+13</td>\n",
       "    </tr>\n",
       "  </tbody>\n",
       "</table>\n",
       "</div>"
      ],
      "text/plain": [
       "  data_usage_stats         value\n",
       "0              sum  7.388086e+13"
      ]
     },
     "execution_count": 664,
     "metadata": {},
     "output_type": "execute_result"
    }
   ],
   "source": [
    "sum_data"
   ]
  },
  {
   "cell_type": "code",
   "execution_count": 665,
   "metadata": {},
   "outputs": [],
   "source": [
    "data_usage_stats=data_usage_stats.append(sum_data)"
   ]
  },
  {
   "cell_type": "code",
   "execution_count": 666,
   "metadata": {},
   "outputs": [
    {
     "data": {
      "text/html": [
       "<div>\n",
       "<style scoped>\n",
       "    .dataframe tbody tr th:only-of-type {\n",
       "        vertical-align: middle;\n",
       "    }\n",
       "\n",
       "    .dataframe tbody tr th {\n",
       "        vertical-align: top;\n",
       "    }\n",
       "\n",
       "    .dataframe thead th {\n",
       "        text-align: right;\n",
       "    }\n",
       "</style>\n",
       "<table border=\"1\" class=\"dataframe\">\n",
       "  <thead>\n",
       "    <tr style=\"text-align: right;\">\n",
       "      <th></th>\n",
       "      <th>data_usage_stats</th>\n",
       "      <th>value</th>\n",
       "    </tr>\n",
       "  </thead>\n",
       "  <tbody>\n",
       "    <tr>\n",
       "      <th>0</th>\n",
       "      <td>count</td>\n",
       "      <td>1.347080e+05</td>\n",
       "    </tr>\n",
       "    <tr>\n",
       "      <th>1</th>\n",
       "      <td>mean</td>\n",
       "      <td>5.484519e+08</td>\n",
       "    </tr>\n",
       "    <tr>\n",
       "      <th>2</th>\n",
       "      <td>std</td>\n",
       "      <td>3.199073e+08</td>\n",
       "    </tr>\n",
       "    <tr>\n",
       "      <th>3</th>\n",
       "      <td>min</td>\n",
       "      <td>2.895611e+07</td>\n",
       "    </tr>\n",
       "    <tr>\n",
       "      <th>4</th>\n",
       "      <td>25%</td>\n",
       "      <td>3.030796e+08</td>\n",
       "    </tr>\n",
       "    <tr>\n",
       "      <th>5</th>\n",
       "      <td>50%</td>\n",
       "      <td>5.304096e+08</td>\n",
       "    </tr>\n",
       "    <tr>\n",
       "      <th>6</th>\n",
       "      <td>75%</td>\n",
       "      <td>7.501322e+08</td>\n",
       "    </tr>\n",
       "    <tr>\n",
       "      <th>7</th>\n",
       "      <td>max</td>\n",
       "      <td>6.990615e+09</td>\n",
       "    </tr>\n",
       "    <tr>\n",
       "      <th>0</th>\n",
       "      <td>sum</td>\n",
       "      <td>7.388086e+13</td>\n",
       "    </tr>\n",
       "  </tbody>\n",
       "</table>\n",
       "</div>"
      ],
      "text/plain": [
       "  data_usage_stats         value\n",
       "0            count  1.347080e+05\n",
       "1             mean  5.484519e+08\n",
       "2              std  3.199073e+08\n",
       "3              min  2.895611e+07\n",
       "4              25%  3.030796e+08\n",
       "5              50%  5.304096e+08\n",
       "6              75%  7.501322e+08\n",
       "7              max  6.990615e+09\n",
       "0              sum  7.388086e+13"
      ]
     },
     "execution_count": 666,
     "metadata": {},
     "output_type": "execute_result"
    }
   ],
   "source": [
    "data_usage_stats"
   ]
  },
  {
   "cell_type": "markdown",
   "metadata": {},
   "source": [
    "####  Interpretation"
   ]
  },
  {
   "cell_type": "markdown",
   "metadata": {},
   "source": [
    "> Total hamount of data spent by all users in the data sessions is `73,880,860,000,00092 bytes`"
   ]
  },
  {
   "cell_type": "markdown",
   "metadata": {},
   "source": [
    "> Average data spent by a user is `12.90118`, appx `548,451,900 bytes`"
   ]
  },
  {
   "cell_type": "markdown",
   "metadata": {},
   "source": [
    "> The minimum number of hours spent by each user is `0 hours`.\n",
    "\n",
    ">  This means there are users who have never subscribed to Tellco data before"
   ]
  },
  {
   "cell_type": "markdown",
   "metadata": {},
   "source": [
    "> The maximum number of hours spent by each user is `0 hours`. \n",
    "\n",
    "> This means there are users who have never subscribed to Tellco data before"
   ]
  },
  {
   "cell_type": "markdown",
   "metadata": {},
   "source": [
    "> Half of the users spends `12.6 hrs` on data "
   ]
  },
  {
   "cell_type": "markdown",
   "metadata": {},
   "source": [
    " "
   ]
  },
  {
   "cell_type": "markdown",
   "metadata": {},
   "source": [
    "Graphical Univariate Analysis"
   ]
  },
  {
   "cell_type": "markdown",
   "metadata": {},
   "source": [
    "lets plot the distributuion of hours spent on data"
   ]
  },
  {
   "cell_type": "code",
   "execution_count": 667,
   "metadata": {},
   "outputs": [
    {
     "data": {
      "image/png": "[encoded data removed]",
      "text/plain": [
       "<Figure size 1152x720 with 1 Axes>"
      ]
     },
     "metadata": {},
     "output_type": "display_data"
    }
   ],
   "source": [
    "plt.subplots(figsize=(16, 10))\n",
    "sns.distplot((data_usage['total_data_usage']), hist=True)\n",
    "plt.title('Data Usage (bytes)', fontsize=20)\n",
    "plt.xlabel('Data Sessions', fontsize=15)\n",
    "plt.savefig('visuals/dataUsageDist.png', format='png')\n",
    "plt.show()"
   ]
  },
  {
   "cell_type": "markdown",
   "metadata": {},
   "source": [
    "#### Interpration\n",
    "\n",
    "> Data usage is right skewed, which means we have less users who use below average data usage"
   ]
  },
  {
   "cell_type": "markdown",
   "metadata": {},
   "source": [
    " "
   ]
  },
  {
   "cell_type": "markdown",
   "metadata": {},
   "source": [
    " "
   ]
  },
  {
   "cell_type": "markdown",
   "metadata": {},
   "source": [
    "4"
   ]
  },
  {
   "cell_type": "code",
   "execution_count": 668,
   "metadata": {},
   "outputs": [],
   "source": [
    "to_app_data = data2[['social_media_dl__bytes_', 'social_media_ul__bytes_',\n",
    "       'google_dl__bytes_', 'google_ul__bytes_', 'email_dl__bytes_',\n",
    "       'email_ul__bytes_', 'youtube_dl__bytes_', 'youtube_ul__bytes_',\n",
    "       'netflix_dl__bytes_', 'netflix_ul__bytes_', 'gaming_dl__bytes_',\n",
    "       'gaming_ul__bytes_','total_data_usage' ]]"
   ]
  },
  {
   "cell_type": "code",
   "execution_count": 669,
   "metadata": {},
   "outputs": [
    {
     "data": {
      "text/html": [
       "<div>\n",
       "<style scoped>\n",
       "    .dataframe tbody tr th:only-of-type {\n",
       "        vertical-align: middle;\n",
       "    }\n",
       "\n",
       "    .dataframe tbody tr th {\n",
       "        vertical-align: top;\n",
       "    }\n",
       "\n",
       "    .dataframe thead th {\n",
       "        text-align: right;\n",
       "    }\n",
       "</style>\n",
       "<table border=\"1\" class=\"dataframe\">\n",
       "  <thead>\n",
       "    <tr style=\"text-align: right;\">\n",
       "      <th></th>\n",
       "      <th>social_media_dl__bytes_</th>\n",
       "      <th>social_media_ul__bytes_</th>\n",
       "      <th>google_dl__bytes_</th>\n",
       "      <th>google_ul__bytes_</th>\n",
       "      <th>email_dl__bytes_</th>\n",
       "      <th>email_ul__bytes_</th>\n",
       "      <th>youtube_dl__bytes_</th>\n",
       "      <th>youtube_ul__bytes_</th>\n",
       "      <th>netflix_dl__bytes_</th>\n",
       "      <th>netflix_ul__bytes_</th>\n",
       "      <th>gaming_dl__bytes_</th>\n",
       "      <th>gaming_ul__bytes_</th>\n",
       "      <th>total_data_usage</th>\n",
       "    </tr>\n",
       "  </thead>\n",
       "  <tbody>\n",
       "    <tr>\n",
       "      <th>0</th>\n",
       "      <td>1.545765e+06</td>\n",
       "      <td>24420.00000</td>\n",
       "      <td>1.634479e+06</td>\n",
       "      <td>1.271433e+06</td>\n",
       "      <td>3.563542e+06</td>\n",
       "      <td>137762.00000</td>\n",
       "      <td>1.585461e+07</td>\n",
       "      <td>2.501332e+06</td>\n",
       "      <td>8.198936e+06</td>\n",
       "      <td>9.656251e+06</td>\n",
       "      <td>2.780823e+08</td>\n",
       "      <td>1.434415e+07</td>\n",
       "      <td>3.456294e+08</td>\n",
       "    </tr>\n",
       "    <tr>\n",
       "      <th>1</th>\n",
       "      <td>1.926113e+06</td>\n",
       "      <td>7165.00000</td>\n",
       "      <td>3.493924e+06</td>\n",
       "      <td>9.201720e+05</td>\n",
       "      <td>6.290460e+05</td>\n",
       "      <td>308339.00000</td>\n",
       "      <td>2.024740e+07</td>\n",
       "      <td>1.911173e+07</td>\n",
       "      <td>1.833841e+07</td>\n",
       "      <td>1.722713e+07</td>\n",
       "      <td>6.087501e+08</td>\n",
       "      <td>1.170709e+06</td>\n",
       "      <td>7.071854e+08</td>\n",
       "    </tr>\n",
       "    <tr>\n",
       "      <th>2</th>\n",
       "      <td>1.684053e+06</td>\n",
       "      <td>42224.00000</td>\n",
       "      <td>8.535055e+06</td>\n",
       "      <td>1.694064e+06</td>\n",
       "      <td>2.690151e+06</td>\n",
       "      <td>672973.00000</td>\n",
       "      <td>1.972566e+07</td>\n",
       "      <td>1.469958e+07</td>\n",
       "      <td>1.758779e+07</td>\n",
       "      <td>6.163408e+06</td>\n",
       "      <td>2.295846e+08</td>\n",
       "      <td>3.956300e+05</td>\n",
       "      <td>3.076910e+08</td>\n",
       "    </tr>\n",
       "    <tr>\n",
       "      <th>3</th>\n",
       "      <td>6.441210e+05</td>\n",
       "      <td>13372.00000</td>\n",
       "      <td>9.023734e+06</td>\n",
       "      <td>2.788027e+06</td>\n",
       "      <td>1.439754e+06</td>\n",
       "      <td>631229.00000</td>\n",
       "      <td>2.138812e+07</td>\n",
       "      <td>1.514664e+07</td>\n",
       "      <td>1.399465e+07</td>\n",
       "      <td>1.097942e+06</td>\n",
       "      <td>7.995382e+08</td>\n",
       "      <td>1.084972e+07</td>\n",
       "      <td>8.893527e+08</td>\n",
       "    </tr>\n",
       "    <tr>\n",
       "      <th>4</th>\n",
       "      <td>8.626000e+05</td>\n",
       "      <td>50188.00000</td>\n",
       "      <td>6.248284e+06</td>\n",
       "      <td>1.500559e+06</td>\n",
       "      <td>1.936496e+06</td>\n",
       "      <td>173853.00000</td>\n",
       "      <td>1.525938e+07</td>\n",
       "      <td>1.896287e+07</td>\n",
       "      <td>1.712458e+07</td>\n",
       "      <td>4.152180e+05</td>\n",
       "      <td>5.277072e+08</td>\n",
       "      <td>3.529801e+06</td>\n",
       "      <td>6.076814e+08</td>\n",
       "    </tr>\n",
       "    <tr>\n",
       "      <th>...</th>\n",
       "      <td>...</td>\n",
       "      <td>...</td>\n",
       "      <td>...</td>\n",
       "      <td>...</td>\n",
       "      <td>...</td>\n",
       "      <td>...</td>\n",
       "      <td>...</td>\n",
       "      <td>...</td>\n",
       "      <td>...</td>\n",
       "      <td>...</td>\n",
       "      <td>...</td>\n",
       "      <td>...</td>\n",
       "      <td>...</td>\n",
       "    </tr>\n",
       "    <tr>\n",
       "      <th>149996</th>\n",
       "      <td>3.464974e+06</td>\n",
       "      <td>52091.00000</td>\n",
       "      <td>9.967603e+06</td>\n",
       "      <td>2.817311e+06</td>\n",
       "      <td>5.763900e+04</td>\n",
       "      <td>633237.00000</td>\n",
       "      <td>1.619167e+07</td>\n",
       "      <td>1.176343e+07</td>\n",
       "      <td>1.788370e+07</td>\n",
       "      <td>1.967816e+07</td>\n",
       "      <td>5.266097e+08</td>\n",
       "      <td>9.197207e+06</td>\n",
       "      <td>6.318041e+08</td>\n",
       "    </tr>\n",
       "    <tr>\n",
       "      <th>149997</th>\n",
       "      <td>2.344568e+06</td>\n",
       "      <td>7613.00000</td>\n",
       "      <td>2.229420e+06</td>\n",
       "      <td>2.185941e+06</td>\n",
       "      <td>1.954414e+06</td>\n",
       "      <td>167304.00000</td>\n",
       "      <td>1.387723e+07</td>\n",
       "      <td>8.288284e+06</td>\n",
       "      <td>1.935015e+07</td>\n",
       "      <td>2.129315e+07</td>\n",
       "      <td>6.268931e+08</td>\n",
       "      <td>4.735033e+06</td>\n",
       "      <td>7.057839e+08</td>\n",
       "    </tr>\n",
       "    <tr>\n",
       "      <th>149998</th>\n",
       "      <td>1.245845e+06</td>\n",
       "      <td>14394.00000</td>\n",
       "      <td>3.850890e+06</td>\n",
       "      <td>2.734579e+06</td>\n",
       "      <td>1.525734e+06</td>\n",
       "      <td>532543.00000</td>\n",
       "      <td>2.266051e+07</td>\n",
       "      <td>1.855903e+06</td>\n",
       "      <td>9.963942e+06</td>\n",
       "      <td>5.065760e+06</td>\n",
       "      <td>5.535395e+08</td>\n",
       "      <td>1.339432e+07</td>\n",
       "      <td>6.276986e+08</td>\n",
       "    </tr>\n",
       "    <tr>\n",
       "      <th>149999</th>\n",
       "      <td>8.015470e+05</td>\n",
       "      <td>21562.00000</td>\n",
       "      <td>4.189773e+06</td>\n",
       "      <td>3.567494e+06</td>\n",
       "      <td>2.228270e+06</td>\n",
       "      <td>622644.00000</td>\n",
       "      <td>8.817106e+06</td>\n",
       "      <td>8.305402e+06</td>\n",
       "      <td>3.322253e+06</td>\n",
       "      <td>1.317259e+07</td>\n",
       "      <td>3.525370e+08</td>\n",
       "      <td>2.529475e+06</td>\n",
       "      <td>4.015220e+08</td>\n",
       "    </tr>\n",
       "    <tr>\n",
       "      <th>150000</th>\n",
       "      <td>1.795322e+06</td>\n",
       "      <td>32928.43438</td>\n",
       "      <td>5.750753e+06</td>\n",
       "      <td>2.056542e+06</td>\n",
       "      <td>1.791729e+06</td>\n",
       "      <td>467373.44194</td>\n",
       "      <td>1.163407e+07</td>\n",
       "      <td>1.100941e+07</td>\n",
       "      <td>1.162685e+07</td>\n",
       "      <td>1.100175e+07</td>\n",
       "      <td>4.220447e+08</td>\n",
       "      <td>8.288398e+06</td>\n",
       "      <td>4.957646e+08</td>\n",
       "    </tr>\n",
       "  </tbody>\n",
       "</table>\n",
       "<p>150001 rows × 13 columns</p>\n",
       "</div>"
      ],
      "text/plain": [
       "        social_media_dl__bytes_  social_media_ul__bytes_  google_dl__bytes_  \\\n",
       "0                  1.545765e+06              24420.00000       1.634479e+06   \n",
       "1                  1.926113e+06               7165.00000       3.493924e+06   \n",
       "2                  1.684053e+06              42224.00000       8.535055e+06   \n",
       "3                  6.441210e+05              13372.00000       9.023734e+06   \n",
       "4                  8.626000e+05              50188.00000       6.248284e+06   \n",
       "...                         ...                      ...                ...   \n",
       "149996             3.464974e+06              52091.00000       9.967603e+06   \n",
       "149997             2.344568e+06               7613.00000       2.229420e+06   \n",
       "149998             1.245845e+06              14394.00000       3.850890e+06   \n",
       "149999             8.015470e+05              21562.00000       4.189773e+06   \n",
       "150000             1.795322e+06              32928.43438       5.750753e+06   \n",
       "\n",
       "        google_ul__bytes_  email_dl__bytes_  email_ul__bytes_  \\\n",
       "0            1.271433e+06      3.563542e+06      137762.00000   \n",
       "1            9.201720e+05      6.290460e+05      308339.00000   \n",
       "2            1.694064e+06      2.690151e+06      672973.00000   \n",
       "3            2.788027e+06      1.439754e+06      631229.00000   \n",
       "4            1.500559e+06      1.936496e+06      173853.00000   \n",
       "...                   ...               ...               ...   \n",
       "149996       2.817311e+06      5.763900e+04      633237.00000   \n",
       "149997       2.185941e+06      1.954414e+06      167304.00000   \n",
       "149998       2.734579e+06      1.525734e+06      532543.00000   \n",
       "149999       3.567494e+06      2.228270e+06      622644.00000   \n",
       "150000       2.056542e+06      1.791729e+06      467373.44194   \n",
       "\n",
       "        youtube_dl__bytes_  youtube_ul__bytes_  netflix_dl__bytes_  \\\n",
       "0             1.585461e+07        2.501332e+06        8.198936e+06   \n",
       "1             2.024740e+07        1.911173e+07        1.833841e+07   \n",
       "2             1.972566e+07        1.469958e+07        1.758779e+07   \n",
       "3             2.138812e+07        1.514664e+07        1.399465e+07   \n",
       "4             1.525938e+07        1.896287e+07        1.712458e+07   \n",
       "...                    ...                 ...                 ...   \n",
       "149996        1.619167e+07        1.176343e+07        1.788370e+07   \n",
       "149997        1.387723e+07        8.288284e+06        1.935015e+07   \n",
       "149998        2.266051e+07        1.855903e+06        9.963942e+06   \n",
       "149999        8.817106e+06        8.305402e+06        3.322253e+06   \n",
       "150000        1.163407e+07        1.100941e+07        1.162685e+07   \n",
       "\n",
       "        netflix_ul__bytes_  gaming_dl__bytes_  gaming_ul__bytes_  \\\n",
       "0             9.656251e+06       2.780823e+08       1.434415e+07   \n",
       "1             1.722713e+07       6.087501e+08       1.170709e+06   \n",
       "2             6.163408e+06       2.295846e+08       3.956300e+05   \n",
       "3             1.097942e+06       7.995382e+08       1.084972e+07   \n",
       "4             4.152180e+05       5.277072e+08       3.529801e+06   \n",
       "...                    ...                ...                ...   \n",
       "149996        1.967816e+07       5.266097e+08       9.197207e+06   \n",
       "149997        2.129315e+07       6.268931e+08       4.735033e+06   \n",
       "149998        5.065760e+06       5.535395e+08       1.339432e+07   \n",
       "149999        1.317259e+07       3.525370e+08       2.529475e+06   \n",
       "150000        1.100175e+07       4.220447e+08       8.288398e+06   \n",
       "\n",
       "        total_data_usage  \n",
       "0           3.456294e+08  \n",
       "1           7.071854e+08  \n",
       "2           3.076910e+08  \n",
       "3           8.893527e+08  \n",
       "4           6.076814e+08  \n",
       "...                  ...  \n",
       "149996      6.318041e+08  \n",
       "149997      7.057839e+08  \n",
       "149998      6.276986e+08  \n",
       "149999      4.015220e+08  \n",
       "150000      4.957646e+08  \n",
       "\n",
       "[150001 rows x 13 columns]"
      ]
     },
     "execution_count": 669,
     "metadata": {},
     "output_type": "execute_result"
    }
   ],
   "source": [
    "to_app_data"
   ]
  },
  {
   "cell_type": "code",
   "execution_count": 670,
   "metadata": {},
   "outputs": [],
   "source": [
    "app_data = pd.DataFrame()"
   ]
  },
  {
   "cell_type": "code",
   "execution_count": 671,
   "metadata": {},
   "outputs": [],
   "source": [
    "app_data['users'] = data2.bearer_id"
   ]
  },
  {
   "cell_type": "code",
   "execution_count": 672,
   "metadata": {},
   "outputs": [],
   "source": [
    "app_data['social_media'] = to_app_data.social_media_dl__bytes_ + to_app_data.social_media_ul__bytes_"
   ]
  },
  {
   "cell_type": "code",
   "execution_count": 673,
   "metadata": {},
   "outputs": [],
   "source": [
    "app_data['google'] = to_app_data.google_dl__bytes_ + to_app_data.gaming_ul__bytes_"
   ]
  },
  {
   "cell_type": "code",
   "execution_count": 674,
   "metadata": {},
   "outputs": [],
   "source": [
    "app_data['email'] = to_app_data.email_dl__bytes_ + to_app_data.email_ul__bytes_"
   ]
  },
  {
   "cell_type": "code",
   "execution_count": 675,
   "metadata": {},
   "outputs": [],
   "source": [
    "app_data['youtube'] = to_app_data.youtube_dl__bytes_ + to_app_data.youtube_ul__bytes_"
   ]
  },
  {
   "cell_type": "code",
   "execution_count": 676,
   "metadata": {},
   "outputs": [],
   "source": [
    "app_data['netflix'] = to_app_data.netflix_dl__bytes_ + to_app_data.netflix_ul__bytes_"
   ]
  },
  {
   "cell_type": "code",
   "execution_count": 677,
   "metadata": {},
   "outputs": [],
   "source": [
    "app_data['gaming'] = to_app_data.gaming_dl__bytes_ + to_app_data.gaming_ul__bytes_"
   ]
  },
  {
   "cell_type": "code",
   "execution_count": 678,
   "metadata": {},
   "outputs": [
    {
     "data": {
      "text/html": [
       "<div>\n",
       "<style scoped>\n",
       "    .dataframe tbody tr th:only-of-type {\n",
       "        vertical-align: middle;\n",
       "    }\n",
       "\n",
       "    .dataframe tbody tr th {\n",
       "        vertical-align: top;\n",
       "    }\n",
       "\n",
       "    .dataframe thead th {\n",
       "        text-align: right;\n",
       "    }\n",
       "</style>\n",
       "<table border=\"1\" class=\"dataframe\">\n",
       "  <thead>\n",
       "    <tr style=\"text-align: right;\">\n",
       "      <th></th>\n",
       "      <th>users</th>\n",
       "      <th>social_media</th>\n",
       "      <th>google</th>\n",
       "      <th>email</th>\n",
       "      <th>youtube</th>\n",
       "      <th>netflix</th>\n",
       "      <th>gaming</th>\n",
       "    </tr>\n",
       "  </thead>\n",
       "  <tbody>\n",
       "    <tr>\n",
       "      <th>0</th>\n",
       "      <td>13114483460844900352</td>\n",
       "      <td>1.570185e+06</td>\n",
       "      <td>1.597863e+07</td>\n",
       "      <td>3.701304e+06</td>\n",
       "      <td>1.835594e+07</td>\n",
       "      <td>1.785519e+07</td>\n",
       "      <td>2.924265e+08</td>\n",
       "    </tr>\n",
       "    <tr>\n",
       "      <th>1</th>\n",
       "      <td>13114483482878900224</td>\n",
       "      <td>1.933278e+06</td>\n",
       "      <td>4.664633e+06</td>\n",
       "      <td>9.373850e+05</td>\n",
       "      <td>3.935912e+07</td>\n",
       "      <td>3.556554e+07</td>\n",
       "      <td>6.099208e+08</td>\n",
       "    </tr>\n",
       "    <tr>\n",
       "      <th>2</th>\n",
       "      <td>13114483484080500736</td>\n",
       "      <td>1.726277e+06</td>\n",
       "      <td>8.930685e+06</td>\n",
       "      <td>3.363124e+06</td>\n",
       "      <td>3.442524e+07</td>\n",
       "      <td>2.375120e+07</td>\n",
       "      <td>2.299803e+08</td>\n",
       "    </tr>\n",
       "    <tr>\n",
       "      <th>3</th>\n",
       "      <td>13114483485442799616</td>\n",
       "      <td>6.574930e+05</td>\n",
       "      <td>1.987346e+07</td>\n",
       "      <td>2.070983e+06</td>\n",
       "      <td>3.653476e+07</td>\n",
       "      <td>1.509259e+07</td>\n",
       "      <td>8.103879e+08</td>\n",
       "    </tr>\n",
       "    <tr>\n",
       "      <th>4</th>\n",
       "      <td>13114483499480700928</td>\n",
       "      <td>9.127880e+05</td>\n",
       "      <td>9.778085e+06</td>\n",
       "      <td>2.110349e+06</td>\n",
       "      <td>3.422225e+07</td>\n",
       "      <td>1.753980e+07</td>\n",
       "      <td>5.312370e+08</td>\n",
       "    </tr>\n",
       "    <tr>\n",
       "      <th>...</th>\n",
       "      <td>...</td>\n",
       "      <td>...</td>\n",
       "      <td>...</td>\n",
       "      <td>...</td>\n",
       "      <td>...</td>\n",
       "      <td>...</td>\n",
       "      <td>...</td>\n",
       "    </tr>\n",
       "    <tr>\n",
       "      <th>149996</th>\n",
       "      <td>7277825670196679680</td>\n",
       "      <td>3.517065e+06</td>\n",
       "      <td>1.916481e+07</td>\n",
       "      <td>6.908760e+05</td>\n",
       "      <td>2.795510e+07</td>\n",
       "      <td>3.756186e+07</td>\n",
       "      <td>5.358069e+08</td>\n",
       "    </tr>\n",
       "    <tr>\n",
       "      <th>149997</th>\n",
       "      <td>7349883264234609664</td>\n",
       "      <td>2.352181e+06</td>\n",
       "      <td>6.964453e+06</td>\n",
       "      <td>2.121718e+06</td>\n",
       "      <td>2.216552e+07</td>\n",
       "      <td>4.064329e+07</td>\n",
       "      <td>6.316281e+08</td>\n",
       "    </tr>\n",
       "    <tr>\n",
       "      <th>149998</th>\n",
       "      <td>13114483573367300096</td>\n",
       "      <td>1.260239e+06</td>\n",
       "      <td>1.724521e+07</td>\n",
       "      <td>2.058277e+06</td>\n",
       "      <td>2.451641e+07</td>\n",
       "      <td>1.502970e+07</td>\n",
       "      <td>5.669338e+08</td>\n",
       "    </tr>\n",
       "    <tr>\n",
       "      <th>149999</th>\n",
       "      <td>13114483573367300096</td>\n",
       "      <td>8.231090e+05</td>\n",
       "      <td>6.719248e+06</td>\n",
       "      <td>2.850914e+06</td>\n",
       "      <td>1.712251e+07</td>\n",
       "      <td>1.649484e+07</td>\n",
       "      <td>3.550664e+08</td>\n",
       "    </tr>\n",
       "    <tr>\n",
       "      <th>150000</th>\n",
       "      <td></td>\n",
       "      <td>1.828250e+06</td>\n",
       "      <td>1.403915e+07</td>\n",
       "      <td>2.259102e+06</td>\n",
       "      <td>2.264348e+07</td>\n",
       "      <td>2.262861e+07</td>\n",
       "      <td>4.303331e+08</td>\n",
       "    </tr>\n",
       "  </tbody>\n",
       "</table>\n",
       "<p>150001 rows × 7 columns</p>\n",
       "</div>"
      ],
      "text/plain": [
       "                       users  social_media        google         email  \\\n",
       "0       13114483460844900352  1.570185e+06  1.597863e+07  3.701304e+06   \n",
       "1       13114483482878900224  1.933278e+06  4.664633e+06  9.373850e+05   \n",
       "2       13114483484080500736  1.726277e+06  8.930685e+06  3.363124e+06   \n",
       "3       13114483485442799616  6.574930e+05  1.987346e+07  2.070983e+06   \n",
       "4       13114483499480700928  9.127880e+05  9.778085e+06  2.110349e+06   \n",
       "...                      ...           ...           ...           ...   \n",
       "149996   7277825670196679680  3.517065e+06  1.916481e+07  6.908760e+05   \n",
       "149997   7349883264234609664  2.352181e+06  6.964453e+06  2.121718e+06   \n",
       "149998  13114483573367300096  1.260239e+06  1.724521e+07  2.058277e+06   \n",
       "149999  13114483573367300096  8.231090e+05  6.719248e+06  2.850914e+06   \n",
       "150000                        1.828250e+06  1.403915e+07  2.259102e+06   \n",
       "\n",
       "             youtube       netflix        gaming  \n",
       "0       1.835594e+07  1.785519e+07  2.924265e+08  \n",
       "1       3.935912e+07  3.556554e+07  6.099208e+08  \n",
       "2       3.442524e+07  2.375120e+07  2.299803e+08  \n",
       "3       3.653476e+07  1.509259e+07  8.103879e+08  \n",
       "4       3.422225e+07  1.753980e+07  5.312370e+08  \n",
       "...              ...           ...           ...  \n",
       "149996  2.795510e+07  3.756186e+07  5.358069e+08  \n",
       "149997  2.216552e+07  4.064329e+07  6.316281e+08  \n",
       "149998  2.451641e+07  1.502970e+07  5.669338e+08  \n",
       "149999  1.712251e+07  1.649484e+07  3.550664e+08  \n",
       "150000  2.264348e+07  2.262861e+07  4.303331e+08  \n",
       "\n",
       "[150001 rows x 7 columns]"
      ]
     },
     "execution_count": 678,
     "metadata": {},
     "output_type": "execute_result"
    }
   ],
   "source": [
    "app_data"
   ]
  },
  {
   "cell_type": "markdown",
   "metadata": {},
   "source": [
    "Non graphical univariate analyis"
   ]
  },
  {
   "cell_type": "code",
   "execution_count": 690,
   "metadata": {},
   "outputs": [],
   "source": [
    "app_data_stats = app_data.iloc[:, 1:].describe()"
   ]
  },
  {
   "cell_type": "code",
   "execution_count": 691,
   "metadata": {},
   "outputs": [
    {
     "data": {
      "text/html": [
       "<div>\n",
       "<style scoped>\n",
       "    .dataframe tbody tr th:only-of-type {\n",
       "        vertical-align: middle;\n",
       "    }\n",
       "\n",
       "    .dataframe tbody tr th {\n",
       "        vertical-align: top;\n",
       "    }\n",
       "\n",
       "    .dataframe thead th {\n",
       "        text-align: right;\n",
       "    }\n",
       "</style>\n",
       "<table border=\"1\" class=\"dataframe\">\n",
       "  <thead>\n",
       "    <tr style=\"text-align: right;\">\n",
       "      <th></th>\n",
       "      <th>social_media</th>\n",
       "      <th>google</th>\n",
       "      <th>email</th>\n",
       "      <th>youtube</th>\n",
       "      <th>netflix</th>\n",
       "      <th>gaming</th>\n",
       "    </tr>\n",
       "  </thead>\n",
       "  <tbody>\n",
       "    <tr>\n",
       "      <th>count</th>\n",
       "      <td>1.500010e+05</td>\n",
       "      <td>1.500010e+05</td>\n",
       "      <td>1.500010e+05</td>\n",
       "      <td>1.500010e+05</td>\n",
       "      <td>1.500010e+05</td>\n",
       "      <td>1.500010e+05</td>\n",
       "    </tr>\n",
       "    <tr>\n",
       "      <th>mean</th>\n",
       "      <td>1.828250e+06</td>\n",
       "      <td>1.403915e+07</td>\n",
       "      <td>2.259102e+06</td>\n",
       "      <td>2.264348e+07</td>\n",
       "      <td>2.262861e+07</td>\n",
       "      <td>4.303331e+08</td>\n",
       "    </tr>\n",
       "    <tr>\n",
       "      <th>std</th>\n",
       "      <td>1.035646e+06</td>\n",
       "      <td>5.811980e+06</td>\n",
       "      <td>1.071109e+06</td>\n",
       "      <td>9.246800e+06</td>\n",
       "      <td>9.260820e+06</td>\n",
       "      <td>2.440199e+08</td>\n",
       "    </tr>\n",
       "    <tr>\n",
       "      <th>min</th>\n",
       "      <td>1.563000e+03</td>\n",
       "      <td>2.370800e+04</td>\n",
       "      <td>8.359000e+03</td>\n",
       "      <td>7.890300e+04</td>\n",
       "      <td>9.843200e+04</td>\n",
       "      <td>3.063580e+05</td>\n",
       "    </tr>\n",
       "    <tr>\n",
       "      <th>25%</th>\n",
       "      <td>9.322180e+05</td>\n",
       "      <td>9.774338e+06</td>\n",
       "      <td>1.359344e+06</td>\n",
       "      <td>1.599846e+07</td>\n",
       "      <td>1.597946e+07</td>\n",
       "      <td>2.187279e+08</td>\n",
       "    </tr>\n",
       "    <tr>\n",
       "      <th>50%</th>\n",
       "      <td>1.826471e+06</td>\n",
       "      <td>1.403358e+07</td>\n",
       "      <td>2.263567e+06</td>\n",
       "      <td>2.266177e+07</td>\n",
       "      <td>2.263554e+07</td>\n",
       "      <td>4.316150e+08</td>\n",
       "    </tr>\n",
       "    <tr>\n",
       "      <th>75%</th>\n",
       "      <td>2.727487e+06</td>\n",
       "      <td>1.831082e+07</td>\n",
       "      <td>3.159818e+06</td>\n",
       "      <td>2.929260e+07</td>\n",
       "      <td>2.929044e+07</td>\n",
       "      <td>6.414159e+08</td>\n",
       "    </tr>\n",
       "    <tr>\n",
       "      <th>max</th>\n",
       "      <td>3.650861e+06</td>\n",
       "      <td>2.795925e+07</td>\n",
       "      <td>4.518036e+06</td>\n",
       "      <td>4.519008e+07</td>\n",
       "      <td>4.519815e+07</td>\n",
       "      <td>8.592028e+08</td>\n",
       "    </tr>\n",
       "  </tbody>\n",
       "</table>\n",
       "</div>"
      ],
      "text/plain": [
       "       social_media        google         email       youtube       netflix  \\\n",
       "count  1.500010e+05  1.500010e+05  1.500010e+05  1.500010e+05  1.500010e+05   \n",
       "mean   1.828250e+06  1.403915e+07  2.259102e+06  2.264348e+07  2.262861e+07   \n",
       "std    1.035646e+06  5.811980e+06  1.071109e+06  9.246800e+06  9.260820e+06   \n",
       "min    1.563000e+03  2.370800e+04  8.359000e+03  7.890300e+04  9.843200e+04   \n",
       "25%    9.322180e+05  9.774338e+06  1.359344e+06  1.599846e+07  1.597946e+07   \n",
       "50%    1.826471e+06  1.403358e+07  2.263567e+06  2.266177e+07  2.263554e+07   \n",
       "75%    2.727487e+06  1.831082e+07  3.159818e+06  2.929260e+07  2.929044e+07   \n",
       "max    3.650861e+06  2.795925e+07  4.518036e+06  4.519008e+07  4.519815e+07   \n",
       "\n",
       "             gaming  \n",
       "count  1.500010e+05  \n",
       "mean   4.303331e+08  \n",
       "std    2.440199e+08  \n",
       "min    3.063580e+05  \n",
       "25%    2.187279e+08  \n",
       "50%    4.316150e+08  \n",
       "75%    6.414159e+08  \n",
       "max    8.592028e+08  "
      ]
     },
     "execution_count": 691,
     "metadata": {},
     "output_type": "execute_result"
    }
   ],
   "source": [
    "app_data_stats"
   ]
  },
  {
   "cell_type": "code",
   "execution_count": null,
   "metadata": {},
   "outputs": [],
   "source": []
  },
  {
   "cell_type": "markdown",
   "metadata": {},
   "source": [
    "5"
   ]
  },
  {
   "cell_type": "code",
   "execution_count": 679,
   "metadata": {},
   "outputs": [],
   "source": [
    "vals = [app_data.social_media.sum(), app_data.google.sum(), app_data.email.sum(), \n",
    "          app_data.youtube.sum(), app_data.netflix.sum(), app_data.gaming.sum()]"
   ]
  },
  {
   "cell_type": "code",
   "execution_count": 680,
   "metadata": {},
   "outputs": [
    {
     "data": {
      "text/plain": [
       "[274239359454.20804,\n",
       " 2105886648653.73,\n",
       " 338867605596.30994,\n",
       " 3396545039272.6387,\n",
       " 3394313609363.5386,\n",
       " 64550395439016.7]"
      ]
     },
     "execution_count": 680,
     "metadata": {},
     "output_type": "execute_result"
    }
   ],
   "source": [
    "vals"
   ]
  },
  {
   "cell_type": "code",
   "execution_count": 682,
   "metadata": {},
   "outputs": [],
   "source": [
    "total_app_data = pd.DataFrame(columns=app_data.columns.to_list()[1:],data=[vals])"
   ]
  },
  {
   "cell_type": "code",
   "execution_count": 683,
   "metadata": {},
   "outputs": [],
   "source": [
    "total_app_data=total_app_data.transpose().reset_index().rename(columns={'index':'application', 0:'total_data'})"
   ]
  },
  {
   "cell_type": "code",
   "execution_count": 684,
   "metadata": {},
   "outputs": [
    {
     "data": {
      "text/html": [
       "<div>\n",
       "<style scoped>\n",
       "    .dataframe tbody tr th:only-of-type {\n",
       "        vertical-align: middle;\n",
       "    }\n",
       "\n",
       "    .dataframe tbody tr th {\n",
       "        vertical-align: top;\n",
       "    }\n",
       "\n",
       "    .dataframe thead th {\n",
       "        text-align: right;\n",
       "    }\n",
       "</style>\n",
       "<table border=\"1\" class=\"dataframe\">\n",
       "  <thead>\n",
       "    <tr style=\"text-align: right;\">\n",
       "      <th></th>\n",
       "      <th>application</th>\n",
       "      <th>total_data</th>\n",
       "    </tr>\n",
       "  </thead>\n",
       "  <tbody>\n",
       "    <tr>\n",
       "      <th>5</th>\n",
       "      <td>gaming</td>\n",
       "      <td>6.455040e+13</td>\n",
       "    </tr>\n",
       "    <tr>\n",
       "      <th>3</th>\n",
       "      <td>youtube</td>\n",
       "      <td>3.396545e+12</td>\n",
       "    </tr>\n",
       "    <tr>\n",
       "      <th>4</th>\n",
       "      <td>netflix</td>\n",
       "      <td>3.394314e+12</td>\n",
       "    </tr>\n",
       "    <tr>\n",
       "      <th>1</th>\n",
       "      <td>google</td>\n",
       "      <td>2.105887e+12</td>\n",
       "    </tr>\n",
       "    <tr>\n",
       "      <th>2</th>\n",
       "      <td>email</td>\n",
       "      <td>3.388676e+11</td>\n",
       "    </tr>\n",
       "    <tr>\n",
       "      <th>0</th>\n",
       "      <td>social_media</td>\n",
       "      <td>2.742394e+11</td>\n",
       "    </tr>\n",
       "  </tbody>\n",
       "</table>\n",
       "</div>"
      ],
      "text/plain": [
       "    application    total_data\n",
       "5        gaming  6.455040e+13\n",
       "3       youtube  3.396545e+12\n",
       "4       netflix  3.394314e+12\n",
       "1        google  2.105887e+12\n",
       "2         email  3.388676e+11\n",
       "0  social_media  2.742394e+11"
      ]
     },
     "execution_count": 684,
     "metadata": {},
     "output_type": "execute_result"
    }
   ],
   "source": [
    "total_app_data = total_app_data.sort_values(by='total_data', ascending=False)\n",
    "total_app_data"
   ]
  },
  {
   "cell_type": "markdown",
   "metadata": {},
   "source": [
    "Application data"
   ]
  },
  {
   "cell_type": "code",
   "execution_count": 685,
   "metadata": {},
   "outputs": [
    {
     "data": {
      "image/png": "[encoded data removed]",
      "text/plain": [
       "<Figure size 1152x720 with 1 Axes>"
      ]
     },
     "metadata": {},
     "output_type": "display_data"
    }
   ],
   "source": [
    "plt.subplots(figsize=(16,10))\n",
    "plt.title('App Data Consumption (bytes)', fontsize=20)\n",
    "plt.xticks(fontsize=15)\n",
    "plt.yticks(fontsize=15)\n",
    "plt.xlabel('Application', fontsize=17)\n",
    "plt.ylabel('Data Use (bytes)', fontsize=17)\n",
    "sns.barplot(data=total_app_data, x='application', y='total_data')\n",
    "plt.savefig(format='png', fname='visuals/appData.png')\n",
    "plt.show()"
   ]
  },
  {
   "cell_type": "code",
   "execution_count": null,
   "metadata": {},
   "outputs": [],
   "source": []
  },
  {
   "cell_type": "code",
   "execution_count": null,
   "metadata": {},
   "outputs": [],
   "source": []
  },
  {
   "cell_type": "markdown",
   "metadata": {},
   "source": [
    "<a id='r3'></a>\n",
    "\n",
    "#### Research Question 3"
   ]
  },
  {
   "cell_type": "code",
   "execution_count": null,
   "metadata": {},
   "outputs": [],
   "source": []
  }
 ],
 "metadata": {
  "kernelspec": {
   "display_name": "venv_tellco_user_analytics",
   "language": "python",
   "name": "venv_tellco_user_analytics"
  },
  "language_info": {
   "codemirror_mode": {
    "name": "ipython",
    "version": 3
   },
   "file_extension": ".py",
   "mimetype": "text/x-python",
   "name": "python",
   "nbconvert_exporter": "python",
   "pygments_lexer": "ipython3",
   "version": "3.6.9"
  }
 },
 "nbformat": 4,
 "nbformat_minor": 4
}
