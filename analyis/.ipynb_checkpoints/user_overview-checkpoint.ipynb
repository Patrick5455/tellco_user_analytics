{
 "cells": [
  {
   "cell_type": "markdown",
   "metadata": {},
   "source": [
    "<a id='top'></a>\n",
    "\n",
    "## User Overview Analysis of Tellco Telecommunications"
   ]
  },
  {
   "cell_type": "markdown",
   "metadata": {},
   "source": [
    "#### Tables of Content"
   ]
  },
  {
   "cell_type": "markdown",
   "metadata": {},
   "source": [
    "<html>\n",
    "    <ul>\n",
    "        <li><a href='#intro'>Introduction</a></li>\n",
    "        <li><a href='#obj'>Objective</a></li>\n",
    "        <li><a href= '#research'/>Research Questions<a/></li>\n",
    "              <br/>\n",
    "            <ul>\n",
    "             <li><a href='#fe'>Feature Engineering</a></li>\n",
    "             </ul>\n",
    "            <ol>\n",
    "            <li><a href='#r1'>Research Question 1</a></li>\n",
    "             <li><a href='#r2'>Research Question 2</a></li>\n",
    "             <li><a href='#r3'>Research Question 3</a></li>\n",
    "            </ol>\n",
    "        <br/>\n",
    "        <li><a href= '#ana'>Analysis<a/></li>\n",
    "        <li><a href= '#go'>General Observation<a/></li>\n",
    "        <li><a href= '#rc'>Recommendation & Conclusions<a/></li>\n",
    "        <li><a href= '#lim'>Limitations<a/></li>\n",
    "        <li><a href= '#ref'>Referecnes<a/></li>\n",
    "    </ul>\n",
    "</html>"
   ]
  },
  {
   "cell_type": "markdown",
   "metadata": {},
   "source": [
    "<a id='intro'></a>\n",
    "#### Introduction\n",
    "\n",
    "\n",
    "Thelifebloodofanybusinessisitscustomers.Businessesarealwaysfindingwaystobetterunderstandtheircustomerssothattheycanprov\n",
    "\n",
    "idemoreefficientandtailoredsolutionstothem.ExploratoryDataAnalysisisafundamentalstepinthedatascienceprocess.Itinvolvesa\n",
    "\n",
    "lltheprocessesusedtofamiliarizeoneselfwiththedataandexplore initial insights that will inform further steps in the data \n",
    "\n",
    "science process.\n"
   ]
  },
  {
   "cell_type": "markdown",
   "metadata": {},
   "source": [
    "<a id='obj'></a>\n",
    "#### Objective"
   ]
  },
  {
   "cell_type": "markdown",
   "metadata": {},
   "source": [
    "> The Objective of this part of the analysis on Tellco is to undertsnad the customer demography \n",
    "\n",
    "> And consumer behaviour across various levels of product usage and interaction"
   ]
  },
  {
   "cell_type": "markdown",
   "metadata": {},
   "source": [
    " "
   ]
  },
  {
   "cell_type": "markdown",
   "metadata": {},
   "source": [
    "<a id='research'></a>\n",
    "\n",
    "#### Research Questions\n",
    "\n",
    " - Research Question 1\n",
    " \n",
    "     - Top performers\n",
    " \n",
    "          - Who/What are the top tiers accros manufacturers, handsets and customers\n",
    "          \n",
    "          - What group of users belong each to the top 5 decile classes based on the total duration for all sessions\n",
    "          \n",
    "   \n",
    "  \n",
    " -  Research Question 2\n",
    " \n",
    "       - User Behaviour in xDR sessions\n",
    " \n",
    "         - What inisghts can be gooten from user behaviour accross the xDR sessions (Data Channel)\n",
    "  \n",
    "  \n",
    " -  Research Question 3\n",
    " \n",
    "      - Siginificant Relationships \n",
    " \n",
    "          - Are  there an existing significant relationship across\n",
    "          \n",
    "              1. each application & the total DL+UL data\n",
    "          \n",
    "              2. the various xDR sessions (Google,Youtbe,Netflix, etc.)\n",
    "              \n",
    "              \n",
    "              \n",
    "        \n",
    " \n",
    "     \n"
   ]
  },
  {
   "cell_type": "code",
   "execution_count": null,
   "metadata": {},
   "outputs": [],
   "source": []
  },
  {
   "cell_type": "markdown",
   "metadata": {},
   "source": [
    "import libraries"
   ]
  },
  {
   "cell_type": "code",
   "execution_count": 260,
   "metadata": {},
   "outputs": [],
   "source": [
    "import pandas as pd\n",
    "import seaborn as sns\n",
    "import numpy as np\n",
    "%matplotlib inline\n",
    "import matplotlib.pyplot as plt"
   ]
  },
  {
   "cell_type": "markdown",
   "metadata": {},
   "source": [
    "#### Load data into workspace"
   ]
  },
  {
   "cell_type": "code",
   "execution_count": 261,
   "metadata": {},
   "outputs": [],
   "source": [
    "path = '../datasets/cleaned/cleanWk2_data.csv'\n",
    "data = pd.read_csv(path)"
   ]
  },
  {
   "cell_type": "code",
   "execution_count": 262,
   "metadata": {},
   "outputs": [
    {
     "data": {
      "text/html": [
       "<div>\n",
       "<style scoped>\n",
       "    .dataframe tbody tr th:only-of-type {\n",
       "        vertical-align: middle;\n",
       "    }\n",
       "\n",
       "    .dataframe tbody tr th {\n",
       "        vertical-align: top;\n",
       "    }\n",
       "\n",
       "    .dataframe thead th {\n",
       "        text-align: right;\n",
       "    }\n",
       "</style>\n",
       "<table border=\"1\" class=\"dataframe\">\n",
       "  <thead>\n",
       "    <tr style=\"text-align: right;\">\n",
       "      <th></th>\n",
       "      <th>bearer_id</th>\n",
       "      <th>start</th>\n",
       "      <th>start_ms</th>\n",
       "      <th>end</th>\n",
       "      <th>end_ms</th>\n",
       "      <th>imsi</th>\n",
       "      <th>msisdn_number</th>\n",
       "      <th>imei</th>\n",
       "      <th>last_location_name</th>\n",
       "      <th>avg_rtt_dl__ms_</th>\n",
       "      <th>...</th>\n",
       "      <th>youtube_dl__bytes_</th>\n",
       "      <th>youtube_ul__bytes_</th>\n",
       "      <th>netflix_dl__bytes_</th>\n",
       "      <th>netflix_ul__bytes_</th>\n",
       "      <th>gaming_dl__bytes_</th>\n",
       "      <th>gaming_ul__bytes_</th>\n",
       "      <th>other_dl__bytes_</th>\n",
       "      <th>other_ul__bytes_</th>\n",
       "      <th>total_ul__bytes_</th>\n",
       "      <th>total_dl__bytes_</th>\n",
       "    </tr>\n",
       "  </thead>\n",
       "  <tbody>\n",
       "    <tr>\n",
       "      <th>0</th>\n",
       "      <td>13114483460844900352</td>\n",
       "      <td>2019-04-04 12:01:18</td>\n",
       "      <td>770.0</td>\n",
       "      <td>2019-04-25 14:35:31</td>\n",
       "      <td>662.0</td>\n",
       "      <td>2.082014e+14</td>\n",
       "      <td>3.366496e+10</td>\n",
       "      <td>3.552121e+13</td>\n",
       "      <td>9164566995485190</td>\n",
       "      <td>42.0</td>\n",
       "      <td>...</td>\n",
       "      <td>1.585461e+07</td>\n",
       "      <td>2.501332e+06</td>\n",
       "      <td>8.198936e+06</td>\n",
       "      <td>9.656251e+06</td>\n",
       "      <td>2.780823e+08</td>\n",
       "      <td>1.434415e+07</td>\n",
       "      <td>1.717444e+08</td>\n",
       "      <td>8.814393e+06</td>\n",
       "      <td>36749741.0</td>\n",
       "      <td>308879636.0</td>\n",
       "    </tr>\n",
       "    <tr>\n",
       "      <th>1</th>\n",
       "      <td>13114483482878900224</td>\n",
       "      <td>2019-04-09 13:04:04</td>\n",
       "      <td>235.0</td>\n",
       "      <td>2019-04-25 08:15:48</td>\n",
       "      <td>606.0</td>\n",
       "      <td>2.082019e+14</td>\n",
       "      <td>3.368185e+10</td>\n",
       "      <td>3.579401e+13</td>\n",
       "      <td>L77566A</td>\n",
       "      <td>65.0</td>\n",
       "      <td>...</td>\n",
       "      <td>2.024740e+07</td>\n",
       "      <td>1.911173e+07</td>\n",
       "      <td>1.833841e+07</td>\n",
       "      <td>1.722713e+07</td>\n",
       "      <td>6.087501e+08</td>\n",
       "      <td>1.170709e+06</td>\n",
       "      <td>5.269042e+08</td>\n",
       "      <td>1.505514e+07</td>\n",
       "      <td>53800391.0</td>\n",
       "      <td>653384965.0</td>\n",
       "    </tr>\n",
       "    <tr>\n",
       "      <th>2</th>\n",
       "      <td>13114483484080500736</td>\n",
       "      <td>2019-04-09 17:42:11</td>\n",
       "      <td>1.0</td>\n",
       "      <td>2019-04-25 11:58:13</td>\n",
       "      <td>652.0</td>\n",
       "      <td>2.082003e+14</td>\n",
       "      <td>3.376063e+10</td>\n",
       "      <td>3.528151e+13</td>\n",
       "      <td>D42335A</td>\n",
       "      <td>45.0</td>\n",
       "      <td>...</td>\n",
       "      <td>1.972566e+07</td>\n",
       "      <td>1.469958e+07</td>\n",
       "      <td>1.758779e+07</td>\n",
       "      <td>6.163408e+06</td>\n",
       "      <td>2.295846e+08</td>\n",
       "      <td>3.956300e+05</td>\n",
       "      <td>4.106926e+08</td>\n",
       "      <td>4.215763e+06</td>\n",
       "      <td>27883638.0</td>\n",
       "      <td>279807335.0</td>\n",
       "    </tr>\n",
       "    <tr>\n",
       "      <th>3</th>\n",
       "      <td>13114483485442799616</td>\n",
       "      <td>2019-04-10 00:31:25</td>\n",
       "      <td>486.0</td>\n",
       "      <td>2019-04-25 07:36:35</td>\n",
       "      <td>171.0</td>\n",
       "      <td>2.082014e+14</td>\n",
       "      <td>3.375034e+10</td>\n",
       "      <td>3.535661e+13</td>\n",
       "      <td>T21824A</td>\n",
       "      <td>45.0</td>\n",
       "      <td>...</td>\n",
       "      <td>2.138812e+07</td>\n",
       "      <td>1.514664e+07</td>\n",
       "      <td>1.399465e+07</td>\n",
       "      <td>1.097942e+06</td>\n",
       "      <td>7.995382e+08</td>\n",
       "      <td>1.084972e+07</td>\n",
       "      <td>7.490399e+08</td>\n",
       "      <td>1.279728e+07</td>\n",
       "      <td>43324218.0</td>\n",
       "      <td>846028530.0</td>\n",
       "    </tr>\n",
       "    <tr>\n",
       "      <th>4</th>\n",
       "      <td>13114483499480700928</td>\n",
       "      <td>2019-04-12 20:10:23</td>\n",
       "      <td>565.0</td>\n",
       "      <td>2019-04-25 10:40:32</td>\n",
       "      <td>954.0</td>\n",
       "      <td>2.082014e+14</td>\n",
       "      <td>3.369980e+10</td>\n",
       "      <td>3.540701e+13</td>\n",
       "      <td>D88865A</td>\n",
       "      <td>45.0</td>\n",
       "      <td>...</td>\n",
       "      <td>1.525938e+07</td>\n",
       "      <td>1.896287e+07</td>\n",
       "      <td>1.712458e+07</td>\n",
       "      <td>4.152180e+05</td>\n",
       "      <td>5.277072e+08</td>\n",
       "      <td>3.529801e+06</td>\n",
       "      <td>5.507095e+08</td>\n",
       "      <td>1.391032e+07</td>\n",
       "      <td>38542814.0</td>\n",
       "      <td>569138589.0</td>\n",
       "    </tr>\n",
       "    <tr>\n",
       "      <th>...</th>\n",
       "      <td>...</td>\n",
       "      <td>...</td>\n",
       "      <td>...</td>\n",
       "      <td>...</td>\n",
       "      <td>...</td>\n",
       "      <td>...</td>\n",
       "      <td>...</td>\n",
       "      <td>...</td>\n",
       "      <td>...</td>\n",
       "      <td>...</td>\n",
       "      <td>...</td>\n",
       "      <td>...</td>\n",
       "      <td>...</td>\n",
       "      <td>...</td>\n",
       "      <td>...</td>\n",
       "      <td>...</td>\n",
       "      <td>...</td>\n",
       "      <td>...</td>\n",
       "      <td>...</td>\n",
       "      <td>...</td>\n",
       "      <td>...</td>\n",
       "    </tr>\n",
       "    <tr>\n",
       "      <th>149996</th>\n",
       "      <td>7277825670196679680</td>\n",
       "      <td>2019-04-29 07:28:42</td>\n",
       "      <td>451.0</td>\n",
       "      <td>2019-04-30 06:02:33</td>\n",
       "      <td>214.0</td>\n",
       "      <td>2.082022e+14</td>\n",
       "      <td>3.365069e+10</td>\n",
       "      <td>3.548311e+13</td>\n",
       "      <td>D20434A</td>\n",
       "      <td>32.0</td>\n",
       "      <td>...</td>\n",
       "      <td>1.619167e+07</td>\n",
       "      <td>1.176343e+07</td>\n",
       "      <td>1.788370e+07</td>\n",
       "      <td>1.967816e+07</td>\n",
       "      <td>5.266097e+08</td>\n",
       "      <td>9.197207e+06</td>\n",
       "      <td>3.264510e+06</td>\n",
       "      <td>1.348742e+07</td>\n",
       "      <td>57628851.0</td>\n",
       "      <td>574175259.0</td>\n",
       "    </tr>\n",
       "    <tr>\n",
       "      <th>149997</th>\n",
       "      <td>7349883264234609664</td>\n",
       "      <td>2019-04-29 07:28:42</td>\n",
       "      <td>483.0</td>\n",
       "      <td>2019-04-30 10:41:33</td>\n",
       "      <td>187.0</td>\n",
       "      <td>2.082019e+14</td>\n",
       "      <td>3.366345e+10</td>\n",
       "      <td>3.566051e+13</td>\n",
       "      <td>D10223C</td>\n",
       "      <td>27.0</td>\n",
       "      <td>...</td>\n",
       "      <td>1.387723e+07</td>\n",
       "      <td>8.288284e+06</td>\n",
       "      <td>1.935015e+07</td>\n",
       "      <td>2.129315e+07</td>\n",
       "      <td>6.268931e+08</td>\n",
       "      <td>4.735033e+06</td>\n",
       "      <td>7.121804e+08</td>\n",
       "      <td>2.457758e+06</td>\n",
       "      <td>39135081.0</td>\n",
       "      <td>666648844.0</td>\n",
       "    </tr>\n",
       "    <tr>\n",
       "      <th>149998</th>\n",
       "      <td>13114483573367300096</td>\n",
       "      <td>2019-04-29 07:28:43</td>\n",
       "      <td>283.0</td>\n",
       "      <td>2019-04-30 10:46:12</td>\n",
       "      <td>810.0</td>\n",
       "      <td>2.082017e+14</td>\n",
       "      <td>3.362189e+10</td>\n",
       "      <td>3.572121e+13</td>\n",
       "      <td>T51102A</td>\n",
       "      <td>43.0</td>\n",
       "      <td>...</td>\n",
       "      <td>2.266051e+07</td>\n",
       "      <td>1.855903e+06</td>\n",
       "      <td>9.963942e+06</td>\n",
       "      <td>5.065760e+06</td>\n",
       "      <td>5.535395e+08</td>\n",
       "      <td>1.339432e+07</td>\n",
       "      <td>1.211009e+08</td>\n",
       "      <td>1.131473e+07</td>\n",
       "      <td>34912224.0</td>\n",
       "      <td>592786405.0</td>\n",
       "    </tr>\n",
       "    <tr>\n",
       "      <th>149999</th>\n",
       "      <td>13114483573367300096</td>\n",
       "      <td>2019-04-29 07:28:43</td>\n",
       "      <td>696.0</td>\n",
       "      <td>2019-04-30 10:40:34</td>\n",
       "      <td>327.0</td>\n",
       "      <td>2.082021e+14</td>\n",
       "      <td>3.361962e+10</td>\n",
       "      <td>8.618620e+13</td>\n",
       "      <td>L88342B</td>\n",
       "      <td>37.0</td>\n",
       "      <td>...</td>\n",
       "      <td>8.817106e+06</td>\n",
       "      <td>8.305402e+06</td>\n",
       "      <td>3.322253e+06</td>\n",
       "      <td>1.317259e+07</td>\n",
       "      <td>3.525370e+08</td>\n",
       "      <td>2.529475e+06</td>\n",
       "      <td>8.147131e+08</td>\n",
       "      <td>1.406930e+06</td>\n",
       "      <td>29626096.0</td>\n",
       "      <td>371895920.0</td>\n",
       "    </tr>\n",
       "    <tr>\n",
       "      <th>150000</th>\n",
       "      <td></td>\n",
       "      <td>2019-04-29 07:08:38</td>\n",
       "      <td>499.0</td>\n",
       "      <td>2019-04-25 00:01:32</td>\n",
       "      <td>500.0</td>\n",
       "      <td>2.082014e+14</td>\n",
       "      <td>3.362632e+10</td>\n",
       "      <td>3.518231e+13</td>\n",
       "      <td>D41377B</td>\n",
       "      <td>45.0</td>\n",
       "      <td>...</td>\n",
       "      <td>1.163407e+07</td>\n",
       "      <td>1.100941e+07</td>\n",
       "      <td>1.162685e+07</td>\n",
       "      <td>1.100175e+07</td>\n",
       "      <td>4.220447e+08</td>\n",
       "      <td>8.288398e+06</td>\n",
       "      <td>4.211005e+08</td>\n",
       "      <td>8.264799e+06</td>\n",
       "      <td>41143312.0</td>\n",
       "      <td>455841077.5</td>\n",
       "    </tr>\n",
       "  </tbody>\n",
       "</table>\n",
       "<p>150001 rows × 54 columns</p>\n",
       "</div>"
      ],
      "text/plain": [
       "                   bearer_id                start  start_ms  \\\n",
       "0       13114483460844900352  2019-04-04 12:01:18     770.0   \n",
       "1       13114483482878900224  2019-04-09 13:04:04     235.0   \n",
       "2       13114483484080500736  2019-04-09 17:42:11       1.0   \n",
       "3       13114483485442799616  2019-04-10 00:31:25     486.0   \n",
       "4       13114483499480700928  2019-04-12 20:10:23     565.0   \n",
       "...                      ...                  ...       ...   \n",
       "149996   7277825670196679680  2019-04-29 07:28:42     451.0   \n",
       "149997   7349883264234609664  2019-04-29 07:28:42     483.0   \n",
       "149998  13114483573367300096  2019-04-29 07:28:43     283.0   \n",
       "149999  13114483573367300096  2019-04-29 07:28:43     696.0   \n",
       "150000                        2019-04-29 07:08:38     499.0   \n",
       "\n",
       "                        end  end_ms          imsi  msisdn_number  \\\n",
       "0       2019-04-25 14:35:31   662.0  2.082014e+14   3.366496e+10   \n",
       "1       2019-04-25 08:15:48   606.0  2.082019e+14   3.368185e+10   \n",
       "2       2019-04-25 11:58:13   652.0  2.082003e+14   3.376063e+10   \n",
       "3       2019-04-25 07:36:35   171.0  2.082014e+14   3.375034e+10   \n",
       "4       2019-04-25 10:40:32   954.0  2.082014e+14   3.369980e+10   \n",
       "...                     ...     ...           ...            ...   \n",
       "149996  2019-04-30 06:02:33   214.0  2.082022e+14   3.365069e+10   \n",
       "149997  2019-04-30 10:41:33   187.0  2.082019e+14   3.366345e+10   \n",
       "149998  2019-04-30 10:46:12   810.0  2.082017e+14   3.362189e+10   \n",
       "149999  2019-04-30 10:40:34   327.0  2.082021e+14   3.361962e+10   \n",
       "150000  2019-04-25 00:01:32   500.0  2.082014e+14   3.362632e+10   \n",
       "\n",
       "                imei last_location_name  avg_rtt_dl__ms_  ...  \\\n",
       "0       3.552121e+13   9164566995485190             42.0  ...   \n",
       "1       3.579401e+13            L77566A             65.0  ...   \n",
       "2       3.528151e+13            D42335A             45.0  ...   \n",
       "3       3.535661e+13            T21824A             45.0  ...   \n",
       "4       3.540701e+13            D88865A             45.0  ...   \n",
       "...              ...                ...              ...  ...   \n",
       "149996  3.548311e+13            D20434A             32.0  ...   \n",
       "149997  3.566051e+13            D10223C             27.0  ...   \n",
       "149998  3.572121e+13            T51102A             43.0  ...   \n",
       "149999  8.618620e+13            L88342B             37.0  ...   \n",
       "150000  3.518231e+13            D41377B             45.0  ...   \n",
       "\n",
       "        youtube_dl__bytes_  youtube_ul__bytes_  netflix_dl__bytes_  \\\n",
       "0             1.585461e+07        2.501332e+06        8.198936e+06   \n",
       "1             2.024740e+07        1.911173e+07        1.833841e+07   \n",
       "2             1.972566e+07        1.469958e+07        1.758779e+07   \n",
       "3             2.138812e+07        1.514664e+07        1.399465e+07   \n",
       "4             1.525938e+07        1.896287e+07        1.712458e+07   \n",
       "...                    ...                 ...                 ...   \n",
       "149996        1.619167e+07        1.176343e+07        1.788370e+07   \n",
       "149997        1.387723e+07        8.288284e+06        1.935015e+07   \n",
       "149998        2.266051e+07        1.855903e+06        9.963942e+06   \n",
       "149999        8.817106e+06        8.305402e+06        3.322253e+06   \n",
       "150000        1.163407e+07        1.100941e+07        1.162685e+07   \n",
       "\n",
       "        netflix_ul__bytes_  gaming_dl__bytes_  gaming_ul__bytes_  \\\n",
       "0             9.656251e+06       2.780823e+08       1.434415e+07   \n",
       "1             1.722713e+07       6.087501e+08       1.170709e+06   \n",
       "2             6.163408e+06       2.295846e+08       3.956300e+05   \n",
       "3             1.097942e+06       7.995382e+08       1.084972e+07   \n",
       "4             4.152180e+05       5.277072e+08       3.529801e+06   \n",
       "...                    ...                ...                ...   \n",
       "149996        1.967816e+07       5.266097e+08       9.197207e+06   \n",
       "149997        2.129315e+07       6.268931e+08       4.735033e+06   \n",
       "149998        5.065760e+06       5.535395e+08       1.339432e+07   \n",
       "149999        1.317259e+07       3.525370e+08       2.529475e+06   \n",
       "150000        1.100175e+07       4.220447e+08       8.288398e+06   \n",
       "\n",
       "        other_dl__bytes_  other_ul__bytes_  total_ul__bytes_  total_dl__bytes_  \n",
       "0           1.717444e+08      8.814393e+06        36749741.0       308879636.0  \n",
       "1           5.269042e+08      1.505514e+07        53800391.0       653384965.0  \n",
       "2           4.106926e+08      4.215763e+06        27883638.0       279807335.0  \n",
       "3           7.490399e+08      1.279728e+07        43324218.0       846028530.0  \n",
       "4           5.507095e+08      1.391032e+07        38542814.0       569138589.0  \n",
       "...                  ...               ...               ...               ...  \n",
       "149996      3.264510e+06      1.348742e+07        57628851.0       574175259.0  \n",
       "149997      7.121804e+08      2.457758e+06        39135081.0       666648844.0  \n",
       "149998      1.211009e+08      1.131473e+07        34912224.0       592786405.0  \n",
       "149999      8.147131e+08      1.406930e+06        29626096.0       371895920.0  \n",
       "150000      4.211005e+08      8.264799e+06        41143312.0       455841077.5  \n",
       "\n",
       "[150001 rows x 54 columns]"
      ]
     },
     "execution_count": 262,
     "metadata": {},
     "output_type": "execute_result"
    }
   ],
   "source": [
    "data"
   ]
  },
  {
   "cell_type": "code",
   "execution_count": 263,
   "metadata": {},
   "outputs": [
    {
     "data": {
      "text/plain": [
       "Index(['bearer_id', 'start', 'start_ms', 'end', 'end_ms', 'imsi',\n",
       "       'msisdn_number', 'imei', 'last_location_name', 'avg_rtt_dl__ms_',\n",
       "       'avg_rtt_ul__ms_', 'avg_bearer_tp_dl__kbps_', 'avg_bearer_tp_ul__kbps_',\n",
       "       'tcp_dl_retrans__vol__bytes_', 'tcp_ul_retrans__vol__bytes_',\n",
       "       'dl_tp_<_50_kbps__%_', '50_kbps_<_dl_tp_<_250_kbps__%_',\n",
       "       '250_kbps_<_dl_tp_<_1_mbps__%_', 'dl_tp_>_1_mbps__%_',\n",
       "       'ul_tp_<_10_kbps__%_', '10_kbps_<_ul_tp_<_50_kbps__%_',\n",
       "       '50_kbps_<_ul_tp_<_300_kbps__%_', 'ul_tp_>_300_kbps__%_',\n",
       "       'http_dl__bytes_', 'http_ul__bytes_', 'activity_duration_dl__ms_',\n",
       "       'activity_duration_ul__ms_', 'dur___ms__1', 'handset_manufacturer',\n",
       "       'handset_type', 'nb_of_sec_with_125000b_<_vol_dl',\n",
       "       'nb_of_sec_with_1250b_<_vol_ul_<_6250b',\n",
       "       'nb_of_sec_with_31250b_<_vol_dl_<_125000b',\n",
       "       'nb_of_sec_with_37500b_<_vol_ul',\n",
       "       'nb_of_sec_with_6250b_<_vol_dl_<_31250b',\n",
       "       'nb_of_sec_with_6250b_<_vol_ul_<_37500b',\n",
       "       'nb_of_sec_with_vol_dl_<_6250b', 'nb_of_sec_with_vol_ul_<_1250b',\n",
       "       'social_media_dl__bytes_', 'social_media_ul__bytes_',\n",
       "       'google_dl__bytes_', 'google_ul__bytes_', 'email_dl__bytes_',\n",
       "       'email_ul__bytes_', 'youtube_dl__bytes_', 'youtube_ul__bytes_',\n",
       "       'netflix_dl__bytes_', 'netflix_ul__bytes_', 'gaming_dl__bytes_',\n",
       "       'gaming_ul__bytes_', 'other_dl__bytes_', 'other_ul__bytes_',\n",
       "       'total_ul__bytes_', 'total_dl__bytes_'],\n",
       "      dtype='object')"
      ]
     },
     "execution_count": 263,
     "metadata": {},
     "output_type": "execute_result"
    }
   ],
   "source": [
    "data.columns"
   ]
  },
  {
   "cell_type": "markdown",
   "metadata": {},
   "source": [
    " "
   ]
  },
  {
   "cell_type": "markdown",
   "metadata": {},
   "source": [
    "#### Feature Engineering\n",
    " - For this analyis, we would be working with the following features"
   ]
  },
  {
   "cell_type": "code",
   "execution_count": 264,
   "metadata": {},
   "outputs": [],
   "source": [
    "columns = ['bearer_id', 'dur___ms__1','http_dl__bytes_',\n",
    "           'http_ul__bytes_', 'activity_duration_dl__ms_',\n",
    "           'activity_duration_ul__ms_',\n",
    "           'handset_manufacturer', 'handset_type',\n",
    "          'social_media_dl__bytes_', 'social_media_ul__bytes_',\n",
    "       'google_dl__bytes_', 'google_ul__bytes_', 'email_dl__bytes_',\n",
    "       'email_ul__bytes_', 'youtube_dl__bytes_', 'youtube_ul__bytes_',\n",
    "       'netflix_dl__bytes_', 'netflix_ul__bytes_', 'gaming_dl__bytes_',\n",
    "       'gaming_ul__bytes_', 'other_dl__bytes_', 'other_ul__bytes_',\n",
    "       'total_ul__bytes_', 'total_dl__bytes_']"
   ]
  },
  {
   "cell_type": "code",
   "execution_count": 265,
   "metadata": {},
   "outputs": [],
   "source": [
    "data2 = data[columns]"
   ]
  },
  {
   "cell_type": "code",
   "execution_count": 266,
   "metadata": {},
   "outputs": [
    {
     "data": {
      "text/html": [
       "<div>\n",
       "<style scoped>\n",
       "    .dataframe tbody tr th:only-of-type {\n",
       "        vertical-align: middle;\n",
       "    }\n",
       "\n",
       "    .dataframe tbody tr th {\n",
       "        vertical-align: top;\n",
       "    }\n",
       "\n",
       "    .dataframe thead th {\n",
       "        text-align: right;\n",
       "    }\n",
       "</style>\n",
       "<table border=\"1\" class=\"dataframe\">\n",
       "  <thead>\n",
       "    <tr style=\"text-align: right;\">\n",
       "      <th></th>\n",
       "      <th>bearer_id</th>\n",
       "      <th>dur___ms__1</th>\n",
       "      <th>http_dl__bytes_</th>\n",
       "      <th>http_ul__bytes_</th>\n",
       "      <th>activity_duration_dl__ms_</th>\n",
       "      <th>activity_duration_ul__ms_</th>\n",
       "      <th>handset_manufacturer</th>\n",
       "      <th>handset_type</th>\n",
       "      <th>social_media_dl__bytes_</th>\n",
       "      <th>social_media_ul__bytes_</th>\n",
       "      <th>...</th>\n",
       "      <th>youtube_dl__bytes_</th>\n",
       "      <th>youtube_ul__bytes_</th>\n",
       "      <th>netflix_dl__bytes_</th>\n",
       "      <th>netflix_ul__bytes_</th>\n",
       "      <th>gaming_dl__bytes_</th>\n",
       "      <th>gaming_ul__bytes_</th>\n",
       "      <th>other_dl__bytes_</th>\n",
       "      <th>other_ul__bytes_</th>\n",
       "      <th>total_ul__bytes_</th>\n",
       "      <th>total_dl__bytes_</th>\n",
       "    </tr>\n",
       "  </thead>\n",
       "  <tbody>\n",
       "    <tr>\n",
       "      <th>0</th>\n",
       "      <td>13114483460844900352</td>\n",
       "      <td>86399953.0</td>\n",
       "      <td>1941949.0</td>\n",
       "      <td>229733.0</td>\n",
       "      <td>37624.0</td>\n",
       "      <td>38787.0</td>\n",
       "      <td>samsung</td>\n",
       "      <td>samsung galaxy a5 sm-a520f</td>\n",
       "      <td>1.545765e+06</td>\n",
       "      <td>24420.00000</td>\n",
       "      <td>...</td>\n",
       "      <td>1.585461e+07</td>\n",
       "      <td>2.501332e+06</td>\n",
       "      <td>8.198936e+06</td>\n",
       "      <td>9.656251e+06</td>\n",
       "      <td>2.780823e+08</td>\n",
       "      <td>1.434415e+07</td>\n",
       "      <td>1.717444e+08</td>\n",
       "      <td>8.814393e+06</td>\n",
       "      <td>36749741.0</td>\n",
       "      <td>308879636.0</td>\n",
       "    </tr>\n",
       "    <tr>\n",
       "      <th>1</th>\n",
       "      <td>13114483482878900224</td>\n",
       "      <td>86399953.0</td>\n",
       "      <td>1941949.0</td>\n",
       "      <td>229733.0</td>\n",
       "      <td>168.0</td>\n",
       "      <td>3560.0</td>\n",
       "      <td>samsung</td>\n",
       "      <td>samsung galaxy j5 (sm-j530)</td>\n",
       "      <td>1.926113e+06</td>\n",
       "      <td>7165.00000</td>\n",
       "      <td>...</td>\n",
       "      <td>2.024740e+07</td>\n",
       "      <td>1.911173e+07</td>\n",
       "      <td>1.833841e+07</td>\n",
       "      <td>1.722713e+07</td>\n",
       "      <td>6.087501e+08</td>\n",
       "      <td>1.170709e+06</td>\n",
       "      <td>5.269042e+08</td>\n",
       "      <td>1.505514e+07</td>\n",
       "      <td>53800391.0</td>\n",
       "      <td>653384965.0</td>\n",
       "    </tr>\n",
       "    <tr>\n",
       "      <th>2</th>\n",
       "      <td>13114483484080500736</td>\n",
       "      <td>86399953.0</td>\n",
       "      <td>1941949.0</td>\n",
       "      <td>229733.0</td>\n",
       "      <td>0.0</td>\n",
       "      <td>0.0</td>\n",
       "      <td>samsung</td>\n",
       "      <td>samsung galaxy a8 (2018)</td>\n",
       "      <td>1.684053e+06</td>\n",
       "      <td>42224.00000</td>\n",
       "      <td>...</td>\n",
       "      <td>1.972566e+07</td>\n",
       "      <td>1.469958e+07</td>\n",
       "      <td>1.758779e+07</td>\n",
       "      <td>6.163408e+06</td>\n",
       "      <td>2.295846e+08</td>\n",
       "      <td>3.956300e+05</td>\n",
       "      <td>4.106926e+08</td>\n",
       "      <td>4.215763e+06</td>\n",
       "      <td>27883638.0</td>\n",
       "      <td>279807335.0</td>\n",
       "    </tr>\n",
       "    <tr>\n",
       "      <th>3</th>\n",
       "      <td>13114483485442799616</td>\n",
       "      <td>86399953.0</td>\n",
       "      <td>1941949.0</td>\n",
       "      <td>229733.0</td>\n",
       "      <td>3330.0</td>\n",
       "      <td>37882.0</td>\n",
       "      <td>undefined</td>\n",
       "      <td>undefined</td>\n",
       "      <td>6.441210e+05</td>\n",
       "      <td>13372.00000</td>\n",
       "      <td>...</td>\n",
       "      <td>2.138812e+07</td>\n",
       "      <td>1.514664e+07</td>\n",
       "      <td>1.399465e+07</td>\n",
       "      <td>1.097942e+06</td>\n",
       "      <td>7.995382e+08</td>\n",
       "      <td>1.084972e+07</td>\n",
       "      <td>7.490399e+08</td>\n",
       "      <td>1.279728e+07</td>\n",
       "      <td>43324218.0</td>\n",
       "      <td>846028530.0</td>\n",
       "    </tr>\n",
       "    <tr>\n",
       "      <th>4</th>\n",
       "      <td>13114483499480700928</td>\n",
       "      <td>86399953.0</td>\n",
       "      <td>1941949.0</td>\n",
       "      <td>229733.0</td>\n",
       "      <td>0.0</td>\n",
       "      <td>0.0</td>\n",
       "      <td>samsung</td>\n",
       "      <td>samsung sm-g390f</td>\n",
       "      <td>8.626000e+05</td>\n",
       "      <td>50188.00000</td>\n",
       "      <td>...</td>\n",
       "      <td>1.525938e+07</td>\n",
       "      <td>1.896287e+07</td>\n",
       "      <td>1.712458e+07</td>\n",
       "      <td>4.152180e+05</td>\n",
       "      <td>5.277072e+08</td>\n",
       "      <td>3.529801e+06</td>\n",
       "      <td>5.507095e+08</td>\n",
       "      <td>1.391032e+07</td>\n",
       "      <td>38542814.0</td>\n",
       "      <td>569138589.0</td>\n",
       "    </tr>\n",
       "    <tr>\n",
       "      <th>...</th>\n",
       "      <td>...</td>\n",
       "      <td>...</td>\n",
       "      <td>...</td>\n",
       "      <td>...</td>\n",
       "      <td>...</td>\n",
       "      <td>...</td>\n",
       "      <td>...</td>\n",
       "      <td>...</td>\n",
       "      <td>...</td>\n",
       "      <td>...</td>\n",
       "      <td>...</td>\n",
       "      <td>...</td>\n",
       "      <td>...</td>\n",
       "      <td>...</td>\n",
       "      <td>...</td>\n",
       "      <td>...</td>\n",
       "      <td>...</td>\n",
       "      <td>...</td>\n",
       "      <td>...</td>\n",
       "      <td>...</td>\n",
       "      <td>...</td>\n",
       "    </tr>\n",
       "    <tr>\n",
       "      <th>149996</th>\n",
       "      <td>7277825670196679680</td>\n",
       "      <td>81230763.0</td>\n",
       "      <td>1941949.0</td>\n",
       "      <td>229733.0</td>\n",
       "      <td>42376.0</td>\n",
       "      <td>41915.0</td>\n",
       "      <td>apple</td>\n",
       "      <td>apple iphone 8 plus (a1897)</td>\n",
       "      <td>3.464974e+06</td>\n",
       "      <td>52091.00000</td>\n",
       "      <td>...</td>\n",
       "      <td>1.619167e+07</td>\n",
       "      <td>1.176343e+07</td>\n",
       "      <td>1.788370e+07</td>\n",
       "      <td>1.967816e+07</td>\n",
       "      <td>5.266097e+08</td>\n",
       "      <td>9.197207e+06</td>\n",
       "      <td>3.264510e+06</td>\n",
       "      <td>1.348742e+07</td>\n",
       "      <td>57628851.0</td>\n",
       "      <td>574175259.0</td>\n",
       "    </tr>\n",
       "    <tr>\n",
       "      <th>149997</th>\n",
       "      <td>7349883264234609664</td>\n",
       "      <td>97970704.0</td>\n",
       "      <td>1941949.0</td>\n",
       "      <td>229733.0</td>\n",
       "      <td>17264.0</td>\n",
       "      <td>16759.0</td>\n",
       "      <td>apple</td>\n",
       "      <td>apple iphone se (a1723)</td>\n",
       "      <td>2.344568e+06</td>\n",
       "      <td>7613.00000</td>\n",
       "      <td>...</td>\n",
       "      <td>1.387723e+07</td>\n",
       "      <td>8.288284e+06</td>\n",
       "      <td>1.935015e+07</td>\n",
       "      <td>2.129315e+07</td>\n",
       "      <td>6.268931e+08</td>\n",
       "      <td>4.735033e+06</td>\n",
       "      <td>7.121804e+08</td>\n",
       "      <td>2.457758e+06</td>\n",
       "      <td>39135081.0</td>\n",
       "      <td>666648844.0</td>\n",
       "    </tr>\n",
       "    <tr>\n",
       "      <th>149998</th>\n",
       "      <td>13114483573367300096</td>\n",
       "      <td>98249527.0</td>\n",
       "      <td>1941949.0</td>\n",
       "      <td>229733.0</td>\n",
       "      <td>25003.0</td>\n",
       "      <td>28640.0</td>\n",
       "      <td>apple</td>\n",
       "      <td>apple iphone xs (a2097)</td>\n",
       "      <td>1.245845e+06</td>\n",
       "      <td>14394.00000</td>\n",
       "      <td>...</td>\n",
       "      <td>2.266051e+07</td>\n",
       "      <td>1.855903e+06</td>\n",
       "      <td>9.963942e+06</td>\n",
       "      <td>5.065760e+06</td>\n",
       "      <td>5.535395e+08</td>\n",
       "      <td>1.339432e+07</td>\n",
       "      <td>1.211009e+08</td>\n",
       "      <td>1.131473e+07</td>\n",
       "      <td>34912224.0</td>\n",
       "      <td>592786405.0</td>\n",
       "    </tr>\n",
       "    <tr>\n",
       "      <th>149999</th>\n",
       "      <td>13114483573367300096</td>\n",
       "      <td>97910631.0</td>\n",
       "      <td>1941949.0</td>\n",
       "      <td>229733.0</td>\n",
       "      <td>13405.0</td>\n",
       "      <td>34088.0</td>\n",
       "      <td>huawei</td>\n",
       "      <td>huawei fig-lx1</td>\n",
       "      <td>8.015470e+05</td>\n",
       "      <td>21562.00000</td>\n",
       "      <td>...</td>\n",
       "      <td>8.817106e+06</td>\n",
       "      <td>8.305402e+06</td>\n",
       "      <td>3.322253e+06</td>\n",
       "      <td>1.317259e+07</td>\n",
       "      <td>3.525370e+08</td>\n",
       "      <td>2.529475e+06</td>\n",
       "      <td>8.147131e+08</td>\n",
       "      <td>1.406930e+06</td>\n",
       "      <td>29626096.0</td>\n",
       "      <td>371895920.0</td>\n",
       "    </tr>\n",
       "    <tr>\n",
       "      <th>150000</th>\n",
       "      <td></td>\n",
       "      <td>86399983.0</td>\n",
       "      <td>1941949.0</td>\n",
       "      <td>229733.0</td>\n",
       "      <td>39304.5</td>\n",
       "      <td>46793.5</td>\n",
       "      <td>apple</td>\n",
       "      <td>huawei b528s-23a</td>\n",
       "      <td>1.795322e+06</td>\n",
       "      <td>32928.43438</td>\n",
       "      <td>...</td>\n",
       "      <td>1.163407e+07</td>\n",
       "      <td>1.100941e+07</td>\n",
       "      <td>1.162685e+07</td>\n",
       "      <td>1.100175e+07</td>\n",
       "      <td>4.220447e+08</td>\n",
       "      <td>8.288398e+06</td>\n",
       "      <td>4.211005e+08</td>\n",
       "      <td>8.264799e+06</td>\n",
       "      <td>41143312.0</td>\n",
       "      <td>455841077.5</td>\n",
       "    </tr>\n",
       "  </tbody>\n",
       "</table>\n",
       "<p>150001 rows × 24 columns</p>\n",
       "</div>"
      ],
      "text/plain": [
       "                   bearer_id  dur___ms__1  http_dl__bytes_  http_ul__bytes_  \\\n",
       "0       13114483460844900352   86399953.0        1941949.0         229733.0   \n",
       "1       13114483482878900224   86399953.0        1941949.0         229733.0   \n",
       "2       13114483484080500736   86399953.0        1941949.0         229733.0   \n",
       "3       13114483485442799616   86399953.0        1941949.0         229733.0   \n",
       "4       13114483499480700928   86399953.0        1941949.0         229733.0   \n",
       "...                      ...          ...              ...              ...   \n",
       "149996   7277825670196679680   81230763.0        1941949.0         229733.0   \n",
       "149997   7349883264234609664   97970704.0        1941949.0         229733.0   \n",
       "149998  13114483573367300096   98249527.0        1941949.0         229733.0   \n",
       "149999  13114483573367300096   97910631.0        1941949.0         229733.0   \n",
       "150000                         86399983.0        1941949.0         229733.0   \n",
       "\n",
       "        activity_duration_dl__ms_  activity_duration_ul__ms_  \\\n",
       "0                         37624.0                    38787.0   \n",
       "1                           168.0                     3560.0   \n",
       "2                             0.0                        0.0   \n",
       "3                          3330.0                    37882.0   \n",
       "4                             0.0                        0.0   \n",
       "...                           ...                        ...   \n",
       "149996                    42376.0                    41915.0   \n",
       "149997                    17264.0                    16759.0   \n",
       "149998                    25003.0                    28640.0   \n",
       "149999                    13405.0                    34088.0   \n",
       "150000                    39304.5                    46793.5   \n",
       "\n",
       "       handset_manufacturer                 handset_type  \\\n",
       "0                   samsung   samsung galaxy a5 sm-a520f   \n",
       "1                   samsung  samsung galaxy j5 (sm-j530)   \n",
       "2                   samsung     samsung galaxy a8 (2018)   \n",
       "3                 undefined                    undefined   \n",
       "4                   samsung             samsung sm-g390f   \n",
       "...                     ...                          ...   \n",
       "149996                apple  apple iphone 8 plus (a1897)   \n",
       "149997                apple      apple iphone se (a1723)   \n",
       "149998                apple      apple iphone xs (a2097)   \n",
       "149999               huawei               huawei fig-lx1   \n",
       "150000                apple             huawei b528s-23a   \n",
       "\n",
       "        social_media_dl__bytes_  social_media_ul__bytes_  ...  \\\n",
       "0                  1.545765e+06              24420.00000  ...   \n",
       "1                  1.926113e+06               7165.00000  ...   \n",
       "2                  1.684053e+06              42224.00000  ...   \n",
       "3                  6.441210e+05              13372.00000  ...   \n",
       "4                  8.626000e+05              50188.00000  ...   \n",
       "...                         ...                      ...  ...   \n",
       "149996             3.464974e+06              52091.00000  ...   \n",
       "149997             2.344568e+06               7613.00000  ...   \n",
       "149998             1.245845e+06              14394.00000  ...   \n",
       "149999             8.015470e+05              21562.00000  ...   \n",
       "150000             1.795322e+06              32928.43438  ...   \n",
       "\n",
       "        youtube_dl__bytes_  youtube_ul__bytes_  netflix_dl__bytes_  \\\n",
       "0             1.585461e+07        2.501332e+06        8.198936e+06   \n",
       "1             2.024740e+07        1.911173e+07        1.833841e+07   \n",
       "2             1.972566e+07        1.469958e+07        1.758779e+07   \n",
       "3             2.138812e+07        1.514664e+07        1.399465e+07   \n",
       "4             1.525938e+07        1.896287e+07        1.712458e+07   \n",
       "...                    ...                 ...                 ...   \n",
       "149996        1.619167e+07        1.176343e+07        1.788370e+07   \n",
       "149997        1.387723e+07        8.288284e+06        1.935015e+07   \n",
       "149998        2.266051e+07        1.855903e+06        9.963942e+06   \n",
       "149999        8.817106e+06        8.305402e+06        3.322253e+06   \n",
       "150000        1.163407e+07        1.100941e+07        1.162685e+07   \n",
       "\n",
       "        netflix_ul__bytes_  gaming_dl__bytes_  gaming_ul__bytes_  \\\n",
       "0             9.656251e+06       2.780823e+08       1.434415e+07   \n",
       "1             1.722713e+07       6.087501e+08       1.170709e+06   \n",
       "2             6.163408e+06       2.295846e+08       3.956300e+05   \n",
       "3             1.097942e+06       7.995382e+08       1.084972e+07   \n",
       "4             4.152180e+05       5.277072e+08       3.529801e+06   \n",
       "...                    ...                ...                ...   \n",
       "149996        1.967816e+07       5.266097e+08       9.197207e+06   \n",
       "149997        2.129315e+07       6.268931e+08       4.735033e+06   \n",
       "149998        5.065760e+06       5.535395e+08       1.339432e+07   \n",
       "149999        1.317259e+07       3.525370e+08       2.529475e+06   \n",
       "150000        1.100175e+07       4.220447e+08       8.288398e+06   \n",
       "\n",
       "        other_dl__bytes_  other_ul__bytes_  total_ul__bytes_  total_dl__bytes_  \n",
       "0           1.717444e+08      8.814393e+06        36749741.0       308879636.0  \n",
       "1           5.269042e+08      1.505514e+07        53800391.0       653384965.0  \n",
       "2           4.106926e+08      4.215763e+06        27883638.0       279807335.0  \n",
       "3           7.490399e+08      1.279728e+07        43324218.0       846028530.0  \n",
       "4           5.507095e+08      1.391032e+07        38542814.0       569138589.0  \n",
       "...                  ...               ...               ...               ...  \n",
       "149996      3.264510e+06      1.348742e+07        57628851.0       574175259.0  \n",
       "149997      7.121804e+08      2.457758e+06        39135081.0       666648844.0  \n",
       "149998      1.211009e+08      1.131473e+07        34912224.0       592786405.0  \n",
       "149999      8.147131e+08      1.406930e+06        29626096.0       371895920.0  \n",
       "150000      4.211005e+08      8.264799e+06        41143312.0       455841077.5  \n",
       "\n",
       "[150001 rows x 24 columns]"
      ]
     },
     "execution_count": 266,
     "metadata": {},
     "output_type": "execute_result"
    }
   ],
   "source": [
    "data2"
   ]
  },
  {
   "cell_type": "code",
   "execution_count": 267,
   "metadata": {},
   "outputs": [
    {
     "data": {
      "text/plain": [
       "Index(['bearer_id', 'dur___ms__1', 'http_dl__bytes_', 'http_ul__bytes_',\n",
       "       'activity_duration_dl__ms_', 'activity_duration_ul__ms_',\n",
       "       'handset_manufacturer', 'handset_type', 'social_media_dl__bytes_',\n",
       "       'social_media_ul__bytes_', 'google_dl__bytes_', 'google_ul__bytes_',\n",
       "       'email_dl__bytes_', 'email_ul__bytes_', 'youtube_dl__bytes_',\n",
       "       'youtube_ul__bytes_', 'netflix_dl__bytes_', 'netflix_ul__bytes_',\n",
       "       'gaming_dl__bytes_', 'gaming_ul__bytes_', 'other_dl__bytes_',\n",
       "       'other_ul__bytes_', 'total_ul__bytes_', 'total_dl__bytes_'],\n",
       "      dtype='object')"
      ]
     },
     "execution_count": 267,
     "metadata": {},
     "output_type": "execute_result"
    }
   ],
   "source": [
    "data2.columns"
   ]
  },
  {
   "cell_type": "markdown",
   "metadata": {},
   "source": [
    "<a id='r1'></a>\n",
    "\n",
    "#### Research Question 1"
   ]
  },
  {
   "cell_type": "markdown",
   "metadata": {},
   "source": [
    "  - Top performers\n",
    " \n",
    "       - Who/What are the top tiers accros manufacturers, handsets and customers\n",
    "          \n",
    "       - What group of users belong each to the top 5 decile classes based on the total duration for all sessions"
   ]
  },
  {
   "cell_type": "markdown",
   "metadata": {},
   "source": [
    " "
   ]
  },
  {
   "cell_type": "markdown",
   "metadata": {},
   "source": [
    "#### Who/What are the top tiers accros manufacturers, handsets and customers\n",
    " "
   ]
  },
  {
   "cell_type": "markdown",
   "metadata": {},
   "source": [
    " ##### A\n",
    " \n",
    " In answering these, we would focus on identifying the following:"
   ]
  },
  {
   "cell_type": "markdown",
   "metadata": {},
   "source": [
    "- top 10 handsets used by the customers.\n",
    "\n",
    "- top 3 handset manufacturers\n",
    "\n",
    "- top 5 handsets per handset manufacturer"
   ]
  },
  {
   "cell_type": "markdown",
   "metadata": {},
   "source": [
    "> top 10 handsets used by the customers"
   ]
  },
  {
   "cell_type": "code",
   "execution_count": 268,
   "metadata": {},
   "outputs": [],
   "source": [
    "top10_handests = data2.groupby('handset_type')['bearer_id'].count().reset_index(name=\"customer_count\").sort_values('customer_count', ascending=False).head(10)"
   ]
  },
  {
   "cell_type": "code",
   "execution_count": 269,
   "metadata": {},
   "outputs": [
    {
     "data": {
      "text/html": [
       "<div>\n",
       "<style scoped>\n",
       "    .dataframe tbody tr th:only-of-type {\n",
       "        vertical-align: middle;\n",
       "    }\n",
       "\n",
       "    .dataframe tbody tr th {\n",
       "        vertical-align: top;\n",
       "    }\n",
       "\n",
       "    .dataframe thead th {\n",
       "        text-align: right;\n",
       "    }\n",
       "</style>\n",
       "<table border=\"1\" class=\"dataframe\">\n",
       "  <thead>\n",
       "    <tr style=\"text-align: right;\">\n",
       "      <th></th>\n",
       "      <th>handset_type</th>\n",
       "      <th>customer_count</th>\n",
       "    </tr>\n",
       "  </thead>\n",
       "  <tbody>\n",
       "    <tr>\n",
       "      <th>316</th>\n",
       "      <td>huawei b528s-23a</td>\n",
       "      <td>20324</td>\n",
       "    </tr>\n",
       "    <tr>\n",
       "      <th>53</th>\n",
       "      <td>apple iphone 6s (a1688)</td>\n",
       "      <td>9419</td>\n",
       "    </tr>\n",
       "    <tr>\n",
       "      <th>49</th>\n",
       "      <td>apple iphone 6 (a1586)</td>\n",
       "      <td>9023</td>\n",
       "    </tr>\n",
       "    <tr>\n",
       "      <th>1247</th>\n",
       "      <td>undefined</td>\n",
       "      <td>8987</td>\n",
       "    </tr>\n",
       "    <tr>\n",
       "      <th>59</th>\n",
       "      <td>apple iphone 7 (a1778)</td>\n",
       "      <td>6326</td>\n",
       "    </tr>\n",
       "    <tr>\n",
       "      <th>73</th>\n",
       "      <td>apple iphone se (a1723)</td>\n",
       "      <td>5187</td>\n",
       "    </tr>\n",
       "    <tr>\n",
       "      <th>66</th>\n",
       "      <td>apple iphone 8 (a1905)</td>\n",
       "      <td>4993</td>\n",
       "    </tr>\n",
       "    <tr>\n",
       "      <th>78</th>\n",
       "      <td>apple iphone xr (a2105)</td>\n",
       "      <td>4568</td>\n",
       "    </tr>\n",
       "    <tr>\n",
       "      <th>955</th>\n",
       "      <td>samsung galaxy s8 (sm-g950f)</td>\n",
       "      <td>4520</td>\n",
       "    </tr>\n",
       "    <tr>\n",
       "      <th>75</th>\n",
       "      <td>apple iphone x (a1901)</td>\n",
       "      <td>3813</td>\n",
       "    </tr>\n",
       "  </tbody>\n",
       "</table>\n",
       "</div>"
      ],
      "text/plain": [
       "                      handset_type  customer_count\n",
       "316               huawei b528s-23a           20324\n",
       "53         apple iphone 6s (a1688)            9419\n",
       "49          apple iphone 6 (a1586)            9023\n",
       "1247                     undefined            8987\n",
       "59          apple iphone 7 (a1778)            6326\n",
       "73         apple iphone se (a1723)            5187\n",
       "66          apple iphone 8 (a1905)            4993\n",
       "78         apple iphone xr (a2105)            4568\n",
       "955   samsung galaxy s8 (sm-g950f)            4520\n",
       "75          apple iphone x (a1901)            3813"
      ]
     },
     "execution_count": 269,
     "metadata": {},
     "output_type": "execute_result"
    }
   ],
   "source": [
    "top10_handests"
   ]
  },
  {
   "cell_type": "code",
   "execution_count": 270,
   "metadata": {},
   "outputs": [],
   "source": [
    "top10_handests.rename(columns={'handset_type': 'Handset_Type', 'customer_Count':'Customer_Count'}, inplace=True)"
   ]
  },
  {
   "cell_type": "code",
   "execution_count": 271,
   "metadata": {},
   "outputs": [
    {
     "data": {
      "text/html": [
       "<div>\n",
       "<style scoped>\n",
       "    .dataframe tbody tr th:only-of-type {\n",
       "        vertical-align: middle;\n",
       "    }\n",
       "\n",
       "    .dataframe tbody tr th {\n",
       "        vertical-align: top;\n",
       "    }\n",
       "\n",
       "    .dataframe thead th {\n",
       "        text-align: right;\n",
       "    }\n",
       "</style>\n",
       "<table border=\"1\" class=\"dataframe\">\n",
       "  <thead>\n",
       "    <tr style=\"text-align: right;\">\n",
       "      <th></th>\n",
       "      <th>Handset_Type</th>\n",
       "      <th>customer_count</th>\n",
       "    </tr>\n",
       "  </thead>\n",
       "  <tbody>\n",
       "    <tr>\n",
       "      <th>316</th>\n",
       "      <td>huawei b528s-23a</td>\n",
       "      <td>20324</td>\n",
       "    </tr>\n",
       "    <tr>\n",
       "      <th>53</th>\n",
       "      <td>apple iphone 6s (a1688)</td>\n",
       "      <td>9419</td>\n",
       "    </tr>\n",
       "    <tr>\n",
       "      <th>49</th>\n",
       "      <td>apple iphone 6 (a1586)</td>\n",
       "      <td>9023</td>\n",
       "    </tr>\n",
       "    <tr>\n",
       "      <th>1247</th>\n",
       "      <td>undefined</td>\n",
       "      <td>8987</td>\n",
       "    </tr>\n",
       "    <tr>\n",
       "      <th>59</th>\n",
       "      <td>apple iphone 7 (a1778)</td>\n",
       "      <td>6326</td>\n",
       "    </tr>\n",
       "    <tr>\n",
       "      <th>73</th>\n",
       "      <td>apple iphone se (a1723)</td>\n",
       "      <td>5187</td>\n",
       "    </tr>\n",
       "    <tr>\n",
       "      <th>66</th>\n",
       "      <td>apple iphone 8 (a1905)</td>\n",
       "      <td>4993</td>\n",
       "    </tr>\n",
       "    <tr>\n",
       "      <th>78</th>\n",
       "      <td>apple iphone xr (a2105)</td>\n",
       "      <td>4568</td>\n",
       "    </tr>\n",
       "    <tr>\n",
       "      <th>955</th>\n",
       "      <td>samsung galaxy s8 (sm-g950f)</td>\n",
       "      <td>4520</td>\n",
       "    </tr>\n",
       "    <tr>\n",
       "      <th>75</th>\n",
       "      <td>apple iphone x (a1901)</td>\n",
       "      <td>3813</td>\n",
       "    </tr>\n",
       "  </tbody>\n",
       "</table>\n",
       "</div>"
      ],
      "text/plain": [
       "                      Handset_Type  customer_count\n",
       "316               huawei b528s-23a           20324\n",
       "53         apple iphone 6s (a1688)            9419\n",
       "49          apple iphone 6 (a1586)            9023\n",
       "1247                     undefined            8987\n",
       "59          apple iphone 7 (a1778)            6326\n",
       "73         apple iphone se (a1723)            5187\n",
       "66          apple iphone 8 (a1905)            4993\n",
       "78         apple iphone xr (a2105)            4568\n",
       "955   samsung galaxy s8 (sm-g950f)            4520\n",
       "75          apple iphone x (a1901)            3813"
      ]
     },
     "execution_count": 271,
     "metadata": {},
     "output_type": "execute_result"
    }
   ],
   "source": [
    "top10_handests"
   ]
  },
  {
   "cell_type": "code",
   "execution_count": 272,
   "metadata": {},
   "outputs": [
    {
     "data": {
      "image/png": "[encoded data removed]",
      "text/plain": [
       "<Figure size 1080x720 with 1 Axes>"
      ]
     },
     "metadata": {
      "needs_background": "light"
     },
     "output_type": "display_data"
    }
   ],
   "source": [
    "plt.subplots(figsize=(15,10))\n",
    "plt.xticks(rotation=40, fontsize=14)\n",
    "plt.yticks(fontsize=14)\n",
    "plt.xlabel('Customer_Count', fontsize=16)\n",
    "plt.ylabel('Cust', fontsize=16)\n",
    "plt.title('TOP 10 HANDSETS USED BY CUSTOMERS', fontsize=20)\n",
    "sns.barplot(x='Handset_Type', y= 'customer_count', data=top10_handests, color='g')\n",
    "# save chart\n",
    "plt.savefig(fname='visuals/top10Hansets.png', format='png')\n",
    "plt.show()"
   ]
  },
  {
   "cell_type": "markdown",
   "metadata": {},
   "source": [
    "- Observation\n",
    "\n",
    "> From the above we can deduce the folowing:\n",
    "\n",
    "    1. Smart Phones are the most popularly used phones \n",
    "    \n",
    "    2. Huawei phone specifically brand (_Huawei B528S-23A_) have the largest sngle purchase\n",
    "    \n",
    "    3. Apple phone brands is the most popular (and possibly have the highest market share)"
   ]
  },
  {
   "cell_type": "markdown",
   "metadata": {},
   "source": [
    " "
   ]
  },
  {
   "cell_type": "markdown",
   "metadata": {},
   "source": [
    " "
   ]
  },
  {
   "cell_type": "markdown",
   "metadata": {},
   "source": [
    "  "
   ]
  },
  {
   "cell_type": "markdown",
   "metadata": {},
   "source": [
    "> top 3 handset manufacturers"
   ]
  },
  {
   "cell_type": "code",
   "execution_count": 273,
   "metadata": {},
   "outputs": [],
   "source": [
    "top3_man = data2.groupby('handset_manufacturer')['bearer_id'].count().reset_index().sort_values('bearer_id', ascending=False).head(3)"
   ]
  },
  {
   "cell_type": "code",
   "execution_count": 274,
   "metadata": {},
   "outputs": [],
   "source": [
    "top3_man.rename(columns={'handset_manufacturer': 'Manufacturer', 'bearer_id':'Customer_Count'}, inplace=True)"
   ]
  },
  {
   "cell_type": "code",
   "execution_count": 275,
   "metadata": {},
   "outputs": [
    {
     "data": {
      "text/html": [
       "<div>\n",
       "<style scoped>\n",
       "    .dataframe tbody tr th:only-of-type {\n",
       "        vertical-align: middle;\n",
       "    }\n",
       "\n",
       "    .dataframe tbody tr th {\n",
       "        vertical-align: top;\n",
       "    }\n",
       "\n",
       "    .dataframe thead th {\n",
       "        text-align: right;\n",
       "    }\n",
       "</style>\n",
       "<table border=\"1\" class=\"dataframe\">\n",
       "  <thead>\n",
       "    <tr style=\"text-align: right;\">\n",
       "      <th></th>\n",
       "      <th>Manufacturer</th>\n",
       "      <th>Customer_Count</th>\n",
       "    </tr>\n",
       "  </thead>\n",
       "  <tbody>\n",
       "    <tr>\n",
       "      <th>4</th>\n",
       "      <td>apple</td>\n",
       "      <td>60137</td>\n",
       "    </tr>\n",
       "    <tr>\n",
       "      <th>93</th>\n",
       "      <td>samsung</td>\n",
       "      <td>40839</td>\n",
       "    </tr>\n",
       "    <tr>\n",
       "      <th>46</th>\n",
       "      <td>huawei</td>\n",
       "      <td>34423</td>\n",
       "    </tr>\n",
       "  </tbody>\n",
       "</table>\n",
       "</div>"
      ],
      "text/plain": [
       "   Manufacturer  Customer_Count\n",
       "4         apple           60137\n",
       "93      samsung           40839\n",
       "46       huawei           34423"
      ]
     },
     "execution_count": 275,
     "metadata": {},
     "output_type": "execute_result"
    }
   ],
   "source": [
    "top3_man"
   ]
  },
  {
   "cell_type": "code",
   "execution_count": 276,
   "metadata": {},
   "outputs": [
    {
     "data": {
      "image/png": "[encoded data removed]",
      "text/plain": [
       "<Figure size 1080x720 with 1 Axes>"
      ]
     },
     "metadata": {
      "needs_background": "light"
     },
     "output_type": "display_data"
    }
   ],
   "source": [
    "plt.subplots(figsize=(15,10))\n",
    "plt.xticks(rotation=40, fontsize=14)\n",
    "plt.yticks(fontsize=14)\n",
    "plt.xlabel('Manufacturer', fontsize=16)\n",
    "plt.ylabel('Cust', fontsize=16)\n",
    "plt.title('TOP 3 HANDSETS  MANUFACTURERS', fontsize=20)\n",
    "sns.barplot(x='Manufacturer', y= 'Customer_Count', data=top3_man, color='b')\n",
    "plt.savefig(fname='visuals/top3Man.png', format='png')\n",
    "plt.show()"
   ]
  },
  {
   "cell_type": "markdown",
   "metadata": {},
   "source": [
    "- Observation\n",
    "\n",
    "> From the above we can deduce the folowing:\n",
    "\n",
    "   1. Apple Manufacturer have the highest purchse among the customers .\n",
    "   \n",
    "       This is also indicative that most cutomers are i-phone subscribers"
   ]
  },
  {
   "cell_type": "markdown",
   "metadata": {},
   "source": [
    " "
   ]
  },
  {
   "cell_type": "markdown",
   "metadata": {},
   "source": [
    " "
   ]
  },
  {
   "cell_type": "markdown",
   "metadata": {},
   "source": [
    "> top 5 handsets per handset manufacturer"
   ]
  },
  {
   "cell_type": "code",
   "execution_count": 277,
   "metadata": {},
   "outputs": [],
   "source": [
    "top5Hands_man = data2.groupby(['handset_manufacturer','handset_type'])['handset_type'].count()"
   ]
  },
  {
   "cell_type": "code",
   "execution_count": 278,
   "metadata": {},
   "outputs": [
    {
     "data": {
      "text/plain": [
       "handset_manufacturer                     handset_type                                                                       \n",
       "a-link telecom international co limited  a-link telecom i. cubot a5                                                             1\n",
       "                                         a-link telecom i. cubot note plus                                                      1\n",
       "                                         a-link telecom i. cubot note s                                                         1\n",
       "                                         a-link telecom i. cubot nova                                                           1\n",
       "                                         a-link telecom i. cubot power                                                          1\n",
       "                                                                                                                               ..\n",
       "zte                                      zte starxtrem by sfr                                                                   1\n",
       "                                         zte zte blade c2 smartphone android by sfr startrail 4 zte blade flex t809 zte t809    2\n",
       "zyxel communications corp                zyxel communicat. lte7460                                                              1\n",
       "                                         zyxel communicat. sbg3600                                                              1\n",
       "                                         zyxel communicat. zyxel wah7706                                                        1\n",
       "Name: handset_type, Length: 1397, dtype: int64"
      ]
     },
     "execution_count": 278,
     "metadata": {},
     "output_type": "execute_result"
    }
   ],
   "source": [
    "top5Hands_man"
   ]
  },
  {
   "cell_type": "code",
   "execution_count": 279,
   "metadata": {},
   "outputs": [],
   "source": [
    "top5Hands_man=top5Hands_man.reset_index(name='count')"
   ]
  },
  {
   "cell_type": "code",
   "execution_count": 280,
   "metadata": {},
   "outputs": [
    {
     "data": {
      "text/html": [
       "<div>\n",
       "<style scoped>\n",
       "    .dataframe tbody tr th:only-of-type {\n",
       "        vertical-align: middle;\n",
       "    }\n",
       "\n",
       "    .dataframe tbody tr th {\n",
       "        vertical-align: top;\n",
       "    }\n",
       "\n",
       "    .dataframe thead th {\n",
       "        text-align: right;\n",
       "    }\n",
       "</style>\n",
       "<table border=\"1\" class=\"dataframe\">\n",
       "  <thead>\n",
       "    <tr style=\"text-align: right;\">\n",
       "      <th></th>\n",
       "      <th>handset_manufacturer</th>\n",
       "      <th>handset_type</th>\n",
       "      <th>count</th>\n",
       "    </tr>\n",
       "  </thead>\n",
       "  <tbody>\n",
       "    <tr>\n",
       "      <th>0</th>\n",
       "      <td>a-link telecom international co limited</td>\n",
       "      <td>a-link telecom i. cubot a5</td>\n",
       "      <td>1</td>\n",
       "    </tr>\n",
       "    <tr>\n",
       "      <th>1</th>\n",
       "      <td>a-link telecom international co limited</td>\n",
       "      <td>a-link telecom i. cubot note plus</td>\n",
       "      <td>1</td>\n",
       "    </tr>\n",
       "    <tr>\n",
       "      <th>2</th>\n",
       "      <td>a-link telecom international co limited</td>\n",
       "      <td>a-link telecom i. cubot note s</td>\n",
       "      <td>1</td>\n",
       "    </tr>\n",
       "    <tr>\n",
       "      <th>3</th>\n",
       "      <td>a-link telecom international co limited</td>\n",
       "      <td>a-link telecom i. cubot nova</td>\n",
       "      <td>1</td>\n",
       "    </tr>\n",
       "    <tr>\n",
       "      <th>4</th>\n",
       "      <td>a-link telecom international co limited</td>\n",
       "      <td>a-link telecom i. cubot power</td>\n",
       "      <td>1</td>\n",
       "    </tr>\n",
       "    <tr>\n",
       "      <th>...</th>\n",
       "      <td>...</td>\n",
       "      <td>...</td>\n",
       "      <td>...</td>\n",
       "    </tr>\n",
       "    <tr>\n",
       "      <th>1392</th>\n",
       "      <td>zte</td>\n",
       "      <td>zte starxtrem by sfr</td>\n",
       "      <td>1</td>\n",
       "    </tr>\n",
       "    <tr>\n",
       "      <th>1393</th>\n",
       "      <td>zte</td>\n",
       "      <td>zte zte blade c2 smartphone android by sfr sta...</td>\n",
       "      <td>2</td>\n",
       "    </tr>\n",
       "    <tr>\n",
       "      <th>1394</th>\n",
       "      <td>zyxel communications corp</td>\n",
       "      <td>zyxel communicat. lte7460</td>\n",
       "      <td>1</td>\n",
       "    </tr>\n",
       "    <tr>\n",
       "      <th>1395</th>\n",
       "      <td>zyxel communications corp</td>\n",
       "      <td>zyxel communicat. sbg3600</td>\n",
       "      <td>1</td>\n",
       "    </tr>\n",
       "    <tr>\n",
       "      <th>1396</th>\n",
       "      <td>zyxel communications corp</td>\n",
       "      <td>zyxel communicat. zyxel wah7706</td>\n",
       "      <td>1</td>\n",
       "    </tr>\n",
       "  </tbody>\n",
       "</table>\n",
       "<p>1397 rows × 3 columns</p>\n",
       "</div>"
      ],
      "text/plain": [
       "                         handset_manufacturer  \\\n",
       "0     a-link telecom international co limited   \n",
       "1     a-link telecom international co limited   \n",
       "2     a-link telecom international co limited   \n",
       "3     a-link telecom international co limited   \n",
       "4     a-link telecom international co limited   \n",
       "...                                       ...   \n",
       "1392                                      zte   \n",
       "1393                                      zte   \n",
       "1394                zyxel communications corp   \n",
       "1395                zyxel communications corp   \n",
       "1396                zyxel communications corp   \n",
       "\n",
       "                                           handset_type  count  \n",
       "0                            a-link telecom i. cubot a5      1  \n",
       "1                     a-link telecom i. cubot note plus      1  \n",
       "2                        a-link telecom i. cubot note s      1  \n",
       "3                          a-link telecom i. cubot nova      1  \n",
       "4                         a-link telecom i. cubot power      1  \n",
       "...                                                 ...    ...  \n",
       "1392                               zte starxtrem by sfr      1  \n",
       "1393  zte zte blade c2 smartphone android by sfr sta...      2  \n",
       "1394                          zyxel communicat. lte7460      1  \n",
       "1395                          zyxel communicat. sbg3600      1  \n",
       "1396                    zyxel communicat. zyxel wah7706      1  \n",
       "\n",
       "[1397 rows x 3 columns]"
      ]
     },
     "execution_count": 280,
     "metadata": {},
     "output_type": "execute_result"
    }
   ],
   "source": [
    "top5Hands_man"
   ]
  },
  {
   "cell_type": "code",
   "execution_count": 281,
   "metadata": {},
   "outputs": [],
   "source": [
    "top5Hands_man = top5Hands_man.sort_values(['handset_manufacturer', 'count'], ascending=False)"
   ]
  },
  {
   "cell_type": "code",
   "execution_count": 282,
   "metadata": {},
   "outputs": [],
   "source": [
    "top5Hands_man=top5Hands_man.groupby('handset_manufacturer').head(5)"
   ]
  },
  {
   "cell_type": "code",
   "execution_count": 283,
   "metadata": {},
   "outputs": [
    {
     "data": {
      "text/html": [
       "<div>\n",
       "<style scoped>\n",
       "    .dataframe tbody tr th:only-of-type {\n",
       "        vertical-align: middle;\n",
       "    }\n",
       "\n",
       "    .dataframe tbody tr th {\n",
       "        vertical-align: top;\n",
       "    }\n",
       "\n",
       "    .dataframe thead th {\n",
       "        text-align: right;\n",
       "    }\n",
       "</style>\n",
       "<table border=\"1\" class=\"dataframe\">\n",
       "  <thead>\n",
       "    <tr style=\"text-align: right;\">\n",
       "      <th></th>\n",
       "      <th>handset_manufacturer</th>\n",
       "      <th>handset_type</th>\n",
       "      <th>count</th>\n",
       "    </tr>\n",
       "  </thead>\n",
       "  <tbody>\n",
       "    <tr>\n",
       "      <th>1394</th>\n",
       "      <td>zyxel communications corp</td>\n",
       "      <td>zyxel communicat. lte7460</td>\n",
       "      <td>1</td>\n",
       "    </tr>\n",
       "    <tr>\n",
       "      <th>1395</th>\n",
       "      <td>zyxel communications corp</td>\n",
       "      <td>zyxel communicat. sbg3600</td>\n",
       "      <td>1</td>\n",
       "    </tr>\n",
       "    <tr>\n",
       "      <th>1396</th>\n",
       "      <td>zyxel communications corp</td>\n",
       "      <td>zyxel communicat. zyxel wah7706</td>\n",
       "      <td>1</td>\n",
       "    </tr>\n",
       "    <tr>\n",
       "      <th>1389</th>\n",
       "      <td>zte</td>\n",
       "      <td>zte mf259</td>\n",
       "      <td>170</td>\n",
       "    </tr>\n",
       "    <tr>\n",
       "      <th>1391</th>\n",
       "      <td>zte</td>\n",
       "      <td>zte racer iii mini zte switch x1 bouygues tele...</td>\n",
       "      <td>5</td>\n",
       "    </tr>\n",
       "    <tr>\n",
       "      <th>...</th>\n",
       "      <td>...</td>\n",
       "      <td>...</td>\n",
       "      <td>...</td>\n",
       "    </tr>\n",
       "    <tr>\n",
       "      <th>6</th>\n",
       "      <td>a-link telecom international co limited</td>\n",
       "      <td>a-link telecom i. cubot x18 plus</td>\n",
       "      <td>2</td>\n",
       "    </tr>\n",
       "    <tr>\n",
       "      <th>0</th>\n",
       "      <td>a-link telecom international co limited</td>\n",
       "      <td>a-link telecom i. cubot a5</td>\n",
       "      <td>1</td>\n",
       "    </tr>\n",
       "    <tr>\n",
       "      <th>1</th>\n",
       "      <td>a-link telecom international co limited</td>\n",
       "      <td>a-link telecom i. cubot note plus</td>\n",
       "      <td>1</td>\n",
       "    </tr>\n",
       "    <tr>\n",
       "      <th>2</th>\n",
       "      <td>a-link telecom international co limited</td>\n",
       "      <td>a-link telecom i. cubot note s</td>\n",
       "      <td>1</td>\n",
       "    </tr>\n",
       "    <tr>\n",
       "      <th>3</th>\n",
       "      <td>a-link telecom international co limited</td>\n",
       "      <td>a-link telecom i. cubot nova</td>\n",
       "      <td>1</td>\n",
       "    </tr>\n",
       "  </tbody>\n",
       "</table>\n",
       "<p>385 rows × 3 columns</p>\n",
       "</div>"
      ],
      "text/plain": [
       "                         handset_manufacturer  \\\n",
       "1394                zyxel communications corp   \n",
       "1395                zyxel communications corp   \n",
       "1396                zyxel communications corp   \n",
       "1389                                      zte   \n",
       "1391                                      zte   \n",
       "...                                       ...   \n",
       "6     a-link telecom international co limited   \n",
       "0     a-link telecom international co limited   \n",
       "1     a-link telecom international co limited   \n",
       "2     a-link telecom international co limited   \n",
       "3     a-link telecom international co limited   \n",
       "\n",
       "                                           handset_type  count  \n",
       "1394                          zyxel communicat. lte7460      1  \n",
       "1395                          zyxel communicat. sbg3600      1  \n",
       "1396                    zyxel communicat. zyxel wah7706      1  \n",
       "1389                                          zte mf259    170  \n",
       "1391  zte racer iii mini zte switch x1 bouygues tele...      5  \n",
       "...                                                 ...    ...  \n",
       "6                      a-link telecom i. cubot x18 plus      2  \n",
       "0                            a-link telecom i. cubot a5      1  \n",
       "1                     a-link telecom i. cubot note plus      1  \n",
       "2                        a-link telecom i. cubot note s      1  \n",
       "3                          a-link telecom i. cubot nova      1  \n",
       "\n",
       "[385 rows x 3 columns]"
      ]
     },
     "execution_count": 283,
     "metadata": {},
     "output_type": "execute_result"
    }
   ],
   "source": [
    "top5Hands_man"
   ]
  },
  {
   "cell_type": "code",
   "execution_count": 284,
   "metadata": {},
   "outputs": [],
   "source": [
    "top5Hands_man = top5Hands_man.rename(columns={'handset_manufacturer':'Manufacturer', 'handset_type':'Handset'})"
   ]
  },
  {
   "cell_type": "code",
   "execution_count": 285,
   "metadata": {},
   "outputs": [
    {
     "data": {
      "text/html": [
       "<div>\n",
       "<style scoped>\n",
       "    .dataframe tbody tr th:only-of-type {\n",
       "        vertical-align: middle;\n",
       "    }\n",
       "\n",
       "    .dataframe tbody tr th {\n",
       "        vertical-align: top;\n",
       "    }\n",
       "\n",
       "    .dataframe thead th {\n",
       "        text-align: right;\n",
       "    }\n",
       "</style>\n",
       "<table border=\"1\" class=\"dataframe\">\n",
       "  <thead>\n",
       "    <tr style=\"text-align: right;\">\n",
       "      <th></th>\n",
       "      <th>Manufacturer</th>\n",
       "      <th>Handset</th>\n",
       "      <th>count</th>\n",
       "    </tr>\n",
       "  </thead>\n",
       "  <tbody>\n",
       "    <tr>\n",
       "      <th>1394</th>\n",
       "      <td>zyxel communications corp</td>\n",
       "      <td>zyxel communicat. lte7460</td>\n",
       "      <td>1</td>\n",
       "    </tr>\n",
       "    <tr>\n",
       "      <th>1395</th>\n",
       "      <td>zyxel communications corp</td>\n",
       "      <td>zyxel communicat. sbg3600</td>\n",
       "      <td>1</td>\n",
       "    </tr>\n",
       "    <tr>\n",
       "      <th>1396</th>\n",
       "      <td>zyxel communications corp</td>\n",
       "      <td>zyxel communicat. zyxel wah7706</td>\n",
       "      <td>1</td>\n",
       "    </tr>\n",
       "    <tr>\n",
       "      <th>1389</th>\n",
       "      <td>zte</td>\n",
       "      <td>zte mf259</td>\n",
       "      <td>170</td>\n",
       "    </tr>\n",
       "    <tr>\n",
       "      <th>1391</th>\n",
       "      <td>zte</td>\n",
       "      <td>zte racer iii mini zte switch x1 bouygues tele...</td>\n",
       "      <td>5</td>\n",
       "    </tr>\n",
       "    <tr>\n",
       "      <th>...</th>\n",
       "      <td>...</td>\n",
       "      <td>...</td>\n",
       "      <td>...</td>\n",
       "    </tr>\n",
       "    <tr>\n",
       "      <th>6</th>\n",
       "      <td>a-link telecom international co limited</td>\n",
       "      <td>a-link telecom i. cubot x18 plus</td>\n",
       "      <td>2</td>\n",
       "    </tr>\n",
       "    <tr>\n",
       "      <th>0</th>\n",
       "      <td>a-link telecom international co limited</td>\n",
       "      <td>a-link telecom i. cubot a5</td>\n",
       "      <td>1</td>\n",
       "    </tr>\n",
       "    <tr>\n",
       "      <th>1</th>\n",
       "      <td>a-link telecom international co limited</td>\n",
       "      <td>a-link telecom i. cubot note plus</td>\n",
       "      <td>1</td>\n",
       "    </tr>\n",
       "    <tr>\n",
       "      <th>2</th>\n",
       "      <td>a-link telecom international co limited</td>\n",
       "      <td>a-link telecom i. cubot note s</td>\n",
       "      <td>1</td>\n",
       "    </tr>\n",
       "    <tr>\n",
       "      <th>3</th>\n",
       "      <td>a-link telecom international co limited</td>\n",
       "      <td>a-link telecom i. cubot nova</td>\n",
       "      <td>1</td>\n",
       "    </tr>\n",
       "  </tbody>\n",
       "</table>\n",
       "<p>385 rows × 3 columns</p>\n",
       "</div>"
      ],
      "text/plain": [
       "                                 Manufacturer  \\\n",
       "1394                zyxel communications corp   \n",
       "1395                zyxel communications corp   \n",
       "1396                zyxel communications corp   \n",
       "1389                                      zte   \n",
       "1391                                      zte   \n",
       "...                                       ...   \n",
       "6     a-link telecom international co limited   \n",
       "0     a-link telecom international co limited   \n",
       "1     a-link telecom international co limited   \n",
       "2     a-link telecom international co limited   \n",
       "3     a-link telecom international co limited   \n",
       "\n",
       "                                                Handset  count  \n",
       "1394                          zyxel communicat. lte7460      1  \n",
       "1395                          zyxel communicat. sbg3600      1  \n",
       "1396                    zyxel communicat. zyxel wah7706      1  \n",
       "1389                                          zte mf259    170  \n",
       "1391  zte racer iii mini zte switch x1 bouygues tele...      5  \n",
       "...                                                 ...    ...  \n",
       "6                      a-link telecom i. cubot x18 plus      2  \n",
       "0                            a-link telecom i. cubot a5      1  \n",
       "1                     a-link telecom i. cubot note plus      1  \n",
       "2                        a-link telecom i. cubot note s      1  \n",
       "3                          a-link telecom i. cubot nova      1  \n",
       "\n",
       "[385 rows x 3 columns]"
      ]
     },
     "execution_count": 285,
     "metadata": {},
     "output_type": "execute_result"
    }
   ],
   "source": [
    "top5Hands_man"
   ]
  },
  {
   "cell_type": "code",
   "execution_count": 286,
   "metadata": {},
   "outputs": [
    {
     "data": {
      "text/plain": [
       "38.5"
      ]
     },
     "execution_count": 286,
     "metadata": {},
     "output_type": "execute_result"
    }
   ],
   "source": [
    "top5Hands_man.shape[0]/10"
   ]
  },
  {
   "cell_type": "code",
   "execution_count": 287,
   "metadata": {},
   "outputs": [
    {
     "data": {
      "text/plain": [
       "1394                  zyxel communications corp\n",
       "1395                  zyxel communications corp\n",
       "1396                  zyxel communications corp\n",
       "1389                                        zte\n",
       "1391                                        zte\n",
       "                         ...                   \n",
       "6       a-link telecom international co limited\n",
       "0       a-link telecom international co limited\n",
       "1       a-link telecom international co limited\n",
       "2       a-link telecom international co limited\n",
       "3       a-link telecom international co limited\n",
       "Name: Manufacturer, Length: 385, dtype: object"
      ]
     },
     "execution_count": 287,
     "metadata": {},
     "output_type": "execute_result"
    }
   ],
   "source": [
    "top5Hands_man.Manufacturer"
   ]
  },
  {
   "cell_type": "code",
   "execution_count": 288,
   "metadata": {},
   "outputs": [],
   "source": [
    "pivot1 = pd.crosstab(top5Hands_man.Manufacturer, top5Hands_man.Handset, \n",
    "            margins='all', dropna=True)"
   ]
  },
  {
   "cell_type": "code",
   "execution_count": 289,
   "metadata": {},
   "outputs": [
    {
     "data": {
      "text/html": [
       "<div>\n",
       "<style scoped>\n",
       "    .dataframe tbody tr th:only-of-type {\n",
       "        vertical-align: middle;\n",
       "    }\n",
       "\n",
       "    .dataframe tbody tr th {\n",
       "        vertical-align: top;\n",
       "    }\n",
       "\n",
       "    .dataframe thead th {\n",
       "        text-align: right;\n",
       "    }\n",
       "</style>\n",
       "<table border=\"1\" class=\"dataframe\">\n",
       "  <thead>\n",
       "    <tr style=\"text-align: right;\">\n",
       "      <th>Handset</th>\n",
       "      <th>a-link telecom i. cubot a5</th>\n",
       "      <th>a-link telecom i. cubot note plus</th>\n",
       "      <th>a-link telecom i. cubot note s</th>\n",
       "      <th>a-link telecom i. cubot nova</th>\n",
       "      <th>a-link telecom i. cubot x18 plus</th>\n",
       "      <th>acer liquid m220</th>\n",
       "      <th>acer liquid z220</th>\n",
       "      <th>acer liquid z530</th>\n",
       "      <th>acer liquid zest plus</th>\n",
       "      <th>acer m310</th>\n",
       "      <th>...</th>\n",
       "      <th>zebra technologi. symbol tc55bh</th>\n",
       "      <th>zte a2016</th>\n",
       "      <th>zte blade v7 lite blade v6 plus zte blitz</th>\n",
       "      <th>zte mf259</th>\n",
       "      <th>zte racer iii mini zte switch x1 bouygues telecom bs 402 blade q mini zte blade g pro</th>\n",
       "      <th>zte zte blade c2 smartphone android by sfr startrail 4 zte blade flex t809 zte t809</th>\n",
       "      <th>zyxel communicat. lte7460</th>\n",
       "      <th>zyxel communicat. sbg3600</th>\n",
       "      <th>zyxel communicat. zyxel wah7706</th>\n",
       "      <th>All</th>\n",
       "    </tr>\n",
       "    <tr>\n",
       "      <th>Manufacturer</th>\n",
       "      <th></th>\n",
       "      <th></th>\n",
       "      <th></th>\n",
       "      <th></th>\n",
       "      <th></th>\n",
       "      <th></th>\n",
       "      <th></th>\n",
       "      <th></th>\n",
       "      <th></th>\n",
       "      <th></th>\n",
       "      <th></th>\n",
       "      <th></th>\n",
       "      <th></th>\n",
       "      <th></th>\n",
       "      <th></th>\n",
       "      <th></th>\n",
       "      <th></th>\n",
       "      <th></th>\n",
       "      <th></th>\n",
       "      <th></th>\n",
       "      <th></th>\n",
       "    </tr>\n",
       "  </thead>\n",
       "  <tbody>\n",
       "    <tr>\n",
       "      <th>a-link telecom international co limited</th>\n",
       "      <td>1</td>\n",
       "      <td>1</td>\n",
       "      <td>1</td>\n",
       "      <td>1</td>\n",
       "      <td>1</td>\n",
       "      <td>0</td>\n",
       "      <td>0</td>\n",
       "      <td>0</td>\n",
       "      <td>0</td>\n",
       "      <td>0</td>\n",
       "      <td>...</td>\n",
       "      <td>0</td>\n",
       "      <td>0</td>\n",
       "      <td>0</td>\n",
       "      <td>0</td>\n",
       "      <td>0</td>\n",
       "      <td>0</td>\n",
       "      <td>0</td>\n",
       "      <td>0</td>\n",
       "      <td>0</td>\n",
       "      <td>5</td>\n",
       "    </tr>\n",
       "    <tr>\n",
       "      <th>acer</th>\n",
       "      <td>0</td>\n",
       "      <td>0</td>\n",
       "      <td>0</td>\n",
       "      <td>0</td>\n",
       "      <td>0</td>\n",
       "      <td>1</td>\n",
       "      <td>1</td>\n",
       "      <td>1</td>\n",
       "      <td>1</td>\n",
       "      <td>1</td>\n",
       "      <td>...</td>\n",
       "      <td>0</td>\n",
       "      <td>0</td>\n",
       "      <td>0</td>\n",
       "      <td>0</td>\n",
       "      <td>0</td>\n",
       "      <td>0</td>\n",
       "      <td>0</td>\n",
       "      <td>0</td>\n",
       "      <td>0</td>\n",
       "      <td>5</td>\n",
       "    </tr>\n",
       "    <tr>\n",
       "      <th>adar</th>\n",
       "      <td>0</td>\n",
       "      <td>0</td>\n",
       "      <td>0</td>\n",
       "      <td>0</td>\n",
       "      <td>0</td>\n",
       "      <td>0</td>\n",
       "      <td>0</td>\n",
       "      <td>0</td>\n",
       "      <td>0</td>\n",
       "      <td>0</td>\n",
       "      <td>...</td>\n",
       "      <td>0</td>\n",
       "      <td>0</td>\n",
       "      <td>0</td>\n",
       "      <td>0</td>\n",
       "      <td>0</td>\n",
       "      <td>0</td>\n",
       "      <td>0</td>\n",
       "      <td>0</td>\n",
       "      <td>0</td>\n",
       "      <td>1</td>\n",
       "    </tr>\n",
       "    <tr>\n",
       "      <th>alif communications</th>\n",
       "      <td>0</td>\n",
       "      <td>0</td>\n",
       "      <td>0</td>\n",
       "      <td>0</td>\n",
       "      <td>0</td>\n",
       "      <td>0</td>\n",
       "      <td>0</td>\n",
       "      <td>0</td>\n",
       "      <td>0</td>\n",
       "      <td>0</td>\n",
       "      <td>...</td>\n",
       "      <td>0</td>\n",
       "      <td>0</td>\n",
       "      <td>0</td>\n",
       "      <td>0</td>\n",
       "      <td>0</td>\n",
       "      <td>0</td>\n",
       "      <td>0</td>\n",
       "      <td>0</td>\n",
       "      <td>0</td>\n",
       "      <td>1</td>\n",
       "    </tr>\n",
       "    <tr>\n",
       "      <th>apple</th>\n",
       "      <td>0</td>\n",
       "      <td>0</td>\n",
       "      <td>0</td>\n",
       "      <td>0</td>\n",
       "      <td>0</td>\n",
       "      <td>0</td>\n",
       "      <td>0</td>\n",
       "      <td>0</td>\n",
       "      <td>0</td>\n",
       "      <td>0</td>\n",
       "      <td>...</td>\n",
       "      <td>0</td>\n",
       "      <td>0</td>\n",
       "      <td>0</td>\n",
       "      <td>0</td>\n",
       "      <td>0</td>\n",
       "      <td>0</td>\n",
       "      <td>0</td>\n",
       "      <td>0</td>\n",
       "      <td>0</td>\n",
       "      <td>5</td>\n",
       "    </tr>\n",
       "    <tr>\n",
       "      <th>...</th>\n",
       "      <td>...</td>\n",
       "      <td>...</td>\n",
       "      <td>...</td>\n",
       "      <td>...</td>\n",
       "      <td>...</td>\n",
       "      <td>...</td>\n",
       "      <td>...</td>\n",
       "      <td>...</td>\n",
       "      <td>...</td>\n",
       "      <td>...</td>\n",
       "      <td>...</td>\n",
       "      <td>...</td>\n",
       "      <td>...</td>\n",
       "      <td>...</td>\n",
       "      <td>...</td>\n",
       "      <td>...</td>\n",
       "      <td>...</td>\n",
       "      <td>...</td>\n",
       "      <td>...</td>\n",
       "      <td>...</td>\n",
       "      <td>...</td>\n",
       "    </tr>\n",
       "    <tr>\n",
       "      <th>yota devices</th>\n",
       "      <td>0</td>\n",
       "      <td>0</td>\n",
       "      <td>0</td>\n",
       "      <td>0</td>\n",
       "      <td>0</td>\n",
       "      <td>0</td>\n",
       "      <td>0</td>\n",
       "      <td>0</td>\n",
       "      <td>0</td>\n",
       "      <td>0</td>\n",
       "      <td>...</td>\n",
       "      <td>0</td>\n",
       "      <td>0</td>\n",
       "      <td>0</td>\n",
       "      <td>0</td>\n",
       "      <td>0</td>\n",
       "      <td>0</td>\n",
       "      <td>0</td>\n",
       "      <td>0</td>\n",
       "      <td>0</td>\n",
       "      <td>2</td>\n",
       "    </tr>\n",
       "    <tr>\n",
       "      <th>zebra technologies corp.</th>\n",
       "      <td>0</td>\n",
       "      <td>0</td>\n",
       "      <td>0</td>\n",
       "      <td>0</td>\n",
       "      <td>0</td>\n",
       "      <td>0</td>\n",
       "      <td>0</td>\n",
       "      <td>0</td>\n",
       "      <td>0</td>\n",
       "      <td>0</td>\n",
       "      <td>...</td>\n",
       "      <td>1</td>\n",
       "      <td>0</td>\n",
       "      <td>0</td>\n",
       "      <td>0</td>\n",
       "      <td>0</td>\n",
       "      <td>0</td>\n",
       "      <td>0</td>\n",
       "      <td>0</td>\n",
       "      <td>0</td>\n",
       "      <td>4</td>\n",
       "    </tr>\n",
       "    <tr>\n",
       "      <th>zte</th>\n",
       "      <td>0</td>\n",
       "      <td>0</td>\n",
       "      <td>0</td>\n",
       "      <td>0</td>\n",
       "      <td>0</td>\n",
       "      <td>0</td>\n",
       "      <td>0</td>\n",
       "      <td>0</td>\n",
       "      <td>0</td>\n",
       "      <td>0</td>\n",
       "      <td>...</td>\n",
       "      <td>0</td>\n",
       "      <td>1</td>\n",
       "      <td>1</td>\n",
       "      <td>1</td>\n",
       "      <td>1</td>\n",
       "      <td>1</td>\n",
       "      <td>0</td>\n",
       "      <td>0</td>\n",
       "      <td>0</td>\n",
       "      <td>5</td>\n",
       "    </tr>\n",
       "    <tr>\n",
       "      <th>zyxel communications corp</th>\n",
       "      <td>0</td>\n",
       "      <td>0</td>\n",
       "      <td>0</td>\n",
       "      <td>0</td>\n",
       "      <td>0</td>\n",
       "      <td>0</td>\n",
       "      <td>0</td>\n",
       "      <td>0</td>\n",
       "      <td>0</td>\n",
       "      <td>0</td>\n",
       "      <td>...</td>\n",
       "      <td>0</td>\n",
       "      <td>0</td>\n",
       "      <td>0</td>\n",
       "      <td>0</td>\n",
       "      <td>0</td>\n",
       "      <td>0</td>\n",
       "      <td>1</td>\n",
       "      <td>1</td>\n",
       "      <td>1</td>\n",
       "      <td>3</td>\n",
       "    </tr>\n",
       "    <tr>\n",
       "      <th>All</th>\n",
       "      <td>1</td>\n",
       "      <td>1</td>\n",
       "      <td>1</td>\n",
       "      <td>1</td>\n",
       "      <td>1</td>\n",
       "      <td>1</td>\n",
       "      <td>1</td>\n",
       "      <td>1</td>\n",
       "      <td>1</td>\n",
       "      <td>1</td>\n",
       "      <td>...</td>\n",
       "      <td>1</td>\n",
       "      <td>1</td>\n",
       "      <td>1</td>\n",
       "      <td>1</td>\n",
       "      <td>1</td>\n",
       "      <td>1</td>\n",
       "      <td>1</td>\n",
       "      <td>1</td>\n",
       "      <td>1</td>\n",
       "      <td>385</td>\n",
       "    </tr>\n",
       "  </tbody>\n",
       "</table>\n",
       "<p>155 rows × 386 columns</p>\n",
       "</div>"
      ],
      "text/plain": [
       "Handset                                  a-link telecom i. cubot a5  \\\n",
       "Manufacturer                                                          \n",
       "a-link telecom international co limited                           1   \n",
       "acer                                                              0   \n",
       "adar                                                              0   \n",
       "alif communications                                               0   \n",
       "apple                                                             0   \n",
       "...                                                             ...   \n",
       "yota devices                                                      0   \n",
       "zebra technologies corp.                                          0   \n",
       "zte                                                               0   \n",
       "zyxel communications corp                                         0   \n",
       "All                                                               1   \n",
       "\n",
       "Handset                                  a-link telecom i. cubot note plus  \\\n",
       "Manufacturer                                                                 \n",
       "a-link telecom international co limited                                  1   \n",
       "acer                                                                     0   \n",
       "adar                                                                     0   \n",
       "alif communications                                                      0   \n",
       "apple                                                                    0   \n",
       "...                                                                    ...   \n",
       "yota devices                                                             0   \n",
       "zebra technologies corp.                                                 0   \n",
       "zte                                                                      0   \n",
       "zyxel communications corp                                                0   \n",
       "All                                                                      1   \n",
       "\n",
       "Handset                                  a-link telecom i. cubot note s  \\\n",
       "Manufacturer                                                              \n",
       "a-link telecom international co limited                               1   \n",
       "acer                                                                  0   \n",
       "adar                                                                  0   \n",
       "alif communications                                                   0   \n",
       "apple                                                                 0   \n",
       "...                                                                 ...   \n",
       "yota devices                                                          0   \n",
       "zebra technologies corp.                                              0   \n",
       "zte                                                                   0   \n",
       "zyxel communications corp                                             0   \n",
       "All                                                                   1   \n",
       "\n",
       "Handset                                  a-link telecom i. cubot nova  \\\n",
       "Manufacturer                                                            \n",
       "a-link telecom international co limited                             1   \n",
       "acer                                                                0   \n",
       "adar                                                                0   \n",
       "alif communications                                                 0   \n",
       "apple                                                               0   \n",
       "...                                                               ...   \n",
       "yota devices                                                        0   \n",
       "zebra technologies corp.                                            0   \n",
       "zte                                                                 0   \n",
       "zyxel communications corp                                           0   \n",
       "All                                                                 1   \n",
       "\n",
       "Handset                                  a-link telecom i. cubot x18 plus  \\\n",
       "Manufacturer                                                                \n",
       "a-link telecom international co limited                                 1   \n",
       "acer                                                                    0   \n",
       "adar                                                                    0   \n",
       "alif communications                                                     0   \n",
       "apple                                                                   0   \n",
       "...                                                                   ...   \n",
       "yota devices                                                            0   \n",
       "zebra technologies corp.                                                0   \n",
       "zte                                                                     0   \n",
       "zyxel communications corp                                               0   \n",
       "All                                                                     1   \n",
       "\n",
       "Handset                                  acer liquid m220  acer liquid z220  \\\n",
       "Manufacturer                                                                  \n",
       "a-link telecom international co limited                 0                 0   \n",
       "acer                                                    1                 1   \n",
       "adar                                                    0                 0   \n",
       "alif communications                                     0                 0   \n",
       "apple                                                   0                 0   \n",
       "...                                                   ...               ...   \n",
       "yota devices                                            0                 0   \n",
       "zebra technologies corp.                                0                 0   \n",
       "zte                                                     0                 0   \n",
       "zyxel communications corp                               0                 0   \n",
       "All                                                     1                 1   \n",
       "\n",
       "Handset                                  acer liquid z530  \\\n",
       "Manufacturer                                                \n",
       "a-link telecom international co limited                 0   \n",
       "acer                                                    1   \n",
       "adar                                                    0   \n",
       "alif communications                                     0   \n",
       "apple                                                   0   \n",
       "...                                                   ...   \n",
       "yota devices                                            0   \n",
       "zebra technologies corp.                                0   \n",
       "zte                                                     0   \n",
       "zyxel communications corp                               0   \n",
       "All                                                     1   \n",
       "\n",
       "Handset                                  acer liquid zest plus  acer m310  \\\n",
       "Manufacturer                                                                \n",
       "a-link telecom international co limited                      0          0   \n",
       "acer                                                         1          1   \n",
       "adar                                                         0          0   \n",
       "alif communications                                          0          0   \n",
       "apple                                                        0          0   \n",
       "...                                                        ...        ...   \n",
       "yota devices                                                 0          0   \n",
       "zebra technologies corp.                                     0          0   \n",
       "zte                                                          0          0   \n",
       "zyxel communications corp                                    0          0   \n",
       "All                                                          1          1   \n",
       "\n",
       "Handset                                  ...  zebra technologi. symbol tc55bh  \\\n",
       "Manufacturer                             ...                                    \n",
       "a-link telecom international co limited  ...                                0   \n",
       "acer                                     ...                                0   \n",
       "adar                                     ...                                0   \n",
       "alif communications                      ...                                0   \n",
       "apple                                    ...                                0   \n",
       "...                                      ...                              ...   \n",
       "yota devices                             ...                                0   \n",
       "zebra technologies corp.                 ...                                1   \n",
       "zte                                      ...                                0   \n",
       "zyxel communications corp                ...                                0   \n",
       "All                                      ...                                1   \n",
       "\n",
       "Handset                                  zte a2016  \\\n",
       "Manufacturer                                         \n",
       "a-link telecom international co limited          0   \n",
       "acer                                             0   \n",
       "adar                                             0   \n",
       "alif communications                              0   \n",
       "apple                                            0   \n",
       "...                                            ...   \n",
       "yota devices                                     0   \n",
       "zebra technologies corp.                         0   \n",
       "zte                                              1   \n",
       "zyxel communications corp                        0   \n",
       "All                                              1   \n",
       "\n",
       "Handset                                  zte blade v7 lite blade v6 plus zte blitz  \\\n",
       "Manufacturer                                                                         \n",
       "a-link telecom international co limited                                          0   \n",
       "acer                                                                             0   \n",
       "adar                                                                             0   \n",
       "alif communications                                                              0   \n",
       "apple                                                                            0   \n",
       "...                                                                            ...   \n",
       "yota devices                                                                     0   \n",
       "zebra technologies corp.                                                         0   \n",
       "zte                                                                              1   \n",
       "zyxel communications corp                                                        0   \n",
       "All                                                                              1   \n",
       "\n",
       "Handset                                  zte mf259  \\\n",
       "Manufacturer                                         \n",
       "a-link telecom international co limited          0   \n",
       "acer                                             0   \n",
       "adar                                             0   \n",
       "alif communications                              0   \n",
       "apple                                            0   \n",
       "...                                            ...   \n",
       "yota devices                                     0   \n",
       "zebra technologies corp.                         0   \n",
       "zte                                              1   \n",
       "zyxel communications corp                        0   \n",
       "All                                              1   \n",
       "\n",
       "Handset                                  zte racer iii mini zte switch x1 bouygues telecom bs 402 blade q mini zte blade g pro  \\\n",
       "Manufacturer                                                                                                                     \n",
       "a-link telecom international co limited                                                  0                                       \n",
       "acer                                                                                     0                                       \n",
       "adar                                                                                     0                                       \n",
       "alif communications                                                                      0                                       \n",
       "apple                                                                                    0                                       \n",
       "...                                                                                    ...                                       \n",
       "yota devices                                                                             0                                       \n",
       "zebra technologies corp.                                                                 0                                       \n",
       "zte                                                                                      1                                       \n",
       "zyxel communications corp                                                                0                                       \n",
       "All                                                                                      1                                       \n",
       "\n",
       "Handset                                  zte zte blade c2 smartphone android by sfr startrail 4 zte blade flex t809 zte t809  \\\n",
       "Manufacturer                                                                                                                   \n",
       "a-link telecom international co limited                                                  0                                     \n",
       "acer                                                                                     0                                     \n",
       "adar                                                                                     0                                     \n",
       "alif communications                                                                      0                                     \n",
       "apple                                                                                    0                                     \n",
       "...                                                                                    ...                                     \n",
       "yota devices                                                                             0                                     \n",
       "zebra technologies corp.                                                                 0                                     \n",
       "zte                                                                                      1                                     \n",
       "zyxel communications corp                                                                0                                     \n",
       "All                                                                                      1                                     \n",
       "\n",
       "Handset                                  zyxel communicat. lte7460  \\\n",
       "Manufacturer                                                         \n",
       "a-link telecom international co limited                          0   \n",
       "acer                                                             0   \n",
       "adar                                                             0   \n",
       "alif communications                                              0   \n",
       "apple                                                            0   \n",
       "...                                                            ...   \n",
       "yota devices                                                     0   \n",
       "zebra technologies corp.                                         0   \n",
       "zte                                                              0   \n",
       "zyxel communications corp                                        1   \n",
       "All                                                              1   \n",
       "\n",
       "Handset                                  zyxel communicat. sbg3600  \\\n",
       "Manufacturer                                                         \n",
       "a-link telecom international co limited                          0   \n",
       "acer                                                             0   \n",
       "adar                                                             0   \n",
       "alif communications                                              0   \n",
       "apple                                                            0   \n",
       "...                                                            ...   \n",
       "yota devices                                                     0   \n",
       "zebra technologies corp.                                         0   \n",
       "zte                                                              0   \n",
       "zyxel communications corp                                        1   \n",
       "All                                                              1   \n",
       "\n",
       "Handset                                  zyxel communicat. zyxel wah7706  All  \n",
       "Manufacturer                                                                   \n",
       "a-link telecom international co limited                                0    5  \n",
       "acer                                                                   0    5  \n",
       "adar                                                                   0    1  \n",
       "alif communications                                                    0    1  \n",
       "apple                                                                  0    5  \n",
       "...                                                                  ...  ...  \n",
       "yota devices                                                           0    2  \n",
       "zebra technologies corp.                                               0    4  \n",
       "zte                                                                    0    5  \n",
       "zyxel communications corp                                              1    3  \n",
       "All                                                                    1  385  \n",
       "\n",
       "[155 rows x 386 columns]"
      ]
     },
     "execution_count": 289,
     "metadata": {},
     "output_type": "execute_result"
    }
   ],
   "source": [
    "pivot1"
   ]
  },
  {
   "cell_type": "code",
   "execution_count": 290,
   "metadata": {},
   "outputs": [],
   "source": [
    "# sns.set(style=\"whitegrid\")\n",
    "# plot = sns.catplot(x='Manufacturer', y='count',hue = 'Handset',  data=top5Hands_man.iloc[0:5,0:3],\n",
    "#            aspect=2, kind='bar', height=8), #palette=[\"#001C7F\", \"#B1400D\", '#12711C'])\n",
    "\n",
    "# plt.title('Top 5 Handsets for each Manufacturer', fontsize=20)\n",
    "# plt.xticks(rotation=30, fontsize=18)\n",
    "# plt.xlabel('Manufacturer', fontsize=15)\n",
    "# plt.ylabel('Customer Count', fontsize=15)\n",
    "# # plot.despine(left=True)\n",
    "# plt.savefig(fname='visuals/top5Hands_man.png', format='png')\n",
    "# plt.show()"
   ]
  },
  {
   "cell_type": "markdown",
   "metadata": {},
   "source": [
    "##### B.\n",
    "\n",
    "> What group of users belong each to the top 5 decile classes based on the total duration for all sessions"
   ]
  },
  {
   "cell_type": "code",
   "execution_count": 291,
   "metadata": {},
   "outputs": [],
   "source": [
    "top5_deciles = data2.groupby('bearer_id')[['total_ul__bytes_', 'total_dl__bytes_']].sum().reset_index()"
   ]
  },
  {
   "cell_type": "code",
   "execution_count": 292,
   "metadata": {},
   "outputs": [
    {
     "data": {
      "text/html": [
       "<div>\n",
       "<style scoped>\n",
       "    .dataframe tbody tr th:only-of-type {\n",
       "        vertical-align: middle;\n",
       "    }\n",
       "\n",
       "    .dataframe tbody tr th {\n",
       "        vertical-align: top;\n",
       "    }\n",
       "\n",
       "    .dataframe thead th {\n",
       "        text-align: right;\n",
       "    }\n",
       "</style>\n",
       "<table border=\"1\" class=\"dataframe\">\n",
       "  <thead>\n",
       "    <tr style=\"text-align: right;\">\n",
       "      <th></th>\n",
       "      <th>bearer_id</th>\n",
       "      <th>total_ul__bytes_</th>\n",
       "      <th>total_dl__bytes_</th>\n",
       "    </tr>\n",
       "  </thead>\n",
       "  <tbody>\n",
       "    <tr>\n",
       "      <th>0</th>\n",
       "      <td></td>\n",
       "      <td>4.057300e+10</td>\n",
       "      <td>4.437567e+11</td>\n",
       "    </tr>\n",
       "    <tr>\n",
       "      <th>1</th>\n",
       "      <td>12682137775163799552</td>\n",
       "      <td>4.195178e+07</td>\n",
       "      <td>5.115510e+08</td>\n",
       "    </tr>\n",
       "    <tr>\n",
       "      <th>2</th>\n",
       "      <td>12682137806777399296</td>\n",
       "      <td>4.680716e+07</td>\n",
       "      <td>8.738634e+08</td>\n",
       "    </tr>\n",
       "    <tr>\n",
       "      <th>3</th>\n",
       "      <td>12682137817815599104</td>\n",
       "      <td>4.577934e+07</td>\n",
       "      <td>6.128102e+08</td>\n",
       "    </tr>\n",
       "    <tr>\n",
       "      <th>4</th>\n",
       "      <td>12682137860162400256</td>\n",
       "      <td>5.692388e+07</td>\n",
       "      <td>8.969826e+07</td>\n",
       "    </tr>\n",
       "    <tr>\n",
       "      <th>...</th>\n",
       "      <td>...</td>\n",
       "      <td>...</td>\n",
       "      <td>...</td>\n",
       "    </tr>\n",
       "    <tr>\n",
       "      <th>134704</th>\n",
       "      <td>7421940858146069504</td>\n",
       "      <td>4.560300e+07</td>\n",
       "      <td>6.139060e+08</td>\n",
       "    </tr>\n",
       "    <tr>\n",
       "      <th>134705</th>\n",
       "      <td>7421940858222040064</td>\n",
       "      <td>3.308166e+07</td>\n",
       "      <td>8.154114e+08</td>\n",
       "    </tr>\n",
       "    <tr>\n",
       "      <th>134706</th>\n",
       "      <td>7421940858230880256</td>\n",
       "      <td>1.480011e+07</td>\n",
       "      <td>6.788123e+08</td>\n",
       "    </tr>\n",
       "    <tr>\n",
       "      <th>134707</th>\n",
       "      <td>7421940858243090432</td>\n",
       "      <td>2.495033e+07</td>\n",
       "      <td>1.567452e+08</td>\n",
       "    </tr>\n",
       "    <tr>\n",
       "      <th>134708</th>\n",
       "      <td>7566056041073649664</td>\n",
       "      <td>5.890703e+07</td>\n",
       "      <td>8.131301e+07</td>\n",
       "    </tr>\n",
       "  </tbody>\n",
       "</table>\n",
       "<p>134709 rows × 3 columns</p>\n",
       "</div>"
      ],
      "text/plain": [
       "                   bearer_id  total_ul__bytes_  total_dl__bytes_\n",
       "0                                 4.057300e+10      4.437567e+11\n",
       "1       12682137775163799552      4.195178e+07      5.115510e+08\n",
       "2       12682137806777399296      4.680716e+07      8.738634e+08\n",
       "3       12682137817815599104      4.577934e+07      6.128102e+08\n",
       "4       12682137860162400256      5.692388e+07      8.969826e+07\n",
       "...                      ...               ...               ...\n",
       "134704   7421940858146069504      4.560300e+07      6.139060e+08\n",
       "134705   7421940858222040064      3.308166e+07      8.154114e+08\n",
       "134706   7421940858230880256      1.480011e+07      6.788123e+08\n",
       "134707   7421940858243090432      2.495033e+07      1.567452e+08\n",
       "134708   7566056041073649664      5.890703e+07      8.131301e+07\n",
       "\n",
       "[134709 rows x 3 columns]"
      ]
     },
     "execution_count": 292,
     "metadata": {},
     "output_type": "execute_result"
    }
   ],
   "source": [
    "top5_deciles"
   ]
  },
  {
   "cell_type": "markdown",
   "metadata": {},
   "source": [
    "> drop empty rows"
   ]
  },
  {
   "cell_type": "code",
   "execution_count": 293,
   "metadata": {},
   "outputs": [],
   "source": [
    "top5_deciles.drop(index=0, inplace=True)  "
   ]
  },
  {
   "cell_type": "markdown",
   "metadata": {},
   "source": [
    "Calculate total data_sessions in bytes"
   ]
  },
  {
   "cell_type": "code",
   "execution_count": 294,
   "metadata": {},
   "outputs": [],
   "source": [
    "top5_deciles['total_DataLink_MB'] =round((((top5_deciles.total_dl__bytes_ + top5_deciles.total_ul__bytes_)/1024)/1024),4)"
   ]
  },
  {
   "cell_type": "markdown",
   "metadata": {},
   "source": [
    " "
   ]
  },
  {
   "cell_type": "code",
   "execution_count": 295,
   "metadata": {},
   "outputs": [],
   "source": [
    "top5_deciles = top5_deciles[['bearer_id','total_DataLink_MB']].sort_values(by='total_DataLink_MB', ascending=False)"
   ]
  },
  {
   "cell_type": "code",
   "execution_count": 296,
   "metadata": {},
   "outputs": [
    {
     "data": {
      "text/html": [
       "<div>\n",
       "<style scoped>\n",
       "    .dataframe tbody tr th:only-of-type {\n",
       "        vertical-align: middle;\n",
       "    }\n",
       "\n",
       "    .dataframe tbody tr th {\n",
       "        vertical-align: top;\n",
       "    }\n",
       "\n",
       "    .dataframe thead th {\n",
       "        text-align: right;\n",
       "    }\n",
       "</style>\n",
       "<table border=\"1\" class=\"dataframe\">\n",
       "  <thead>\n",
       "    <tr style=\"text-align: right;\">\n",
       "      <th></th>\n",
       "      <th>bearer_id</th>\n",
       "      <th>total_DataLink_MB</th>\n",
       "    </tr>\n",
       "  </thead>\n",
       "  <tbody>\n",
       "    <tr>\n",
       "      <th>29838</th>\n",
       "      <td>13042425979269199872</td>\n",
       "      <td>6666.7703</td>\n",
       "    </tr>\n",
       "    <tr>\n",
       "      <th>20368</th>\n",
       "      <td>13042425972278300672</td>\n",
       "      <td>5539.9899</td>\n",
       "    </tr>\n",
       "    <tr>\n",
       "      <th>14585</th>\n",
       "      <td>13042425965944199168</td>\n",
       "      <td>4740.0745</td>\n",
       "    </tr>\n",
       "    <tr>\n",
       "      <th>25854</th>\n",
       "      <td>13042425975039100928</td>\n",
       "      <td>4724.0434</td>\n",
       "    </tr>\n",
       "    <tr>\n",
       "      <th>30196</th>\n",
       "      <td>13042425981873399808</td>\n",
       "      <td>4363.5545</td>\n",
       "    </tr>\n",
       "    <tr>\n",
       "      <th>14945</th>\n",
       "      <td>13042425966004299776</td>\n",
       "      <td>4128.6430</td>\n",
       "    </tr>\n",
       "    <tr>\n",
       "      <th>29040</th>\n",
       "      <td>13042425978965499904</td>\n",
       "      <td>4101.2150</td>\n",
       "    </tr>\n",
       "    <tr>\n",
       "      <th>46600</th>\n",
       "      <td>13114483562322999296</td>\n",
       "      <td>3910.0663</td>\n",
       "    </tr>\n",
       "    <tr>\n",
       "      <th>24637</th>\n",
       "      <td>13042425974769899520</td>\n",
       "      <td>3775.4719</td>\n",
       "    </tr>\n",
       "    <tr>\n",
       "      <th>14490</th>\n",
       "      <td>13042425965924900864</td>\n",
       "      <td>3745.9691</td>\n",
       "    </tr>\n",
       "    <tr>\n",
       "      <th>46453</th>\n",
       "      <td>13114483561758900224</td>\n",
       "      <td>3677.5828</td>\n",
       "    </tr>\n",
       "    <tr>\n",
       "      <th>16076</th>\n",
       "      <td>13042425968561399808</td>\n",
       "      <td>3637.2704</td>\n",
       "    </tr>\n",
       "    <tr>\n",
       "      <th>17391</th>\n",
       "      <td>13042425970518099968</td>\n",
       "      <td>3583.6059</td>\n",
       "    </tr>\n",
       "    <tr>\n",
       "      <th>10203</th>\n",
       "      <td>13042425960483100672</td>\n",
       "      <td>3555.0778</td>\n",
       "    </tr>\n",
       "    <tr>\n",
       "      <th>10648</th>\n",
       "      <td>13042425960562999296</td>\n",
       "      <td>3493.6791</td>\n",
       "    </tr>\n",
       "    <tr>\n",
       "      <th>26199</th>\n",
       "      <td>13042425975336300544</td>\n",
       "      <td>3458.1335</td>\n",
       "    </tr>\n",
       "    <tr>\n",
       "      <th>13603</th>\n",
       "      <td>13042425965357199360</td>\n",
       "      <td>3442.4519</td>\n",
       "    </tr>\n",
       "    <tr>\n",
       "      <th>10379</th>\n",
       "      <td>13042425960512700416</td>\n",
       "      <td>3440.2519</td>\n",
       "    </tr>\n",
       "    <tr>\n",
       "      <th>28768</th>\n",
       "      <td>13042425978916499456</td>\n",
       "      <td>3428.9515</td>\n",
       "    </tr>\n",
       "    <tr>\n",
       "      <th>9601</th>\n",
       "      <td>13042425960360699904</td>\n",
       "      <td>3426.7492</td>\n",
       "    </tr>\n",
       "    <tr>\n",
       "      <th>28048</th>\n",
       "      <td>13042425978774599680</td>\n",
       "      <td>3416.6975</td>\n",
       "    </tr>\n",
       "    <tr>\n",
       "      <th>29839</th>\n",
       "      <td>13042425979269300224</td>\n",
       "      <td>3413.6315</td>\n",
       "    </tr>\n",
       "    <tr>\n",
       "      <th>30473</th>\n",
       "      <td>13042425983641300992</td>\n",
       "      <td>3390.0049</td>\n",
       "    </tr>\n",
       "    <tr>\n",
       "      <th>20441</th>\n",
       "      <td>13042425972295899136</td>\n",
       "      <td>3363.1480</td>\n",
       "    </tr>\n",
       "    <tr>\n",
       "      <th>23765</th>\n",
       "      <td>13042425974582800384</td>\n",
       "      <td>3329.7228</td>\n",
       "    </tr>\n",
       "    <tr>\n",
       "      <th>12986</th>\n",
       "      <td>13042425965128800256</td>\n",
       "      <td>3269.9021</td>\n",
       "    </tr>\n",
       "    <tr>\n",
       "      <th>14693</th>\n",
       "      <td>13042425965962999808</td>\n",
       "      <td>3205.3548</td>\n",
       "    </tr>\n",
       "    <tr>\n",
       "      <th>14643</th>\n",
       "      <td>13042425965954299904</td>\n",
       "      <td>3198.5228</td>\n",
       "    </tr>\n",
       "    <tr>\n",
       "      <th>9841</th>\n",
       "      <td>13042425960413300736</td>\n",
       "      <td>3175.1860</td>\n",
       "    </tr>\n",
       "    <tr>\n",
       "      <th>18198</th>\n",
       "      <td>13042425971118100480</td>\n",
       "      <td>3153.9754</td>\n",
       "    </tr>\n",
       "    <tr>\n",
       "      <th>12746</th>\n",
       "      <td>13042425963504300032</td>\n",
       "      <td>3153.6248</td>\n",
       "    </tr>\n",
       "    <tr>\n",
       "      <th>45646</th>\n",
       "      <td>13114483560255100928</td>\n",
       "      <td>3138.8768</td>\n",
       "    </tr>\n",
       "    <tr>\n",
       "      <th>14843</th>\n",
       "      <td>13042425965987600384</td>\n",
       "      <td>3131.4875</td>\n",
       "    </tr>\n",
       "    <tr>\n",
       "      <th>28154</th>\n",
       "      <td>13042425978794000384</td>\n",
       "      <td>3126.6599</td>\n",
       "    </tr>\n",
       "    <tr>\n",
       "      <th>30457</th>\n",
       "      <td>13042425983617300480</td>\n",
       "      <td>3098.2178</td>\n",
       "    </tr>\n",
       "    <tr>\n",
       "      <th>13017</th>\n",
       "      <td>13042425965139599360</td>\n",
       "      <td>3072.3642</td>\n",
       "    </tr>\n",
       "    <tr>\n",
       "      <th>60128</th>\n",
       "      <td>13114483573175400448</td>\n",
       "      <td>2984.6476</td>\n",
       "    </tr>\n",
       "    <tr>\n",
       "      <th>13557</th>\n",
       "      <td>13042425965341399040</td>\n",
       "      <td>2970.4939</td>\n",
       "    </tr>\n",
       "    <tr>\n",
       "      <th>27931</th>\n",
       "      <td>13042425978751600640</td>\n",
       "      <td>2966.2304</td>\n",
       "    </tr>\n",
       "    <tr>\n",
       "      <th>16145</th>\n",
       "      <td>13042425969154799616</td>\n",
       "      <td>2945.8338</td>\n",
       "    </tr>\n",
       "    <tr>\n",
       "      <th>29006</th>\n",
       "      <td>13042425978958299136</td>\n",
       "      <td>2916.5776</td>\n",
       "    </tr>\n",
       "    <tr>\n",
       "      <th>24333</th>\n",
       "      <td>13042425974711199744</td>\n",
       "      <td>2910.2846</td>\n",
       "    </tr>\n",
       "    <tr>\n",
       "      <th>9388</th>\n",
       "      <td>13042425960316499968</td>\n",
       "      <td>2907.7259</td>\n",
       "    </tr>\n",
       "    <tr>\n",
       "      <th>44026</th>\n",
       "      <td>13114483559949600768</td>\n",
       "      <td>2906.5066</td>\n",
       "    </tr>\n",
       "    <tr>\n",
       "      <th>13372</th>\n",
       "      <td>13042425965281400832</td>\n",
       "      <td>2896.2816</td>\n",
       "    </tr>\n",
       "    <tr>\n",
       "      <th>10318</th>\n",
       "      <td>13042425960502599680</td>\n",
       "      <td>2895.8836</td>\n",
       "    </tr>\n",
       "    <tr>\n",
       "      <th>12751</th>\n",
       "      <td>13042425963511599104</td>\n",
       "      <td>2890.6150</td>\n",
       "    </tr>\n",
       "    <tr>\n",
       "      <th>27820</th>\n",
       "      <td>13042425978730399744</td>\n",
       "      <td>2871.6794</td>\n",
       "    </tr>\n",
       "    <tr>\n",
       "      <th>60615</th>\n",
       "      <td>13114483573284100096</td>\n",
       "      <td>2869.0466</td>\n",
       "    </tr>\n",
       "    <tr>\n",
       "      <th>39566</th>\n",
       "      <td>13114483555115800576</td>\n",
       "      <td>2849.1508</td>\n",
       "    </tr>\n",
       "  </tbody>\n",
       "</table>\n",
       "</div>"
      ],
      "text/plain": [
       "                  bearer_id  total_DataLink_MB\n",
       "29838  13042425979269199872          6666.7703\n",
       "20368  13042425972278300672          5539.9899\n",
       "14585  13042425965944199168          4740.0745\n",
       "25854  13042425975039100928          4724.0434\n",
       "30196  13042425981873399808          4363.5545\n",
       "14945  13042425966004299776          4128.6430\n",
       "29040  13042425978965499904          4101.2150\n",
       "46600  13114483562322999296          3910.0663\n",
       "24637  13042425974769899520          3775.4719\n",
       "14490  13042425965924900864          3745.9691\n",
       "46453  13114483561758900224          3677.5828\n",
       "16076  13042425968561399808          3637.2704\n",
       "17391  13042425970518099968          3583.6059\n",
       "10203  13042425960483100672          3555.0778\n",
       "10648  13042425960562999296          3493.6791\n",
       "26199  13042425975336300544          3458.1335\n",
       "13603  13042425965357199360          3442.4519\n",
       "10379  13042425960512700416          3440.2519\n",
       "28768  13042425978916499456          3428.9515\n",
       "9601   13042425960360699904          3426.7492\n",
       "28048  13042425978774599680          3416.6975\n",
       "29839  13042425979269300224          3413.6315\n",
       "30473  13042425983641300992          3390.0049\n",
       "20441  13042425972295899136          3363.1480\n",
       "23765  13042425974582800384          3329.7228\n",
       "12986  13042425965128800256          3269.9021\n",
       "14693  13042425965962999808          3205.3548\n",
       "14643  13042425965954299904          3198.5228\n",
       "9841   13042425960413300736          3175.1860\n",
       "18198  13042425971118100480          3153.9754\n",
       "12746  13042425963504300032          3153.6248\n",
       "45646  13114483560255100928          3138.8768\n",
       "14843  13042425965987600384          3131.4875\n",
       "28154  13042425978794000384          3126.6599\n",
       "30457  13042425983617300480          3098.2178\n",
       "13017  13042425965139599360          3072.3642\n",
       "60128  13114483573175400448          2984.6476\n",
       "13557  13042425965341399040          2970.4939\n",
       "27931  13042425978751600640          2966.2304\n",
       "16145  13042425969154799616          2945.8338\n",
       "29006  13042425978958299136          2916.5776\n",
       "24333  13042425974711199744          2910.2846\n",
       "9388   13042425960316499968          2907.7259\n",
       "44026  13114483559949600768          2906.5066\n",
       "13372  13042425965281400832          2896.2816\n",
       "10318  13042425960502599680          2895.8836\n",
       "12751  13042425963511599104          2890.6150\n",
       "27820  13042425978730399744          2871.6794\n",
       "60615  13114483573284100096          2869.0466\n",
       "39566  13114483555115800576          2849.1508"
      ]
     },
     "execution_count": 296,
     "metadata": {},
     "output_type": "execute_result"
    }
   ],
   "source": [
    "top5_deciles = top5_deciles.head(50)\n",
    "top5_deciles"
   ]
  },
  {
   "cell_type": "code",
   "execution_count": 297,
   "metadata": {},
   "outputs": [
    {
     "data": {
      "text/plain": [
       "10"
      ]
     },
     "execution_count": 297,
     "metadata": {},
     "output_type": "execute_result"
    }
   ],
   "source": [
    "top1_Decile = top5_deciles.iloc[0:10]\n",
    "top1_Decile.shape[0]"
   ]
  },
  {
   "cell_type": "code",
   "execution_count": 298,
   "metadata": {},
   "outputs": [
    {
     "data": {
      "text/html": [
       "<div>\n",
       "<style scoped>\n",
       "    .dataframe tbody tr th:only-of-type {\n",
       "        vertical-align: middle;\n",
       "    }\n",
       "\n",
       "    .dataframe tbody tr th {\n",
       "        vertical-align: top;\n",
       "    }\n",
       "\n",
       "    .dataframe thead th {\n",
       "        text-align: right;\n",
       "    }\n",
       "</style>\n",
       "<table border=\"1\" class=\"dataframe\">\n",
       "  <thead>\n",
       "    <tr style=\"text-align: right;\">\n",
       "      <th></th>\n",
       "      <th>bearer_id</th>\n",
       "      <th>total_DataLink_MB</th>\n",
       "    </tr>\n",
       "  </thead>\n",
       "  <tbody>\n",
       "    <tr>\n",
       "      <th>46453</th>\n",
       "      <td>13114483561758900224</td>\n",
       "      <td>3677.5828</td>\n",
       "    </tr>\n",
       "    <tr>\n",
       "      <th>16076</th>\n",
       "      <td>13042425968561399808</td>\n",
       "      <td>3637.2704</td>\n",
       "    </tr>\n",
       "    <tr>\n",
       "      <th>17391</th>\n",
       "      <td>13042425970518099968</td>\n",
       "      <td>3583.6059</td>\n",
       "    </tr>\n",
       "    <tr>\n",
       "      <th>10203</th>\n",
       "      <td>13042425960483100672</td>\n",
       "      <td>3555.0778</td>\n",
       "    </tr>\n",
       "    <tr>\n",
       "      <th>10648</th>\n",
       "      <td>13042425960562999296</td>\n",
       "      <td>3493.6791</td>\n",
       "    </tr>\n",
       "    <tr>\n",
       "      <th>26199</th>\n",
       "      <td>13042425975336300544</td>\n",
       "      <td>3458.1335</td>\n",
       "    </tr>\n",
       "    <tr>\n",
       "      <th>13603</th>\n",
       "      <td>13042425965357199360</td>\n",
       "      <td>3442.4519</td>\n",
       "    </tr>\n",
       "    <tr>\n",
       "      <th>10379</th>\n",
       "      <td>13042425960512700416</td>\n",
       "      <td>3440.2519</td>\n",
       "    </tr>\n",
       "    <tr>\n",
       "      <th>28768</th>\n",
       "      <td>13042425978916499456</td>\n",
       "      <td>3428.9515</td>\n",
       "    </tr>\n",
       "    <tr>\n",
       "      <th>9601</th>\n",
       "      <td>13042425960360699904</td>\n",
       "      <td>3426.7492</td>\n",
       "    </tr>\n",
       "  </tbody>\n",
       "</table>\n",
       "</div>"
      ],
      "text/plain": [
       "                  bearer_id  total_DataLink_MB\n",
       "46453  13114483561758900224          3677.5828\n",
       "16076  13042425968561399808          3637.2704\n",
       "17391  13042425970518099968          3583.6059\n",
       "10203  13042425960483100672          3555.0778\n",
       "10648  13042425960562999296          3493.6791\n",
       "26199  13042425975336300544          3458.1335\n",
       "13603  13042425965357199360          3442.4519\n",
       "10379  13042425960512700416          3440.2519\n",
       "28768  13042425978916499456          3428.9515\n",
       "9601   13042425960360699904          3426.7492"
      ]
     },
     "execution_count": 298,
     "metadata": {},
     "output_type": "execute_result"
    }
   ],
   "source": [
    "top2_Decile"
   ]
  },
  {
   "cell_type": "code",
   "execution_count": 299,
   "metadata": {},
   "outputs": [
    {
     "data": {
      "text/plain": [
       "10"
      ]
     },
     "execution_count": 299,
     "metadata": {},
     "output_type": "execute_result"
    }
   ],
   "source": [
    "top2_Decile = top5_deciles.iloc[10:20]\n",
    "top2_Decile.shape[0]"
   ]
  },
  {
   "cell_type": "code",
   "execution_count": null,
   "metadata": {},
   "outputs": [],
   "source": []
  },
  {
   "cell_type": "code",
   "execution_count": 300,
   "metadata": {},
   "outputs": [
    {
     "data": {
      "text/plain": [
       "10"
      ]
     },
     "execution_count": 300,
     "metadata": {},
     "output_type": "execute_result"
    }
   ],
   "source": [
    "top3_Decile = top5_deciles.iloc[20:30]\n",
    "top3_Decile.shape[0]"
   ]
  },
  {
   "cell_type": "code",
   "execution_count": 301,
   "metadata": {},
   "outputs": [
    {
     "data": {
      "text/plain": [
       "10"
      ]
     },
     "execution_count": 301,
     "metadata": {},
     "output_type": "execute_result"
    }
   ],
   "source": [
    "top4_Decile = top5_deciles.iloc[30:40]\n",
    "top4_Decile.shape[0]"
   ]
  },
  {
   "cell_type": "code",
   "execution_count": 302,
   "metadata": {},
   "outputs": [
    {
     "data": {
      "text/plain": [
       "10"
      ]
     },
     "execution_count": 302,
     "metadata": {},
     "output_type": "execute_result"
    }
   ],
   "source": [
    "top5_Decile = top5_deciles.iloc[40:]\n",
    "top5_Decile.shape[0]"
   ]
  },
  {
   "cell_type": "markdown",
   "metadata": {},
   "source": [
    "####  Visualize"
   ]
  },
  {
   "cell_type": "markdown",
   "metadata": {},
   "source": [
    "> top first deciles"
   ]
  },
  {
   "cell_type": "code",
   "execution_count": 303,
   "metadata": {},
   "outputs": [
    {
     "data": {
      "image/png": "[encoded data removed]",
      "text/plain": [
       "<Figure size 1080x720 with 1 Axes>"
      ]
     },
     "metadata": {
      "needs_background": "light"
     },
     "output_type": "display_data"
    }
   ],
   "source": [
    "plt.figure(figsize=(15,10))\n",
    "sns.barplot(x='bearer_id', y='total_DataLink_MB', data=top1_Decile,\n",
    "            order=top1_Decile.bearer_id.tolist(), color='b')\n",
    "plt.title('First 10 Users by Data Usage (MB)', fontsize=20)\n",
    "plt.ylabel('Data (MB)', fontsize=15)\n",
    "plt.xlabel('Bearer id', fontsize=15)\n",
    "plt.xticks(rotation=45, fontsize=13)\n",
    "plt.yticks(fontsize=13)\n",
    "plt.savefig('visuals/firstDecile.png', format='png')\n",
    "plt.show()"
   ]
  },
  {
   "cell_type": "code",
   "execution_count": 304,
   "metadata": {},
   "outputs": [
    {
     "data": {
      "text/html": [
       "<div>\n",
       "<style scoped>\n",
       "    .dataframe tbody tr th:only-of-type {\n",
       "        vertical-align: middle;\n",
       "    }\n",
       "\n",
       "    .dataframe tbody tr th {\n",
       "        vertical-align: top;\n",
       "    }\n",
       "\n",
       "    .dataframe thead th {\n",
       "        text-align: right;\n",
       "    }\n",
       "</style>\n",
       "<table border=\"1\" class=\"dataframe\">\n",
       "  <thead>\n",
       "    <tr style=\"text-align: right;\">\n",
       "      <th></th>\n",
       "      <th>bearer_id</th>\n",
       "      <th>total_DataLink_MB</th>\n",
       "    </tr>\n",
       "  </thead>\n",
       "  <tbody>\n",
       "    <tr>\n",
       "      <th>46453</th>\n",
       "      <td>13114483561758900224</td>\n",
       "      <td>3677.5828</td>\n",
       "    </tr>\n",
       "    <tr>\n",
       "      <th>16076</th>\n",
       "      <td>13042425968561399808</td>\n",
       "      <td>3637.2704</td>\n",
       "    </tr>\n",
       "    <tr>\n",
       "      <th>17391</th>\n",
       "      <td>13042425970518099968</td>\n",
       "      <td>3583.6059</td>\n",
       "    </tr>\n",
       "    <tr>\n",
       "      <th>10203</th>\n",
       "      <td>13042425960483100672</td>\n",
       "      <td>3555.0778</td>\n",
       "    </tr>\n",
       "    <tr>\n",
       "      <th>10648</th>\n",
       "      <td>13042425960562999296</td>\n",
       "      <td>3493.6791</td>\n",
       "    </tr>\n",
       "    <tr>\n",
       "      <th>26199</th>\n",
       "      <td>13042425975336300544</td>\n",
       "      <td>3458.1335</td>\n",
       "    </tr>\n",
       "    <tr>\n",
       "      <th>13603</th>\n",
       "      <td>13042425965357199360</td>\n",
       "      <td>3442.4519</td>\n",
       "    </tr>\n",
       "    <tr>\n",
       "      <th>10379</th>\n",
       "      <td>13042425960512700416</td>\n",
       "      <td>3440.2519</td>\n",
       "    </tr>\n",
       "    <tr>\n",
       "      <th>28768</th>\n",
       "      <td>13042425978916499456</td>\n",
       "      <td>3428.9515</td>\n",
       "    </tr>\n",
       "    <tr>\n",
       "      <th>9601</th>\n",
       "      <td>13042425960360699904</td>\n",
       "      <td>3426.7492</td>\n",
       "    </tr>\n",
       "  </tbody>\n",
       "</table>\n",
       "</div>"
      ],
      "text/plain": [
       "                  bearer_id  total_DataLink_MB\n",
       "46453  13114483561758900224          3677.5828\n",
       "16076  13042425968561399808          3637.2704\n",
       "17391  13042425970518099968          3583.6059\n",
       "10203  13042425960483100672          3555.0778\n",
       "10648  13042425960562999296          3493.6791\n",
       "26199  13042425975336300544          3458.1335\n",
       "13603  13042425965357199360          3442.4519\n",
       "10379  13042425960512700416          3440.2519\n",
       "28768  13042425978916499456          3428.9515\n",
       "9601   13042425960360699904          3426.7492"
      ]
     },
     "execution_count": 304,
     "metadata": {},
     "output_type": "execute_result"
    }
   ],
   "source": [
    "top2_Decile"
   ]
  },
  {
   "cell_type": "code",
   "execution_count": 305,
   "metadata": {},
   "outputs": [
    {
     "data": {
      "image/png": "[encoded data removed]",
      "text/plain": [
       "<Figure size 1080x720 with 1 Axes>"
      ]
     },
     "metadata": {
      "needs_background": "light"
     },
     "output_type": "display_data"
    }
   ],
   "source": [
    "plt.subplots(figsize=(15,10))\n",
    "sns.barplot(x='bearer_id', y='total_DataLink_MB', data=top2_Decile,\n",
    "            order=top2_Decile.bearer_id.tolist(), color='b')\n",
    "plt.title('Second 10 Users by Data Usage (MB)', fontsize=20)\n",
    "plt.ylabel('Data (MB)', fontsize=15)\n",
    "plt.xlabel('Bearer id', fontsize=15)\n",
    "plt.xticks(rotation=45, fontsize=13)\n",
    "plt.yticks(fontsize=13)\n",
    "plt.savefig('visuals/secondDecile.png', format='png')\n",
    "plt.show()"
   ]
  },
  {
   "cell_type": "code",
   "execution_count": 306,
   "metadata": {},
   "outputs": [
    {
     "data": {
      "image/png": "[encoded data removed]",
      "text/plain": [
       "<Figure size 1080x720 with 1 Axes>"
      ]
     },
     "metadata": {
      "needs_background": "light"
     },
     "output_type": "display_data"
    }
   ],
   "source": [
    "plt.subplots(figsize=(15,10))\n",
    "sns.barplot(x='bearer_id', y='total_DataLink_MB', data=top3_Decile,\n",
    "            order=top3_Decile.bearer_id.tolist(), color='b')\n",
    "plt.title('Third 10 Users by Data Usage (MB)', fontsize=20)\n",
    "plt.ylabel('Data (MB)', fontsize=15)\n",
    "plt.xlabel('Bearer id', fontsize=15)\n",
    "plt.xticks(rotation=45, fontsize=13)\n",
    "plt.yticks(fontsize=13)\n",
    "plt.savefig('visuals/thirdDecile.png', format='png')\n",
    "plt.show()"
   ]
  },
  {
   "cell_type": "code",
   "execution_count": 307,
   "metadata": {},
   "outputs": [
    {
     "data": {
      "image/png": "[encoded data removed]",
      "text/plain": [
       "<Figure size 1080x720 with 1 Axes>"
      ]
     },
     "metadata": {
      "needs_background": "light"
     },
     "output_type": "display_data"
    }
   ],
   "source": [
    "plt.subplots(figsize=(15,10))\n",
    "sns.barplot(x='bearer_id', y='total_DataLink_MB', data=top4_Decile,\n",
    "            order=top4_Decile.bearer_id.tolist(), color='b')\n",
    "plt.title('Fourth 10 Users by Data Usage (MB)', fontsize=20)\n",
    "plt.ylabel('Data (MB)', fontsize=15)\n",
    "plt.xlabel('Bearer id', fontsize=15)\n",
    "plt.xticks(rotation=45, fontsize=13)\n",
    "plt.yticks(fontsize=13)\n",
    "plt.savefig('visuals/fourthDecile.png', format='png')\n",
    "plt.show()"
   ]
  },
  {
   "cell_type": "code",
   "execution_count": 308,
   "metadata": {},
   "outputs": [
    {
     "data": {
      "image/png": "[encoded data removed]",
      "text/plain": [
       "<Figure size 1080x720 with 1 Axes>"
      ]
     },
     "metadata": {
      "needs_background": "light"
     },
     "output_type": "display_data"
    }
   ],
   "source": [
    "plt.subplots(figsize=(15,10))\n",
    "sns.barplot(x='bearer_id', y='total_DataLink_MB', data=top5_Decile,\n",
    "            order=top5_Decile.bearer_id.tolist(), color='b')\n",
    "plt.title('Fifth 10 Users by Data Usage (MB)', fontsize=20)\n",
    "plt.ylabel('Data (MB)', fontsize=15)\n",
    "plt.xlabel('Bearer id', fontsize=15)\n",
    "plt.xticks(rotation=45, fontsize=13)\n",
    "plt.yticks(fontsize=13)\n",
    "plt.savefig('visuals/fifthDecile.png', format='png')\n",
    "plt.show()"
   ]
  },
  {
   "cell_type": "markdown",
   "metadata": {},
   "source": [
    "> Observations"
   ]
  },
  {
   "cell_type": "markdown",
   "metadata": {},
   "source": [
    "> There is significant gap among the data usage of the first decile class compared to other classes\n",
    "\n",
    "> The difference within each classes decreases as new classes are added\n",
    "\n",
    ">> This could suggest a relationship between data usage and decile classes\n",
    "\n",
    ">> It also suggests that there might be a uniform/normal distribution in data usage among users\n",
    "\n",
    "- - -   We can verify this by plotting an histogram of total DL and total UL of all users"
   ]
  },
  {
   "cell_type": "markdown",
   "metadata": {},
   "source": [
    "Total Downlink Distribution"
   ]
  },
  {
   "cell_type": "code",
   "execution_count": 309,
   "metadata": {},
   "outputs": [
    {
     "data": {
      "text/plain": [
       "<matplotlib.axes._subplots.AxesSubplot at 0x7f15fd77bac8>"
      ]
     },
     "execution_count": 309,
     "metadata": {},
     "output_type": "execute_result"
    },
    {
     "data": {
      "image/png": "[encoded data removed]",
      "text/plain": [
       "<Figure size 720x576 with 1 Axes>"
      ]
     },
     "metadata": {
      "needs_background": "light"
     },
     "output_type": "display_data"
    }
   ],
   "source": [
    "plt.subplots(figsize=(10,8))\n",
    "data2.total_dl__bytes_.hist()"
   ]
  },
  {
   "cell_type": "markdown",
   "metadata": {},
   "source": [
    "Total Uplink Distribution"
   ]
  },
  {
   "cell_type": "code",
   "execution_count": 310,
   "metadata": {},
   "outputs": [
    {
     "data": {
      "text/plain": [
       "<matplotlib.axes._subplots.AxesSubplot at 0x7f15fd64cf60>"
      ]
     },
     "execution_count": 310,
     "metadata": {},
     "output_type": "execute_result"
    },
    {
     "data": {
      "image/png": "[encoded data removed]",
      "text/plain": [
       "<Figure size 720x576 with 1 Axes>"
      ]
     },
     "metadata": {
      "needs_background": "light"
     },
     "output_type": "display_data"
    }
   ],
   "source": [
    "plt.subplots(figsize=(10,8))\n",
    "data2.total_ul__bytes_.hist()"
   ]
  },
  {
   "cell_type": "markdown",
   "metadata": {},
   "source": [
    "> The uniform and normal distribution of the above charts  exaplins why four of the top 5 decile classes have no much difference among the classes"
   ]
  },
  {
   "cell_type": "markdown",
   "metadata": {},
   "source": [
    " "
   ]
  },
  {
   "cell_type": "markdown",
   "metadata": {},
   "source": [
    "<a id=\"r2\"></a>\n",
    "\n",
    "#### Research Question 2\n",
    "\n",
    "- User Behaviour in xDR sessions\n",
    " \n",
    "     - What inisghts can be gotten from user behaviour accross the xDR sessions (Data Channel)"
   ]
  },
  {
   "cell_type": "markdown",
   "metadata": {},
   "source": [
    " "
   ]
  },
  {
   "cell_type": "markdown",
   "metadata": {},
   "source": [
    "#### In answering the question above, we would focus on the following user aggreagations"
   ]
  },
  {
   "cell_type": "markdown",
   "metadata": {},
   "source": [
    "aggregate per user the following information in the column:\n",
    "\n",
    "   1. number of xDR sessions\n",
    "    \n",
    "   2. session duration\n",
    "    \n",
    "   3. the total download (DL) and upload (UL) data\n",
    "    \n",
    "   4. the total data volume (in Bytes) during this session for each application"
   ]
  },
  {
   "cell_type": "markdown",
   "metadata": {},
   "source": [
    " "
   ]
  },
  {
   "cell_type": "markdown",
   "metadata": {},
   "source": [
    "1. number of XDR sessions  per user"
   ]
  },
  {
   "cell_type": "code",
   "execution_count": 311,
   "metadata": {},
   "outputs": [
    {
     "data": {
      "text/plain": [
       "                        991\n",
       "13042425979269199872     16\n",
       "13042425965944199168     10\n",
       "13042425981873399808      9\n",
       "13042425974582800384      9\n",
       "                       ... \n",
       "7277825655010759680       1\n",
       "13042425974705000448      1\n",
       "7277825664644740096       1\n",
       "7349883246967950336       1\n",
       "7349883263022419968       1\n",
       "Name: bearer_id, Length: 134709, dtype: int64"
      ]
     },
     "execution_count": 311,
     "metadata": {},
     "output_type": "execute_result"
    }
   ],
   "source": [
    "data2.bearer_id.value_counts()"
   ]
  },
  {
   "cell_type": "markdown",
   "metadata": {},
   "source": [
    "> There are empty rows in our columns, let's confirm this"
   ]
  },
  {
   "cell_type": "code",
   "execution_count": 312,
   "metadata": {},
   "outputs": [
    {
     "data": {
      "text/plain": [
       "True"
      ]
     },
     "execution_count": 312,
     "metadata": {},
     "output_type": "execute_result"
    }
   ],
   "source": [
    "\"\" in data2.bearer_id.unique().tolist()"
   ]
  },
  {
   "cell_type": "markdown",
   "metadata": {},
   "source": [
    "> This might affect our reporting, so let's drop them"
   ]
  },
  {
   "cell_type": "code",
   "execution_count": 313,
   "metadata": {},
   "outputs": [],
   "source": [
    "bearers = data.query('bearer_id == \"\" ')"
   ]
  },
  {
   "cell_type": "code",
   "execution_count": 314,
   "metadata": {},
   "outputs": [],
   "source": [
    "true_bearers = data.drop(bearers.index, axis=0) "
   ]
  },
  {
   "cell_type": "markdown",
   "metadata": {},
   "source": [
    "> Test"
   ]
  },
  {
   "cell_type": "code",
   "execution_count": 315,
   "metadata": {},
   "outputs": [
    {
     "data": {
      "text/plain": [
       "False"
      ]
     },
     "execution_count": 315,
     "metadata": {},
     "output_type": "execute_result"
    }
   ],
   "source": [
    "\"\" in true_bearers.bearer_id.unique().tolist()"
   ]
  },
  {
   "cell_type": "code",
   "execution_count": 316,
   "metadata": {},
   "outputs": [],
   "source": [
    "all_xDR_sessions = true_bearers.groupby('bearer_id')['bearer_id'].count().reset_index(name='count').sort_values(by='count', ascending=False)"
   ]
  },
  {
   "cell_type": "code",
   "execution_count": 317,
   "metadata": {},
   "outputs": [
    {
     "data": {
      "text/html": [
       "<div>\n",
       "<style scoped>\n",
       "    .dataframe tbody tr th:only-of-type {\n",
       "        vertical-align: middle;\n",
       "    }\n",
       "\n",
       "    .dataframe tbody tr th {\n",
       "        vertical-align: top;\n",
       "    }\n",
       "\n",
       "    .dataframe thead th {\n",
       "        text-align: right;\n",
       "    }\n",
       "</style>\n",
       "<table border=\"1\" class=\"dataframe\">\n",
       "  <thead>\n",
       "    <tr style=\"text-align: right;\">\n",
       "      <th></th>\n",
       "      <th>bearer_id</th>\n",
       "      <th>count</th>\n",
       "    </tr>\n",
       "  </thead>\n",
       "  <tbody>\n",
       "    <tr>\n",
       "      <th>29837</th>\n",
       "      <td>13042425979269199872</td>\n",
       "      <td>16</td>\n",
       "    </tr>\n",
       "    <tr>\n",
       "      <th>14584</th>\n",
       "      <td>13042425965944199168</td>\n",
       "      <td>10</td>\n",
       "    </tr>\n",
       "    <tr>\n",
       "      <th>28047</th>\n",
       "      <td>13042425978774599680</td>\n",
       "      <td>9</td>\n",
       "    </tr>\n",
       "    <tr>\n",
       "      <th>20367</th>\n",
       "      <td>13042425972278300672</td>\n",
       "      <td>9</td>\n",
       "    </tr>\n",
       "    <tr>\n",
       "      <th>30195</th>\n",
       "      <td>13042425981873399808</td>\n",
       "      <td>9</td>\n",
       "    </tr>\n",
       "    <tr>\n",
       "      <th>...</th>\n",
       "      <td>...</td>\n",
       "      <td>...</td>\n",
       "    </tr>\n",
       "    <tr>\n",
       "      <th>50114</th>\n",
       "      <td>13114483565776900096</td>\n",
       "      <td>1</td>\n",
       "    </tr>\n",
       "    <tr>\n",
       "      <th>50113</th>\n",
       "      <td>13114483565775900672</td>\n",
       "      <td>1</td>\n",
       "    </tr>\n",
       "    <tr>\n",
       "      <th>50112</th>\n",
       "      <td>13114483565775499264</td>\n",
       "      <td>1</td>\n",
       "    </tr>\n",
       "    <tr>\n",
       "      <th>50111</th>\n",
       "      <td>13114483565775400960</td>\n",
       "      <td>1</td>\n",
       "    </tr>\n",
       "    <tr>\n",
       "      <th>134707</th>\n",
       "      <td>7566056041073649664</td>\n",
       "      <td>1</td>\n",
       "    </tr>\n",
       "  </tbody>\n",
       "</table>\n",
       "<p>134708 rows × 2 columns</p>\n",
       "</div>"
      ],
      "text/plain": [
       "                   bearer_id  count\n",
       "29837   13042425979269199872     16\n",
       "14584   13042425965944199168     10\n",
       "28047   13042425978774599680      9\n",
       "20367   13042425972278300672      9\n",
       "30195   13042425981873399808      9\n",
       "...                      ...    ...\n",
       "50114   13114483565776900096      1\n",
       "50113   13114483565775900672      1\n",
       "50112   13114483565775499264      1\n",
       "50111   13114483565775400960      1\n",
       "134707   7566056041073649664      1\n",
       "\n",
       "[134708 rows x 2 columns]"
      ]
     },
     "execution_count": 317,
     "metadata": {},
     "output_type": "execute_result"
    }
   ],
   "source": [
    "all_xDR_sessions"
   ]
  },
  {
   "cell_type": "markdown",
   "metadata": {},
   "source": [
    "Non graphical univariate analysis"
   ]
  },
  {
   "cell_type": "code",
   "execution_count": 318,
   "metadata": {},
   "outputs": [],
   "source": [
    "xDR_stats = all_xDR_sessions.describe().reset_index()"
   ]
  },
  {
   "cell_type": "code",
   "execution_count": 319,
   "metadata": {},
   "outputs": [
    {
     "data": {
      "text/html": [
       "<div>\n",
       "<style scoped>\n",
       "    .dataframe tbody tr th:only-of-type {\n",
       "        vertical-align: middle;\n",
       "    }\n",
       "\n",
       "    .dataframe tbody tr th {\n",
       "        vertical-align: top;\n",
       "    }\n",
       "\n",
       "    .dataframe thead th {\n",
       "        text-align: right;\n",
       "    }\n",
       "</style>\n",
       "<table border=\"1\" class=\"dataframe\">\n",
       "  <thead>\n",
       "    <tr style=\"text-align: right;\">\n",
       "      <th></th>\n",
       "      <th>index</th>\n",
       "      <th>count</th>\n",
       "    </tr>\n",
       "  </thead>\n",
       "  <tbody>\n",
       "    <tr>\n",
       "      <th>0</th>\n",
       "      <td>count</td>\n",
       "      <td>134708.000000</td>\n",
       "    </tr>\n",
       "    <tr>\n",
       "      <th>1</th>\n",
       "      <td>mean</td>\n",
       "      <td>1.106170</td>\n",
       "    </tr>\n",
       "    <tr>\n",
       "      <th>2</th>\n",
       "      <td>std</td>\n",
       "      <td>0.385199</td>\n",
       "    </tr>\n",
       "    <tr>\n",
       "      <th>3</th>\n",
       "      <td>min</td>\n",
       "      <td>1.000000</td>\n",
       "    </tr>\n",
       "    <tr>\n",
       "      <th>4</th>\n",
       "      <td>25%</td>\n",
       "      <td>1.000000</td>\n",
       "    </tr>\n",
       "    <tr>\n",
       "      <th>5</th>\n",
       "      <td>50%</td>\n",
       "      <td>1.000000</td>\n",
       "    </tr>\n",
       "    <tr>\n",
       "      <th>6</th>\n",
       "      <td>75%</td>\n",
       "      <td>1.000000</td>\n",
       "    </tr>\n",
       "    <tr>\n",
       "      <th>7</th>\n",
       "      <td>max</td>\n",
       "      <td>16.000000</td>\n",
       "    </tr>\n",
       "  </tbody>\n",
       "</table>\n",
       "</div>"
      ],
      "text/plain": [
       "   index          count\n",
       "0  count  134708.000000\n",
       "1   mean       1.106170\n",
       "2    std       0.385199\n",
       "3    min       1.000000\n",
       "4    25%       1.000000\n",
       "5    50%       1.000000\n",
       "6    75%       1.000000\n",
       "7    max      16.000000"
      ]
     },
     "execution_count": 319,
     "metadata": {},
     "output_type": "execute_result"
    }
   ],
   "source": [
    "xDR_stats"
   ]
  },
  {
   "cell_type": "code",
   "execution_count": 320,
   "metadata": {},
   "outputs": [],
   "source": [
    "xDR_stats.rename(columns={'index':'xDR_statistics', 'count':'value'}, inplace=True)"
   ]
  },
  {
   "cell_type": "code",
   "execution_count": 321,
   "metadata": {},
   "outputs": [
    {
     "data": {
      "text/html": [
       "<div>\n",
       "<style scoped>\n",
       "    .dataframe tbody tr th:only-of-type {\n",
       "        vertical-align: middle;\n",
       "    }\n",
       "\n",
       "    .dataframe tbody tr th {\n",
       "        vertical-align: top;\n",
       "    }\n",
       "\n",
       "    .dataframe thead th {\n",
       "        text-align: right;\n",
       "    }\n",
       "</style>\n",
       "<table border=\"1\" class=\"dataframe\">\n",
       "  <thead>\n",
       "    <tr style=\"text-align: right;\">\n",
       "      <th></th>\n",
       "      <th>xDR_statistics</th>\n",
       "      <th>value</th>\n",
       "    </tr>\n",
       "  </thead>\n",
       "  <tbody>\n",
       "    <tr>\n",
       "      <th>0</th>\n",
       "      <td>count</td>\n",
       "      <td>134708.000000</td>\n",
       "    </tr>\n",
       "    <tr>\n",
       "      <th>1</th>\n",
       "      <td>mean</td>\n",
       "      <td>1.106170</td>\n",
       "    </tr>\n",
       "    <tr>\n",
       "      <th>2</th>\n",
       "      <td>std</td>\n",
       "      <td>0.385199</td>\n",
       "    </tr>\n",
       "    <tr>\n",
       "      <th>3</th>\n",
       "      <td>min</td>\n",
       "      <td>1.000000</td>\n",
       "    </tr>\n",
       "    <tr>\n",
       "      <th>4</th>\n",
       "      <td>25%</td>\n",
       "      <td>1.000000</td>\n",
       "    </tr>\n",
       "    <tr>\n",
       "      <th>5</th>\n",
       "      <td>50%</td>\n",
       "      <td>1.000000</td>\n",
       "    </tr>\n",
       "    <tr>\n",
       "      <th>6</th>\n",
       "      <td>75%</td>\n",
       "      <td>1.000000</td>\n",
       "    </tr>\n",
       "    <tr>\n",
       "      <th>7</th>\n",
       "      <td>max</td>\n",
       "      <td>16.000000</td>\n",
       "    </tr>\n",
       "  </tbody>\n",
       "</table>\n",
       "</div>"
      ],
      "text/plain": [
       "  xDR_statistics          value\n",
       "0          count  134708.000000\n",
       "1           mean       1.106170\n",
       "2            std       0.385199\n",
       "3            min       1.000000\n",
       "4            25%       1.000000\n",
       "5            50%       1.000000\n",
       "6            75%       1.000000\n",
       "7            max      16.000000"
      ]
     },
     "execution_count": 321,
     "metadata": {},
     "output_type": "execute_result"
    }
   ],
   "source": [
    "xDR_stats"
   ]
  },
  {
   "cell_type": "markdown",
   "metadata": {},
   "source": [
    "#### Interpretation"
   ]
  },
  {
   "cell_type": "markdown",
   "metadata": {},
   "source": [
    "- From the above statistics table, we have `134708` unique users - this signifies the proportion of Tellco Market Share in the telecommunications industry"
   ]
  },
  {
   "cell_type": "markdown",
   "metadata": {},
   "source": [
    "- The mean of `1` signifies the average number of Data Sessions by most user is 1"
   ]
  },
  {
   "cell_type": "markdown",
   "metadata": {},
   "source": [
    "- The minimum number of seesions by users is `1` while the maximum number of seesion is `16`\n",
    "\n",
    "- The maximun number of session being 16 is an outlier because  on average users have just one data session with Tellco "
   ]
  },
  {
   "cell_type": "markdown",
   "metadata": {},
   "source": [
    "- A value of `1` across the first 3 quartiles, tells us that most of Tellco users have one data session on thier platform"
   ]
  },
  {
   "cell_type": "markdown",
   "metadata": {},
   "source": [
    " "
   ]
  },
  {
   "cell_type": "markdown",
   "metadata": {},
   "source": [
    "Graphical Univariate Analysis"
   ]
  },
  {
   "cell_type": "markdown",
   "metadata": {},
   "source": [
    "histrogam distribution"
   ]
  },
  {
   "cell_type": "code",
   "execution_count": 322,
   "metadata": {},
   "outputs": [
    {
     "data": {
      "text/plain": [
       "<matplotlib.axes._subplots.AxesSubplot at 0x7f15fd9f2c18>"
      ]
     },
     "execution_count": 322,
     "metadata": {},
     "output_type": "execute_result"
    },
    {
     "data": {
      "image/png": "[encoded data removed]",
      "text/plain": [
       "<Figure size 1152x720 with 1 Axes>"
      ]
     },
     "metadata": {
      "needs_background": "light"
     },
     "output_type": "display_data"
    }
   ],
   "source": [
    "plt.subplots(figsize=(16, 10))\n",
    "all_xDR_sessions['count'].hist()"
   ]
  },
  {
   "cell_type": "markdown",
   "metadata": {},
   "source": [
    "> The plot above doesn't seem weel scaled, let's try to normalize it with the z-score"
   ]
  },
  {
   "cell_type": "markdown",
   "metadata": {},
   "source": [
    "<!-- Graphical Analysis -->"
   ]
  },
  {
   "cell_type": "code",
   "execution_count": 323,
   "metadata": {},
   "outputs": [],
   "source": [
    "xDR_sessions_z = (all_xDR_sessions['count'] - all_xDR_sessions['count'].mean())/all_xDR_sessions['count'].std(ddof=0)"
   ]
  },
  {
   "cell_type": "code",
   "execution_count": 324,
   "metadata": {},
   "outputs": [
    {
     "data": {
      "image/png": "[encoded data removed]",
      "text/plain": [
       "<Figure size 1152x720 with 1 Axes>"
      ]
     },
     "metadata": {
      "needs_background": "light"
     },
     "output_type": "display_data"
    }
   ],
   "source": [
    "plt.subplots(figsize=(16, 10))\n",
    "plt.hist(xDR_sessions_z);"
   ]
  },
  {
   "cell_type": "markdown",
   "metadata": {},
   "source": [
    "> Let's try using numpy log funciton to transform "
   ]
  },
  {
   "cell_type": "code",
   "execution_count": 325,
   "metadata": {},
   "outputs": [],
   "source": [
    "xDR_sessions_log = np.log(all_xDR_sessions['count'])"
   ]
  },
  {
   "cell_type": "code",
   "execution_count": 326,
   "metadata": {},
   "outputs": [
    {
     "data": {
      "image/png": "[encoded data removed]",
      "text/plain": [
       "<Figure size 1152x720 with 1 Axes>"
      ]
     },
     "metadata": {
      "needs_background": "light"
     },
     "output_type": "display_data"
    }
   ],
   "source": [
    "plt.subplots(figsize=(16, 10))\n",
    "plt.hist((xDR_sessions_log))\n",
    "plt.title('Data Sessions Distribution  (log)', fontsize=20)\n",
    "plt.xlabel('Data Sessions', fontsize=15)\n",
    "plt.savefig('visuals/xDRdist.png', format='png')\n",
    "plt.show()"
   ]
  },
  {
   "cell_type": "markdown",
   "metadata": {},
   "source": [
    "> The above plot clearly proves that we have a right skewed distribution of xDR sessions,\n",
    "\n",
    "> This means that most users use below average count of xDR session on Tellco platform\n",
    "\n",
    "> The top xDR session count are in the range of 6-11\n",
    "\n",
    "> The log distributoin is able to let us see an outlier in the range of 15 - 16"
   ]
  },
  {
   "cell_type": "markdown",
   "metadata": {},
   "source": [
    "Visuallizing, the barplot might be quite too busy on the chart.\n",
    "\n",
    "Hence we would use visualize the top 10 xDR sessions"
   ]
  },
  {
   "cell_type": "code",
   "execution_count": 327,
   "metadata": {},
   "outputs": [],
   "source": [
    "top_xDr = all_xDR_sessions.head(10)"
   ]
  },
  {
   "cell_type": "code",
   "execution_count": 328,
   "metadata": {},
   "outputs": [
    {
     "data": {
      "image/png": "[encoded data removed]",
      "text/plain": [
       "<Figure size 1080x720 with 1 Axes>"
      ]
     },
     "metadata": {
      "needs_background": "light"
     },
     "output_type": "display_data"
    }
   ],
   "source": [
    "plt.subplots(figsize=(15, 10))\n",
    "plt.xticks(rotation=35)\n",
    "plt.xlabel('bearer id', fontsize=15)\n",
    "plt.ylabel('xDR Sessions',fontsize=15)\n",
    "plt.title('Top 10 Data Session Users', fontsize=20)\n",
    "sns.barplot(x='bearer_id', y='count', data=top_xDr, color='m', order=top_xDr.bearer_id.values.tolist())\n",
    "plt.savefig('visuals/topxDRusers.png', format='png')\n",
    "plt.show()"
   ]
  },
  {
   "cell_type": "markdown",
   "metadata": {},
   "source": [
    "#### Observations\n",
    "> From the above, we can deduce the that most of the top data users, have data sessions count of 8-10"
   ]
  },
  {
   "cell_type": "markdown",
   "metadata": {},
   "source": [
    "2. session duration"
   ]
  },
  {
   "cell_type": "code",
   "execution_count": 329,
   "metadata": {},
   "outputs": [],
   "source": [
    "session_duration = true_bearers.groupby('bearer_id')['dur___ms__1'].sum().reset_index(name='time_spent').sort_values(by='time_spent', ascending=False)\n",
    "# true_bearers['dur___ms__1']"
   ]
  },
  {
   "cell_type": "code",
   "execution_count": 330,
   "metadata": {},
   "outputs": [
    {
     "data": {
      "text/html": [
       "<div>\n",
       "<style scoped>\n",
       "    .dataframe tbody tr th:only-of-type {\n",
       "        vertical-align: middle;\n",
       "    }\n",
       "\n",
       "    .dataframe tbody tr th {\n",
       "        vertical-align: top;\n",
       "    }\n",
       "\n",
       "    .dataframe thead th {\n",
       "        text-align: right;\n",
       "    }\n",
       "</style>\n",
       "<table border=\"1\" class=\"dataframe\">\n",
       "  <thead>\n",
       "    <tr style=\"text-align: right;\">\n",
       "      <th></th>\n",
       "      <th>bearer_id</th>\n",
       "      <th>time_spent</th>\n",
       "    </tr>\n",
       "  </thead>\n",
       "  <tbody>\n",
       "    <tr>\n",
       "      <th>30195</th>\n",
       "      <td>13042425981873399808</td>\n",
       "      <td>2.598171e+09</td>\n",
       "    </tr>\n",
       "    <tr>\n",
       "      <th>28047</th>\n",
       "      <td>13042425978774599680</td>\n",
       "      <td>1.433262e+09</td>\n",
       "    </tr>\n",
       "    <tr>\n",
       "      <th>30167</th>\n",
       "      <td>13042425981180200960</td>\n",
       "      <td>1.344507e+09</td>\n",
       "    </tr>\n",
       "    <tr>\n",
       "      <th>29837</th>\n",
       "      <td>13042425979269199872</td>\n",
       "      <td>1.329290e+09</td>\n",
       "    </tr>\n",
       "    <tr>\n",
       "      <th>17830</th>\n",
       "      <td>13042425970894600192</td>\n",
       "      <td>1.300086e+09</td>\n",
       "    </tr>\n",
       "    <tr>\n",
       "      <th>...</th>\n",
       "      <td>...</td>\n",
       "      <td>...</td>\n",
       "    </tr>\n",
       "    <tr>\n",
       "      <th>74848</th>\n",
       "      <td>7277825656116110336</td>\n",
       "      <td>7.284802e+06</td>\n",
       "    </tr>\n",
       "    <tr>\n",
       "      <th>62268</th>\n",
       "      <td>6917537685489510400</td>\n",
       "      <td>7.267018e+06</td>\n",
       "    </tr>\n",
       "    <tr>\n",
       "      <th>61210</th>\n",
       "      <td>6917537673690099712</td>\n",
       "      <td>7.258080e+06</td>\n",
       "    </tr>\n",
       "    <tr>\n",
       "      <th>61198</th>\n",
       "      <td>6917537669513839616</td>\n",
       "      <td>7.146574e+06</td>\n",
       "    </tr>\n",
       "    <tr>\n",
       "      <th>8890</th>\n",
       "      <td>13042425959676700672</td>\n",
       "      <td>7.142988e+06</td>\n",
       "    </tr>\n",
       "  </tbody>\n",
       "</table>\n",
       "<p>134708 rows × 2 columns</p>\n",
       "</div>"
      ],
      "text/plain": [
       "                  bearer_id    time_spent\n",
       "30195  13042425981873399808  2.598171e+09\n",
       "28047  13042425978774599680  1.433262e+09\n",
       "30167  13042425981180200960  1.344507e+09\n",
       "29837  13042425979269199872  1.329290e+09\n",
       "17830  13042425970894600192  1.300086e+09\n",
       "...                     ...           ...\n",
       "74848   7277825656116110336  7.284802e+06\n",
       "62268   6917537685489510400  7.267018e+06\n",
       "61210   6917537673690099712  7.258080e+06\n",
       "61198   6917537669513839616  7.146574e+06\n",
       "8890   13042425959676700672  7.142988e+06\n",
       "\n",
       "[134708 rows x 2 columns]"
      ]
     },
     "execution_count": 330,
     "metadata": {},
     "output_type": "execute_result"
    }
   ],
   "source": [
    "session_duration"
   ]
  },
  {
   "cell_type": "markdown",
   "metadata": {},
   "source": [
    "> To get an accurate description, we have to convert the vlaue in milliseconds to hours"
   ]
  },
  {
   "cell_type": "code",
   "execution_count": 331,
   "metadata": {},
   "outputs": [],
   "source": [
    "session_duration['time_spent']=session_duration['time_spent'].apply(lambda x: int(x/(1000*60*60)%24))"
   ]
  },
  {
   "cell_type": "code",
   "execution_count": 332,
   "metadata": {},
   "outputs": [],
   "source": [
    "session_duration.rename(columns={'time_spent':'hours_spent'}, inplace=True)"
   ]
  },
  {
   "cell_type": "code",
   "execution_count": 333,
   "metadata": {},
   "outputs": [
    {
     "data": {
      "text/html": [
       "<div>\n",
       "<style scoped>\n",
       "    .dataframe tbody tr th:only-of-type {\n",
       "        vertical-align: middle;\n",
       "    }\n",
       "\n",
       "    .dataframe tbody tr th {\n",
       "        vertical-align: top;\n",
       "    }\n",
       "\n",
       "    .dataframe thead th {\n",
       "        text-align: right;\n",
       "    }\n",
       "</style>\n",
       "<table border=\"1\" class=\"dataframe\">\n",
       "  <thead>\n",
       "    <tr style=\"text-align: right;\">\n",
       "      <th></th>\n",
       "      <th>bearer_id</th>\n",
       "      <th>hours_spent</th>\n",
       "    </tr>\n",
       "  </thead>\n",
       "  <tbody>\n",
       "    <tr>\n",
       "      <th>30195</th>\n",
       "      <td>13042425981873399808</td>\n",
       "      <td>1</td>\n",
       "    </tr>\n",
       "    <tr>\n",
       "      <th>28047</th>\n",
       "      <td>13042425978774599680</td>\n",
       "      <td>14</td>\n",
       "    </tr>\n",
       "    <tr>\n",
       "      <th>30167</th>\n",
       "      <td>13042425981180200960</td>\n",
       "      <td>13</td>\n",
       "    </tr>\n",
       "    <tr>\n",
       "      <th>29837</th>\n",
       "      <td>13042425979269199872</td>\n",
       "      <td>9</td>\n",
       "    </tr>\n",
       "    <tr>\n",
       "      <th>17830</th>\n",
       "      <td>13042425970894600192</td>\n",
       "      <td>1</td>\n",
       "    </tr>\n",
       "    <tr>\n",
       "      <th>...</th>\n",
       "      <td>...</td>\n",
       "      <td>...</td>\n",
       "    </tr>\n",
       "    <tr>\n",
       "      <th>74848</th>\n",
       "      <td>7277825656116110336</td>\n",
       "      <td>2</td>\n",
       "    </tr>\n",
       "    <tr>\n",
       "      <th>62268</th>\n",
       "      <td>6917537685489510400</td>\n",
       "      <td>2</td>\n",
       "    </tr>\n",
       "    <tr>\n",
       "      <th>61210</th>\n",
       "      <td>6917537673690099712</td>\n",
       "      <td>2</td>\n",
       "    </tr>\n",
       "    <tr>\n",
       "      <th>61198</th>\n",
       "      <td>6917537669513839616</td>\n",
       "      <td>1</td>\n",
       "    </tr>\n",
       "    <tr>\n",
       "      <th>8890</th>\n",
       "      <td>13042425959676700672</td>\n",
       "      <td>1</td>\n",
       "    </tr>\n",
       "  </tbody>\n",
       "</table>\n",
       "<p>134708 rows × 2 columns</p>\n",
       "</div>"
      ],
      "text/plain": [
       "                  bearer_id  hours_spent\n",
       "30195  13042425981873399808            1\n",
       "28047  13042425978774599680           14\n",
       "30167  13042425981180200960           13\n",
       "29837  13042425979269199872            9\n",
       "17830  13042425970894600192            1\n",
       "...                     ...          ...\n",
       "74848   7277825656116110336            2\n",
       "62268   6917537685489510400            2\n",
       "61210   6917537673690099712            2\n",
       "61198   6917537669513839616            1\n",
       "8890   13042425959676700672            1\n",
       "\n",
       "[134708 rows x 2 columns]"
      ]
     },
     "execution_count": 333,
     "metadata": {},
     "output_type": "execute_result"
    }
   ],
   "source": [
    "session_duration"
   ]
  },
  {
   "cell_type": "markdown",
   "metadata": {},
   "source": [
    "Non Graphical Univariate Analysis"
   ]
  },
  {
   "cell_type": "code",
   "execution_count": 334,
   "metadata": {},
   "outputs": [],
   "source": [
    "sess_dur_stats = session_duration.describe().reset_index()"
   ]
  },
  {
   "cell_type": "code",
   "execution_count": 335,
   "metadata": {},
   "outputs": [],
   "source": [
    "sess_dur_stats.rename(columns={'index':'session_duration_stats', 'time_spent':'value'}, inplace=True)"
   ]
  },
  {
   "cell_type": "code",
   "execution_count": 336,
   "metadata": {},
   "outputs": [
    {
     "data": {
      "text/html": [
       "<div>\n",
       "<style scoped>\n",
       "    .dataframe tbody tr th:only-of-type {\n",
       "        vertical-align: middle;\n",
       "    }\n",
       "\n",
       "    .dataframe tbody tr th {\n",
       "        vertical-align: top;\n",
       "    }\n",
       "\n",
       "    .dataframe thead th {\n",
       "        text-align: right;\n",
       "    }\n",
       "</style>\n",
       "<table border=\"1\" class=\"dataframe\">\n",
       "  <thead>\n",
       "    <tr style=\"text-align: right;\">\n",
       "      <th></th>\n",
       "      <th>session_duration_stats</th>\n",
       "      <th>hours_spent</th>\n",
       "    </tr>\n",
       "  </thead>\n",
       "  <tbody>\n",
       "    <tr>\n",
       "      <th>0</th>\n",
       "      <td>count</td>\n",
       "      <td>134708.000000</td>\n",
       "    </tr>\n",
       "    <tr>\n",
       "      <th>1</th>\n",
       "      <td>mean</td>\n",
       "      <td>12.539760</td>\n",
       "    </tr>\n",
       "    <tr>\n",
       "      <th>2</th>\n",
       "      <td>std</td>\n",
       "      <td>8.015705</td>\n",
       "    </tr>\n",
       "    <tr>\n",
       "      <th>3</th>\n",
       "      <td>min</td>\n",
       "      <td>0.000000</td>\n",
       "    </tr>\n",
       "    <tr>\n",
       "      <th>4</th>\n",
       "      <td>25%</td>\n",
       "      <td>5.000000</td>\n",
       "    </tr>\n",
       "    <tr>\n",
       "      <th>5</th>\n",
       "      <td>50%</td>\n",
       "      <td>12.000000</td>\n",
       "    </tr>\n",
       "    <tr>\n",
       "      <th>6</th>\n",
       "      <td>75%</td>\n",
       "      <td>21.000000</td>\n",
       "    </tr>\n",
       "    <tr>\n",
       "      <th>7</th>\n",
       "      <td>max</td>\n",
       "      <td>23.000000</td>\n",
       "    </tr>\n",
       "  </tbody>\n",
       "</table>\n",
       "</div>"
      ],
      "text/plain": [
       "  session_duration_stats    hours_spent\n",
       "0                  count  134708.000000\n",
       "1                   mean      12.539760\n",
       "2                    std       8.015705\n",
       "3                    min       0.000000\n",
       "4                    25%       5.000000\n",
       "5                    50%      12.000000\n",
       "6                    75%      21.000000\n",
       "7                    max      23.000000"
      ]
     },
     "execution_count": 336,
     "metadata": {},
     "output_type": "execute_result"
    }
   ],
   "source": [
    "sess_dur_stats"
   ]
  },
  {
   "cell_type": "markdown",
   "metadata": {},
   "source": [
    "> I will add sum of the hours to the stats table, and drop count becuase we are dealin with time which is a continuous value"
   ]
  },
  {
   "cell_type": "code",
   "execution_count": 337,
   "metadata": {},
   "outputs": [],
   "source": [
    "sum_hours = pd.Series({'sum':session_duration.hours_spent.sum()}).reset_index(name='hours_spent')"
   ]
  },
  {
   "cell_type": "code",
   "execution_count": 338,
   "metadata": {},
   "outputs": [],
   "source": [
    "sum_hours=sum_hours.rename(columns={'index':'session_duration_stats'})"
   ]
  },
  {
   "cell_type": "code",
   "execution_count": 339,
   "metadata": {},
   "outputs": [
    {
     "data": {
      "text/html": [
       "<div>\n",
       "<style scoped>\n",
       "    .dataframe tbody tr th:only-of-type {\n",
       "        vertical-align: middle;\n",
       "    }\n",
       "\n",
       "    .dataframe tbody tr th {\n",
       "        vertical-align: top;\n",
       "    }\n",
       "\n",
       "    .dataframe thead th {\n",
       "        text-align: right;\n",
       "    }\n",
       "</style>\n",
       "<table border=\"1\" class=\"dataframe\">\n",
       "  <thead>\n",
       "    <tr style=\"text-align: right;\">\n",
       "      <th></th>\n",
       "      <th>session_duration_stats</th>\n",
       "      <th>hours_spent</th>\n",
       "    </tr>\n",
       "  </thead>\n",
       "  <tbody>\n",
       "    <tr>\n",
       "      <th>0</th>\n",
       "      <td>sum</td>\n",
       "      <td>1689206</td>\n",
       "    </tr>\n",
       "  </tbody>\n",
       "</table>\n",
       "</div>"
      ],
      "text/plain": [
       "  session_duration_stats  hours_spent\n",
       "0                    sum      1689206"
      ]
     },
     "execution_count": 339,
     "metadata": {},
     "output_type": "execute_result"
    }
   ],
   "source": [
    "sum_hours"
   ]
  },
  {
   "cell_type": "code",
   "execution_count": 340,
   "metadata": {},
   "outputs": [],
   "source": [
    "sess_dur_stats=sess_dur_stats.append(sum_hours).reset_index(drop=True)"
   ]
  },
  {
   "cell_type": "code",
   "execution_count": 341,
   "metadata": {},
   "outputs": [
    {
     "data": {
      "text/html": [
       "<div>\n",
       "<style scoped>\n",
       "    .dataframe tbody tr th:only-of-type {\n",
       "        vertical-align: middle;\n",
       "    }\n",
       "\n",
       "    .dataframe tbody tr th {\n",
       "        vertical-align: top;\n",
       "    }\n",
       "\n",
       "    .dataframe thead th {\n",
       "        text-align: right;\n",
       "    }\n",
       "</style>\n",
       "<table border=\"1\" class=\"dataframe\">\n",
       "  <thead>\n",
       "    <tr style=\"text-align: right;\">\n",
       "      <th></th>\n",
       "      <th>session_duration_stats</th>\n",
       "      <th>hours_spent</th>\n",
       "    </tr>\n",
       "  </thead>\n",
       "  <tbody>\n",
       "    <tr>\n",
       "      <th>0</th>\n",
       "      <td>count</td>\n",
       "      <td>1.347080e+05</td>\n",
       "    </tr>\n",
       "    <tr>\n",
       "      <th>1</th>\n",
       "      <td>mean</td>\n",
       "      <td>1.253976e+01</td>\n",
       "    </tr>\n",
       "    <tr>\n",
       "      <th>2</th>\n",
       "      <td>std</td>\n",
       "      <td>8.015705e+00</td>\n",
       "    </tr>\n",
       "    <tr>\n",
       "      <th>3</th>\n",
       "      <td>min</td>\n",
       "      <td>0.000000e+00</td>\n",
       "    </tr>\n",
       "    <tr>\n",
       "      <th>4</th>\n",
       "      <td>25%</td>\n",
       "      <td>5.000000e+00</td>\n",
       "    </tr>\n",
       "    <tr>\n",
       "      <th>5</th>\n",
       "      <td>50%</td>\n",
       "      <td>1.200000e+01</td>\n",
       "    </tr>\n",
       "    <tr>\n",
       "      <th>6</th>\n",
       "      <td>75%</td>\n",
       "      <td>2.100000e+01</td>\n",
       "    </tr>\n",
       "    <tr>\n",
       "      <th>7</th>\n",
       "      <td>max</td>\n",
       "      <td>2.300000e+01</td>\n",
       "    </tr>\n",
       "    <tr>\n",
       "      <th>8</th>\n",
       "      <td>sum</td>\n",
       "      <td>1.689206e+06</td>\n",
       "    </tr>\n",
       "  </tbody>\n",
       "</table>\n",
       "</div>"
      ],
      "text/plain": [
       "  session_duration_stats   hours_spent\n",
       "0                  count  1.347080e+05\n",
       "1                   mean  1.253976e+01\n",
       "2                    std  8.015705e+00\n",
       "3                    min  0.000000e+00\n",
       "4                    25%  5.000000e+00\n",
       "5                    50%  1.200000e+01\n",
       "6                    75%  2.100000e+01\n",
       "7                    max  2.300000e+01\n",
       "8                    sum  1.689206e+06"
      ]
     },
     "execution_count": 341,
     "metadata": {},
     "output_type": "execute_result"
    }
   ],
   "source": [
    "sess_dur_stats"
   ]
  },
  {
   "cell_type": "code",
   "execution_count": 342,
   "metadata": {},
   "outputs": [],
   "source": [
    "sess_dur_stats.drop(index=0, inplace=True)"
   ]
  },
  {
   "cell_type": "code",
   "execution_count": 343,
   "metadata": {},
   "outputs": [
    {
     "data": {
      "text/html": [
       "<div>\n",
       "<style scoped>\n",
       "    .dataframe tbody tr th:only-of-type {\n",
       "        vertical-align: middle;\n",
       "    }\n",
       "\n",
       "    .dataframe tbody tr th {\n",
       "        vertical-align: top;\n",
       "    }\n",
       "\n",
       "    .dataframe thead th {\n",
       "        text-align: right;\n",
       "    }\n",
       "</style>\n",
       "<table border=\"1\" class=\"dataframe\">\n",
       "  <thead>\n",
       "    <tr style=\"text-align: right;\">\n",
       "      <th></th>\n",
       "      <th>session_duration_stats</th>\n",
       "      <th>hours_spent</th>\n",
       "    </tr>\n",
       "  </thead>\n",
       "  <tbody>\n",
       "    <tr>\n",
       "      <th>1</th>\n",
       "      <td>mean</td>\n",
       "      <td>1.253976e+01</td>\n",
       "    </tr>\n",
       "    <tr>\n",
       "      <th>2</th>\n",
       "      <td>std</td>\n",
       "      <td>8.015705e+00</td>\n",
       "    </tr>\n",
       "    <tr>\n",
       "      <th>3</th>\n",
       "      <td>min</td>\n",
       "      <td>0.000000e+00</td>\n",
       "    </tr>\n",
       "    <tr>\n",
       "      <th>4</th>\n",
       "      <td>25%</td>\n",
       "      <td>5.000000e+00</td>\n",
       "    </tr>\n",
       "    <tr>\n",
       "      <th>5</th>\n",
       "      <td>50%</td>\n",
       "      <td>1.200000e+01</td>\n",
       "    </tr>\n",
       "    <tr>\n",
       "      <th>6</th>\n",
       "      <td>75%</td>\n",
       "      <td>2.100000e+01</td>\n",
       "    </tr>\n",
       "    <tr>\n",
       "      <th>7</th>\n",
       "      <td>max</td>\n",
       "      <td>2.300000e+01</td>\n",
       "    </tr>\n",
       "    <tr>\n",
       "      <th>8</th>\n",
       "      <td>sum</td>\n",
       "      <td>1.689206e+06</td>\n",
       "    </tr>\n",
       "  </tbody>\n",
       "</table>\n",
       "</div>"
      ],
      "text/plain": [
       "  session_duration_stats   hours_spent\n",
       "1                   mean  1.253976e+01\n",
       "2                    std  8.015705e+00\n",
       "3                    min  0.000000e+00\n",
       "4                    25%  5.000000e+00\n",
       "5                    50%  1.200000e+01\n",
       "6                    75%  2.100000e+01\n",
       "7                    max  2.300000e+01\n",
       "8                    sum  1.689206e+06"
      ]
     },
     "execution_count": 343,
     "metadata": {},
     "output_type": "execute_result"
    }
   ],
   "source": [
    "sess_dur_stats"
   ]
  },
  {
   "cell_type": "markdown",
   "metadata": {},
   "source": [
    "####  Interpretation"
   ]
  },
  {
   "cell_type": "markdown",
   "metadata": {},
   "source": [
    "> Total hours spent by all users in the data sessions is `1,737,892 hrs`\n",
    "\n",
    "conversions done here - http://www.easysurf.cc/scintd.html"
   ]
  },
  {
   "cell_type": "markdown",
   "metadata": {},
   "source": [
    "> Average hours spent by a user in the data seesion is `12.90118`, appx `13 hrs`"
   ]
  },
  {
   "cell_type": "markdown",
   "metadata": {},
   "source": [
    "> The minimum number of hours spent by each user is `0 hours`.\n",
    "\n",
    ">  This means there are users who have never subscribed to Tellco data before"
   ]
  },
  {
   "cell_type": "markdown",
   "metadata": {},
   "source": [
    "> The maximum number of hours spent by each user is `0 hours`. \n",
    "\n",
    "> This means there are users who have never subscribed to Tellco data before"
   ]
  },
  {
   "cell_type": "markdown",
   "metadata": {},
   "source": [
    "> Half of the users spends `12.6 hrs` on data "
   ]
  },
  {
   "cell_type": "markdown",
   "metadata": {},
   "source": [
    " "
   ]
  },
  {
   "cell_type": "markdown",
   "metadata": {},
   "source": [
    "Graphical Univariate Analysis"
   ]
  },
  {
   "cell_type": "markdown",
   "metadata": {},
   "source": [
    "lets plot the distributuion of hours spent on data"
   ]
  },
  {
   "cell_type": "code",
   "execution_count": 344,
   "metadata": {},
   "outputs": [
    {
     "data": {
      "image/png": "[encoded data removed]",
      "text/plain": [
       "<Figure size 1152x720 with 1 Axes>"
      ]
     },
     "metadata": {
      "needs_background": "light"
     },
     "output_type": "display_data"
    }
   ],
   "source": [
    "plt.subplots(figsize=(16, 10))\n",
    "sns.distplot((session_duration['hours_spent']), hist=True)\n",
    "plt.title('Session Duration (hours)', fontsize=20)\n",
    "plt.xlabel('Data Sessions', fontsize=15)\n",
    "plt.savefig('visuals/seesion_durationDist.png', format='png')\n",
    "plt.show()"
   ]
  },
  {
   "cell_type": "markdown",
   "metadata": {},
   "source": [
    " "
   ]
  },
  {
   "cell_type": "markdown",
   "metadata": {},
   "source": [
    "> The above distribution appears to be left skewed with a normal distributionn occuring at the maximum number of hours.\n",
    "\n",
    "> We can't make an interpreation now unitl we have another plot "
   ]
  },
  {
   "cell_type": "markdown",
   "metadata": {},
   "source": [
    "> Let's try a box plot"
   ]
  },
  {
   "cell_type": "code",
   "execution_count": 345,
   "metadata": {},
   "outputs": [
    {
     "data": {
      "text/plain": [
       "Text(0.5, 1.0, 'Session Duration (hours)')"
      ]
     },
     "execution_count": 345,
     "metadata": {},
     "output_type": "execute_result"
    },
    {
     "data": {
      "image/png": "[encoded data removed]",
      "text/plain": [
       "<Figure size 1080x720 with 1 Axes>"
      ]
     },
     "metadata": {
      "needs_background": "light"
     },
     "output_type": "display_data"
    }
   ],
   "source": [
    "plt.subplots(figsize=(15, 10))\n",
    "sns.boxplot(data=session_duration['hours_spent'], color='g', saturation=10, )\n",
    "plt.title('Session Duration (hours)', fontsize = 20)"
   ]
  },
  {
   "cell_type": "markdown",
   "metadata": {},
   "source": [
    "> The above plot shows that there are more seesion hours spent above the average number of hours by most users"
   ]
  },
  {
   "cell_type": "markdown",
   "metadata": {},
   "source": [
    "3. the total download (DL) and upload (UL) data"
   ]
  },
  {
   "cell_type": "code",
   "execution_count": 346,
   "metadata": {},
   "outputs": [
    {
     "data": {
      "text/html": [
       "<div>\n",
       "<style scoped>\n",
       "    .dataframe tbody tr th:only-of-type {\n",
       "        vertical-align: middle;\n",
       "    }\n",
       "\n",
       "    .dataframe tbody tr th {\n",
       "        vertical-align: top;\n",
       "    }\n",
       "\n",
       "    .dataframe thead th {\n",
       "        text-align: right;\n",
       "    }\n",
       "</style>\n",
       "<table border=\"1\" class=\"dataframe\">\n",
       "  <thead>\n",
       "    <tr style=\"text-align: right;\">\n",
       "      <th></th>\n",
       "      <th>bearer_id</th>\n",
       "      <th>dur___ms__1</th>\n",
       "      <th>http_dl__bytes_</th>\n",
       "      <th>http_ul__bytes_</th>\n",
       "      <th>activity_duration_dl__ms_</th>\n",
       "      <th>activity_duration_ul__ms_</th>\n",
       "      <th>handset_manufacturer</th>\n",
       "      <th>handset_type</th>\n",
       "      <th>social_media_dl__bytes_</th>\n",
       "      <th>social_media_ul__bytes_</th>\n",
       "      <th>...</th>\n",
       "      <th>youtube_dl__bytes_</th>\n",
       "      <th>youtube_ul__bytes_</th>\n",
       "      <th>netflix_dl__bytes_</th>\n",
       "      <th>netflix_ul__bytes_</th>\n",
       "      <th>gaming_dl__bytes_</th>\n",
       "      <th>gaming_ul__bytes_</th>\n",
       "      <th>other_dl__bytes_</th>\n",
       "      <th>other_ul__bytes_</th>\n",
       "      <th>total_ul__bytes_</th>\n",
       "      <th>total_dl__bytes_</th>\n",
       "    </tr>\n",
       "  </thead>\n",
       "  <tbody>\n",
       "    <tr>\n",
       "      <th>0</th>\n",
       "      <td>13114483460844900352</td>\n",
       "      <td>86399953.0</td>\n",
       "      <td>1941949.0</td>\n",
       "      <td>229733.0</td>\n",
       "      <td>37624.0</td>\n",
       "      <td>38787.0</td>\n",
       "      <td>samsung</td>\n",
       "      <td>samsung galaxy a5 sm-a520f</td>\n",
       "      <td>1.545765e+06</td>\n",
       "      <td>24420.00000</td>\n",
       "      <td>...</td>\n",
       "      <td>1.585461e+07</td>\n",
       "      <td>2.501332e+06</td>\n",
       "      <td>8.198936e+06</td>\n",
       "      <td>9.656251e+06</td>\n",
       "      <td>2.780823e+08</td>\n",
       "      <td>1.434415e+07</td>\n",
       "      <td>1.717444e+08</td>\n",
       "      <td>8.814393e+06</td>\n",
       "      <td>36749741.0</td>\n",
       "      <td>308879636.0</td>\n",
       "    </tr>\n",
       "    <tr>\n",
       "      <th>1</th>\n",
       "      <td>13114483482878900224</td>\n",
       "      <td>86399953.0</td>\n",
       "      <td>1941949.0</td>\n",
       "      <td>229733.0</td>\n",
       "      <td>168.0</td>\n",
       "      <td>3560.0</td>\n",
       "      <td>samsung</td>\n",
       "      <td>samsung galaxy j5 (sm-j530)</td>\n",
       "      <td>1.926113e+06</td>\n",
       "      <td>7165.00000</td>\n",
       "      <td>...</td>\n",
       "      <td>2.024740e+07</td>\n",
       "      <td>1.911173e+07</td>\n",
       "      <td>1.833841e+07</td>\n",
       "      <td>1.722713e+07</td>\n",
       "      <td>6.087501e+08</td>\n",
       "      <td>1.170709e+06</td>\n",
       "      <td>5.269042e+08</td>\n",
       "      <td>1.505514e+07</td>\n",
       "      <td>53800391.0</td>\n",
       "      <td>653384965.0</td>\n",
       "    </tr>\n",
       "    <tr>\n",
       "      <th>2</th>\n",
       "      <td>13114483484080500736</td>\n",
       "      <td>86399953.0</td>\n",
       "      <td>1941949.0</td>\n",
       "      <td>229733.0</td>\n",
       "      <td>0.0</td>\n",
       "      <td>0.0</td>\n",
       "      <td>samsung</td>\n",
       "      <td>samsung galaxy a8 (2018)</td>\n",
       "      <td>1.684053e+06</td>\n",
       "      <td>42224.00000</td>\n",
       "      <td>...</td>\n",
       "      <td>1.972566e+07</td>\n",
       "      <td>1.469958e+07</td>\n",
       "      <td>1.758779e+07</td>\n",
       "      <td>6.163408e+06</td>\n",
       "      <td>2.295846e+08</td>\n",
       "      <td>3.956300e+05</td>\n",
       "      <td>4.106926e+08</td>\n",
       "      <td>4.215763e+06</td>\n",
       "      <td>27883638.0</td>\n",
       "      <td>279807335.0</td>\n",
       "    </tr>\n",
       "    <tr>\n",
       "      <th>3</th>\n",
       "      <td>13114483485442799616</td>\n",
       "      <td>86399953.0</td>\n",
       "      <td>1941949.0</td>\n",
       "      <td>229733.0</td>\n",
       "      <td>3330.0</td>\n",
       "      <td>37882.0</td>\n",
       "      <td>undefined</td>\n",
       "      <td>undefined</td>\n",
       "      <td>6.441210e+05</td>\n",
       "      <td>13372.00000</td>\n",
       "      <td>...</td>\n",
       "      <td>2.138812e+07</td>\n",
       "      <td>1.514664e+07</td>\n",
       "      <td>1.399465e+07</td>\n",
       "      <td>1.097942e+06</td>\n",
       "      <td>7.995382e+08</td>\n",
       "      <td>1.084972e+07</td>\n",
       "      <td>7.490399e+08</td>\n",
       "      <td>1.279728e+07</td>\n",
       "      <td>43324218.0</td>\n",
       "      <td>846028530.0</td>\n",
       "    </tr>\n",
       "    <tr>\n",
       "      <th>4</th>\n",
       "      <td>13114483499480700928</td>\n",
       "      <td>86399953.0</td>\n",
       "      <td>1941949.0</td>\n",
       "      <td>229733.0</td>\n",
       "      <td>0.0</td>\n",
       "      <td>0.0</td>\n",
       "      <td>samsung</td>\n",
       "      <td>samsung sm-g390f</td>\n",
       "      <td>8.626000e+05</td>\n",
       "      <td>50188.00000</td>\n",
       "      <td>...</td>\n",
       "      <td>1.525938e+07</td>\n",
       "      <td>1.896287e+07</td>\n",
       "      <td>1.712458e+07</td>\n",
       "      <td>4.152180e+05</td>\n",
       "      <td>5.277072e+08</td>\n",
       "      <td>3.529801e+06</td>\n",
       "      <td>5.507095e+08</td>\n",
       "      <td>1.391032e+07</td>\n",
       "      <td>38542814.0</td>\n",
       "      <td>569138589.0</td>\n",
       "    </tr>\n",
       "    <tr>\n",
       "      <th>...</th>\n",
       "      <td>...</td>\n",
       "      <td>...</td>\n",
       "      <td>...</td>\n",
       "      <td>...</td>\n",
       "      <td>...</td>\n",
       "      <td>...</td>\n",
       "      <td>...</td>\n",
       "      <td>...</td>\n",
       "      <td>...</td>\n",
       "      <td>...</td>\n",
       "      <td>...</td>\n",
       "      <td>...</td>\n",
       "      <td>...</td>\n",
       "      <td>...</td>\n",
       "      <td>...</td>\n",
       "      <td>...</td>\n",
       "      <td>...</td>\n",
       "      <td>...</td>\n",
       "      <td>...</td>\n",
       "      <td>...</td>\n",
       "      <td>...</td>\n",
       "    </tr>\n",
       "    <tr>\n",
       "      <th>149996</th>\n",
       "      <td>7277825670196679680</td>\n",
       "      <td>81230763.0</td>\n",
       "      <td>1941949.0</td>\n",
       "      <td>229733.0</td>\n",
       "      <td>42376.0</td>\n",
       "      <td>41915.0</td>\n",
       "      <td>apple</td>\n",
       "      <td>apple iphone 8 plus (a1897)</td>\n",
       "      <td>3.464974e+06</td>\n",
       "      <td>52091.00000</td>\n",
       "      <td>...</td>\n",
       "      <td>1.619167e+07</td>\n",
       "      <td>1.176343e+07</td>\n",
       "      <td>1.788370e+07</td>\n",
       "      <td>1.967816e+07</td>\n",
       "      <td>5.266097e+08</td>\n",
       "      <td>9.197207e+06</td>\n",
       "      <td>3.264510e+06</td>\n",
       "      <td>1.348742e+07</td>\n",
       "      <td>57628851.0</td>\n",
       "      <td>574175259.0</td>\n",
       "    </tr>\n",
       "    <tr>\n",
       "      <th>149997</th>\n",
       "      <td>7349883264234609664</td>\n",
       "      <td>97970704.0</td>\n",
       "      <td>1941949.0</td>\n",
       "      <td>229733.0</td>\n",
       "      <td>17264.0</td>\n",
       "      <td>16759.0</td>\n",
       "      <td>apple</td>\n",
       "      <td>apple iphone se (a1723)</td>\n",
       "      <td>2.344568e+06</td>\n",
       "      <td>7613.00000</td>\n",
       "      <td>...</td>\n",
       "      <td>1.387723e+07</td>\n",
       "      <td>8.288284e+06</td>\n",
       "      <td>1.935015e+07</td>\n",
       "      <td>2.129315e+07</td>\n",
       "      <td>6.268931e+08</td>\n",
       "      <td>4.735033e+06</td>\n",
       "      <td>7.121804e+08</td>\n",
       "      <td>2.457758e+06</td>\n",
       "      <td>39135081.0</td>\n",
       "      <td>666648844.0</td>\n",
       "    </tr>\n",
       "    <tr>\n",
       "      <th>149998</th>\n",
       "      <td>13114483573367300096</td>\n",
       "      <td>98249527.0</td>\n",
       "      <td>1941949.0</td>\n",
       "      <td>229733.0</td>\n",
       "      <td>25003.0</td>\n",
       "      <td>28640.0</td>\n",
       "      <td>apple</td>\n",
       "      <td>apple iphone xs (a2097)</td>\n",
       "      <td>1.245845e+06</td>\n",
       "      <td>14394.00000</td>\n",
       "      <td>...</td>\n",
       "      <td>2.266051e+07</td>\n",
       "      <td>1.855903e+06</td>\n",
       "      <td>9.963942e+06</td>\n",
       "      <td>5.065760e+06</td>\n",
       "      <td>5.535395e+08</td>\n",
       "      <td>1.339432e+07</td>\n",
       "      <td>1.211009e+08</td>\n",
       "      <td>1.131473e+07</td>\n",
       "      <td>34912224.0</td>\n",
       "      <td>592786405.0</td>\n",
       "    </tr>\n",
       "    <tr>\n",
       "      <th>149999</th>\n",
       "      <td>13114483573367300096</td>\n",
       "      <td>97910631.0</td>\n",
       "      <td>1941949.0</td>\n",
       "      <td>229733.0</td>\n",
       "      <td>13405.0</td>\n",
       "      <td>34088.0</td>\n",
       "      <td>huawei</td>\n",
       "      <td>huawei fig-lx1</td>\n",
       "      <td>8.015470e+05</td>\n",
       "      <td>21562.00000</td>\n",
       "      <td>...</td>\n",
       "      <td>8.817106e+06</td>\n",
       "      <td>8.305402e+06</td>\n",
       "      <td>3.322253e+06</td>\n",
       "      <td>1.317259e+07</td>\n",
       "      <td>3.525370e+08</td>\n",
       "      <td>2.529475e+06</td>\n",
       "      <td>8.147131e+08</td>\n",
       "      <td>1.406930e+06</td>\n",
       "      <td>29626096.0</td>\n",
       "      <td>371895920.0</td>\n",
       "    </tr>\n",
       "    <tr>\n",
       "      <th>150000</th>\n",
       "      <td></td>\n",
       "      <td>86399983.0</td>\n",
       "      <td>1941949.0</td>\n",
       "      <td>229733.0</td>\n",
       "      <td>39304.5</td>\n",
       "      <td>46793.5</td>\n",
       "      <td>apple</td>\n",
       "      <td>huawei b528s-23a</td>\n",
       "      <td>1.795322e+06</td>\n",
       "      <td>32928.43438</td>\n",
       "      <td>...</td>\n",
       "      <td>1.163407e+07</td>\n",
       "      <td>1.100941e+07</td>\n",
       "      <td>1.162685e+07</td>\n",
       "      <td>1.100175e+07</td>\n",
       "      <td>4.220447e+08</td>\n",
       "      <td>8.288398e+06</td>\n",
       "      <td>4.211005e+08</td>\n",
       "      <td>8.264799e+06</td>\n",
       "      <td>41143312.0</td>\n",
       "      <td>455841077.5</td>\n",
       "    </tr>\n",
       "  </tbody>\n",
       "</table>\n",
       "<p>150001 rows × 24 columns</p>\n",
       "</div>"
      ],
      "text/plain": [
       "                   bearer_id  dur___ms__1  http_dl__bytes_  http_ul__bytes_  \\\n",
       "0       13114483460844900352   86399953.0        1941949.0         229733.0   \n",
       "1       13114483482878900224   86399953.0        1941949.0         229733.0   \n",
       "2       13114483484080500736   86399953.0        1941949.0         229733.0   \n",
       "3       13114483485442799616   86399953.0        1941949.0         229733.0   \n",
       "4       13114483499480700928   86399953.0        1941949.0         229733.0   \n",
       "...                      ...          ...              ...              ...   \n",
       "149996   7277825670196679680   81230763.0        1941949.0         229733.0   \n",
       "149997   7349883264234609664   97970704.0        1941949.0         229733.0   \n",
       "149998  13114483573367300096   98249527.0        1941949.0         229733.0   \n",
       "149999  13114483573367300096   97910631.0        1941949.0         229733.0   \n",
       "150000                         86399983.0        1941949.0         229733.0   \n",
       "\n",
       "        activity_duration_dl__ms_  activity_duration_ul__ms_  \\\n",
       "0                         37624.0                    38787.0   \n",
       "1                           168.0                     3560.0   \n",
       "2                             0.0                        0.0   \n",
       "3                          3330.0                    37882.0   \n",
       "4                             0.0                        0.0   \n",
       "...                           ...                        ...   \n",
       "149996                    42376.0                    41915.0   \n",
       "149997                    17264.0                    16759.0   \n",
       "149998                    25003.0                    28640.0   \n",
       "149999                    13405.0                    34088.0   \n",
       "150000                    39304.5                    46793.5   \n",
       "\n",
       "       handset_manufacturer                 handset_type  \\\n",
       "0                   samsung   samsung galaxy a5 sm-a520f   \n",
       "1                   samsung  samsung galaxy j5 (sm-j530)   \n",
       "2                   samsung     samsung galaxy a8 (2018)   \n",
       "3                 undefined                    undefined   \n",
       "4                   samsung             samsung sm-g390f   \n",
       "...                     ...                          ...   \n",
       "149996                apple  apple iphone 8 plus (a1897)   \n",
       "149997                apple      apple iphone se (a1723)   \n",
       "149998                apple      apple iphone xs (a2097)   \n",
       "149999               huawei               huawei fig-lx1   \n",
       "150000                apple             huawei b528s-23a   \n",
       "\n",
       "        social_media_dl__bytes_  social_media_ul__bytes_  ...  \\\n",
       "0                  1.545765e+06              24420.00000  ...   \n",
       "1                  1.926113e+06               7165.00000  ...   \n",
       "2                  1.684053e+06              42224.00000  ...   \n",
       "3                  6.441210e+05              13372.00000  ...   \n",
       "4                  8.626000e+05              50188.00000  ...   \n",
       "...                         ...                      ...  ...   \n",
       "149996             3.464974e+06              52091.00000  ...   \n",
       "149997             2.344568e+06               7613.00000  ...   \n",
       "149998             1.245845e+06              14394.00000  ...   \n",
       "149999             8.015470e+05              21562.00000  ...   \n",
       "150000             1.795322e+06              32928.43438  ...   \n",
       "\n",
       "        youtube_dl__bytes_  youtube_ul__bytes_  netflix_dl__bytes_  \\\n",
       "0             1.585461e+07        2.501332e+06        8.198936e+06   \n",
       "1             2.024740e+07        1.911173e+07        1.833841e+07   \n",
       "2             1.972566e+07        1.469958e+07        1.758779e+07   \n",
       "3             2.138812e+07        1.514664e+07        1.399465e+07   \n",
       "4             1.525938e+07        1.896287e+07        1.712458e+07   \n",
       "...                    ...                 ...                 ...   \n",
       "149996        1.619167e+07        1.176343e+07        1.788370e+07   \n",
       "149997        1.387723e+07        8.288284e+06        1.935015e+07   \n",
       "149998        2.266051e+07        1.855903e+06        9.963942e+06   \n",
       "149999        8.817106e+06        8.305402e+06        3.322253e+06   \n",
       "150000        1.163407e+07        1.100941e+07        1.162685e+07   \n",
       "\n",
       "        netflix_ul__bytes_  gaming_dl__bytes_  gaming_ul__bytes_  \\\n",
       "0             9.656251e+06       2.780823e+08       1.434415e+07   \n",
       "1             1.722713e+07       6.087501e+08       1.170709e+06   \n",
       "2             6.163408e+06       2.295846e+08       3.956300e+05   \n",
       "3             1.097942e+06       7.995382e+08       1.084972e+07   \n",
       "4             4.152180e+05       5.277072e+08       3.529801e+06   \n",
       "...                    ...                ...                ...   \n",
       "149996        1.967816e+07       5.266097e+08       9.197207e+06   \n",
       "149997        2.129315e+07       6.268931e+08       4.735033e+06   \n",
       "149998        5.065760e+06       5.535395e+08       1.339432e+07   \n",
       "149999        1.317259e+07       3.525370e+08       2.529475e+06   \n",
       "150000        1.100175e+07       4.220447e+08       8.288398e+06   \n",
       "\n",
       "        other_dl__bytes_  other_ul__bytes_  total_ul__bytes_  total_dl__bytes_  \n",
       "0           1.717444e+08      8.814393e+06        36749741.0       308879636.0  \n",
       "1           5.269042e+08      1.505514e+07        53800391.0       653384965.0  \n",
       "2           4.106926e+08      4.215763e+06        27883638.0       279807335.0  \n",
       "3           7.490399e+08      1.279728e+07        43324218.0       846028530.0  \n",
       "4           5.507095e+08      1.391032e+07        38542814.0       569138589.0  \n",
       "...                  ...               ...               ...               ...  \n",
       "149996      3.264510e+06      1.348742e+07        57628851.0       574175259.0  \n",
       "149997      7.121804e+08      2.457758e+06        39135081.0       666648844.0  \n",
       "149998      1.211009e+08      1.131473e+07        34912224.0       592786405.0  \n",
       "149999      8.147131e+08      1.406930e+06        29626096.0       371895920.0  \n",
       "150000      4.211005e+08      8.264799e+06        41143312.0       455841077.5  \n",
       "\n",
       "[150001 rows x 24 columns]"
      ]
     },
     "execution_count": 346,
     "metadata": {},
     "output_type": "execute_result"
    }
   ],
   "source": [
    "data2"
   ]
  },
  {
   "cell_type": "code",
   "execution_count": 347,
   "metadata": {},
   "outputs": [
    {
     "name": "stderr",
     "output_type": "stream",
     "text": [
      "/home/patrick/.local/lib/python3.6/site-packages/ipykernel_launcher.py:1: SettingWithCopyWarning: \n",
      "A value is trying to be set on a copy of a slice from a DataFrame.\n",
      "Try using .loc[row_indexer,col_indexer] = value instead\n",
      "\n",
      "See the caveats in the documentation: https://pandas.pydata.org/pandas-docs/stable/user_guide/indexing.html#returning-a-view-versus-a-copy\n",
      "  \"\"\"Entry point for launching an IPython kernel.\n"
     ]
    }
   ],
   "source": [
    "data2['total_data_usage'] = data2.total_dl__bytes_ + data2.total_ul__bytes_"
   ]
  },
  {
   "cell_type": "code",
   "execution_count": 258,
   "metadata": {},
   "outputs": [
    {
     "data": {
      "text/plain": [
       "0         345629377.0\n",
       "1         707185356.0\n",
       "2         307690973.0\n",
       "3         889352748.0\n",
       "4         607681403.0\n",
       "             ...     \n",
       "149996    631804110.0\n",
       "149997    705783925.0\n",
       "149998    627698629.0\n",
       "149999    401522016.0\n",
       "150000    496984389.5\n",
       "Name: total_data_usage, Length: 150001, dtype: float64"
      ]
     },
     "execution_count": 258,
     "metadata": {},
     "output_type": "execute_result"
    }
   ],
   "source": [
    "data2['total_data_usage']"
   ]
  },
  {
   "cell_type": "code",
   "execution_count": 348,
   "metadata": {},
   "outputs": [],
   "source": [
    "true_bearers_data_usage=true_bearers.join(data2['total_data_usage'], how='inner')"
   ]
  },
  {
   "cell_type": "code",
   "execution_count": 349,
   "metadata": {},
   "outputs": [],
   "source": [
    "data_usage = true_bearers_data_usage.groupby('bearer_id')['total_data_usage'].sum().reset_index(name='total_data_usage').sort_values(by='total_data_usage', ascending=False)\n",
    "# true_bearers['dur___ms__1']"
   ]
  },
  {
   "cell_type": "code",
   "execution_count": 350,
   "metadata": {},
   "outputs": [
    {
     "data": {
      "text/html": [
       "<div>\n",
       "<style scoped>\n",
       "    .dataframe tbody tr th:only-of-type {\n",
       "        vertical-align: middle;\n",
       "    }\n",
       "\n",
       "    .dataframe tbody tr th {\n",
       "        vertical-align: top;\n",
       "    }\n",
       "\n",
       "    .dataframe thead th {\n",
       "        text-align: right;\n",
       "    }\n",
       "</style>\n",
       "<table border=\"1\" class=\"dataframe\">\n",
       "  <thead>\n",
       "    <tr style=\"text-align: right;\">\n",
       "      <th></th>\n",
       "      <th>bearer_id</th>\n",
       "      <th>total_data_usage</th>\n",
       "    </tr>\n",
       "  </thead>\n",
       "  <tbody>\n",
       "    <tr>\n",
       "      <th>29837</th>\n",
       "      <td>13042425979269199872</td>\n",
       "      <td>6.990615e+09</td>\n",
       "    </tr>\n",
       "    <tr>\n",
       "      <th>20367</th>\n",
       "      <td>13042425972278300672</td>\n",
       "      <td>5.809100e+09</td>\n",
       "    </tr>\n",
       "    <tr>\n",
       "      <th>14584</th>\n",
       "      <td>13042425965944199168</td>\n",
       "      <td>4.970328e+09</td>\n",
       "    </tr>\n",
       "    <tr>\n",
       "      <th>25853</th>\n",
       "      <td>13042425975039100928</td>\n",
       "      <td>4.953519e+09</td>\n",
       "    </tr>\n",
       "    <tr>\n",
       "      <th>30195</th>\n",
       "      <td>13042425981873399808</td>\n",
       "      <td>4.575518e+09</td>\n",
       "    </tr>\n",
       "    <tr>\n",
       "      <th>...</th>\n",
       "      <td>...</td>\n",
       "      <td>...</td>\n",
       "    </tr>\n",
       "    <tr>\n",
       "      <th>128963</th>\n",
       "      <td>7349883261658779648</td>\n",
       "      <td>3.614993e+07</td>\n",
       "    </tr>\n",
       "    <tr>\n",
       "      <th>38101</th>\n",
       "      <td>13114483554777399296</td>\n",
       "      <td>3.399962e+07</td>\n",
       "    </tr>\n",
       "    <tr>\n",
       "      <th>33892</th>\n",
       "      <td>13114483551116199936</td>\n",
       "      <td>3.357584e+07</td>\n",
       "    </tr>\n",
       "    <tr>\n",
       "      <th>83637</th>\n",
       "      <td>7277825664644849664</td>\n",
       "      <td>3.324901e+07</td>\n",
       "    </tr>\n",
       "    <tr>\n",
       "      <th>33543</th>\n",
       "      <td>13114483550934099968</td>\n",
       "      <td>2.895611e+07</td>\n",
       "    </tr>\n",
       "  </tbody>\n",
       "</table>\n",
       "<p>134708 rows × 2 columns</p>\n",
       "</div>"
      ],
      "text/plain": [
       "                   bearer_id  total_data_usage\n",
       "29837   13042425979269199872      6.990615e+09\n",
       "20367   13042425972278300672      5.809100e+09\n",
       "14584   13042425965944199168      4.970328e+09\n",
       "25853   13042425975039100928      4.953519e+09\n",
       "30195   13042425981873399808      4.575518e+09\n",
       "...                      ...               ...\n",
       "128963   7349883261658779648      3.614993e+07\n",
       "38101   13114483554777399296      3.399962e+07\n",
       "33892   13114483551116199936      3.357584e+07\n",
       "83637    7277825664644849664      3.324901e+07\n",
       "33543   13114483550934099968      2.895611e+07\n",
       "\n",
       "[134708 rows x 2 columns]"
      ]
     },
     "execution_count": 350,
     "metadata": {},
     "output_type": "execute_result"
    }
   ],
   "source": [
    "data_usage"
   ]
  },
  {
   "cell_type": "markdown",
   "metadata": {},
   "source": [
    "Non Graphical Univariate Analysis"
   ]
  },
  {
   "cell_type": "code",
   "execution_count": 351,
   "metadata": {},
   "outputs": [],
   "source": [
    "data_usage_stats = data_usage.describe().reset_index()"
   ]
  },
  {
   "cell_type": "code",
   "execution_count": 352,
   "metadata": {},
   "outputs": [
    {
     "data": {
      "text/html": [
       "<div>\n",
       "<style scoped>\n",
       "    .dataframe tbody tr th:only-of-type {\n",
       "        vertical-align: middle;\n",
       "    }\n",
       "\n",
       "    .dataframe tbody tr th {\n",
       "        vertical-align: top;\n",
       "    }\n",
       "\n",
       "    .dataframe thead th {\n",
       "        text-align: right;\n",
       "    }\n",
       "</style>\n",
       "<table border=\"1\" class=\"dataframe\">\n",
       "  <thead>\n",
       "    <tr style=\"text-align: right;\">\n",
       "      <th></th>\n",
       "      <th>index</th>\n",
       "      <th>total_data_usage</th>\n",
       "    </tr>\n",
       "  </thead>\n",
       "  <tbody>\n",
       "    <tr>\n",
       "      <th>0</th>\n",
       "      <td>count</td>\n",
       "      <td>1.347080e+05</td>\n",
       "    </tr>\n",
       "    <tr>\n",
       "      <th>1</th>\n",
       "      <td>mean</td>\n",
       "      <td>5.484428e+08</td>\n",
       "    </tr>\n",
       "    <tr>\n",
       "      <th>2</th>\n",
       "      <td>std</td>\n",
       "      <td>3.199029e+08</td>\n",
       "    </tr>\n",
       "    <tr>\n",
       "      <th>3</th>\n",
       "      <td>min</td>\n",
       "      <td>2.895611e+07</td>\n",
       "    </tr>\n",
       "    <tr>\n",
       "      <th>4</th>\n",
       "      <td>25%</td>\n",
       "      <td>3.030796e+08</td>\n",
       "    </tr>\n",
       "    <tr>\n",
       "      <th>5</th>\n",
       "      <td>50%</td>\n",
       "      <td>5.303975e+08</td>\n",
       "    </tr>\n",
       "    <tr>\n",
       "      <th>6</th>\n",
       "      <td>75%</td>\n",
       "      <td>7.501322e+08</td>\n",
       "    </tr>\n",
       "    <tr>\n",
       "      <th>7</th>\n",
       "      <td>max</td>\n",
       "      <td>6.990615e+09</td>\n",
       "    </tr>\n",
       "  </tbody>\n",
       "</table>\n",
       "</div>"
      ],
      "text/plain": [
       "   index  total_data_usage\n",
       "0  count      1.347080e+05\n",
       "1   mean      5.484428e+08\n",
       "2    std      3.199029e+08\n",
       "3    min      2.895611e+07\n",
       "4    25%      3.030796e+08\n",
       "5    50%      5.303975e+08\n",
       "6    75%      7.501322e+08\n",
       "7    max      6.990615e+09"
      ]
     },
     "execution_count": 352,
     "metadata": {},
     "output_type": "execute_result"
    }
   ],
   "source": [
    "data_usage_stats"
   ]
  },
  {
   "cell_type": "code",
   "execution_count": 353,
   "metadata": {},
   "outputs": [],
   "source": [
    "data_usage_stats.rename(columns={'index':'data_usage_stats', 'total_data_usage':'value'}, inplace=True)"
   ]
  },
  {
   "cell_type": "code",
   "execution_count": 354,
   "metadata": {},
   "outputs": [
    {
     "data": {
      "text/html": [
       "<div>\n",
       "<style scoped>\n",
       "    .dataframe tbody tr th:only-of-type {\n",
       "        vertical-align: middle;\n",
       "    }\n",
       "\n",
       "    .dataframe tbody tr th {\n",
       "        vertical-align: top;\n",
       "    }\n",
       "\n",
       "    .dataframe thead th {\n",
       "        text-align: right;\n",
       "    }\n",
       "</style>\n",
       "<table border=\"1\" class=\"dataframe\">\n",
       "  <thead>\n",
       "    <tr style=\"text-align: right;\">\n",
       "      <th></th>\n",
       "      <th>data_usage_stats</th>\n",
       "      <th>value</th>\n",
       "    </tr>\n",
       "  </thead>\n",
       "  <tbody>\n",
       "    <tr>\n",
       "      <th>0</th>\n",
       "      <td>count</td>\n",
       "      <td>1.347080e+05</td>\n",
       "    </tr>\n",
       "    <tr>\n",
       "      <th>1</th>\n",
       "      <td>mean</td>\n",
       "      <td>5.484428e+08</td>\n",
       "    </tr>\n",
       "    <tr>\n",
       "      <th>2</th>\n",
       "      <td>std</td>\n",
       "      <td>3.199029e+08</td>\n",
       "    </tr>\n",
       "    <tr>\n",
       "      <th>3</th>\n",
       "      <td>min</td>\n",
       "      <td>2.895611e+07</td>\n",
       "    </tr>\n",
       "    <tr>\n",
       "      <th>4</th>\n",
       "      <td>25%</td>\n",
       "      <td>3.030796e+08</td>\n",
       "    </tr>\n",
       "    <tr>\n",
       "      <th>5</th>\n",
       "      <td>50%</td>\n",
       "      <td>5.303975e+08</td>\n",
       "    </tr>\n",
       "    <tr>\n",
       "      <th>6</th>\n",
       "      <td>75%</td>\n",
       "      <td>7.501322e+08</td>\n",
       "    </tr>\n",
       "    <tr>\n",
       "      <th>7</th>\n",
       "      <td>max</td>\n",
       "      <td>6.990615e+09</td>\n",
       "    </tr>\n",
       "  </tbody>\n",
       "</table>\n",
       "</div>"
      ],
      "text/plain": [
       "  data_usage_stats         value\n",
       "0            count  1.347080e+05\n",
       "1             mean  5.484428e+08\n",
       "2              std  3.199029e+08\n",
       "3              min  2.895611e+07\n",
       "4              25%  3.030796e+08\n",
       "5              50%  5.303975e+08\n",
       "6              75%  7.501322e+08\n",
       "7              max  6.990615e+09"
      ]
     },
     "execution_count": 354,
     "metadata": {},
     "output_type": "execute_result"
    }
   ],
   "source": [
    "data_usage_stats"
   ]
  },
  {
   "cell_type": "markdown",
   "metadata": {},
   "source": [
    "> I will add sum of the data usage to the stats table and remove the count"
   ]
  },
  {
   "cell_type": "code",
   "execution_count": 355,
   "metadata": {},
   "outputs": [],
   "source": [
    "sum_data = pd.Series({'sum':data_usage.total_data_usage.sum()}).reset_index(name='value')"
   ]
  },
  {
   "cell_type": "code",
   "execution_count": 356,
   "metadata": {},
   "outputs": [
    {
     "data": {
      "text/html": [
       "<div>\n",
       "<style scoped>\n",
       "    .dataframe tbody tr th:only-of-type {\n",
       "        vertical-align: middle;\n",
       "    }\n",
       "\n",
       "    .dataframe tbody tr th {\n",
       "        vertical-align: top;\n",
       "    }\n",
       "\n",
       "    .dataframe thead th {\n",
       "        text-align: right;\n",
       "    }\n",
       "</style>\n",
       "<table border=\"1\" class=\"dataframe\">\n",
       "  <thead>\n",
       "    <tr style=\"text-align: right;\">\n",
       "      <th></th>\n",
       "      <th>index</th>\n",
       "      <th>value</th>\n",
       "    </tr>\n",
       "  </thead>\n",
       "  <tbody>\n",
       "    <tr>\n",
       "      <th>0</th>\n",
       "      <td>sum</td>\n",
       "      <td>7.387963e+13</td>\n",
       "    </tr>\n",
       "  </tbody>\n",
       "</table>\n",
       "</div>"
      ],
      "text/plain": [
       "  index         value\n",
       "0   sum  7.387963e+13"
      ]
     },
     "execution_count": 356,
     "metadata": {},
     "output_type": "execute_result"
    }
   ],
   "source": [
    "sum_data"
   ]
  },
  {
   "cell_type": "code",
   "execution_count": 357,
   "metadata": {},
   "outputs": [],
   "source": [
    "sum_data=sum_data.rename(columns={'index':'data_usage_stats'})"
   ]
  },
  {
   "cell_type": "code",
   "execution_count": 358,
   "metadata": {},
   "outputs": [
    {
     "data": {
      "text/html": [
       "<div>\n",
       "<style scoped>\n",
       "    .dataframe tbody tr th:only-of-type {\n",
       "        vertical-align: middle;\n",
       "    }\n",
       "\n",
       "    .dataframe tbody tr th {\n",
       "        vertical-align: top;\n",
       "    }\n",
       "\n",
       "    .dataframe thead th {\n",
       "        text-align: right;\n",
       "    }\n",
       "</style>\n",
       "<table border=\"1\" class=\"dataframe\">\n",
       "  <thead>\n",
       "    <tr style=\"text-align: right;\">\n",
       "      <th></th>\n",
       "      <th>data_usage_stats</th>\n",
       "      <th>value</th>\n",
       "    </tr>\n",
       "  </thead>\n",
       "  <tbody>\n",
       "    <tr>\n",
       "      <th>0</th>\n",
       "      <td>sum</td>\n",
       "      <td>7.387963e+13</td>\n",
       "    </tr>\n",
       "  </tbody>\n",
       "</table>\n",
       "</div>"
      ],
      "text/plain": [
       "  data_usage_stats         value\n",
       "0              sum  7.387963e+13"
      ]
     },
     "execution_count": 358,
     "metadata": {},
     "output_type": "execute_result"
    }
   ],
   "source": [
    "sum_data"
   ]
  },
  {
   "cell_type": "code",
   "execution_count": 359,
   "metadata": {},
   "outputs": [],
   "source": [
    "data_usage_stats=data_usage_stats.append(sum_data).reset_index(drop=True)"
   ]
  },
  {
   "cell_type": "code",
   "execution_count": 360,
   "metadata": {},
   "outputs": [
    {
     "data": {
      "text/html": [
       "<div>\n",
       "<style scoped>\n",
       "    .dataframe tbody tr th:only-of-type {\n",
       "        vertical-align: middle;\n",
       "    }\n",
       "\n",
       "    .dataframe tbody tr th {\n",
       "        vertical-align: top;\n",
       "    }\n",
       "\n",
       "    .dataframe thead th {\n",
       "        text-align: right;\n",
       "    }\n",
       "</style>\n",
       "<table border=\"1\" class=\"dataframe\">\n",
       "  <thead>\n",
       "    <tr style=\"text-align: right;\">\n",
       "      <th></th>\n",
       "      <th>data_usage_stats</th>\n",
       "      <th>value</th>\n",
       "    </tr>\n",
       "  </thead>\n",
       "  <tbody>\n",
       "    <tr>\n",
       "      <th>0</th>\n",
       "      <td>count</td>\n",
       "      <td>1.347080e+05</td>\n",
       "    </tr>\n",
       "    <tr>\n",
       "      <th>1</th>\n",
       "      <td>mean</td>\n",
       "      <td>5.484428e+08</td>\n",
       "    </tr>\n",
       "    <tr>\n",
       "      <th>2</th>\n",
       "      <td>std</td>\n",
       "      <td>3.199029e+08</td>\n",
       "    </tr>\n",
       "    <tr>\n",
       "      <th>3</th>\n",
       "      <td>min</td>\n",
       "      <td>2.895611e+07</td>\n",
       "    </tr>\n",
       "    <tr>\n",
       "      <th>4</th>\n",
       "      <td>25%</td>\n",
       "      <td>3.030796e+08</td>\n",
       "    </tr>\n",
       "    <tr>\n",
       "      <th>5</th>\n",
       "      <td>50%</td>\n",
       "      <td>5.303975e+08</td>\n",
       "    </tr>\n",
       "    <tr>\n",
       "      <th>6</th>\n",
       "      <td>75%</td>\n",
       "      <td>7.501322e+08</td>\n",
       "    </tr>\n",
       "    <tr>\n",
       "      <th>7</th>\n",
       "      <td>max</td>\n",
       "      <td>6.990615e+09</td>\n",
       "    </tr>\n",
       "    <tr>\n",
       "      <th>8</th>\n",
       "      <td>sum</td>\n",
       "      <td>7.387963e+13</td>\n",
       "    </tr>\n",
       "  </tbody>\n",
       "</table>\n",
       "</div>"
      ],
      "text/plain": [
       "  data_usage_stats         value\n",
       "0            count  1.347080e+05\n",
       "1             mean  5.484428e+08\n",
       "2              std  3.199029e+08\n",
       "3              min  2.895611e+07\n",
       "4              25%  3.030796e+08\n",
       "5              50%  5.303975e+08\n",
       "6              75%  7.501322e+08\n",
       "7              max  6.990615e+09\n",
       "8              sum  7.387963e+13"
      ]
     },
     "execution_count": 360,
     "metadata": {},
     "output_type": "execute_result"
    }
   ],
   "source": [
    "data_usage_stats"
   ]
  },
  {
   "cell_type": "code",
   "execution_count": 361,
   "metadata": {},
   "outputs": [],
   "source": [
    "data_usage_stats.drop(index=0, inplace=True)"
   ]
  },
  {
   "cell_type": "code",
   "execution_count": 362,
   "metadata": {},
   "outputs": [
    {
     "data": {
      "text/html": [
       "<div>\n",
       "<style scoped>\n",
       "    .dataframe tbody tr th:only-of-type {\n",
       "        vertical-align: middle;\n",
       "    }\n",
       "\n",
       "    .dataframe tbody tr th {\n",
       "        vertical-align: top;\n",
       "    }\n",
       "\n",
       "    .dataframe thead th {\n",
       "        text-align: right;\n",
       "    }\n",
       "</style>\n",
       "<table border=\"1\" class=\"dataframe\">\n",
       "  <thead>\n",
       "    <tr style=\"text-align: right;\">\n",
       "      <th></th>\n",
       "      <th>data_usage_stats</th>\n",
       "      <th>value</th>\n",
       "    </tr>\n",
       "  </thead>\n",
       "  <tbody>\n",
       "    <tr>\n",
       "      <th>1</th>\n",
       "      <td>mean</td>\n",
       "      <td>5.484428e+08</td>\n",
       "    </tr>\n",
       "    <tr>\n",
       "      <th>2</th>\n",
       "      <td>std</td>\n",
       "      <td>3.199029e+08</td>\n",
       "    </tr>\n",
       "    <tr>\n",
       "      <th>3</th>\n",
       "      <td>min</td>\n",
       "      <td>2.895611e+07</td>\n",
       "    </tr>\n",
       "    <tr>\n",
       "      <th>4</th>\n",
       "      <td>25%</td>\n",
       "      <td>3.030796e+08</td>\n",
       "    </tr>\n",
       "    <tr>\n",
       "      <th>5</th>\n",
       "      <td>50%</td>\n",
       "      <td>5.303975e+08</td>\n",
       "    </tr>\n",
       "    <tr>\n",
       "      <th>6</th>\n",
       "      <td>75%</td>\n",
       "      <td>7.501322e+08</td>\n",
       "    </tr>\n",
       "    <tr>\n",
       "      <th>7</th>\n",
       "      <td>max</td>\n",
       "      <td>6.990615e+09</td>\n",
       "    </tr>\n",
       "    <tr>\n",
       "      <th>8</th>\n",
       "      <td>sum</td>\n",
       "      <td>7.387963e+13</td>\n",
       "    </tr>\n",
       "  </tbody>\n",
       "</table>\n",
       "</div>"
      ],
      "text/plain": [
       "  data_usage_stats         value\n",
       "1             mean  5.484428e+08\n",
       "2              std  3.199029e+08\n",
       "3              min  2.895611e+07\n",
       "4              25%  3.030796e+08\n",
       "5              50%  5.303975e+08\n",
       "6              75%  7.501322e+08\n",
       "7              max  6.990615e+09\n",
       "8              sum  7.387963e+13"
      ]
     },
     "execution_count": 362,
     "metadata": {},
     "output_type": "execute_result"
    }
   ],
   "source": [
    "data_usage_stats"
   ]
  },
  {
   "cell_type": "markdown",
   "metadata": {},
   "source": [
    "<!-- ####  Interpretation\n",
    "\n",
    "> Total hamount of data spent by all users in the data sessions is `73,880,860,000,00092 bytes`\n",
    "\n",
    "> Average data spent by a user is `12.90118`, appx `548,451,900 bytes`\n",
    "\n",
    "> The minimum number of hours spent by each user is `0 hours`.\n",
    "\n",
    ">  This means there are users who have never subscribed to Tellco data before\n",
    "\n",
    "> The maximum number of hours spent by each user is `0 hours`. \n",
    "\n",
    "> This means there are users who have never subscribed to Tellco data before\n",
    "\n",
    "> Half of the users spends `12.6 hrs` on data  -->"
   ]
  },
  {
   "cell_type": "markdown",
   "metadata": {},
   "source": [
    " "
   ]
  },
  {
   "cell_type": "markdown",
   "metadata": {},
   "source": [
    "Graphical Univariate Analysis"
   ]
  },
  {
   "cell_type": "markdown",
   "metadata": {},
   "source": [
    "lets plot the distributuion of hours spent on data"
   ]
  },
  {
   "cell_type": "code",
   "execution_count": 363,
   "metadata": {},
   "outputs": [
    {
     "data": {
      "image/png": "[encoded data removed]",
      "text/plain": [
       "<Figure size 1152x720 with 1 Axes>"
      ]
     },
     "metadata": {
      "needs_background": "light"
     },
     "output_type": "display_data"
    }
   ],
   "source": [
    "plt.subplots(figsize=(16, 10))\n",
    "sns.distplot((data_usage['total_data_usage']), hist=True)\n",
    "plt.title('Data Usage (bytes)', fontsize=20)\n",
    "plt.xlabel('Data Sessions', fontsize=15)\n",
    "plt.savefig('visuals/dataUsageDist.png', format='png')\n",
    "plt.show()"
   ]
  },
  {
   "cell_type": "markdown",
   "metadata": {},
   "source": [
    "#### Interpration\n",
    "\n",
    "> Data usage is right skewed, which means we have less users who use above average data usage\n",
    "\n",
    "> Another way to say this is that more of our users use below average data usage"
   ]
  },
  {
   "cell_type": "markdown",
   "metadata": {},
   "source": [
    " "
   ]
  },
  {
   "cell_type": "markdown",
   "metadata": {},
   "source": [
    " "
   ]
  },
  {
   "cell_type": "markdown",
   "metadata": {},
   "source": [
    "4"
   ]
  },
  {
   "cell_type": "code",
   "execution_count": 367,
   "metadata": {},
   "outputs": [],
   "source": [
    "to_app_data = data2[['social_media_dl__bytes_', 'social_media_ul__bytes_',\n",
    "       'google_dl__bytes_', 'google_ul__bytes_', 'email_dl__bytes_',\n",
    "       'email_ul__bytes_', 'youtube_dl__bytes_', 'youtube_ul__bytes_',\n",
    "       'netflix_dl__bytes_', 'netflix_ul__bytes_', 'gaming_dl__bytes_',\n",
    "       'gaming_ul__bytes_','total_data_usage' ]]"
   ]
  },
  {
   "cell_type": "code",
   "execution_count": 368,
   "metadata": {},
   "outputs": [
    {
     "data": {
      "text/html": [
       "<div>\n",
       "<style scoped>\n",
       "    .dataframe tbody tr th:only-of-type {\n",
       "        vertical-align: middle;\n",
       "    }\n",
       "\n",
       "    .dataframe tbody tr th {\n",
       "        vertical-align: top;\n",
       "    }\n",
       "\n",
       "    .dataframe thead th {\n",
       "        text-align: right;\n",
       "    }\n",
       "</style>\n",
       "<table border=\"1\" class=\"dataframe\">\n",
       "  <thead>\n",
       "    <tr style=\"text-align: right;\">\n",
       "      <th></th>\n",
       "      <th>social_media_dl__bytes_</th>\n",
       "      <th>social_media_ul__bytes_</th>\n",
       "      <th>google_dl__bytes_</th>\n",
       "      <th>google_ul__bytes_</th>\n",
       "      <th>email_dl__bytes_</th>\n",
       "      <th>email_ul__bytes_</th>\n",
       "      <th>youtube_dl__bytes_</th>\n",
       "      <th>youtube_ul__bytes_</th>\n",
       "      <th>netflix_dl__bytes_</th>\n",
       "      <th>netflix_ul__bytes_</th>\n",
       "      <th>gaming_dl__bytes_</th>\n",
       "      <th>gaming_ul__bytes_</th>\n",
       "      <th>total_data_usage</th>\n",
       "    </tr>\n",
       "  </thead>\n",
       "  <tbody>\n",
       "    <tr>\n",
       "      <th>0</th>\n",
       "      <td>1.545765e+06</td>\n",
       "      <td>24420.00000</td>\n",
       "      <td>1.634479e+06</td>\n",
       "      <td>1.271433e+06</td>\n",
       "      <td>3.563542e+06</td>\n",
       "      <td>137762.00000</td>\n",
       "      <td>1.585461e+07</td>\n",
       "      <td>2.501332e+06</td>\n",
       "      <td>8.198936e+06</td>\n",
       "      <td>9.656251e+06</td>\n",
       "      <td>2.780823e+08</td>\n",
       "      <td>1.434415e+07</td>\n",
       "      <td>345629377.0</td>\n",
       "    </tr>\n",
       "    <tr>\n",
       "      <th>1</th>\n",
       "      <td>1.926113e+06</td>\n",
       "      <td>7165.00000</td>\n",
       "      <td>3.493924e+06</td>\n",
       "      <td>9.201720e+05</td>\n",
       "      <td>6.290460e+05</td>\n",
       "      <td>308339.00000</td>\n",
       "      <td>2.024740e+07</td>\n",
       "      <td>1.911173e+07</td>\n",
       "      <td>1.833841e+07</td>\n",
       "      <td>1.722713e+07</td>\n",
       "      <td>6.087501e+08</td>\n",
       "      <td>1.170709e+06</td>\n",
       "      <td>707185356.0</td>\n",
       "    </tr>\n",
       "    <tr>\n",
       "      <th>2</th>\n",
       "      <td>1.684053e+06</td>\n",
       "      <td>42224.00000</td>\n",
       "      <td>8.535055e+06</td>\n",
       "      <td>1.694064e+06</td>\n",
       "      <td>2.690151e+06</td>\n",
       "      <td>672973.00000</td>\n",
       "      <td>1.972566e+07</td>\n",
       "      <td>1.469958e+07</td>\n",
       "      <td>1.758779e+07</td>\n",
       "      <td>6.163408e+06</td>\n",
       "      <td>2.295846e+08</td>\n",
       "      <td>3.956300e+05</td>\n",
       "      <td>307690973.0</td>\n",
       "    </tr>\n",
       "    <tr>\n",
       "      <th>3</th>\n",
       "      <td>6.441210e+05</td>\n",
       "      <td>13372.00000</td>\n",
       "      <td>9.023734e+06</td>\n",
       "      <td>2.788027e+06</td>\n",
       "      <td>1.439754e+06</td>\n",
       "      <td>631229.00000</td>\n",
       "      <td>2.138812e+07</td>\n",
       "      <td>1.514664e+07</td>\n",
       "      <td>1.399465e+07</td>\n",
       "      <td>1.097942e+06</td>\n",
       "      <td>7.995382e+08</td>\n",
       "      <td>1.084972e+07</td>\n",
       "      <td>889352748.0</td>\n",
       "    </tr>\n",
       "    <tr>\n",
       "      <th>4</th>\n",
       "      <td>8.626000e+05</td>\n",
       "      <td>50188.00000</td>\n",
       "      <td>6.248284e+06</td>\n",
       "      <td>1.500559e+06</td>\n",
       "      <td>1.936496e+06</td>\n",
       "      <td>173853.00000</td>\n",
       "      <td>1.525938e+07</td>\n",
       "      <td>1.896287e+07</td>\n",
       "      <td>1.712458e+07</td>\n",
       "      <td>4.152180e+05</td>\n",
       "      <td>5.277072e+08</td>\n",
       "      <td>3.529801e+06</td>\n",
       "      <td>607681403.0</td>\n",
       "    </tr>\n",
       "    <tr>\n",
       "      <th>...</th>\n",
       "      <td>...</td>\n",
       "      <td>...</td>\n",
       "      <td>...</td>\n",
       "      <td>...</td>\n",
       "      <td>...</td>\n",
       "      <td>...</td>\n",
       "      <td>...</td>\n",
       "      <td>...</td>\n",
       "      <td>...</td>\n",
       "      <td>...</td>\n",
       "      <td>...</td>\n",
       "      <td>...</td>\n",
       "      <td>...</td>\n",
       "    </tr>\n",
       "    <tr>\n",
       "      <th>149996</th>\n",
       "      <td>3.464974e+06</td>\n",
       "      <td>52091.00000</td>\n",
       "      <td>9.967603e+06</td>\n",
       "      <td>2.817311e+06</td>\n",
       "      <td>5.763900e+04</td>\n",
       "      <td>633237.00000</td>\n",
       "      <td>1.619167e+07</td>\n",
       "      <td>1.176343e+07</td>\n",
       "      <td>1.788370e+07</td>\n",
       "      <td>1.967816e+07</td>\n",
       "      <td>5.266097e+08</td>\n",
       "      <td>9.197207e+06</td>\n",
       "      <td>631804110.0</td>\n",
       "    </tr>\n",
       "    <tr>\n",
       "      <th>149997</th>\n",
       "      <td>2.344568e+06</td>\n",
       "      <td>7613.00000</td>\n",
       "      <td>2.229420e+06</td>\n",
       "      <td>2.185941e+06</td>\n",
       "      <td>1.954414e+06</td>\n",
       "      <td>167304.00000</td>\n",
       "      <td>1.387723e+07</td>\n",
       "      <td>8.288284e+06</td>\n",
       "      <td>1.935015e+07</td>\n",
       "      <td>2.129315e+07</td>\n",
       "      <td>6.268931e+08</td>\n",
       "      <td>4.735033e+06</td>\n",
       "      <td>705783925.0</td>\n",
       "    </tr>\n",
       "    <tr>\n",
       "      <th>149998</th>\n",
       "      <td>1.245845e+06</td>\n",
       "      <td>14394.00000</td>\n",
       "      <td>3.850890e+06</td>\n",
       "      <td>2.734579e+06</td>\n",
       "      <td>1.525734e+06</td>\n",
       "      <td>532543.00000</td>\n",
       "      <td>2.266051e+07</td>\n",
       "      <td>1.855903e+06</td>\n",
       "      <td>9.963942e+06</td>\n",
       "      <td>5.065760e+06</td>\n",
       "      <td>5.535395e+08</td>\n",
       "      <td>1.339432e+07</td>\n",
       "      <td>627698629.0</td>\n",
       "    </tr>\n",
       "    <tr>\n",
       "      <th>149999</th>\n",
       "      <td>8.015470e+05</td>\n",
       "      <td>21562.00000</td>\n",
       "      <td>4.189773e+06</td>\n",
       "      <td>3.567494e+06</td>\n",
       "      <td>2.228270e+06</td>\n",
       "      <td>622644.00000</td>\n",
       "      <td>8.817106e+06</td>\n",
       "      <td>8.305402e+06</td>\n",
       "      <td>3.322253e+06</td>\n",
       "      <td>1.317259e+07</td>\n",
       "      <td>3.525370e+08</td>\n",
       "      <td>2.529475e+06</td>\n",
       "      <td>401522016.0</td>\n",
       "    </tr>\n",
       "    <tr>\n",
       "      <th>150000</th>\n",
       "      <td>1.795322e+06</td>\n",
       "      <td>32928.43438</td>\n",
       "      <td>5.750753e+06</td>\n",
       "      <td>2.056542e+06</td>\n",
       "      <td>1.791729e+06</td>\n",
       "      <td>467373.44194</td>\n",
       "      <td>1.163407e+07</td>\n",
       "      <td>1.100941e+07</td>\n",
       "      <td>1.162685e+07</td>\n",
       "      <td>1.100175e+07</td>\n",
       "      <td>4.220447e+08</td>\n",
       "      <td>8.288398e+06</td>\n",
       "      <td>496984389.5</td>\n",
       "    </tr>\n",
       "  </tbody>\n",
       "</table>\n",
       "<p>150001 rows × 13 columns</p>\n",
       "</div>"
      ],
      "text/plain": [
       "        social_media_dl__bytes_  social_media_ul__bytes_  google_dl__bytes_  \\\n",
       "0                  1.545765e+06              24420.00000       1.634479e+06   \n",
       "1                  1.926113e+06               7165.00000       3.493924e+06   \n",
       "2                  1.684053e+06              42224.00000       8.535055e+06   \n",
       "3                  6.441210e+05              13372.00000       9.023734e+06   \n",
       "4                  8.626000e+05              50188.00000       6.248284e+06   \n",
       "...                         ...                      ...                ...   \n",
       "149996             3.464974e+06              52091.00000       9.967603e+06   \n",
       "149997             2.344568e+06               7613.00000       2.229420e+06   \n",
       "149998             1.245845e+06              14394.00000       3.850890e+06   \n",
       "149999             8.015470e+05              21562.00000       4.189773e+06   \n",
       "150000             1.795322e+06              32928.43438       5.750753e+06   \n",
       "\n",
       "        google_ul__bytes_  email_dl__bytes_  email_ul__bytes_  \\\n",
       "0            1.271433e+06      3.563542e+06      137762.00000   \n",
       "1            9.201720e+05      6.290460e+05      308339.00000   \n",
       "2            1.694064e+06      2.690151e+06      672973.00000   \n",
       "3            2.788027e+06      1.439754e+06      631229.00000   \n",
       "4            1.500559e+06      1.936496e+06      173853.00000   \n",
       "...                   ...               ...               ...   \n",
       "149996       2.817311e+06      5.763900e+04      633237.00000   \n",
       "149997       2.185941e+06      1.954414e+06      167304.00000   \n",
       "149998       2.734579e+06      1.525734e+06      532543.00000   \n",
       "149999       3.567494e+06      2.228270e+06      622644.00000   \n",
       "150000       2.056542e+06      1.791729e+06      467373.44194   \n",
       "\n",
       "        youtube_dl__bytes_  youtube_ul__bytes_  netflix_dl__bytes_  \\\n",
       "0             1.585461e+07        2.501332e+06        8.198936e+06   \n",
       "1             2.024740e+07        1.911173e+07        1.833841e+07   \n",
       "2             1.972566e+07        1.469958e+07        1.758779e+07   \n",
       "3             2.138812e+07        1.514664e+07        1.399465e+07   \n",
       "4             1.525938e+07        1.896287e+07        1.712458e+07   \n",
       "...                    ...                 ...                 ...   \n",
       "149996        1.619167e+07        1.176343e+07        1.788370e+07   \n",
       "149997        1.387723e+07        8.288284e+06        1.935015e+07   \n",
       "149998        2.266051e+07        1.855903e+06        9.963942e+06   \n",
       "149999        8.817106e+06        8.305402e+06        3.322253e+06   \n",
       "150000        1.163407e+07        1.100941e+07        1.162685e+07   \n",
       "\n",
       "        netflix_ul__bytes_  gaming_dl__bytes_  gaming_ul__bytes_  \\\n",
       "0             9.656251e+06       2.780823e+08       1.434415e+07   \n",
       "1             1.722713e+07       6.087501e+08       1.170709e+06   \n",
       "2             6.163408e+06       2.295846e+08       3.956300e+05   \n",
       "3             1.097942e+06       7.995382e+08       1.084972e+07   \n",
       "4             4.152180e+05       5.277072e+08       3.529801e+06   \n",
       "...                    ...                ...                ...   \n",
       "149996        1.967816e+07       5.266097e+08       9.197207e+06   \n",
       "149997        2.129315e+07       6.268931e+08       4.735033e+06   \n",
       "149998        5.065760e+06       5.535395e+08       1.339432e+07   \n",
       "149999        1.317259e+07       3.525370e+08       2.529475e+06   \n",
       "150000        1.100175e+07       4.220447e+08       8.288398e+06   \n",
       "\n",
       "        total_data_usage  \n",
       "0            345629377.0  \n",
       "1            707185356.0  \n",
       "2            307690973.0  \n",
       "3            889352748.0  \n",
       "4            607681403.0  \n",
       "...                  ...  \n",
       "149996       631804110.0  \n",
       "149997       705783925.0  \n",
       "149998       627698629.0  \n",
       "149999       401522016.0  \n",
       "150000       496984389.5  \n",
       "\n",
       "[150001 rows x 13 columns]"
      ]
     },
     "execution_count": 368,
     "metadata": {},
     "output_type": "execute_result"
    }
   ],
   "source": [
    "to_app_data"
   ]
  },
  {
   "cell_type": "code",
   "execution_count": 369,
   "metadata": {},
   "outputs": [],
   "source": [
    "app_data = pd.DataFrame()"
   ]
  },
  {
   "cell_type": "code",
   "execution_count": 370,
   "metadata": {},
   "outputs": [],
   "source": [
    "app_data['users'] = data2.bearer_id"
   ]
  },
  {
   "cell_type": "code",
   "execution_count": 371,
   "metadata": {},
   "outputs": [],
   "source": [
    "app_data['social_media'] = to_app_data.social_media_dl__bytes_ + to_app_data.social_media_ul__bytes_"
   ]
  },
  {
   "cell_type": "code",
   "execution_count": 372,
   "metadata": {},
   "outputs": [],
   "source": [
    "app_data['google'] = to_app_data.google_dl__bytes_ + to_app_data.gaming_ul__bytes_"
   ]
  },
  {
   "cell_type": "code",
   "execution_count": 373,
   "metadata": {},
   "outputs": [],
   "source": [
    "app_data['email'] = to_app_data.email_dl__bytes_ + to_app_data.email_ul__bytes_"
   ]
  },
  {
   "cell_type": "code",
   "execution_count": 374,
   "metadata": {},
   "outputs": [],
   "source": [
    "app_data['youtube'] = to_app_data.youtube_dl__bytes_ + to_app_data.youtube_ul__bytes_"
   ]
  },
  {
   "cell_type": "code",
   "execution_count": 375,
   "metadata": {},
   "outputs": [],
   "source": [
    "app_data['netflix'] = to_app_data.netflix_dl__bytes_ + to_app_data.netflix_ul__bytes_"
   ]
  },
  {
   "cell_type": "code",
   "execution_count": 376,
   "metadata": {},
   "outputs": [],
   "source": [
    "app_data['gaming'] = to_app_data.gaming_dl__bytes_ + to_app_data.gaming_ul__bytes_"
   ]
  },
  {
   "cell_type": "code",
   "execution_count": 377,
   "metadata": {},
   "outputs": [
    {
     "data": {
      "text/html": [
       "<div>\n",
       "<style scoped>\n",
       "    .dataframe tbody tr th:only-of-type {\n",
       "        vertical-align: middle;\n",
       "    }\n",
       "\n",
       "    .dataframe tbody tr th {\n",
       "        vertical-align: top;\n",
       "    }\n",
       "\n",
       "    .dataframe thead th {\n",
       "        text-align: right;\n",
       "    }\n",
       "</style>\n",
       "<table border=\"1\" class=\"dataframe\">\n",
       "  <thead>\n",
       "    <tr style=\"text-align: right;\">\n",
       "      <th></th>\n",
       "      <th>users</th>\n",
       "      <th>social_media</th>\n",
       "      <th>google</th>\n",
       "      <th>email</th>\n",
       "      <th>youtube</th>\n",
       "      <th>netflix</th>\n",
       "      <th>gaming</th>\n",
       "    </tr>\n",
       "  </thead>\n",
       "  <tbody>\n",
       "    <tr>\n",
       "      <th>0</th>\n",
       "      <td>13114483460844900352</td>\n",
       "      <td>1.570185e+06</td>\n",
       "      <td>1.597863e+07</td>\n",
       "      <td>3.701304e+06</td>\n",
       "      <td>1.835594e+07</td>\n",
       "      <td>1.785519e+07</td>\n",
       "      <td>2.924265e+08</td>\n",
       "    </tr>\n",
       "    <tr>\n",
       "      <th>1</th>\n",
       "      <td>13114483482878900224</td>\n",
       "      <td>1.933278e+06</td>\n",
       "      <td>4.664633e+06</td>\n",
       "      <td>9.373850e+05</td>\n",
       "      <td>3.935912e+07</td>\n",
       "      <td>3.556554e+07</td>\n",
       "      <td>6.099208e+08</td>\n",
       "    </tr>\n",
       "    <tr>\n",
       "      <th>2</th>\n",
       "      <td>13114483484080500736</td>\n",
       "      <td>1.726277e+06</td>\n",
       "      <td>8.930685e+06</td>\n",
       "      <td>3.363124e+06</td>\n",
       "      <td>3.442524e+07</td>\n",
       "      <td>2.375120e+07</td>\n",
       "      <td>2.299803e+08</td>\n",
       "    </tr>\n",
       "    <tr>\n",
       "      <th>3</th>\n",
       "      <td>13114483485442799616</td>\n",
       "      <td>6.574930e+05</td>\n",
       "      <td>1.987346e+07</td>\n",
       "      <td>2.070983e+06</td>\n",
       "      <td>3.653476e+07</td>\n",
       "      <td>1.509259e+07</td>\n",
       "      <td>8.103879e+08</td>\n",
       "    </tr>\n",
       "    <tr>\n",
       "      <th>4</th>\n",
       "      <td>13114483499480700928</td>\n",
       "      <td>9.127880e+05</td>\n",
       "      <td>9.778085e+06</td>\n",
       "      <td>2.110349e+06</td>\n",
       "      <td>3.422225e+07</td>\n",
       "      <td>1.753980e+07</td>\n",
       "      <td>5.312370e+08</td>\n",
       "    </tr>\n",
       "    <tr>\n",
       "      <th>...</th>\n",
       "      <td>...</td>\n",
       "      <td>...</td>\n",
       "      <td>...</td>\n",
       "      <td>...</td>\n",
       "      <td>...</td>\n",
       "      <td>...</td>\n",
       "      <td>...</td>\n",
       "    </tr>\n",
       "    <tr>\n",
       "      <th>149996</th>\n",
       "      <td>7277825670196679680</td>\n",
       "      <td>3.517065e+06</td>\n",
       "      <td>1.916481e+07</td>\n",
       "      <td>6.908760e+05</td>\n",
       "      <td>2.795510e+07</td>\n",
       "      <td>3.756186e+07</td>\n",
       "      <td>5.358069e+08</td>\n",
       "    </tr>\n",
       "    <tr>\n",
       "      <th>149997</th>\n",
       "      <td>7349883264234609664</td>\n",
       "      <td>2.352181e+06</td>\n",
       "      <td>6.964453e+06</td>\n",
       "      <td>2.121718e+06</td>\n",
       "      <td>2.216552e+07</td>\n",
       "      <td>4.064329e+07</td>\n",
       "      <td>6.316281e+08</td>\n",
       "    </tr>\n",
       "    <tr>\n",
       "      <th>149998</th>\n",
       "      <td>13114483573367300096</td>\n",
       "      <td>1.260239e+06</td>\n",
       "      <td>1.724521e+07</td>\n",
       "      <td>2.058277e+06</td>\n",
       "      <td>2.451641e+07</td>\n",
       "      <td>1.502970e+07</td>\n",
       "      <td>5.669338e+08</td>\n",
       "    </tr>\n",
       "    <tr>\n",
       "      <th>149999</th>\n",
       "      <td>13114483573367300096</td>\n",
       "      <td>8.231090e+05</td>\n",
       "      <td>6.719248e+06</td>\n",
       "      <td>2.850914e+06</td>\n",
       "      <td>1.712251e+07</td>\n",
       "      <td>1.649484e+07</td>\n",
       "      <td>3.550664e+08</td>\n",
       "    </tr>\n",
       "    <tr>\n",
       "      <th>150000</th>\n",
       "      <td></td>\n",
       "      <td>1.828250e+06</td>\n",
       "      <td>1.403915e+07</td>\n",
       "      <td>2.259102e+06</td>\n",
       "      <td>2.264348e+07</td>\n",
       "      <td>2.262861e+07</td>\n",
       "      <td>4.303331e+08</td>\n",
       "    </tr>\n",
       "  </tbody>\n",
       "</table>\n",
       "<p>150001 rows × 7 columns</p>\n",
       "</div>"
      ],
      "text/plain": [
       "                       users  social_media        google         email  \\\n",
       "0       13114483460844900352  1.570185e+06  1.597863e+07  3.701304e+06   \n",
       "1       13114483482878900224  1.933278e+06  4.664633e+06  9.373850e+05   \n",
       "2       13114483484080500736  1.726277e+06  8.930685e+06  3.363124e+06   \n",
       "3       13114483485442799616  6.574930e+05  1.987346e+07  2.070983e+06   \n",
       "4       13114483499480700928  9.127880e+05  9.778085e+06  2.110349e+06   \n",
       "...                      ...           ...           ...           ...   \n",
       "149996   7277825670196679680  3.517065e+06  1.916481e+07  6.908760e+05   \n",
       "149997   7349883264234609664  2.352181e+06  6.964453e+06  2.121718e+06   \n",
       "149998  13114483573367300096  1.260239e+06  1.724521e+07  2.058277e+06   \n",
       "149999  13114483573367300096  8.231090e+05  6.719248e+06  2.850914e+06   \n",
       "150000                        1.828250e+06  1.403915e+07  2.259102e+06   \n",
       "\n",
       "             youtube       netflix        gaming  \n",
       "0       1.835594e+07  1.785519e+07  2.924265e+08  \n",
       "1       3.935912e+07  3.556554e+07  6.099208e+08  \n",
       "2       3.442524e+07  2.375120e+07  2.299803e+08  \n",
       "3       3.653476e+07  1.509259e+07  8.103879e+08  \n",
       "4       3.422225e+07  1.753980e+07  5.312370e+08  \n",
       "...              ...           ...           ...  \n",
       "149996  2.795510e+07  3.756186e+07  5.358069e+08  \n",
       "149997  2.216552e+07  4.064329e+07  6.316281e+08  \n",
       "149998  2.451641e+07  1.502970e+07  5.669338e+08  \n",
       "149999  1.712251e+07  1.649484e+07  3.550664e+08  \n",
       "150000  2.264348e+07  2.262861e+07  4.303331e+08  \n",
       "\n",
       "[150001 rows x 7 columns]"
      ]
     },
     "execution_count": 377,
     "metadata": {},
     "output_type": "execute_result"
    }
   ],
   "source": [
    "app_data"
   ]
  },
  {
   "cell_type": "markdown",
   "metadata": {},
   "source": [
    "Non graphical univariate analyis"
   ]
  },
  {
   "cell_type": "code",
   "execution_count": 378,
   "metadata": {},
   "outputs": [],
   "source": [
    "app_data_stats = app_data.iloc[:, 1:].describe()"
   ]
  },
  {
   "cell_type": "code",
   "execution_count": 379,
   "metadata": {},
   "outputs": [
    {
     "data": {
      "text/html": [
       "<div>\n",
       "<style scoped>\n",
       "    .dataframe tbody tr th:only-of-type {\n",
       "        vertical-align: middle;\n",
       "    }\n",
       "\n",
       "    .dataframe tbody tr th {\n",
       "        vertical-align: top;\n",
       "    }\n",
       "\n",
       "    .dataframe thead th {\n",
       "        text-align: right;\n",
       "    }\n",
       "</style>\n",
       "<table border=\"1\" class=\"dataframe\">\n",
       "  <thead>\n",
       "    <tr style=\"text-align: right;\">\n",
       "      <th></th>\n",
       "      <th>social_media</th>\n",
       "      <th>google</th>\n",
       "      <th>email</th>\n",
       "      <th>youtube</th>\n",
       "      <th>netflix</th>\n",
       "      <th>gaming</th>\n",
       "    </tr>\n",
       "  </thead>\n",
       "  <tbody>\n",
       "    <tr>\n",
       "      <th>count</th>\n",
       "      <td>1.500010e+05</td>\n",
       "      <td>1.500010e+05</td>\n",
       "      <td>1.500010e+05</td>\n",
       "      <td>1.500010e+05</td>\n",
       "      <td>1.500010e+05</td>\n",
       "      <td>1.500010e+05</td>\n",
       "    </tr>\n",
       "    <tr>\n",
       "      <th>mean</th>\n",
       "      <td>1.828250e+06</td>\n",
       "      <td>1.403915e+07</td>\n",
       "      <td>2.259102e+06</td>\n",
       "      <td>2.264348e+07</td>\n",
       "      <td>2.262861e+07</td>\n",
       "      <td>4.303331e+08</td>\n",
       "    </tr>\n",
       "    <tr>\n",
       "      <th>std</th>\n",
       "      <td>1.035646e+06</td>\n",
       "      <td>5.811980e+06</td>\n",
       "      <td>1.071109e+06</td>\n",
       "      <td>9.246800e+06</td>\n",
       "      <td>9.260820e+06</td>\n",
       "      <td>2.440199e+08</td>\n",
       "    </tr>\n",
       "    <tr>\n",
       "      <th>min</th>\n",
       "      <td>1.563000e+03</td>\n",
       "      <td>2.370800e+04</td>\n",
       "      <td>8.359000e+03</td>\n",
       "      <td>7.890300e+04</td>\n",
       "      <td>9.843200e+04</td>\n",
       "      <td>3.063580e+05</td>\n",
       "    </tr>\n",
       "    <tr>\n",
       "      <th>25%</th>\n",
       "      <td>9.322180e+05</td>\n",
       "      <td>9.774338e+06</td>\n",
       "      <td>1.359344e+06</td>\n",
       "      <td>1.599846e+07</td>\n",
       "      <td>1.597946e+07</td>\n",
       "      <td>2.187279e+08</td>\n",
       "    </tr>\n",
       "    <tr>\n",
       "      <th>50%</th>\n",
       "      <td>1.826471e+06</td>\n",
       "      <td>1.403358e+07</td>\n",
       "      <td>2.263567e+06</td>\n",
       "      <td>2.266177e+07</td>\n",
       "      <td>2.263554e+07</td>\n",
       "      <td>4.316150e+08</td>\n",
       "    </tr>\n",
       "    <tr>\n",
       "      <th>75%</th>\n",
       "      <td>2.727487e+06</td>\n",
       "      <td>1.831082e+07</td>\n",
       "      <td>3.159818e+06</td>\n",
       "      <td>2.929260e+07</td>\n",
       "      <td>2.929044e+07</td>\n",
       "      <td>6.414159e+08</td>\n",
       "    </tr>\n",
       "    <tr>\n",
       "      <th>max</th>\n",
       "      <td>3.650861e+06</td>\n",
       "      <td>2.795925e+07</td>\n",
       "      <td>4.518036e+06</td>\n",
       "      <td>4.519008e+07</td>\n",
       "      <td>4.519815e+07</td>\n",
       "      <td>8.592028e+08</td>\n",
       "    </tr>\n",
       "  </tbody>\n",
       "</table>\n",
       "</div>"
      ],
      "text/plain": [
       "       social_media        google         email       youtube       netflix  \\\n",
       "count  1.500010e+05  1.500010e+05  1.500010e+05  1.500010e+05  1.500010e+05   \n",
       "mean   1.828250e+06  1.403915e+07  2.259102e+06  2.264348e+07  2.262861e+07   \n",
       "std    1.035646e+06  5.811980e+06  1.071109e+06  9.246800e+06  9.260820e+06   \n",
       "min    1.563000e+03  2.370800e+04  8.359000e+03  7.890300e+04  9.843200e+04   \n",
       "25%    9.322180e+05  9.774338e+06  1.359344e+06  1.599846e+07  1.597946e+07   \n",
       "50%    1.826471e+06  1.403358e+07  2.263567e+06  2.266177e+07  2.263554e+07   \n",
       "75%    2.727487e+06  1.831082e+07  3.159818e+06  2.929260e+07  2.929044e+07   \n",
       "max    3.650861e+06  2.795925e+07  4.518036e+06  4.519008e+07  4.519815e+07   \n",
       "\n",
       "             gaming  \n",
       "count  1.500010e+05  \n",
       "mean   4.303331e+08  \n",
       "std    2.440199e+08  \n",
       "min    3.063580e+05  \n",
       "25%    2.187279e+08  \n",
       "50%    4.316150e+08  \n",
       "75%    6.414159e+08  \n",
       "max    8.592028e+08  "
      ]
     },
     "execution_count": 379,
     "metadata": {},
     "output_type": "execute_result"
    }
   ],
   "source": [
    "app_data_stats"
   ]
  },
  {
   "cell_type": "code",
   "execution_count": null,
   "metadata": {},
   "outputs": [],
   "source": []
  },
  {
   "cell_type": "markdown",
   "metadata": {},
   "source": [
    "5"
   ]
  },
  {
   "cell_type": "code",
   "execution_count": 380,
   "metadata": {},
   "outputs": [],
   "source": [
    "vals = [app_data.social_media.sum(), app_data.google.sum(), app_data.email.sum(), \n",
    "          app_data.youtube.sum(), app_data.netflix.sum(), app_data.gaming.sum()]"
   ]
  },
  {
   "cell_type": "code",
   "execution_count": 381,
   "metadata": {},
   "outputs": [
    {
     "data": {
      "text/plain": [
       "[274239359454.20804,\n",
       " 2105886648653.73,\n",
       " 338867605596.30994,\n",
       " 3396545039272.6387,\n",
       " 3394313609363.5386,\n",
       " 64550395439016.7]"
      ]
     },
     "execution_count": 381,
     "metadata": {},
     "output_type": "execute_result"
    }
   ],
   "source": [
    "vals"
   ]
  },
  {
   "cell_type": "code",
   "execution_count": 382,
   "metadata": {},
   "outputs": [],
   "source": [
    "total_app_data = pd.DataFrame(columns=app_data.columns.to_list()[1:],data=[vals])"
   ]
  },
  {
   "cell_type": "code",
   "execution_count": 383,
   "metadata": {},
   "outputs": [],
   "source": [
    "total_app_data=total_app_data.transpose().reset_index().rename(columns={'index':'application', 0:'total_data'})"
   ]
  },
  {
   "cell_type": "code",
   "execution_count": 385,
   "metadata": {},
   "outputs": [
    {
     "data": {
      "text/html": [
       "<div>\n",
       "<style scoped>\n",
       "    .dataframe tbody tr th:only-of-type {\n",
       "        vertical-align: middle;\n",
       "    }\n",
       "\n",
       "    .dataframe tbody tr th {\n",
       "        vertical-align: top;\n",
       "    }\n",
       "\n",
       "    .dataframe thead th {\n",
       "        text-align: right;\n",
       "    }\n",
       "</style>\n",
       "<table border=\"1\" class=\"dataframe\">\n",
       "  <thead>\n",
       "    <tr style=\"text-align: right;\">\n",
       "      <th></th>\n",
       "      <th>application</th>\n",
       "      <th>total_data</th>\n",
       "    </tr>\n",
       "  </thead>\n",
       "  <tbody>\n",
       "    <tr>\n",
       "      <th>5</th>\n",
       "      <td>gaming</td>\n",
       "      <td>6.455040e+13</td>\n",
       "    </tr>\n",
       "    <tr>\n",
       "      <th>3</th>\n",
       "      <td>youtube</td>\n",
       "      <td>3.396545e+12</td>\n",
       "    </tr>\n",
       "    <tr>\n",
       "      <th>4</th>\n",
       "      <td>netflix</td>\n",
       "      <td>3.394314e+12</td>\n",
       "    </tr>\n",
       "    <tr>\n",
       "      <th>1</th>\n",
       "      <td>google</td>\n",
       "      <td>2.105887e+12</td>\n",
       "    </tr>\n",
       "    <tr>\n",
       "      <th>2</th>\n",
       "      <td>email</td>\n",
       "      <td>3.388676e+11</td>\n",
       "    </tr>\n",
       "    <tr>\n",
       "      <th>0</th>\n",
       "      <td>social_media</td>\n",
       "      <td>2.742394e+11</td>\n",
       "    </tr>\n",
       "  </tbody>\n",
       "</table>\n",
       "</div>"
      ],
      "text/plain": [
       "    application    total_data\n",
       "5        gaming  6.455040e+13\n",
       "3       youtube  3.396545e+12\n",
       "4       netflix  3.394314e+12\n",
       "1        google  2.105887e+12\n",
       "2         email  3.388676e+11\n",
       "0  social_media  2.742394e+11"
      ]
     },
     "execution_count": 385,
     "metadata": {},
     "output_type": "execute_result"
    }
   ],
   "source": [
    "total_app_data = total_app_data.sort_values(by='total_data', ascending=False)\n",
    "total_app_data"
   ]
  },
  {
   "cell_type": "markdown",
   "metadata": {},
   "source": [
    "Application data"
   ]
  },
  {
   "cell_type": "code",
   "execution_count": 386,
   "metadata": {},
   "outputs": [
    {
     "data": {
      "image/png": "[encoded data removed]",
      "text/plain": [
       "<Figure size 1152x720 with 1 Axes>"
      ]
     },
     "metadata": {
      "needs_background": "light"
     },
     "output_type": "display_data"
    }
   ],
   "source": [
    "plt.subplots(figsize=(16,10))\n",
    "plt.title('App Data Consumption (bytes)', fontsize=20)\n",
    "plt.xticks(fontsize=15)\n",
    "plt.yticks(fontsize=15)\n",
    "plt.xlabel('Application', fontsize=17)\n",
    "plt.ylabel('Data Use (bytes)', fontsize=17)\n",
    "sns.barplot(data=total_app_data, x='application', y='total_data')\n",
    "plt.savefig(format='png', fname='visuals/appData.png')\n",
    "plt.show()"
   ]
  },
  {
   "cell_type": "code",
   "execution_count": null,
   "metadata": {},
   "outputs": [],
   "source": []
  },
  {
   "cell_type": "markdown",
   "metadata": {},
   "source": [
    "#### Interpretation\n",
    "\n",
    "> From the above, we can clearly see that gaming application has the highest data usage by users"
   ]
  },
  {
   "cell_type": "markdown",
   "metadata": {},
   "source": [
    "> Let's try a bivariate analysis"
   ]
  },
  {
   "cell_type": "code",
   "execution_count": 388,
   "metadata": {},
   "outputs": [],
   "source": [
    "app_data_heat = app_data.drop(columns='users')"
   ]
  },
  {
   "cell_type": "code",
   "execution_count": 393,
   "metadata": {},
   "outputs": [
    {
     "data": {
      "image/png": "[encoded data removed]",
      "text/plain": [
       "<Figure size 1296x1080 with 2 Axes>"
      ]
     },
     "metadata": {
      "needs_background": "light"
     },
     "output_type": "display_data"
    }
   ],
   "source": [
    "plt.subplots(figsize=(18,15))\n",
    "plt.title('App Data Consumption (bytes)', fontsize=20)\n",
    "plt.xticks(fontsize=15)\n",
    "plt.yticks(fontsize=15)\n",
    "sns.heatmap(app_data_heat)\n",
    "plt.savefig(format='png', fname='visuals/appDataHeat.png')"
   ]
  },
  {
   "cell_type": "markdown",
   "metadata": {},
   "source": [
    "Interpreation"
   ]
  },
  {
   "cell_type": "markdown",
   "metadata": {},
   "source": [
    "> The above best exaplains the bar chart..\n",
    "\n",
    "> our legend ranges from low values (dark red) to high values (light - red)\n",
    "\n",
    "> Gaming application have the highest colour heat of high values\n",
    "\n",
    "> This further accentuates the fact that gaming application has the highest data consumption among other applications\n",
    "\n",
    "> The data cinsumption of other applications are very low relative to that of gaming application"
   ]
  },
  {
   "cell_type": "code",
   "execution_count": null,
   "metadata": {},
   "outputs": [],
   "source": []
  },
  {
   "cell_type": "markdown",
   "metadata": {},
   "source": [
    "<a id='r3'></a>\n",
    "\n",
    "#### Research Question 3\n",
    " \n",
    "   - Siginificant Relationships \n",
    "   \n",
    "    -  Are  there an existing significant relationship across\n",
    "          \n",
    "             1. each application & the total DL+UL data\n",
    "          \n",
    "             2. the various xDR sessions (Google,Youtbe,Netflix, etc.)"
   ]
  },
  {
   "cell_type": "code",
   "execution_count": null,
   "metadata": {},
   "outputs": [],
   "source": []
  },
  {
   "cell_type": "code",
   "execution_count": null,
   "metadata": {},
   "outputs": [],
   "source": []
  },
  {
   "cell_type": "code",
   "execution_count": null,
   "metadata": {},
   "outputs": [],
   "source": []
  },
  {
   "cell_type": "code",
   "execution_count": null,
   "metadata": {},
   "outputs": [],
   "source": []
  },
  {
   "cell_type": "code",
   "execution_count": null,
   "metadata": {},
   "outputs": [],
   "source": []
  },
  {
   "cell_type": "code",
   "execution_count": null,
   "metadata": {},
   "outputs": [],
   "source": []
  },
  {
   "cell_type": "code",
   "execution_count": null,
   "metadata": {},
   "outputs": [],
   "source": []
  },
  {
   "cell_type": "code",
   "execution_count": null,
   "metadata": {},
   "outputs": [],
   "source": []
  },
  {
   "cell_type": "markdown",
   "metadata": {},
   "source": [
    "<a href='#top'>Go to top</a></li>"
   ]
  },
  {
   "cell_type": "code",
   "execution_count": null,
   "metadata": {},
   "outputs": [],
   "source": []
  }
 ],
 "metadata": {
  "kernelspec": {
   "display_name": "venv_tellco_user_analytics",
   "language": "python",
   "name": "venv_tellco_user_analytics"
  },
  "language_info": {
   "codemirror_mode": {
    "name": "ipython",
    "version": 3
   },
   "file_extension": ".py",
   "mimetype": "text/x-python",
   "name": "python",
   "nbconvert_exporter": "python",
   "pygments_lexer": "ipython3",
   "version": "3.6.9"
  }
 },
 "nbformat": 4,
 "nbformat_minor": 4
}
