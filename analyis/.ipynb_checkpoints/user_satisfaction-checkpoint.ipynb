{
 "cells": [
  {
   "cell_type": "markdown",
   "metadata": {},
   "source": [
    "<a id='top'></a>\n",
    "\n",
    "## User Satisfaction Analysis of Tellco Telecommunications"
   ]
  },
  {
   "cell_type": "markdown",
   "metadata": {},
   "source": [
    "#### Tables of Content"
   ]
  },
  {
   "cell_type": "markdown",
   "metadata": {},
   "source": [
    "<html>\n",
    "    <ul>\n",
    "<!--         <li><a href='#intro'>Introduction</a></li> -->\n",
    "        <li><a href='#obj'>Objective</a></li>\n",
    "        <li><a href= '#research'/>Research Questions<a/></li>        \n",
    "        <li><a href= '#ana'>Analysis<a/><li.>\n",
    "              <br/>\n",
    "            <ul>\n",
    "             <li><a href='#lib'>Libraries</a></li>  \n",
    "             <li><a href='#fe'>Feature Selection</a></li>\n",
    "             </ul>\n",
    "            <ol>\n",
    "            <li><a href='#r1'>Research Question 1</a></li>\n",
    "             <li><a href='#r2'>Research Question 2</a></li>\n",
    "             <li><a href='#r3'>Research Question 3</a></li>\n",
    "            </ol>\n",
    "        <li><a href= '#go'>General Observation<a/></li>\n",
    "        <li><a href= '#rc'>Recommendation & Conclusions<a/></li>\n",
    "        <li><a href= '#lim'>Limitations<a/></li>\n",
    "        <li><a href= '#ref'>Referecnes<a/></li>\n",
    "    </ul>\n",
    "</html>"
   ]
  },
  {
   "cell_type": "markdown",
   "metadata": {},
   "source": [
    " "
   ]
  },
  {
   "cell_type": "markdown",
   "metadata": {},
   "source": [
    "<a id='obj'></a>\n",
    "\n",
    "#### Objective"
   ]
  },
  {
   "cell_type": "markdown",
   "metadata": {},
   "source": [
    "The satisfaction of a user is dependent on user engagement and\n",
    "experience. \n",
    "\n",
    "In this section, I would be analyzing  customer satisfaction in depth."
   ]
  },
  {
   "cell_type": "markdown",
   "metadata": {},
   "source": [
    "<a id='ana'></a>\n",
    "\n",
    "#### Analyis"
   ]
  },
  {
   "cell_type": "markdown",
   "metadata": {},
   "source": [
    "<a id='lib'></a>\n",
    "##### Libraries"
   ]
  },
  {
   "cell_type": "code",
   "execution_count": 188,
   "metadata": {},
   "outputs": [],
   "source": [
    "# data manipulation libraires\n",
    "import numpy as np\n",
    "import pandas as pd\n",
    "\n",
    "# plotting liberaires\n",
    "from mpl_toolkits.mplot3d import Axes3D\n",
    "import seaborn as sns\n",
    "%matplotlib inline\n",
    "import matplotlib.pyplot as plt\n",
    "\n",
    "# staitstical librararies\n",
    "from sklearn.cluster import KMeans\n",
    "from  scipy.stats import zscore\n",
    "from sklearn.preprocessing import MinMaxScaler\n",
    "import scipy.spatial.distance as sdist\n",
    "\n",
    "# predcion libraries\n",
    "from sklearn.model_selection import train_test_split\n",
    "from sklearn.linear_model import LinearRegression"
   ]
  },
  {
   "cell_type": "markdown",
   "metadata": {},
   "source": [
    "Load data"
   ]
  },
  {
   "cell_type": "code",
   "execution_count": 189,
   "metadata": {},
   "outputs": [],
   "source": [
    "path = '../datasets/cleaned/cleanWk2_data.csv'\n",
    "data = pd.read_csv(path)"
   ]
  },
  {
   "cell_type": "markdown",
   "metadata": {},
   "source": [
    " "
   ]
  },
  {
   "cell_type": "code",
   "execution_count": 190,
   "metadata": {},
   "outputs": [
    {
     "data": {
      "text/html": [
       "<div>\n",
       "<style scoped>\n",
       "    .dataframe tbody tr th:only-of-type {\n",
       "        vertical-align: middle;\n",
       "    }\n",
       "\n",
       "    .dataframe tbody tr th {\n",
       "        vertical-align: top;\n",
       "    }\n",
       "\n",
       "    .dataframe thead th {\n",
       "        text-align: right;\n",
       "    }\n",
       "</style>\n",
       "<table border=\"1\" class=\"dataframe\">\n",
       "  <thead>\n",
       "    <tr style=\"text-align: right;\">\n",
       "      <th></th>\n",
       "      <th>bearer_id</th>\n",
       "      <th>start</th>\n",
       "      <th>start_ms</th>\n",
       "      <th>end</th>\n",
       "      <th>end_ms</th>\n",
       "      <th>imsi</th>\n",
       "      <th>msisdn_number</th>\n",
       "      <th>imei</th>\n",
       "      <th>last_location_name</th>\n",
       "      <th>avg_rtt_dl__ms_</th>\n",
       "      <th>...</th>\n",
       "      <th>youtube_dl__bytes_</th>\n",
       "      <th>youtube_ul__bytes_</th>\n",
       "      <th>netflix_dl__bytes_</th>\n",
       "      <th>netflix_ul__bytes_</th>\n",
       "      <th>gaming_dl__bytes_</th>\n",
       "      <th>gaming_ul__bytes_</th>\n",
       "      <th>other_dl__bytes_</th>\n",
       "      <th>other_ul__bytes_</th>\n",
       "      <th>total_ul__bytes_</th>\n",
       "      <th>total_dl__bytes_</th>\n",
       "    </tr>\n",
       "  </thead>\n",
       "  <tbody>\n",
       "    <tr>\n",
       "      <th>0</th>\n",
       "      <td>13114483460844900352</td>\n",
       "      <td>2019-04-04 12:01:18</td>\n",
       "      <td>770.0000</td>\n",
       "      <td>2019-04-25 14:35:31</td>\n",
       "      <td>662.00000</td>\n",
       "      <td>2.082014e+14</td>\n",
       "      <td>3.366496e+10</td>\n",
       "      <td>3.552121e+13</td>\n",
       "      <td>9164566995485190</td>\n",
       "      <td>42.000000</td>\n",
       "      <td>...</td>\n",
       "      <td>1.585461e+07</td>\n",
       "      <td>2.501332e+06</td>\n",
       "      <td>8.198936e+06</td>\n",
       "      <td>9.656251e+06</td>\n",
       "      <td>2.780823e+08</td>\n",
       "      <td>1.434415e+07</td>\n",
       "      <td>1.717444e+08</td>\n",
       "      <td>8.814393e+06</td>\n",
       "      <td>3.674974e+07</td>\n",
       "      <td>3.088796e+08</td>\n",
       "    </tr>\n",
       "    <tr>\n",
       "      <th>1</th>\n",
       "      <td>13114483482878900224</td>\n",
       "      <td>2019-04-09 13:04:04</td>\n",
       "      <td>235.0000</td>\n",
       "      <td>2019-04-25 08:15:48</td>\n",
       "      <td>606.00000</td>\n",
       "      <td>2.082019e+14</td>\n",
       "      <td>3.368185e+10</td>\n",
       "      <td>3.579401e+13</td>\n",
       "      <td>L77566A</td>\n",
       "      <td>65.000000</td>\n",
       "      <td>...</td>\n",
       "      <td>2.024740e+07</td>\n",
       "      <td>1.911173e+07</td>\n",
       "      <td>1.833841e+07</td>\n",
       "      <td>1.722713e+07</td>\n",
       "      <td>6.087501e+08</td>\n",
       "      <td>1.170709e+06</td>\n",
       "      <td>5.269042e+08</td>\n",
       "      <td>1.505514e+07</td>\n",
       "      <td>5.380039e+07</td>\n",
       "      <td>6.533850e+08</td>\n",
       "    </tr>\n",
       "    <tr>\n",
       "      <th>2</th>\n",
       "      <td>13114483484080500736</td>\n",
       "      <td>2019-04-09 17:42:11</td>\n",
       "      <td>1.0000</td>\n",
       "      <td>2019-04-25 11:58:13</td>\n",
       "      <td>652.00000</td>\n",
       "      <td>2.082003e+14</td>\n",
       "      <td>3.376063e+10</td>\n",
       "      <td>3.528151e+13</td>\n",
       "      <td>D42335A</td>\n",
       "      <td>46.991676</td>\n",
       "      <td>...</td>\n",
       "      <td>1.972566e+07</td>\n",
       "      <td>1.469958e+07</td>\n",
       "      <td>1.758779e+07</td>\n",
       "      <td>6.163408e+06</td>\n",
       "      <td>2.295846e+08</td>\n",
       "      <td>3.956300e+05</td>\n",
       "      <td>4.106926e+08</td>\n",
       "      <td>4.215763e+06</td>\n",
       "      <td>2.788364e+07</td>\n",
       "      <td>2.798073e+08</td>\n",
       "    </tr>\n",
       "    <tr>\n",
       "      <th>3</th>\n",
       "      <td>13114483485442799616</td>\n",
       "      <td>2019-04-10 00:31:25</td>\n",
       "      <td>486.0000</td>\n",
       "      <td>2019-04-25 07:36:35</td>\n",
       "      <td>171.00000</td>\n",
       "      <td>2.082014e+14</td>\n",
       "      <td>3.375034e+10</td>\n",
       "      <td>3.535661e+13</td>\n",
       "      <td>T21824A</td>\n",
       "      <td>46.991676</td>\n",
       "      <td>...</td>\n",
       "      <td>2.138812e+07</td>\n",
       "      <td>1.514664e+07</td>\n",
       "      <td>1.399465e+07</td>\n",
       "      <td>1.097942e+06</td>\n",
       "      <td>7.995382e+08</td>\n",
       "      <td>1.084972e+07</td>\n",
       "      <td>7.490399e+08</td>\n",
       "      <td>1.279728e+07</td>\n",
       "      <td>4.332422e+07</td>\n",
       "      <td>8.460285e+08</td>\n",
       "    </tr>\n",
       "    <tr>\n",
       "      <th>4</th>\n",
       "      <td>13114483499480700928</td>\n",
       "      <td>2019-04-12 20:10:23</td>\n",
       "      <td>565.0000</td>\n",
       "      <td>2019-04-25 10:40:32</td>\n",
       "      <td>954.00000</td>\n",
       "      <td>2.082014e+14</td>\n",
       "      <td>3.369980e+10</td>\n",
       "      <td>3.540701e+13</td>\n",
       "      <td>D88865A</td>\n",
       "      <td>46.991676</td>\n",
       "      <td>...</td>\n",
       "      <td>1.525938e+07</td>\n",
       "      <td>1.896287e+07</td>\n",
       "      <td>1.712458e+07</td>\n",
       "      <td>4.152180e+05</td>\n",
       "      <td>5.277072e+08</td>\n",
       "      <td>3.529801e+06</td>\n",
       "      <td>5.507095e+08</td>\n",
       "      <td>1.391032e+07</td>\n",
       "      <td>3.854281e+07</td>\n",
       "      <td>5.691386e+08</td>\n",
       "    </tr>\n",
       "    <tr>\n",
       "      <th>...</th>\n",
       "      <td>...</td>\n",
       "      <td>...</td>\n",
       "      <td>...</td>\n",
       "      <td>...</td>\n",
       "      <td>...</td>\n",
       "      <td>...</td>\n",
       "      <td>...</td>\n",
       "      <td>...</td>\n",
       "      <td>...</td>\n",
       "      <td>...</td>\n",
       "      <td>...</td>\n",
       "      <td>...</td>\n",
       "      <td>...</td>\n",
       "      <td>...</td>\n",
       "      <td>...</td>\n",
       "      <td>...</td>\n",
       "      <td>...</td>\n",
       "      <td>...</td>\n",
       "      <td>...</td>\n",
       "      <td>...</td>\n",
       "      <td>...</td>\n",
       "    </tr>\n",
       "    <tr>\n",
       "      <th>149996</th>\n",
       "      <td>7277825670196679680</td>\n",
       "      <td>2019-04-29 07:28:42</td>\n",
       "      <td>451.0000</td>\n",
       "      <td>2019-04-30 06:02:33</td>\n",
       "      <td>214.00000</td>\n",
       "      <td>2.082022e+14</td>\n",
       "      <td>3.365069e+10</td>\n",
       "      <td>3.548311e+13</td>\n",
       "      <td>D20434A</td>\n",
       "      <td>32.000000</td>\n",
       "      <td>...</td>\n",
       "      <td>1.619167e+07</td>\n",
       "      <td>1.176343e+07</td>\n",
       "      <td>1.788370e+07</td>\n",
       "      <td>1.967816e+07</td>\n",
       "      <td>5.266097e+08</td>\n",
       "      <td>9.197207e+06</td>\n",
       "      <td>3.264510e+06</td>\n",
       "      <td>1.348742e+07</td>\n",
       "      <td>5.762885e+07</td>\n",
       "      <td>5.741753e+08</td>\n",
       "    </tr>\n",
       "    <tr>\n",
       "      <th>149997</th>\n",
       "      <td>7349883264234609664</td>\n",
       "      <td>2019-04-29 07:28:42</td>\n",
       "      <td>483.0000</td>\n",
       "      <td>2019-04-30 10:41:33</td>\n",
       "      <td>187.00000</td>\n",
       "      <td>2.082019e+14</td>\n",
       "      <td>3.366345e+10</td>\n",
       "      <td>3.566051e+13</td>\n",
       "      <td>D10223C</td>\n",
       "      <td>27.000000</td>\n",
       "      <td>...</td>\n",
       "      <td>1.387723e+07</td>\n",
       "      <td>8.288284e+06</td>\n",
       "      <td>1.935015e+07</td>\n",
       "      <td>2.129315e+07</td>\n",
       "      <td>6.268931e+08</td>\n",
       "      <td>4.735033e+06</td>\n",
       "      <td>7.121804e+08</td>\n",
       "      <td>2.457758e+06</td>\n",
       "      <td>3.913508e+07</td>\n",
       "      <td>6.666488e+08</td>\n",
       "    </tr>\n",
       "    <tr>\n",
       "      <th>149998</th>\n",
       "      <td>13114483573367300096</td>\n",
       "      <td>2019-04-29 07:28:43</td>\n",
       "      <td>283.0000</td>\n",
       "      <td>2019-04-30 10:46:12</td>\n",
       "      <td>810.00000</td>\n",
       "      <td>2.082017e+14</td>\n",
       "      <td>3.362189e+10</td>\n",
       "      <td>3.572121e+13</td>\n",
       "      <td>T51102A</td>\n",
       "      <td>43.000000</td>\n",
       "      <td>...</td>\n",
       "      <td>2.266051e+07</td>\n",
       "      <td>1.855903e+06</td>\n",
       "      <td>9.963942e+06</td>\n",
       "      <td>5.065760e+06</td>\n",
       "      <td>5.535395e+08</td>\n",
       "      <td>1.339432e+07</td>\n",
       "      <td>1.211009e+08</td>\n",
       "      <td>1.131473e+07</td>\n",
       "      <td>3.491222e+07</td>\n",
       "      <td>5.927864e+08</td>\n",
       "    </tr>\n",
       "    <tr>\n",
       "      <th>149999</th>\n",
       "      <td>13114483573367300096</td>\n",
       "      <td>2019-04-29 07:28:43</td>\n",
       "      <td>696.0000</td>\n",
       "      <td>2019-04-30 10:40:34</td>\n",
       "      <td>327.00000</td>\n",
       "      <td>2.082021e+14</td>\n",
       "      <td>3.361962e+10</td>\n",
       "      <td>8.618620e+13</td>\n",
       "      <td>L88342B</td>\n",
       "      <td>37.000000</td>\n",
       "      <td>...</td>\n",
       "      <td>8.817106e+06</td>\n",
       "      <td>8.305402e+06</td>\n",
       "      <td>3.322253e+06</td>\n",
       "      <td>1.317259e+07</td>\n",
       "      <td>3.525370e+08</td>\n",
       "      <td>2.529475e+06</td>\n",
       "      <td>8.147131e+08</td>\n",
       "      <td>1.406930e+06</td>\n",
       "      <td>2.962610e+07</td>\n",
       "      <td>3.718959e+08</td>\n",
       "    </tr>\n",
       "    <tr>\n",
       "      <th>150000</th>\n",
       "      <td></td>\n",
       "      <td>2019-04-29 07:08:38</td>\n",
       "      <td>499.1882</td>\n",
       "      <td>2019-04-25 00:01:32</td>\n",
       "      <td>498.80088</td>\n",
       "      <td>2.082016e+14</td>\n",
       "      <td>4.188282e+10</td>\n",
       "      <td>4.847455e+13</td>\n",
       "      <td>D41377B</td>\n",
       "      <td>46.991676</td>\n",
       "      <td>...</td>\n",
       "      <td>1.163407e+07</td>\n",
       "      <td>1.100941e+07</td>\n",
       "      <td>1.162685e+07</td>\n",
       "      <td>1.100175e+07</td>\n",
       "      <td>4.220447e+08</td>\n",
       "      <td>8.288398e+06</td>\n",
       "      <td>4.211005e+08</td>\n",
       "      <td>8.264799e+06</td>\n",
       "      <td>4.111975e+07</td>\n",
       "      <td>4.546434e+08</td>\n",
       "    </tr>\n",
       "  </tbody>\n",
       "</table>\n",
       "<p>150001 rows × 54 columns</p>\n",
       "</div>"
      ],
      "text/plain": [
       "                   bearer_id                start  start_ms  \\\n",
       "0       13114483460844900352  2019-04-04 12:01:18  770.0000   \n",
       "1       13114483482878900224  2019-04-09 13:04:04  235.0000   \n",
       "2       13114483484080500736  2019-04-09 17:42:11    1.0000   \n",
       "3       13114483485442799616  2019-04-10 00:31:25  486.0000   \n",
       "4       13114483499480700928  2019-04-12 20:10:23  565.0000   \n",
       "...                      ...                  ...       ...   \n",
       "149996   7277825670196679680  2019-04-29 07:28:42  451.0000   \n",
       "149997   7349883264234609664  2019-04-29 07:28:42  483.0000   \n",
       "149998  13114483573367300096  2019-04-29 07:28:43  283.0000   \n",
       "149999  13114483573367300096  2019-04-29 07:28:43  696.0000   \n",
       "150000                        2019-04-29 07:08:38  499.1882   \n",
       "\n",
       "                        end     end_ms          imsi  msisdn_number  \\\n",
       "0       2019-04-25 14:35:31  662.00000  2.082014e+14   3.366496e+10   \n",
       "1       2019-04-25 08:15:48  606.00000  2.082019e+14   3.368185e+10   \n",
       "2       2019-04-25 11:58:13  652.00000  2.082003e+14   3.376063e+10   \n",
       "3       2019-04-25 07:36:35  171.00000  2.082014e+14   3.375034e+10   \n",
       "4       2019-04-25 10:40:32  954.00000  2.082014e+14   3.369980e+10   \n",
       "...                     ...        ...           ...            ...   \n",
       "149996  2019-04-30 06:02:33  214.00000  2.082022e+14   3.365069e+10   \n",
       "149997  2019-04-30 10:41:33  187.00000  2.082019e+14   3.366345e+10   \n",
       "149998  2019-04-30 10:46:12  810.00000  2.082017e+14   3.362189e+10   \n",
       "149999  2019-04-30 10:40:34  327.00000  2.082021e+14   3.361962e+10   \n",
       "150000  2019-04-25 00:01:32  498.80088  2.082016e+14   4.188282e+10   \n",
       "\n",
       "                imei last_location_name  avg_rtt_dl__ms_  ...  \\\n",
       "0       3.552121e+13   9164566995485190        42.000000  ...   \n",
       "1       3.579401e+13            L77566A        65.000000  ...   \n",
       "2       3.528151e+13            D42335A        46.991676  ...   \n",
       "3       3.535661e+13            T21824A        46.991676  ...   \n",
       "4       3.540701e+13            D88865A        46.991676  ...   \n",
       "...              ...                ...              ...  ...   \n",
       "149996  3.548311e+13            D20434A        32.000000  ...   \n",
       "149997  3.566051e+13            D10223C        27.000000  ...   \n",
       "149998  3.572121e+13            T51102A        43.000000  ...   \n",
       "149999  8.618620e+13            L88342B        37.000000  ...   \n",
       "150000  4.847455e+13            D41377B        46.991676  ...   \n",
       "\n",
       "        youtube_dl__bytes_  youtube_ul__bytes_  netflix_dl__bytes_  \\\n",
       "0             1.585461e+07        2.501332e+06        8.198936e+06   \n",
       "1             2.024740e+07        1.911173e+07        1.833841e+07   \n",
       "2             1.972566e+07        1.469958e+07        1.758779e+07   \n",
       "3             2.138812e+07        1.514664e+07        1.399465e+07   \n",
       "4             1.525938e+07        1.896287e+07        1.712458e+07   \n",
       "...                    ...                 ...                 ...   \n",
       "149996        1.619167e+07        1.176343e+07        1.788370e+07   \n",
       "149997        1.387723e+07        8.288284e+06        1.935015e+07   \n",
       "149998        2.266051e+07        1.855903e+06        9.963942e+06   \n",
       "149999        8.817106e+06        8.305402e+06        3.322253e+06   \n",
       "150000        1.163407e+07        1.100941e+07        1.162685e+07   \n",
       "\n",
       "        netflix_ul__bytes_  gaming_dl__bytes_  gaming_ul__bytes_  \\\n",
       "0             9.656251e+06       2.780823e+08       1.434415e+07   \n",
       "1             1.722713e+07       6.087501e+08       1.170709e+06   \n",
       "2             6.163408e+06       2.295846e+08       3.956300e+05   \n",
       "3             1.097942e+06       7.995382e+08       1.084972e+07   \n",
       "4             4.152180e+05       5.277072e+08       3.529801e+06   \n",
       "...                    ...                ...                ...   \n",
       "149996        1.967816e+07       5.266097e+08       9.197207e+06   \n",
       "149997        2.129315e+07       6.268931e+08       4.735033e+06   \n",
       "149998        5.065760e+06       5.535395e+08       1.339432e+07   \n",
       "149999        1.317259e+07       3.525370e+08       2.529475e+06   \n",
       "150000        1.100175e+07       4.220447e+08       8.288398e+06   \n",
       "\n",
       "        other_dl__bytes_  other_ul__bytes_  total_ul__bytes_  total_dl__bytes_  \n",
       "0           1.717444e+08      8.814393e+06      3.674974e+07      3.088796e+08  \n",
       "1           5.269042e+08      1.505514e+07      5.380039e+07      6.533850e+08  \n",
       "2           4.106926e+08      4.215763e+06      2.788364e+07      2.798073e+08  \n",
       "3           7.490399e+08      1.279728e+07      4.332422e+07      8.460285e+08  \n",
       "4           5.507095e+08      1.391032e+07      3.854281e+07      5.691386e+08  \n",
       "...                  ...               ...               ...               ...  \n",
       "149996      3.264510e+06      1.348742e+07      5.762885e+07      5.741753e+08  \n",
       "149997      7.121804e+08      2.457758e+06      3.913508e+07      6.666488e+08  \n",
       "149998      1.211009e+08      1.131473e+07      3.491222e+07      5.927864e+08  \n",
       "149999      8.147131e+08      1.406930e+06      2.962610e+07      3.718959e+08  \n",
       "150000      4.211005e+08      8.264799e+06      4.111975e+07      4.546434e+08  \n",
       "\n",
       "[150001 rows x 54 columns]"
      ]
     },
     "execution_count": 190,
     "metadata": {},
     "output_type": "execute_result"
    }
   ],
   "source": [
    "data"
   ]
  },
  {
   "cell_type": "markdown",
   "metadata": {},
   "source": [
    "<a id='research'></a>\n",
    "\n",
    "#### Research Questions"
   ]
  },
  {
   "cell_type": "markdown",
   "metadata": {},
   "source": [
    "##### Research Question 1\n",
    "\n",
    "- Customer Scoring\n",
    "    \n",
    "- -        Write a python program to assign:\n",
    "            \n",
    "            a. engagement score to each user. Consider the engagement score as the\n",
    "            Euclidean distance between the user data point & the less engaged\n",
    "            cluster (use the first clustering for this) \n",
    "            \n",
    "            b. experience score to each user. Consider the experience score as the\n",
    "            Euclidean distance between the user data point & the worst experience’s\n",
    "            cluster. \n",
    "            \n",
    "            c. Consider the average of both satisfaction & experience scores as the\n",
    "            satisfaction score & report the top 10 satisfied customer"
   ]
  },
  {
   "cell_type": "markdown",
   "metadata": {},
   "source": [
    "##### Research Question 2\n",
    "\n",
    "- Predicting Customer Satisfaction\n",
    "    \n",
    "- -        Run a regression model of your choice to predict the satisfaction score of a customer\n",
    "            "
   ]
  },
  {
   "cell_type": "markdown",
   "metadata": {},
   "source": [
    " "
   ]
  },
  {
   "cell_type": "markdown",
   "metadata": {},
   "source": [
    "##### Research Question 3\n",
    "\n",
    "- Customer Clustering\n",
    "    \n",
    "- -        Do the following:\n",
    "\n",
    "            a. Run a k-means (k=2) on the engagement & the experience score:\n",
    "            \n",
    "            b. Aggregate the average satisfaction & experience score per cluster\n",
    "            \n",
    "            c. Export your final table containing all user id + engagement, experience &\n",
    "            satisfaction scores in your local MySQL database. Report a screenshot of a select on th\n",
    "            exported table"
   ]
  },
  {
   "cell_type": "code",
   "execution_count": null,
   "metadata": {},
   "outputs": [],
   "source": []
  },
  {
   "cell_type": "markdown",
   "metadata": {},
   "source": [
    "<a id='fe'></a>\n",
    "#### Feature Selection"
   ]
  },
  {
   "cell_type": "markdown",
   "metadata": {},
   "source": [
    "> Load expereince and engagement cluster tables"
   ]
  },
  {
   "cell_type": "code",
   "execution_count": 191,
   "metadata": {},
   "outputs": [],
   "source": [
    "eng_cluster = pd.read_csv('k_means_tables/engagement_cluster.csv', index_col=0)\n",
    "exp_cluster = pd.read_csv('k_means_tables/experience_cluster.csv', index_col=0)"
   ]
  },
  {
   "cell_type": "code",
   "execution_count": 192,
   "metadata": {},
   "outputs": [
    {
     "data": {
      "text/html": [
       "<div>\n",
       "<style scoped>\n",
       "    .dataframe tbody tr th:only-of-type {\n",
       "        vertical-align: middle;\n",
       "    }\n",
       "\n",
       "    .dataframe tbody tr th {\n",
       "        vertical-align: top;\n",
       "    }\n",
       "\n",
       "    .dataframe thead th {\n",
       "        text-align: right;\n",
       "    }\n",
       "</style>\n",
       "<table border=\"1\" class=\"dataframe\">\n",
       "  <thead>\n",
       "    <tr style=\"text-align: right;\">\n",
       "      <th></th>\n",
       "      <th>session_dur_hours</th>\n",
       "      <th>session_fre</th>\n",
       "      <th>session_trfc</th>\n",
       "      <th>clusters</th>\n",
       "      <th>users</th>\n",
       "    </tr>\n",
       "  </thead>\n",
       "  <tbody>\n",
       "    <tr>\n",
       "      <th>0</th>\n",
       "      <td>8</td>\n",
       "      <td>1066</td>\n",
       "      <td>507143.1338</td>\n",
       "      <td>2</td>\n",
       "      <td>4.188282e+10</td>\n",
       "    </tr>\n",
       "    <tr>\n",
       "      <th>1</th>\n",
       "      <td>1</td>\n",
       "      <td>16</td>\n",
       "      <td>7348.8834</td>\n",
       "      <td>0</td>\n",
       "      <td>3.365973e+10</td>\n",
       "    </tr>\n",
       "    <tr>\n",
       "      <th>2</th>\n",
       "      <td>15</td>\n",
       "      <td>18</td>\n",
       "      <td>7601.8975</td>\n",
       "      <td>2</td>\n",
       "      <td>3.362632e+10</td>\n",
       "    </tr>\n",
       "    <tr>\n",
       "      <th>3</th>\n",
       "      <td>5</td>\n",
       "      <td>11</td>\n",
       "      <td>4442.6319</td>\n",
       "      <td>0</td>\n",
       "      <td>3.365936e+10</td>\n",
       "    </tr>\n",
       "    <tr>\n",
       "      <th>4</th>\n",
       "      <td>4</td>\n",
       "      <td>15</td>\n",
       "      <td>7525.5495</td>\n",
       "      <td>0</td>\n",
       "      <td>3.367588e+10</td>\n",
       "    </tr>\n",
       "  </tbody>\n",
       "</table>\n",
       "</div>"
      ],
      "text/plain": [
       "   session_dur_hours  session_fre  session_trfc  clusters         users\n",
       "0                  8         1066   507143.1338         2  4.188282e+10\n",
       "1                  1           16     7348.8834         0  3.365973e+10\n",
       "2                 15           18     7601.8975         2  3.362632e+10\n",
       "3                  5           11     4442.6319         0  3.365936e+10\n",
       "4                  4           15     7525.5495         0  3.367588e+10"
      ]
     },
     "execution_count": 192,
     "metadata": {},
     "output_type": "execute_result"
    }
   ],
   "source": [
    "eng_cluster.head()"
   ]
  },
  {
   "cell_type": "code",
   "execution_count": 193,
   "metadata": {},
   "outputs": [
    {
     "data": {
      "text/plain": [
       "(106857, 5)"
      ]
     },
     "execution_count": 193,
     "metadata": {},
     "output_type": "execute_result"
    }
   ],
   "source": [
    "eng_cluster.shape"
   ]
  },
  {
   "cell_type": "code",
   "execution_count": 194,
   "metadata": {},
   "outputs": [
    {
     "data": {
      "text/plain": [
       "session_dur_hours    False\n",
       "session_fre          False\n",
       "session_trfc         False\n",
       "clusters             False\n",
       "users                False\n",
       "dtype: bool"
      ]
     },
     "execution_count": 194,
     "metadata": {},
     "output_type": "execute_result"
    }
   ],
   "source": [
    "eng_cluster.isnull().any()"
   ]
  },
  {
   "cell_type": "markdown",
   "metadata": {},
   "source": [
    " "
   ]
  },
  {
   "cell_type": "code",
   "execution_count": 195,
   "metadata": {},
   "outputs": [
    {
     "data": {
      "text/html": [
       "<div>\n",
       "<style scoped>\n",
       "    .dataframe tbody tr th:only-of-type {\n",
       "        vertical-align: middle;\n",
       "    }\n",
       "\n",
       "    .dataframe tbody tr th {\n",
       "        vertical-align: top;\n",
       "    }\n",
       "\n",
       "    .dataframe thead th {\n",
       "        text-align: right;\n",
       "    }\n",
       "</style>\n",
       "<table border=\"1\" class=\"dataframe\">\n",
       "  <thead>\n",
       "    <tr style=\"text-align: right;\">\n",
       "      <th></th>\n",
       "      <th>rtt_sum</th>\n",
       "      <th>trp_sum</th>\n",
       "      <th>tcp_sum</th>\n",
       "      <th>handset_count</th>\n",
       "      <th>clusters</th>\n",
       "      <th>users</th>\n",
       "    </tr>\n",
       "  </thead>\n",
       "  <tbody>\n",
       "    <tr>\n",
       "      <th>0</th>\n",
       "      <td>46.00000</td>\n",
       "      <td>76.00000</td>\n",
       "      <td>1.235566e+06</td>\n",
       "      <td>1</td>\n",
       "      <td>0</td>\n",
       "      <td>3.360100e+10</td>\n",
       "    </tr>\n",
       "    <tr>\n",
       "      <th>1</th>\n",
       "      <td>31.00000</td>\n",
       "      <td>99.00000</td>\n",
       "      <td>1.235566e+06</td>\n",
       "      <td>1</td>\n",
       "      <td>0</td>\n",
       "      <td>3.360100e+10</td>\n",
       "    </tr>\n",
       "    <tr>\n",
       "      <th>2</th>\n",
       "      <td>54.61309</td>\n",
       "      <td>97.00000</td>\n",
       "      <td>1.235566e+06</td>\n",
       "      <td>1</td>\n",
       "      <td>0</td>\n",
       "      <td>3.360100e+10</td>\n",
       "    </tr>\n",
       "    <tr>\n",
       "      <th>3</th>\n",
       "      <td>84.00000</td>\n",
       "      <td>248.00000</td>\n",
       "      <td>3.301360e+04</td>\n",
       "      <td>1</td>\n",
       "      <td>0</td>\n",
       "      <td>3.360101e+10</td>\n",
       "    </tr>\n",
       "    <tr>\n",
       "      <th>4</th>\n",
       "      <td>119.00000</td>\n",
       "      <td>7162.04626</td>\n",
       "      <td>2.471132e+06</td>\n",
       "      <td>2</td>\n",
       "      <td>0</td>\n",
       "      <td>3.360101e+10</td>\n",
       "    </tr>\n",
       "  </tbody>\n",
       "</table>\n",
       "</div>"
      ],
      "text/plain": [
       "     rtt_sum     trp_sum       tcp_sum  handset_count  clusters         users\n",
       "0   46.00000    76.00000  1.235566e+06              1         0  3.360100e+10\n",
       "1   31.00000    99.00000  1.235566e+06              1         0  3.360100e+10\n",
       "2   54.61309    97.00000  1.235566e+06              1         0  3.360100e+10\n",
       "3   84.00000   248.00000  3.301360e+04              1         0  3.360101e+10\n",
       "4  119.00000  7162.04626  2.471132e+06              2         0  3.360101e+10"
      ]
     },
     "execution_count": 195,
     "metadata": {},
     "output_type": "execute_result"
    }
   ],
   "source": [
    "exp_cluster.head()"
   ]
  },
  {
   "cell_type": "code",
   "execution_count": 196,
   "metadata": {},
   "outputs": [
    {
     "data": {
      "text/plain": [
       "(106857, 6)"
      ]
     },
     "execution_count": 196,
     "metadata": {},
     "output_type": "execute_result"
    }
   ],
   "source": [
    "exp_cluster.shape"
   ]
  },
  {
   "cell_type": "code",
   "execution_count": 197,
   "metadata": {},
   "outputs": [
    {
     "data": {
      "text/plain": [
       "rtt_sum          False\n",
       "trp_sum          False\n",
       "tcp_sum          False\n",
       "handset_count    False\n",
       "clusters         False\n",
       "users            False\n",
       "dtype: bool"
      ]
     },
     "execution_count": 197,
     "metadata": {},
     "output_type": "execute_result"
    }
   ],
   "source": [
    "exp_cluster.isnull().any()"
   ]
  },
  {
   "cell_type": "markdown",
   "metadata": {},
   "source": [
    " "
   ]
  },
  {
   "cell_type": "markdown",
   "metadata": {},
   "source": [
    "> Load expericne and engagement centroids"
   ]
  },
  {
   "cell_type": "code",
   "execution_count": 198,
   "metadata": {},
   "outputs": [],
   "source": [
    "eng_centroids = pd.read_csv('k_means_tables/engagement_centroids.csv', index_col=0)\n",
    "exp_centroids = pd.read_csv('k_means_tables/experience_centroids.csv', index_col=0)"
   ]
  },
  {
   "cell_type": "code",
   "execution_count": 199,
   "metadata": {},
   "outputs": [],
   "source": [
    "eng_centroids = eng_centroids.values.tolist()"
   ]
  },
  {
   "cell_type": "code",
   "execution_count": 200,
   "metadata": {},
   "outputs": [
    {
     "data": {
      "text/plain": [
       "[[0.142592833753939, 0.0003376420317962725, 0.0012045931816718224],\n",
       " [0.9315727124648592, 0.0004186115733788047, 0.0012851515780838115],\n",
       " [0.5123583396110251, 0.00038003409352027205, 0.0012480724226610358]]"
      ]
     },
     "execution_count": 200,
     "metadata": {},
     "output_type": "execute_result"
    }
   ],
   "source": [
    "eng_centroids"
   ]
  },
  {
   "cell_type": "code",
   "execution_count": 201,
   "metadata": {},
   "outputs": [],
   "source": [
    "exp_centroids = exp_centroids.values.tolist()"
   ]
  },
  {
   "cell_type": "code",
   "execution_count": 202,
   "metadata": {},
   "outputs": [
    {
     "data": {
      "text/plain": [
       "[[0.0009115184541754137,\n",
       "  0.0005597056450629728,\n",
       "  0.0015115893997274408,\n",
       "  0.0001907912014456321],\n",
       " [1.0, 1.0, 1.0, 1.0],\n",
       " [0.0030641972401204967,\n",
       "  0.002968581245842841,\n",
       "  0.004100220647054865,\n",
       "  0.0021382060181864898]]"
      ]
     },
     "execution_count": 202,
     "metadata": {},
     "output_type": "execute_result"
    }
   ],
   "source": [
    "exp_centroids"
   ]
  },
  {
   "cell_type": "markdown",
   "metadata": {},
   "source": [
    "<a id= \"r1\"></a>\n",
    "#### Research Question 1"
   ]
  },
  {
   "cell_type": "markdown",
   "metadata": {},
   "source": [
    "- Customer Scoring\n",
    "    \n",
    "- -        Write a python program to assign:\n",
    "            \n",
    "            a. engagement score to each user. Consider the engagement score as the\n",
    "            Euclidean distance between the user data point & the less engaged\n",
    "            cluster (use the first clustering for this) \n",
    "            \n",
    "            b. experience score to each user. Consider the experience score as the\n",
    "            Euclidean distance between the user data point & the worst experience’s\n",
    "            cluster. \n",
    "            \n",
    "            c. Consider the average of both satisfaction & experience scores as the\n",
    "            satisfaction score & report the top 10 satisfied customer"
   ]
  },
  {
   "cell_type": "markdown",
   "metadata": {},
   "source": [
    "a. & b"
   ]
  },
  {
   "cell_type": "markdown",
   "metadata": {},
   "source": [
    "> define function to calcualte distance"
   ]
  },
  {
   "cell_type": "code",
   "execution_count": 203,
   "metadata": {},
   "outputs": [],
   "source": [
    "def calc_dist (df, centroids, drop_cols=[\"users\", \"clusters\"]):\n",
    "    points = df.drop(columns=drop_cols)\n",
    "    # get normalised points\n",
    "    scaler = MinMaxScaler()\n",
    "    scaler.fit(points)\n",
    "    points = scaler.transform(points)\n",
    "    dists = pd.DataFrame(\n",
    "        sdist.cdist(points, centroids), \n",
    "        columns=['dist_{}'.format(i) for i in range(len(centroids))],\n",
    "        index=df.index)\n",
    "    new_df = pd.concat([df, dists], axis=1)\n",
    "    #print(sdist.cdist(points, centroids))\n",
    "    return new_df"
   ]
  },
  {
   "cell_type": "markdown",
   "metadata": {},
   "source": [
    ">> calcluate  distances"
   ]
  },
  {
   "cell_type": "code",
   "execution_count": 204,
   "metadata": {},
   "outputs": [],
   "source": [
    "eng_dist = calc_dist(eng_cluster, eng_centroids)"
   ]
  },
  {
   "cell_type": "code",
   "execution_count": 205,
   "metadata": {},
   "outputs": [],
   "source": [
    "exp_dist = calc_dist(exp_cluster, exp_centroids)"
   ]
  },
  {
   "cell_type": "code",
   "execution_count": 206,
   "metadata": {},
   "outputs": [
    {
     "data": {
      "text/html": [
       "<div>\n",
       "<style scoped>\n",
       "    .dataframe tbody tr th:only-of-type {\n",
       "        vertical-align: middle;\n",
       "    }\n",
       "\n",
       "    .dataframe tbody tr th {\n",
       "        vertical-align: top;\n",
       "    }\n",
       "\n",
       "    .dataframe thead th {\n",
       "        text-align: right;\n",
       "    }\n",
       "</style>\n",
       "<table border=\"1\" class=\"dataframe\">\n",
       "  <thead>\n",
       "    <tr style=\"text-align: right;\">\n",
       "      <th></th>\n",
       "      <th>session_dur_hours</th>\n",
       "      <th>session_fre</th>\n",
       "      <th>session_trfc</th>\n",
       "      <th>clusters</th>\n",
       "      <th>users</th>\n",
       "      <th>dist_0</th>\n",
       "      <th>dist_1</th>\n",
       "      <th>dist_2</th>\n",
       "    </tr>\n",
       "  </thead>\n",
       "  <tbody>\n",
       "    <tr>\n",
       "      <th>0</th>\n",
       "      <td>8</td>\n",
       "      <td>1066</td>\n",
       "      <td>507143.1338</td>\n",
       "      <td>2</td>\n",
       "      <td>4.188282e+10</td>\n",
       "      <td>1.427949</td>\n",
       "      <td>1.528841</td>\n",
       "      <td>1.422609</td>\n",
       "    </tr>\n",
       "    <tr>\n",
       "      <th>1</th>\n",
       "      <td>1</td>\n",
       "      <td>16</td>\n",
       "      <td>7348.8834</td>\n",
       "      <td>0</td>\n",
       "      <td>3.365973e+10</td>\n",
       "      <td>0.100933</td>\n",
       "      <td>0.888297</td>\n",
       "      <td>0.469265</td>\n",
       "    </tr>\n",
       "    <tr>\n",
       "      <th>2</th>\n",
       "      <td>15</td>\n",
       "      <td>18</td>\n",
       "      <td>7601.8975</td>\n",
       "      <td>2</td>\n",
       "      <td>3.362632e+10</td>\n",
       "      <td>0.510005</td>\n",
       "      <td>0.280163</td>\n",
       "      <td>0.141345</td>\n",
       "    </tr>\n",
       "    <tr>\n",
       "      <th>3</th>\n",
       "      <td>5</td>\n",
       "      <td>11</td>\n",
       "      <td>4442.6319</td>\n",
       "      <td>0</td>\n",
       "      <td>3.365936e+10</td>\n",
       "      <td>0.075716</td>\n",
       "      <td>0.714276</td>\n",
       "      <td>0.295199</td>\n",
       "    </tr>\n",
       "    <tr>\n",
       "      <th>4</th>\n",
       "      <td>4</td>\n",
       "      <td>15</td>\n",
       "      <td>7525.5495</td>\n",
       "      <td>0</td>\n",
       "      <td>3.367588e+10</td>\n",
       "      <td>0.036458</td>\n",
       "      <td>0.757887</td>\n",
       "      <td>0.338956</td>\n",
       "    </tr>\n",
       "    <tr>\n",
       "      <th>...</th>\n",
       "      <td>...</td>\n",
       "      <td>...</td>\n",
       "      <td>...</td>\n",
       "      <td>...</td>\n",
       "      <td>...</td>\n",
       "      <td>...</td>\n",
       "      <td>...</td>\n",
       "      <td>...</td>\n",
       "    </tr>\n",
       "    <tr>\n",
       "      <th>106852</th>\n",
       "      <td>2</td>\n",
       "      <td>1</td>\n",
       "      <td>199.2166</td>\n",
       "      <td>0</td>\n",
       "      <td>3.365043e+10</td>\n",
       "      <td>0.055644</td>\n",
       "      <td>0.844617</td>\n",
       "      <td>0.425403</td>\n",
       "    </tr>\n",
       "    <tr>\n",
       "      <th>106853</th>\n",
       "      <td>2</td>\n",
       "      <td>1</td>\n",
       "      <td>797.9008</td>\n",
       "      <td>0</td>\n",
       "      <td>3.369839e+10</td>\n",
       "      <td>0.055638</td>\n",
       "      <td>0.844616</td>\n",
       "      <td>0.425402</td>\n",
       "    </tr>\n",
       "    <tr>\n",
       "      <th>106854</th>\n",
       "      <td>1</td>\n",
       "      <td>1</td>\n",
       "      <td>266.8424</td>\n",
       "      <td>0</td>\n",
       "      <td>3.365933e+10</td>\n",
       "      <td>0.099118</td>\n",
       "      <td>0.888095</td>\n",
       "      <td>0.468881</td>\n",
       "    </tr>\n",
       "    <tr>\n",
       "      <th>106855</th>\n",
       "      <td>1</td>\n",
       "      <td>1</td>\n",
       "      <td>647.0846</td>\n",
       "      <td>0</td>\n",
       "      <td>3.366566e+10</td>\n",
       "      <td>0.099115</td>\n",
       "      <td>0.888095</td>\n",
       "      <td>0.468880</td>\n",
       "    </tr>\n",
       "    <tr>\n",
       "      <th>106856</th>\n",
       "      <td>1</td>\n",
       "      <td>1</td>\n",
       "      <td>532.4696</td>\n",
       "      <td>0</td>\n",
       "      <td>3.376351e+10</td>\n",
       "      <td>0.099115</td>\n",
       "      <td>0.888095</td>\n",
       "      <td>0.468880</td>\n",
       "    </tr>\n",
       "  </tbody>\n",
       "</table>\n",
       "<p>106857 rows × 8 columns</p>\n",
       "</div>"
      ],
      "text/plain": [
       "        session_dur_hours  session_fre  session_trfc  clusters         users  \\\n",
       "0                       8         1066   507143.1338         2  4.188282e+10   \n",
       "1                       1           16     7348.8834         0  3.365973e+10   \n",
       "2                      15           18     7601.8975         2  3.362632e+10   \n",
       "3                       5           11     4442.6319         0  3.365936e+10   \n",
       "4                       4           15     7525.5495         0  3.367588e+10   \n",
       "...                   ...          ...           ...       ...           ...   \n",
       "106852                  2            1      199.2166         0  3.365043e+10   \n",
       "106853                  2            1      797.9008         0  3.369839e+10   \n",
       "106854                  1            1      266.8424         0  3.365933e+10   \n",
       "106855                  1            1      647.0846         0  3.366566e+10   \n",
       "106856                  1            1      532.4696         0  3.376351e+10   \n",
       "\n",
       "          dist_0    dist_1    dist_2  \n",
       "0       1.427949  1.528841  1.422609  \n",
       "1       0.100933  0.888297  0.469265  \n",
       "2       0.510005  0.280163  0.141345  \n",
       "3       0.075716  0.714276  0.295199  \n",
       "4       0.036458  0.757887  0.338956  \n",
       "...          ...       ...       ...  \n",
       "106852  0.055644  0.844617  0.425403  \n",
       "106853  0.055638  0.844616  0.425402  \n",
       "106854  0.099118  0.888095  0.468881  \n",
       "106855  0.099115  0.888095  0.468880  \n",
       "106856  0.099115  0.888095  0.468880  \n",
       "\n",
       "[106857 rows x 8 columns]"
      ]
     },
     "execution_count": 206,
     "metadata": {},
     "output_type": "execute_result"
    }
   ],
   "source": [
    "eng_dist"
   ]
  },
  {
   "cell_type": "code",
   "execution_count": 207,
   "metadata": {},
   "outputs": [
    {
     "data": {
      "text/html": [
       "<div>\n",
       "<style scoped>\n",
       "    .dataframe tbody tr th:only-of-type {\n",
       "        vertical-align: middle;\n",
       "    }\n",
       "\n",
       "    .dataframe tbody tr th {\n",
       "        vertical-align: top;\n",
       "    }\n",
       "\n",
       "    .dataframe thead th {\n",
       "        text-align: right;\n",
       "    }\n",
       "</style>\n",
       "<table border=\"1\" class=\"dataframe\">\n",
       "  <thead>\n",
       "    <tr style=\"text-align: right;\">\n",
       "      <th></th>\n",
       "      <th>rtt_sum</th>\n",
       "      <th>trp_sum</th>\n",
       "      <th>tcp_sum</th>\n",
       "      <th>handset_count</th>\n",
       "      <th>clusters</th>\n",
       "      <th>users</th>\n",
       "      <th>dist_0</th>\n",
       "      <th>dist_1</th>\n",
       "      <th>dist_2</th>\n",
       "    </tr>\n",
       "  </thead>\n",
       "  <tbody>\n",
       "    <tr>\n",
       "      <th>0</th>\n",
       "      <td>46.000000</td>\n",
       "      <td>7.600000e+01</td>\n",
       "      <td>1.235566e+06</td>\n",
       "      <td>1</td>\n",
       "      <td>0</td>\n",
       "      <td>3.360100e+10</td>\n",
       "      <td>0.000624</td>\n",
       "      <td>1.998852e+00</td>\n",
       "      <td>0.005023</td>\n",
       "    </tr>\n",
       "    <tr>\n",
       "      <th>1</th>\n",
       "      <td>31.000000</td>\n",
       "      <td>9.900000e+01</td>\n",
       "      <td>1.235566e+06</td>\n",
       "      <td>1</td>\n",
       "      <td>0</td>\n",
       "      <td>3.360100e+10</td>\n",
       "      <td>0.000753</td>\n",
       "      <td>1.998979e+00</td>\n",
       "      <td>0.005147</td>\n",
       "    </tr>\n",
       "    <tr>\n",
       "      <th>2</th>\n",
       "      <td>54.613090</td>\n",
       "      <td>9.700000e+01</td>\n",
       "      <td>1.235566e+06</td>\n",
       "      <td>1</td>\n",
       "      <td>0</td>\n",
       "      <td>3.360100e+10</td>\n",
       "      <td>0.000583</td>\n",
       "      <td>1.998776e+00</td>\n",
       "      <td>0.004952</td>\n",
       "    </tr>\n",
       "    <tr>\n",
       "      <th>3</th>\n",
       "      <td>84.000000</td>\n",
       "      <td>2.480000e+02</td>\n",
       "      <td>3.301360e+04</td>\n",
       "      <td>1</td>\n",
       "      <td>0</td>\n",
       "      <td>3.360101e+10</td>\n",
       "      <td>0.001622</td>\n",
       "      <td>1.999284e+00</td>\n",
       "      <td>0.005703</td>\n",
       "    </tr>\n",
       "    <tr>\n",
       "      <th>4</th>\n",
       "      <td>119.000000</td>\n",
       "      <td>7.162046e+03</td>\n",
       "      <td>2.471132e+06</td>\n",
       "      <td>2</td>\n",
       "      <td>0</td>\n",
       "      <td>3.360101e+10</td>\n",
       "      <td>0.002320</td>\n",
       "      <td>1.996199e+00</td>\n",
       "      <td>0.002363</td>\n",
       "    </tr>\n",
       "    <tr>\n",
       "      <th>...</th>\n",
       "      <td>...</td>\n",
       "      <td>...</td>\n",
       "      <td>...</td>\n",
       "      <td>...</td>\n",
       "      <td>...</td>\n",
       "      <td>...</td>\n",
       "      <td>...</td>\n",
       "      <td>...</td>\n",
       "      <td>...</td>\n",
       "    </tr>\n",
       "    <tr>\n",
       "      <th>106852</th>\n",
       "      <td>40.000000</td>\n",
       "      <td>1.160000e+02</td>\n",
       "      <td>1.235566e+06</td>\n",
       "      <td>1</td>\n",
       "      <td>0</td>\n",
       "      <td>3.379000e+10</td>\n",
       "      <td>0.000661</td>\n",
       "      <td>1.998900e+00</td>\n",
       "      <td>0.005067</td>\n",
       "    </tr>\n",
       "    <tr>\n",
       "      <th>106853</th>\n",
       "      <td>58362.616409</td>\n",
       "      <td>4.652915e+06</td>\n",
       "      <td>7.750170e+08</td>\n",
       "      <td>1066</td>\n",
       "      <td>1</td>\n",
       "      <td>4.188282e+10</td>\n",
       "      <td>1.998413</td>\n",
       "      <td>1.570092e-16</td>\n",
       "      <td>1.993865</td>\n",
       "    </tr>\n",
       "    <tr>\n",
       "      <th>106854</th>\n",
       "      <td>54.613090</td>\n",
       "      <td>1.000000e+00</td>\n",
       "      <td>1.235566e+06</td>\n",
       "      <td>1</td>\n",
       "      <td>0</td>\n",
       "      <td>3.197021e+12</td>\n",
       "      <td>0.000602</td>\n",
       "      <td>1.998787e+00</td>\n",
       "      <td>0.004964</td>\n",
       "    </tr>\n",
       "    <tr>\n",
       "      <th>106855</th>\n",
       "      <td>54.613090</td>\n",
       "      <td>3.300000e+01</td>\n",
       "      <td>1.235566e+06</td>\n",
       "      <td>1</td>\n",
       "      <td>0</td>\n",
       "      <td>3.370000e+14</td>\n",
       "      <td>0.000596</td>\n",
       "      <td>1.998783e+00</td>\n",
       "      <td>0.004960</td>\n",
       "    </tr>\n",
       "    <tr>\n",
       "      <th>106856</th>\n",
       "      <td>54.613090</td>\n",
       "      <td>2.000000e+00</td>\n",
       "      <td>1.235566e+06</td>\n",
       "      <td>1</td>\n",
       "      <td>0</td>\n",
       "      <td>8.823971e+14</td>\n",
       "      <td>0.000602</td>\n",
       "      <td>1.998787e+00</td>\n",
       "      <td>0.004964</td>\n",
       "    </tr>\n",
       "  </tbody>\n",
       "</table>\n",
       "<p>106857 rows × 9 columns</p>\n",
       "</div>"
      ],
      "text/plain": [
       "             rtt_sum       trp_sum       tcp_sum  handset_count  clusters  \\\n",
       "0          46.000000  7.600000e+01  1.235566e+06              1         0   \n",
       "1          31.000000  9.900000e+01  1.235566e+06              1         0   \n",
       "2          54.613090  9.700000e+01  1.235566e+06              1         0   \n",
       "3          84.000000  2.480000e+02  3.301360e+04              1         0   \n",
       "4         119.000000  7.162046e+03  2.471132e+06              2         0   \n",
       "...              ...           ...           ...            ...       ...   \n",
       "106852     40.000000  1.160000e+02  1.235566e+06              1         0   \n",
       "106853  58362.616409  4.652915e+06  7.750170e+08           1066         1   \n",
       "106854     54.613090  1.000000e+00  1.235566e+06              1         0   \n",
       "106855     54.613090  3.300000e+01  1.235566e+06              1         0   \n",
       "106856     54.613090  2.000000e+00  1.235566e+06              1         0   \n",
       "\n",
       "               users    dist_0        dist_1    dist_2  \n",
       "0       3.360100e+10  0.000624  1.998852e+00  0.005023  \n",
       "1       3.360100e+10  0.000753  1.998979e+00  0.005147  \n",
       "2       3.360100e+10  0.000583  1.998776e+00  0.004952  \n",
       "3       3.360101e+10  0.001622  1.999284e+00  0.005703  \n",
       "4       3.360101e+10  0.002320  1.996199e+00  0.002363  \n",
       "...              ...       ...           ...       ...  \n",
       "106852  3.379000e+10  0.000661  1.998900e+00  0.005067  \n",
       "106853  4.188282e+10  1.998413  1.570092e-16  1.993865  \n",
       "106854  3.197021e+12  0.000602  1.998787e+00  0.004964  \n",
       "106855  3.370000e+14  0.000596  1.998783e+00  0.004960  \n",
       "106856  8.823971e+14  0.000602  1.998787e+00  0.004964  \n",
       "\n",
       "[106857 rows x 9 columns]"
      ]
     },
     "execution_count": 207,
     "metadata": {},
     "output_type": "execute_result"
    }
   ],
   "source": [
    "exp_dist"
   ]
  },
  {
   "cell_type": "markdown",
   "metadata": {},
   "source": [
    "> FInd the least engaged cluster and assign distance points as score"
   ]
  },
  {
   "cell_type": "code",
   "execution_count": 208,
   "metadata": {},
   "outputs": [
    {
     "data": {
      "text/plain": [
       "1    38170\n",
       "0    37059\n",
       "2    31628\n",
       "Name: clusters, dtype: int64"
      ]
     },
     "execution_count": 208,
     "metadata": {},
     "output_type": "execute_result"
    }
   ],
   "source": [
    "eng_dist.clusters.value_counts()"
   ]
  },
  {
   "cell_type": "markdown",
   "metadata": {},
   "source": [
    "`0` is the least enagaged cluster, hence score is dist_0"
   ]
  },
  {
   "cell_type": "code",
   "execution_count": 209,
   "metadata": {},
   "outputs": [],
   "source": [
    "eng_dist['eng_score'] = eng_dist.dist_0"
   ]
  },
  {
   "cell_type": "code",
   "execution_count": 210,
   "metadata": {},
   "outputs": [],
   "source": [
    "eng_dist.drop(columns=['dist_0','dist_1','dist_2'], inplace=True)"
   ]
  },
  {
   "cell_type": "code",
   "execution_count": 211,
   "metadata": {},
   "outputs": [
    {
     "data": {
      "text/html": [
       "<div>\n",
       "<style scoped>\n",
       "    .dataframe tbody tr th:only-of-type {\n",
       "        vertical-align: middle;\n",
       "    }\n",
       "\n",
       "    .dataframe tbody tr th {\n",
       "        vertical-align: top;\n",
       "    }\n",
       "\n",
       "    .dataframe thead th {\n",
       "        text-align: right;\n",
       "    }\n",
       "</style>\n",
       "<table border=\"1\" class=\"dataframe\">\n",
       "  <thead>\n",
       "    <tr style=\"text-align: right;\">\n",
       "      <th></th>\n",
       "      <th>session_dur_hours</th>\n",
       "      <th>session_fre</th>\n",
       "      <th>session_trfc</th>\n",
       "      <th>clusters</th>\n",
       "      <th>users</th>\n",
       "      <th>eng_score</th>\n",
       "    </tr>\n",
       "  </thead>\n",
       "  <tbody>\n",
       "    <tr>\n",
       "      <th>0</th>\n",
       "      <td>8</td>\n",
       "      <td>1066</td>\n",
       "      <td>507143.1338</td>\n",
       "      <td>2</td>\n",
       "      <td>4.188282e+10</td>\n",
       "      <td>1.427949</td>\n",
       "    </tr>\n",
       "    <tr>\n",
       "      <th>1</th>\n",
       "      <td>1</td>\n",
       "      <td>16</td>\n",
       "      <td>7348.8834</td>\n",
       "      <td>0</td>\n",
       "      <td>3.365973e+10</td>\n",
       "      <td>0.100933</td>\n",
       "    </tr>\n",
       "    <tr>\n",
       "      <th>2</th>\n",
       "      <td>15</td>\n",
       "      <td>18</td>\n",
       "      <td>7601.8975</td>\n",
       "      <td>2</td>\n",
       "      <td>3.362632e+10</td>\n",
       "      <td>0.510005</td>\n",
       "    </tr>\n",
       "    <tr>\n",
       "      <th>3</th>\n",
       "      <td>5</td>\n",
       "      <td>11</td>\n",
       "      <td>4442.6319</td>\n",
       "      <td>0</td>\n",
       "      <td>3.365936e+10</td>\n",
       "      <td>0.075716</td>\n",
       "    </tr>\n",
       "    <tr>\n",
       "      <th>4</th>\n",
       "      <td>4</td>\n",
       "      <td>15</td>\n",
       "      <td>7525.5495</td>\n",
       "      <td>0</td>\n",
       "      <td>3.367588e+10</td>\n",
       "      <td>0.036458</td>\n",
       "    </tr>\n",
       "    <tr>\n",
       "      <th>...</th>\n",
       "      <td>...</td>\n",
       "      <td>...</td>\n",
       "      <td>...</td>\n",
       "      <td>...</td>\n",
       "      <td>...</td>\n",
       "      <td>...</td>\n",
       "    </tr>\n",
       "    <tr>\n",
       "      <th>106852</th>\n",
       "      <td>2</td>\n",
       "      <td>1</td>\n",
       "      <td>199.2166</td>\n",
       "      <td>0</td>\n",
       "      <td>3.365043e+10</td>\n",
       "      <td>0.055644</td>\n",
       "    </tr>\n",
       "    <tr>\n",
       "      <th>106853</th>\n",
       "      <td>2</td>\n",
       "      <td>1</td>\n",
       "      <td>797.9008</td>\n",
       "      <td>0</td>\n",
       "      <td>3.369839e+10</td>\n",
       "      <td>0.055638</td>\n",
       "    </tr>\n",
       "    <tr>\n",
       "      <th>106854</th>\n",
       "      <td>1</td>\n",
       "      <td>1</td>\n",
       "      <td>266.8424</td>\n",
       "      <td>0</td>\n",
       "      <td>3.365933e+10</td>\n",
       "      <td>0.099118</td>\n",
       "    </tr>\n",
       "    <tr>\n",
       "      <th>106855</th>\n",
       "      <td>1</td>\n",
       "      <td>1</td>\n",
       "      <td>647.0846</td>\n",
       "      <td>0</td>\n",
       "      <td>3.366566e+10</td>\n",
       "      <td>0.099115</td>\n",
       "    </tr>\n",
       "    <tr>\n",
       "      <th>106856</th>\n",
       "      <td>1</td>\n",
       "      <td>1</td>\n",
       "      <td>532.4696</td>\n",
       "      <td>0</td>\n",
       "      <td>3.376351e+10</td>\n",
       "      <td>0.099115</td>\n",
       "    </tr>\n",
       "  </tbody>\n",
       "</table>\n",
       "<p>106857 rows × 6 columns</p>\n",
       "</div>"
      ],
      "text/plain": [
       "        session_dur_hours  session_fre  session_trfc  clusters         users  \\\n",
       "0                       8         1066   507143.1338         2  4.188282e+10   \n",
       "1                       1           16     7348.8834         0  3.365973e+10   \n",
       "2                      15           18     7601.8975         2  3.362632e+10   \n",
       "3                       5           11     4442.6319         0  3.365936e+10   \n",
       "4                       4           15     7525.5495         0  3.367588e+10   \n",
       "...                   ...          ...           ...       ...           ...   \n",
       "106852                  2            1      199.2166         0  3.365043e+10   \n",
       "106853                  2            1      797.9008         0  3.369839e+10   \n",
       "106854                  1            1      266.8424         0  3.365933e+10   \n",
       "106855                  1            1      647.0846         0  3.366566e+10   \n",
       "106856                  1            1      532.4696         0  3.376351e+10   \n",
       "\n",
       "        eng_score  \n",
       "0        1.427949  \n",
       "1        0.100933  \n",
       "2        0.510005  \n",
       "3        0.075716  \n",
       "4        0.036458  \n",
       "...           ...  \n",
       "106852   0.055644  \n",
       "106853   0.055638  \n",
       "106854   0.099118  \n",
       "106855   0.099115  \n",
       "106856   0.099115  \n",
       "\n",
       "[106857 rows x 6 columns]"
      ]
     },
     "execution_count": 211,
     "metadata": {},
     "output_type": "execute_result"
    }
   ],
   "source": [
    "eng_dist"
   ]
  },
  {
   "cell_type": "code",
   "execution_count": 212,
   "metadata": {},
   "outputs": [],
   "source": [
    "eng_dist.users =eng_dist.users.astype('int64')"
   ]
  },
  {
   "cell_type": "markdown",
   "metadata": {},
   "source": [
    " "
   ]
  },
  {
   "cell_type": "code",
   "execution_count": 213,
   "metadata": {},
   "outputs": [
    {
     "data": {
      "text/html": [
       "<div>\n",
       "<style scoped>\n",
       "    .dataframe tbody tr th:only-of-type {\n",
       "        vertical-align: middle;\n",
       "    }\n",
       "\n",
       "    .dataframe tbody tr th {\n",
       "        vertical-align: top;\n",
       "    }\n",
       "\n",
       "    .dataframe thead th {\n",
       "        text-align: right;\n",
       "    }\n",
       "</style>\n",
       "<table border=\"1\" class=\"dataframe\">\n",
       "  <thead>\n",
       "    <tr style=\"text-align: right;\">\n",
       "      <th></th>\n",
       "      <th>session_dur_hours</th>\n",
       "      <th>session_fre</th>\n",
       "      <th>session_trfc</th>\n",
       "      <th>clusters</th>\n",
       "      <th>users</th>\n",
       "      <th>eng_score</th>\n",
       "    </tr>\n",
       "  </thead>\n",
       "  <tbody>\n",
       "    <tr>\n",
       "      <th>0</th>\n",
       "      <td>8</td>\n",
       "      <td>1066</td>\n",
       "      <td>507143.1338</td>\n",
       "      <td>2</td>\n",
       "      <td>41882819545</td>\n",
       "      <td>1.427949</td>\n",
       "    </tr>\n",
       "    <tr>\n",
       "      <th>1</th>\n",
       "      <td>1</td>\n",
       "      <td>16</td>\n",
       "      <td>7348.8834</td>\n",
       "      <td>0</td>\n",
       "      <td>33659725664</td>\n",
       "      <td>0.100933</td>\n",
       "    </tr>\n",
       "    <tr>\n",
       "      <th>2</th>\n",
       "      <td>15</td>\n",
       "      <td>18</td>\n",
       "      <td>7601.8975</td>\n",
       "      <td>2</td>\n",
       "      <td>33626320676</td>\n",
       "      <td>0.510005</td>\n",
       "    </tr>\n",
       "    <tr>\n",
       "      <th>3</th>\n",
       "      <td>5</td>\n",
       "      <td>11</td>\n",
       "      <td>4442.6319</td>\n",
       "      <td>0</td>\n",
       "      <td>33659359429</td>\n",
       "      <td>0.075716</td>\n",
       "    </tr>\n",
       "    <tr>\n",
       "      <th>4</th>\n",
       "      <td>4</td>\n",
       "      <td>15</td>\n",
       "      <td>7525.5495</td>\n",
       "      <td>0</td>\n",
       "      <td>33675877202</td>\n",
       "      <td>0.036458</td>\n",
       "    </tr>\n",
       "    <tr>\n",
       "      <th>...</th>\n",
       "      <td>...</td>\n",
       "      <td>...</td>\n",
       "      <td>...</td>\n",
       "      <td>...</td>\n",
       "      <td>...</td>\n",
       "      <td>...</td>\n",
       "    </tr>\n",
       "    <tr>\n",
       "      <th>106852</th>\n",
       "      <td>2</td>\n",
       "      <td>1</td>\n",
       "      <td>199.2166</td>\n",
       "      <td>0</td>\n",
       "      <td>33650431620</td>\n",
       "      <td>0.055644</td>\n",
       "    </tr>\n",
       "    <tr>\n",
       "      <th>106853</th>\n",
       "      <td>2</td>\n",
       "      <td>1</td>\n",
       "      <td>797.9008</td>\n",
       "      <td>0</td>\n",
       "      <td>33698390293</td>\n",
       "      <td>0.055638</td>\n",
       "    </tr>\n",
       "    <tr>\n",
       "      <th>106854</th>\n",
       "      <td>1</td>\n",
       "      <td>1</td>\n",
       "      <td>266.8424</td>\n",
       "      <td>0</td>\n",
       "      <td>33659328207</td>\n",
       "      <td>0.099118</td>\n",
       "    </tr>\n",
       "    <tr>\n",
       "      <th>106855</th>\n",
       "      <td>1</td>\n",
       "      <td>1</td>\n",
       "      <td>647.0846</td>\n",
       "      <td>0</td>\n",
       "      <td>33665660120</td>\n",
       "      <td>0.099115</td>\n",
       "    </tr>\n",
       "    <tr>\n",
       "      <th>106856</th>\n",
       "      <td>1</td>\n",
       "      <td>1</td>\n",
       "      <td>532.4696</td>\n",
       "      <td>0</td>\n",
       "      <td>33763505878</td>\n",
       "      <td>0.099115</td>\n",
       "    </tr>\n",
       "  </tbody>\n",
       "</table>\n",
       "<p>106857 rows × 6 columns</p>\n",
       "</div>"
      ],
      "text/plain": [
       "        session_dur_hours  session_fre  session_trfc  clusters        users  \\\n",
       "0                       8         1066   507143.1338         2  41882819545   \n",
       "1                       1           16     7348.8834         0  33659725664   \n",
       "2                      15           18     7601.8975         2  33626320676   \n",
       "3                       5           11     4442.6319         0  33659359429   \n",
       "4                       4           15     7525.5495         0  33675877202   \n",
       "...                   ...          ...           ...       ...          ...   \n",
       "106852                  2            1      199.2166         0  33650431620   \n",
       "106853                  2            1      797.9008         0  33698390293   \n",
       "106854                  1            1      266.8424         0  33659328207   \n",
       "106855                  1            1      647.0846         0  33665660120   \n",
       "106856                  1            1      532.4696         0  33763505878   \n",
       "\n",
       "        eng_score  \n",
       "0        1.427949  \n",
       "1        0.100933  \n",
       "2        0.510005  \n",
       "3        0.075716  \n",
       "4        0.036458  \n",
       "...           ...  \n",
       "106852   0.055644  \n",
       "106853   0.055638  \n",
       "106854   0.099118  \n",
       "106855   0.099115  \n",
       "106856   0.099115  \n",
       "\n",
       "[106857 rows x 6 columns]"
      ]
     },
     "execution_count": 213,
     "metadata": {},
     "output_type": "execute_result"
    }
   ],
   "source": [
    "eng_dist"
   ]
  },
  {
   "cell_type": "markdown",
   "metadata": {},
   "source": [
    " "
   ]
  },
  {
   "cell_type": "markdown",
   "metadata": {},
   "source": [
    "> FInd the worst expereinced cluster and assign distance points as score"
   ]
  },
  {
   "cell_type": "code",
   "execution_count": 214,
   "metadata": {},
   "outputs": [
    {
     "data": {
      "text/plain": [
       "0    96942\n",
       "2     9914\n",
       "1        1\n",
       "Name: clusters, dtype: int64"
      ]
     },
     "execution_count": 214,
     "metadata": {},
     "output_type": "execute_result"
    }
   ],
   "source": [
    "exp_dist.clusters.value_counts()"
   ]
  },
  {
   "cell_type": "markdown",
   "metadata": {},
   "source": [
    "`1` is the least enagaged cluster, hence score is dist_1"
   ]
  },
  {
   "cell_type": "code",
   "execution_count": 215,
   "metadata": {},
   "outputs": [],
   "source": [
    "exp_dist['exp_score'] = exp_dist.dist_1"
   ]
  },
  {
   "cell_type": "code",
   "execution_count": 216,
   "metadata": {},
   "outputs": [],
   "source": [
    "exp_dist.drop(columns=['dist_0','dist_1','dist_2'], inplace=True)"
   ]
  },
  {
   "cell_type": "code",
   "execution_count": 217,
   "metadata": {},
   "outputs": [
    {
     "data": {
      "text/html": [
       "<div>\n",
       "<style scoped>\n",
       "    .dataframe tbody tr th:only-of-type {\n",
       "        vertical-align: middle;\n",
       "    }\n",
       "\n",
       "    .dataframe tbody tr th {\n",
       "        vertical-align: top;\n",
       "    }\n",
       "\n",
       "    .dataframe thead th {\n",
       "        text-align: right;\n",
       "    }\n",
       "</style>\n",
       "<table border=\"1\" class=\"dataframe\">\n",
       "  <thead>\n",
       "    <tr style=\"text-align: right;\">\n",
       "      <th></th>\n",
       "      <th>rtt_sum</th>\n",
       "      <th>trp_sum</th>\n",
       "      <th>tcp_sum</th>\n",
       "      <th>handset_count</th>\n",
       "      <th>clusters</th>\n",
       "      <th>users</th>\n",
       "      <th>exp_score</th>\n",
       "    </tr>\n",
       "  </thead>\n",
       "  <tbody>\n",
       "    <tr>\n",
       "      <th>0</th>\n",
       "      <td>46.000000</td>\n",
       "      <td>7.600000e+01</td>\n",
       "      <td>1.235566e+06</td>\n",
       "      <td>1</td>\n",
       "      <td>0</td>\n",
       "      <td>3.360100e+10</td>\n",
       "      <td>1.998852e+00</td>\n",
       "    </tr>\n",
       "    <tr>\n",
       "      <th>1</th>\n",
       "      <td>31.000000</td>\n",
       "      <td>9.900000e+01</td>\n",
       "      <td>1.235566e+06</td>\n",
       "      <td>1</td>\n",
       "      <td>0</td>\n",
       "      <td>3.360100e+10</td>\n",
       "      <td>1.998979e+00</td>\n",
       "    </tr>\n",
       "    <tr>\n",
       "      <th>2</th>\n",
       "      <td>54.613090</td>\n",
       "      <td>9.700000e+01</td>\n",
       "      <td>1.235566e+06</td>\n",
       "      <td>1</td>\n",
       "      <td>0</td>\n",
       "      <td>3.360100e+10</td>\n",
       "      <td>1.998776e+00</td>\n",
       "    </tr>\n",
       "    <tr>\n",
       "      <th>3</th>\n",
       "      <td>84.000000</td>\n",
       "      <td>2.480000e+02</td>\n",
       "      <td>3.301360e+04</td>\n",
       "      <td>1</td>\n",
       "      <td>0</td>\n",
       "      <td>3.360101e+10</td>\n",
       "      <td>1.999284e+00</td>\n",
       "    </tr>\n",
       "    <tr>\n",
       "      <th>4</th>\n",
       "      <td>119.000000</td>\n",
       "      <td>7.162046e+03</td>\n",
       "      <td>2.471132e+06</td>\n",
       "      <td>2</td>\n",
       "      <td>0</td>\n",
       "      <td>3.360101e+10</td>\n",
       "      <td>1.996199e+00</td>\n",
       "    </tr>\n",
       "    <tr>\n",
       "      <th>...</th>\n",
       "      <td>...</td>\n",
       "      <td>...</td>\n",
       "      <td>...</td>\n",
       "      <td>...</td>\n",
       "      <td>...</td>\n",
       "      <td>...</td>\n",
       "      <td>...</td>\n",
       "    </tr>\n",
       "    <tr>\n",
       "      <th>106852</th>\n",
       "      <td>40.000000</td>\n",
       "      <td>1.160000e+02</td>\n",
       "      <td>1.235566e+06</td>\n",
       "      <td>1</td>\n",
       "      <td>0</td>\n",
       "      <td>3.379000e+10</td>\n",
       "      <td>1.998900e+00</td>\n",
       "    </tr>\n",
       "    <tr>\n",
       "      <th>106853</th>\n",
       "      <td>58362.616409</td>\n",
       "      <td>4.652915e+06</td>\n",
       "      <td>7.750170e+08</td>\n",
       "      <td>1066</td>\n",
       "      <td>1</td>\n",
       "      <td>4.188282e+10</td>\n",
       "      <td>1.570092e-16</td>\n",
       "    </tr>\n",
       "    <tr>\n",
       "      <th>106854</th>\n",
       "      <td>54.613090</td>\n",
       "      <td>1.000000e+00</td>\n",
       "      <td>1.235566e+06</td>\n",
       "      <td>1</td>\n",
       "      <td>0</td>\n",
       "      <td>3.197021e+12</td>\n",
       "      <td>1.998787e+00</td>\n",
       "    </tr>\n",
       "    <tr>\n",
       "      <th>106855</th>\n",
       "      <td>54.613090</td>\n",
       "      <td>3.300000e+01</td>\n",
       "      <td>1.235566e+06</td>\n",
       "      <td>1</td>\n",
       "      <td>0</td>\n",
       "      <td>3.370000e+14</td>\n",
       "      <td>1.998783e+00</td>\n",
       "    </tr>\n",
       "    <tr>\n",
       "      <th>106856</th>\n",
       "      <td>54.613090</td>\n",
       "      <td>2.000000e+00</td>\n",
       "      <td>1.235566e+06</td>\n",
       "      <td>1</td>\n",
       "      <td>0</td>\n",
       "      <td>8.823971e+14</td>\n",
       "      <td>1.998787e+00</td>\n",
       "    </tr>\n",
       "  </tbody>\n",
       "</table>\n",
       "<p>106857 rows × 7 columns</p>\n",
       "</div>"
      ],
      "text/plain": [
       "             rtt_sum       trp_sum       tcp_sum  handset_count  clusters  \\\n",
       "0          46.000000  7.600000e+01  1.235566e+06              1         0   \n",
       "1          31.000000  9.900000e+01  1.235566e+06              1         0   \n",
       "2          54.613090  9.700000e+01  1.235566e+06              1         0   \n",
       "3          84.000000  2.480000e+02  3.301360e+04              1         0   \n",
       "4         119.000000  7.162046e+03  2.471132e+06              2         0   \n",
       "...              ...           ...           ...            ...       ...   \n",
       "106852     40.000000  1.160000e+02  1.235566e+06              1         0   \n",
       "106853  58362.616409  4.652915e+06  7.750170e+08           1066         1   \n",
       "106854     54.613090  1.000000e+00  1.235566e+06              1         0   \n",
       "106855     54.613090  3.300000e+01  1.235566e+06              1         0   \n",
       "106856     54.613090  2.000000e+00  1.235566e+06              1         0   \n",
       "\n",
       "               users     exp_score  \n",
       "0       3.360100e+10  1.998852e+00  \n",
       "1       3.360100e+10  1.998979e+00  \n",
       "2       3.360100e+10  1.998776e+00  \n",
       "3       3.360101e+10  1.999284e+00  \n",
       "4       3.360101e+10  1.996199e+00  \n",
       "...              ...           ...  \n",
       "106852  3.379000e+10  1.998900e+00  \n",
       "106853  4.188282e+10  1.570092e-16  \n",
       "106854  3.197021e+12  1.998787e+00  \n",
       "106855  3.370000e+14  1.998783e+00  \n",
       "106856  8.823971e+14  1.998787e+00  \n",
       "\n",
       "[106857 rows x 7 columns]"
      ]
     },
     "execution_count": 217,
     "metadata": {},
     "output_type": "execute_result"
    }
   ],
   "source": [
    "exp_dist"
   ]
  },
  {
   "cell_type": "code",
   "execution_count": 218,
   "metadata": {},
   "outputs": [],
   "source": [
    "exp_dist.users =exp_dist.users.astype('int64')"
   ]
  },
  {
   "cell_type": "code",
   "execution_count": 219,
   "metadata": {},
   "outputs": [
    {
     "data": {
      "text/html": [
       "<div>\n",
       "<style scoped>\n",
       "    .dataframe tbody tr th:only-of-type {\n",
       "        vertical-align: middle;\n",
       "    }\n",
       "\n",
       "    .dataframe tbody tr th {\n",
       "        vertical-align: top;\n",
       "    }\n",
       "\n",
       "    .dataframe thead th {\n",
       "        text-align: right;\n",
       "    }\n",
       "</style>\n",
       "<table border=\"1\" class=\"dataframe\">\n",
       "  <thead>\n",
       "    <tr style=\"text-align: right;\">\n",
       "      <th></th>\n",
       "      <th>rtt_sum</th>\n",
       "      <th>trp_sum</th>\n",
       "      <th>tcp_sum</th>\n",
       "      <th>handset_count</th>\n",
       "      <th>clusters</th>\n",
       "      <th>users</th>\n",
       "      <th>exp_score</th>\n",
       "    </tr>\n",
       "  </thead>\n",
       "  <tbody>\n",
       "    <tr>\n",
       "      <th>0</th>\n",
       "      <td>46.000000</td>\n",
       "      <td>7.600000e+01</td>\n",
       "      <td>1.235566e+06</td>\n",
       "      <td>1</td>\n",
       "      <td>0</td>\n",
       "      <td>33601001722</td>\n",
       "      <td>1.998852e+00</td>\n",
       "    </tr>\n",
       "    <tr>\n",
       "      <th>1</th>\n",
       "      <td>31.000000</td>\n",
       "      <td>9.900000e+01</td>\n",
       "      <td>1.235566e+06</td>\n",
       "      <td>1</td>\n",
       "      <td>0</td>\n",
       "      <td>33601001754</td>\n",
       "      <td>1.998979e+00</td>\n",
       "    </tr>\n",
       "    <tr>\n",
       "      <th>2</th>\n",
       "      <td>54.613090</td>\n",
       "      <td>9.700000e+01</td>\n",
       "      <td>1.235566e+06</td>\n",
       "      <td>1</td>\n",
       "      <td>0</td>\n",
       "      <td>33601002511</td>\n",
       "      <td>1.998776e+00</td>\n",
       "    </tr>\n",
       "    <tr>\n",
       "      <th>3</th>\n",
       "      <td>84.000000</td>\n",
       "      <td>2.480000e+02</td>\n",
       "      <td>3.301360e+04</td>\n",
       "      <td>1</td>\n",
       "      <td>0</td>\n",
       "      <td>33601007832</td>\n",
       "      <td>1.999284e+00</td>\n",
       "    </tr>\n",
       "    <tr>\n",
       "      <th>4</th>\n",
       "      <td>119.000000</td>\n",
       "      <td>7.162046e+03</td>\n",
       "      <td>2.471132e+06</td>\n",
       "      <td>2</td>\n",
       "      <td>0</td>\n",
       "      <td>33601008617</td>\n",
       "      <td>1.996199e+00</td>\n",
       "    </tr>\n",
       "    <tr>\n",
       "      <th>...</th>\n",
       "      <td>...</td>\n",
       "      <td>...</td>\n",
       "      <td>...</td>\n",
       "      <td>...</td>\n",
       "      <td>...</td>\n",
       "      <td>...</td>\n",
       "      <td>...</td>\n",
       "    </tr>\n",
       "    <tr>\n",
       "      <th>106852</th>\n",
       "      <td>40.000000</td>\n",
       "      <td>1.160000e+02</td>\n",
       "      <td>1.235566e+06</td>\n",
       "      <td>1</td>\n",
       "      <td>0</td>\n",
       "      <td>33789997247</td>\n",
       "      <td>1.998900e+00</td>\n",
       "    </tr>\n",
       "    <tr>\n",
       "      <th>106853</th>\n",
       "      <td>58362.616409</td>\n",
       "      <td>4.652915e+06</td>\n",
       "      <td>7.750170e+08</td>\n",
       "      <td>1066</td>\n",
       "      <td>1</td>\n",
       "      <td>41882819545</td>\n",
       "      <td>1.570092e-16</td>\n",
       "    </tr>\n",
       "    <tr>\n",
       "      <th>106854</th>\n",
       "      <td>54.613090</td>\n",
       "      <td>1.000000e+00</td>\n",
       "      <td>1.235566e+06</td>\n",
       "      <td>1</td>\n",
       "      <td>0</td>\n",
       "      <td>3197020876596</td>\n",
       "      <td>1.998787e+00</td>\n",
       "    </tr>\n",
       "    <tr>\n",
       "      <th>106855</th>\n",
       "      <td>54.613090</td>\n",
       "      <td>3.300000e+01</td>\n",
       "      <td>1.235566e+06</td>\n",
       "      <td>1</td>\n",
       "      <td>0</td>\n",
       "      <td>337000037000919</td>\n",
       "      <td>1.998783e+00</td>\n",
       "    </tr>\n",
       "    <tr>\n",
       "      <th>106856</th>\n",
       "      <td>54.613090</td>\n",
       "      <td>2.000000e+00</td>\n",
       "      <td>1.235566e+06</td>\n",
       "      <td>1</td>\n",
       "      <td>0</td>\n",
       "      <td>882397108489451</td>\n",
       "      <td>1.998787e+00</td>\n",
       "    </tr>\n",
       "  </tbody>\n",
       "</table>\n",
       "<p>106857 rows × 7 columns</p>\n",
       "</div>"
      ],
      "text/plain": [
       "             rtt_sum       trp_sum       tcp_sum  handset_count  clusters  \\\n",
       "0          46.000000  7.600000e+01  1.235566e+06              1         0   \n",
       "1          31.000000  9.900000e+01  1.235566e+06              1         0   \n",
       "2          54.613090  9.700000e+01  1.235566e+06              1         0   \n",
       "3          84.000000  2.480000e+02  3.301360e+04              1         0   \n",
       "4         119.000000  7.162046e+03  2.471132e+06              2         0   \n",
       "...              ...           ...           ...            ...       ...   \n",
       "106852     40.000000  1.160000e+02  1.235566e+06              1         0   \n",
       "106853  58362.616409  4.652915e+06  7.750170e+08           1066         1   \n",
       "106854     54.613090  1.000000e+00  1.235566e+06              1         0   \n",
       "106855     54.613090  3.300000e+01  1.235566e+06              1         0   \n",
       "106856     54.613090  2.000000e+00  1.235566e+06              1         0   \n",
       "\n",
       "                  users     exp_score  \n",
       "0           33601001722  1.998852e+00  \n",
       "1           33601001754  1.998979e+00  \n",
       "2           33601002511  1.998776e+00  \n",
       "3           33601007832  1.999284e+00  \n",
       "4           33601008617  1.996199e+00  \n",
       "...                 ...           ...  \n",
       "106852      33789997247  1.998900e+00  \n",
       "106853      41882819545  1.570092e-16  \n",
       "106854    3197020876596  1.998787e+00  \n",
       "106855  337000037000919  1.998783e+00  \n",
       "106856  882397108489451  1.998787e+00  \n",
       "\n",
       "[106857 rows x 7 columns]"
      ]
     },
     "execution_count": 219,
     "metadata": {},
     "output_type": "execute_result"
    }
   ],
   "source": [
    "exp_dist"
   ]
  },
  {
   "cell_type": "markdown",
   "metadata": {},
   "source": [
    "C"
   ]
  },
  {
   "cell_type": "markdown",
   "metadata": {},
   "source": [
    "> calculate satisfaction score"
   ]
  },
  {
   "cell_type": "code",
   "execution_count": 220,
   "metadata": {},
   "outputs": [],
   "source": [
    "exp_dist_select = exp_dist[['users', 'exp_score']]\n",
    "eng_dist_select = eng_dist[['users', 'eng_score']]"
   ]
  },
  {
   "cell_type": "code",
   "execution_count": 221,
   "metadata": {},
   "outputs": [],
   "source": [
    "sat_table = exp_dist_select.merge(eng_dist_select, on='users')"
   ]
  },
  {
   "cell_type": "code",
   "execution_count": 222,
   "metadata": {},
   "outputs": [],
   "source": [
    "sat_table['sat_score'] = (sat_table.exp_score + sat_table.eng_score)/2"
   ]
  },
  {
   "cell_type": "code",
   "execution_count": 223,
   "metadata": {},
   "outputs": [
    {
     "data": {
      "text/html": [
       "<div>\n",
       "<style scoped>\n",
       "    .dataframe tbody tr th:only-of-type {\n",
       "        vertical-align: middle;\n",
       "    }\n",
       "\n",
       "    .dataframe tbody tr th {\n",
       "        vertical-align: top;\n",
       "    }\n",
       "\n",
       "    .dataframe thead th {\n",
       "        text-align: right;\n",
       "    }\n",
       "</style>\n",
       "<table border=\"1\" class=\"dataframe\">\n",
       "  <thead>\n",
       "    <tr style=\"text-align: right;\">\n",
       "      <th></th>\n",
       "      <th>users</th>\n",
       "      <th>exp_score</th>\n",
       "      <th>eng_score</th>\n",
       "      <th>sat_score</th>\n",
       "    </tr>\n",
       "  </thead>\n",
       "  <tbody>\n",
       "    <tr>\n",
       "      <th>0</th>\n",
       "      <td>33601001722</td>\n",
       "      <td>1.998852e+00</td>\n",
       "      <td>0.205234</td>\n",
       "      <td>1.102043</td>\n",
       "    </tr>\n",
       "    <tr>\n",
       "      <th>1</th>\n",
       "      <td>33601001754</td>\n",
       "      <td>1.998979e+00</td>\n",
       "      <td>0.055646</td>\n",
       "      <td>1.027312</td>\n",
       "    </tr>\n",
       "    <tr>\n",
       "      <th>2</th>\n",
       "      <td>33601002511</td>\n",
       "      <td>1.998776e+00</td>\n",
       "      <td>0.422625</td>\n",
       "      <td>1.210701</td>\n",
       "    </tr>\n",
       "    <tr>\n",
       "      <th>3</th>\n",
       "      <td>33601007832</td>\n",
       "      <td>1.999284e+00</td>\n",
       "      <td>0.422625</td>\n",
       "      <td>1.210955</td>\n",
       "    </tr>\n",
       "    <tr>\n",
       "      <th>4</th>\n",
       "      <td>33601008617</td>\n",
       "      <td>1.996199e+00</td>\n",
       "      <td>0.292194</td>\n",
       "      <td>1.144197</td>\n",
       "    </tr>\n",
       "    <tr>\n",
       "      <th>...</th>\n",
       "      <td>...</td>\n",
       "      <td>...</td>\n",
       "      <td>...</td>\n",
       "      <td>...</td>\n",
       "    </tr>\n",
       "    <tr>\n",
       "      <th>106852</th>\n",
       "      <td>33789997247</td>\n",
       "      <td>1.998900e+00</td>\n",
       "      <td>0.509581</td>\n",
       "      <td>1.254240</td>\n",
       "    </tr>\n",
       "    <tr>\n",
       "      <th>106853</th>\n",
       "      <td>41882819545</td>\n",
       "      <td>1.570092e-16</td>\n",
       "      <td>1.427949</td>\n",
       "      <td>0.713974</td>\n",
       "    </tr>\n",
       "    <tr>\n",
       "      <th>106854</th>\n",
       "      <td>3197020876596</td>\n",
       "      <td>1.998787e+00</td>\n",
       "      <td>0.857408</td>\n",
       "      <td>1.428097</td>\n",
       "    </tr>\n",
       "    <tr>\n",
       "      <th>106855</th>\n",
       "      <td>337000037000919</td>\n",
       "      <td>1.998783e+00</td>\n",
       "      <td>0.857407</td>\n",
       "      <td>1.428095</td>\n",
       "    </tr>\n",
       "    <tr>\n",
       "      <th>106856</th>\n",
       "      <td>882397108489451</td>\n",
       "      <td>1.998787e+00</td>\n",
       "      <td>0.857408</td>\n",
       "      <td>1.428097</td>\n",
       "    </tr>\n",
       "  </tbody>\n",
       "</table>\n",
       "<p>106857 rows × 4 columns</p>\n",
       "</div>"
      ],
      "text/plain": [
       "                  users     exp_score  eng_score  sat_score\n",
       "0           33601001722  1.998852e+00   0.205234   1.102043\n",
       "1           33601001754  1.998979e+00   0.055646   1.027312\n",
       "2           33601002511  1.998776e+00   0.422625   1.210701\n",
       "3           33601007832  1.999284e+00   0.422625   1.210955\n",
       "4           33601008617  1.996199e+00   0.292194   1.144197\n",
       "...                 ...           ...        ...        ...\n",
       "106852      33789997247  1.998900e+00   0.509581   1.254240\n",
       "106853      41882819545  1.570092e-16   1.427949   0.713974\n",
       "106854    3197020876596  1.998787e+00   0.857408   1.428097\n",
       "106855  337000037000919  1.998783e+00   0.857407   1.428095\n",
       "106856  882397108489451  1.998787e+00   0.857408   1.428097\n",
       "\n",
       "[106857 rows x 4 columns]"
      ]
     },
     "execution_count": 223,
     "metadata": {},
     "output_type": "execute_result"
    }
   ],
   "source": [
    "sat_table"
   ]
  },
  {
   "cell_type": "markdown",
   "metadata": {},
   "source": [
    "> Top Ten Satisfied Customer"
   ]
  },
  {
   "cell_type": "code",
   "execution_count": 224,
   "metadata": {},
   "outputs": [],
   "source": [
    "top10_sat = sat_table.nlargest(10, columns=['sat_score'])"
   ]
  },
  {
   "cell_type": "code",
   "execution_count": 225,
   "metadata": {},
   "outputs": [
    {
     "data": {
      "text/html": [
       "<div>\n",
       "<style scoped>\n",
       "    .dataframe tbody tr th:only-of-type {\n",
       "        vertical-align: middle;\n",
       "    }\n",
       "\n",
       "    .dataframe tbody tr th {\n",
       "        vertical-align: top;\n",
       "    }\n",
       "\n",
       "    .dataframe thead th {\n",
       "        text-align: right;\n",
       "    }\n",
       "</style>\n",
       "<table border=\"1\" class=\"dataframe\">\n",
       "  <thead>\n",
       "    <tr style=\"text-align: right;\">\n",
       "      <th></th>\n",
       "      <th>users</th>\n",
       "      <th>exp_score</th>\n",
       "      <th>eng_score</th>\n",
       "      <th>sat_score</th>\n",
       "    </tr>\n",
       "  </thead>\n",
       "  <tbody>\n",
       "    <tr>\n",
       "      <th>95015</th>\n",
       "      <td>33761436020</td>\n",
       "      <td>1.999842</td>\n",
       "      <td>0.857407</td>\n",
       "      <td>1.428624</td>\n",
       "    </tr>\n",
       "    <tr>\n",
       "      <th>54341</th>\n",
       "      <td>33663881799</td>\n",
       "      <td>1.999810</td>\n",
       "      <td>0.857407</td>\n",
       "      <td>1.428609</td>\n",
       "    </tr>\n",
       "    <tr>\n",
       "      <th>34241</th>\n",
       "      <td>33659108906</td>\n",
       "      <td>1.999808</td>\n",
       "      <td>0.857408</td>\n",
       "      <td>1.428608</td>\n",
       "    </tr>\n",
       "    <tr>\n",
       "      <th>98365</th>\n",
       "      <td>33762693682</td>\n",
       "      <td>1.999803</td>\n",
       "      <td>0.857408</td>\n",
       "      <td>1.428605</td>\n",
       "    </tr>\n",
       "    <tr>\n",
       "      <th>72243</th>\n",
       "      <td>33669501468</td>\n",
       "      <td>1.999784</td>\n",
       "      <td>0.857408</td>\n",
       "      <td>1.428596</td>\n",
       "    </tr>\n",
       "    <tr>\n",
       "      <th>40134</th>\n",
       "      <td>33660454121</td>\n",
       "      <td>1.999782</td>\n",
       "      <td>0.857408</td>\n",
       "      <td>1.428595</td>\n",
       "    </tr>\n",
       "    <tr>\n",
       "      <th>55717</th>\n",
       "      <td>33664278756</td>\n",
       "      <td>1.999778</td>\n",
       "      <td>0.857407</td>\n",
       "      <td>1.428593</td>\n",
       "    </tr>\n",
       "    <tr>\n",
       "      <th>106484</th>\n",
       "      <td>33787720685</td>\n",
       "      <td>1.999773</td>\n",
       "      <td>0.857407</td>\n",
       "      <td>1.428590</td>\n",
       "    </tr>\n",
       "    <tr>\n",
       "      <th>81420</th>\n",
       "      <td>33685997930</td>\n",
       "      <td>1.999766</td>\n",
       "      <td>0.857407</td>\n",
       "      <td>1.428587</td>\n",
       "    </tr>\n",
       "    <tr>\n",
       "      <th>48739</th>\n",
       "      <td>33662485258</td>\n",
       "      <td>1.999765</td>\n",
       "      <td>0.857408</td>\n",
       "      <td>1.428586</td>\n",
       "    </tr>\n",
       "  </tbody>\n",
       "</table>\n",
       "</div>"
      ],
      "text/plain": [
       "              users  exp_score  eng_score  sat_score\n",
       "95015   33761436020   1.999842   0.857407   1.428624\n",
       "54341   33663881799   1.999810   0.857407   1.428609\n",
       "34241   33659108906   1.999808   0.857408   1.428608\n",
       "98365   33762693682   1.999803   0.857408   1.428605\n",
       "72243   33669501468   1.999784   0.857408   1.428596\n",
       "40134   33660454121   1.999782   0.857408   1.428595\n",
       "55717   33664278756   1.999778   0.857407   1.428593\n",
       "106484  33787720685   1.999773   0.857407   1.428590\n",
       "81420   33685997930   1.999766   0.857407   1.428587\n",
       "48739   33662485258   1.999765   0.857408   1.428586"
      ]
     },
     "execution_count": 225,
     "metadata": {},
     "output_type": "execute_result"
    }
   ],
   "source": [
    "top10_sat"
   ]
  },
  {
   "cell_type": "code",
   "execution_count": 226,
   "metadata": {},
   "outputs": [
    {
     "data": {
      "image/png": "[encoded data removed]",
      "text/plain": [
       "<Figure size 1080x720 with 1 Axes>"
      ]
     },
     "metadata": {
      "needs_background": "light"
     },
     "output_type": "display_data"
    }
   ],
   "source": [
    "top10_sat.plot.bar(x='users', figsize=(15,10))\n",
    "plt.title('Top Ten Satisfied Customers', fontsize=18, color='r')\n",
    "plt.xlabel('Users', fontsize=15)\n",
    "plt.ylabel('Scores', fontsize=15)\n",
    "plt.xticks(fontsize=13)\n",
    "plt.yticks(fontsize=13)\n",
    "plt.savefig('visuals/user_satisfaction/top10Satisfied.png', format='png')"
   ]
  },
  {
   "cell_type": "markdown",
   "metadata": {},
   "source": [
    " "
   ]
  },
  {
   "cell_type": "markdown",
   "metadata": {},
   "source": [
    "##### Research Question 2\n",
    "\n",
    "- Predicting Customer Satisfaction\n",
    "    \n",
    "- -        Run a regression model of your choice to predict the satisfaction score of a customer\n",
    "            "
   ]
  },
  {
   "cell_type": "markdown",
   "metadata": {},
   "source": [
    "#### I would be making use of a simple Linear Regression Model to predict satisfaction score"
   ]
  },
  {
   "cell_type": "markdown",
   "metadata": {},
   "source": [
    "> To predict satisfaction score, we would be working with two predictor variables:\n",
    "    \n",
    "    1. engagement score\n",
    "    2. experience score"
   ]
  },
  {
   "cell_type": "markdown",
   "metadata": {},
   "source": [
    "> First let's observe the relationship between our target variable (satisfactin score)  & predictor variables"
   ]
  },
  {
   "cell_type": "code",
   "execution_count": 227,
   "metadata": {},
   "outputs": [
    {
     "data": {
      "text/html": [
       "<div>\n",
       "<style scoped>\n",
       "    .dataframe tbody tr th:only-of-type {\n",
       "        vertical-align: middle;\n",
       "    }\n",
       "\n",
       "    .dataframe tbody tr th {\n",
       "        vertical-align: top;\n",
       "    }\n",
       "\n",
       "    .dataframe thead th {\n",
       "        text-align: right;\n",
       "    }\n",
       "</style>\n",
       "<table border=\"1\" class=\"dataframe\">\n",
       "  <thead>\n",
       "    <tr style=\"text-align: right;\">\n",
       "      <th></th>\n",
       "      <th>users</th>\n",
       "      <th>exp_score</th>\n",
       "      <th>eng_score</th>\n",
       "      <th>sat_score</th>\n",
       "    </tr>\n",
       "  </thead>\n",
       "  <tbody>\n",
       "    <tr>\n",
       "      <th>0</th>\n",
       "      <td>33601001722</td>\n",
       "      <td>1.998852e+00</td>\n",
       "      <td>0.205234</td>\n",
       "      <td>1.102043</td>\n",
       "    </tr>\n",
       "    <tr>\n",
       "      <th>1</th>\n",
       "      <td>33601001754</td>\n",
       "      <td>1.998979e+00</td>\n",
       "      <td>0.055646</td>\n",
       "      <td>1.027312</td>\n",
       "    </tr>\n",
       "    <tr>\n",
       "      <th>2</th>\n",
       "      <td>33601002511</td>\n",
       "      <td>1.998776e+00</td>\n",
       "      <td>0.422625</td>\n",
       "      <td>1.210701</td>\n",
       "    </tr>\n",
       "    <tr>\n",
       "      <th>3</th>\n",
       "      <td>33601007832</td>\n",
       "      <td>1.999284e+00</td>\n",
       "      <td>0.422625</td>\n",
       "      <td>1.210955</td>\n",
       "    </tr>\n",
       "    <tr>\n",
       "      <th>4</th>\n",
       "      <td>33601008617</td>\n",
       "      <td>1.996199e+00</td>\n",
       "      <td>0.292194</td>\n",
       "      <td>1.144197</td>\n",
       "    </tr>\n",
       "    <tr>\n",
       "      <th>...</th>\n",
       "      <td>...</td>\n",
       "      <td>...</td>\n",
       "      <td>...</td>\n",
       "      <td>...</td>\n",
       "    </tr>\n",
       "    <tr>\n",
       "      <th>106852</th>\n",
       "      <td>33789997247</td>\n",
       "      <td>1.998900e+00</td>\n",
       "      <td>0.509581</td>\n",
       "      <td>1.254240</td>\n",
       "    </tr>\n",
       "    <tr>\n",
       "      <th>106853</th>\n",
       "      <td>41882819545</td>\n",
       "      <td>1.570092e-16</td>\n",
       "      <td>1.427949</td>\n",
       "      <td>0.713974</td>\n",
       "    </tr>\n",
       "    <tr>\n",
       "      <th>106854</th>\n",
       "      <td>3197020876596</td>\n",
       "      <td>1.998787e+00</td>\n",
       "      <td>0.857408</td>\n",
       "      <td>1.428097</td>\n",
       "    </tr>\n",
       "    <tr>\n",
       "      <th>106855</th>\n",
       "      <td>337000037000919</td>\n",
       "      <td>1.998783e+00</td>\n",
       "      <td>0.857407</td>\n",
       "      <td>1.428095</td>\n",
       "    </tr>\n",
       "    <tr>\n",
       "      <th>106856</th>\n",
       "      <td>882397108489451</td>\n",
       "      <td>1.998787e+00</td>\n",
       "      <td>0.857408</td>\n",
       "      <td>1.428097</td>\n",
       "    </tr>\n",
       "  </tbody>\n",
       "</table>\n",
       "<p>106857 rows × 4 columns</p>\n",
       "</div>"
      ],
      "text/plain": [
       "                  users     exp_score  eng_score  sat_score\n",
       "0           33601001722  1.998852e+00   0.205234   1.102043\n",
       "1           33601001754  1.998979e+00   0.055646   1.027312\n",
       "2           33601002511  1.998776e+00   0.422625   1.210701\n",
       "3           33601007832  1.999284e+00   0.422625   1.210955\n",
       "4           33601008617  1.996199e+00   0.292194   1.144197\n",
       "...                 ...           ...        ...        ...\n",
       "106852      33789997247  1.998900e+00   0.509581   1.254240\n",
       "106853      41882819545  1.570092e-16   1.427949   0.713974\n",
       "106854    3197020876596  1.998787e+00   0.857408   1.428097\n",
       "106855  337000037000919  1.998783e+00   0.857407   1.428095\n",
       "106856  882397108489451  1.998787e+00   0.857408   1.428097\n",
       "\n",
       "[106857 rows x 4 columns]"
      ]
     },
     "execution_count": 227,
     "metadata": {},
     "output_type": "execute_result"
    }
   ],
   "source": [
    "sat_table"
   ]
  },
  {
   "cell_type": "code",
   "execution_count": 228,
   "metadata": {},
   "outputs": [
    {
     "data": {
      "text/plain": [
       "<matplotlib.collections.PathCollection at 0x7fc0644ba748>"
      ]
     },
     "execution_count": 228,
     "metadata": {},
     "output_type": "execute_result"
    },
    {
     "data": {
      "image/png": "[encoded data removed]",
      "text/plain": [
       "<Figure size 432x288 with 1 Axes>"
      ]
     },
     "metadata": {
      "needs_background": "light"
     },
     "output_type": "display_data"
    }
   ],
   "source": [
    "plt.scatter(x=sat_table.exp_score, y=sat_table.sat_score)"
   ]
  },
  {
   "cell_type": "code",
   "execution_count": 229,
   "metadata": {},
   "outputs": [
    {
     "data": {
      "text/plain": [
       "<matplotlib.collections.PathCollection at 0x7fc067e8a160>"
      ]
     },
     "execution_count": 229,
     "metadata": {},
     "output_type": "execute_result"
    },
    {
     "data": {
      "image/png": "[encoded data removed]",
      "text/plain": [
       "<Figure size 432x288 with 1 Axes>"
      ]
     },
     "metadata": {
      "needs_background": "light"
     },
     "output_type": "display_data"
    }
   ],
   "source": [
    "plt.scatter(x=sat_table.eng_score, y=sat_table.sat_score)"
   ]
  },
  {
   "cell_type": "code",
   "execution_count": 230,
   "metadata": {},
   "outputs": [
    {
     "data": {
      "text/plain": [
       "<matplotlib.collections.PathCollection at 0x7fc067e63cc0>"
      ]
     },
     "execution_count": 230,
     "metadata": {},
     "output_type": "execute_result"
    },
    {
     "data": {
      "image/png": "[encoded data removed]",
      "text/plain": [
       "<Figure size 432x288 with 1 Axes>"
      ]
     },
     "metadata": {
      "needs_background": "light"
     },
     "output_type": "display_data"
    }
   ],
   "source": [
    "plt.scatter(x=(sat_table.eng_score * sat_table.exp_score) , y=sat_table.sat_score)"
   ]
  },
  {
   "cell_type": "markdown",
   "metadata": {},
   "source": [
    "> We cna observe a strong positive relationship between the predictor variables and the target variable"
   ]
  },
  {
   "cell_type": "markdown",
   "metadata": {},
   "source": [
    ">  Split dataset into 70% train and 30% test"
   ]
  },
  {
   "cell_type": "code",
   "execution_count": 231,
   "metadata": {},
   "outputs": [],
   "source": [
    "x_data = sat_table[['exp_score', 'eng_score']]"
   ]
  },
  {
   "cell_type": "code",
   "execution_count": 232,
   "metadata": {},
   "outputs": [],
   "source": [
    "y_data = sat_table[['sat_score']]"
   ]
  },
  {
   "cell_type": "code",
   "execution_count": 233,
   "metadata": {},
   "outputs": [
    {
     "data": {
      "text/html": [
       "<div>\n",
       "<style scoped>\n",
       "    .dataframe tbody tr th:only-of-type {\n",
       "        vertical-align: middle;\n",
       "    }\n",
       "\n",
       "    .dataframe tbody tr th {\n",
       "        vertical-align: top;\n",
       "    }\n",
       "\n",
       "    .dataframe thead th {\n",
       "        text-align: right;\n",
       "    }\n",
       "</style>\n",
       "<table border=\"1\" class=\"dataframe\">\n",
       "  <thead>\n",
       "    <tr style=\"text-align: right;\">\n",
       "      <th></th>\n",
       "      <th>exp_score</th>\n",
       "      <th>eng_score</th>\n",
       "    </tr>\n",
       "  </thead>\n",
       "  <tbody>\n",
       "    <tr>\n",
       "      <th>0</th>\n",
       "      <td>1.998852e+00</td>\n",
       "      <td>0.205234</td>\n",
       "    </tr>\n",
       "    <tr>\n",
       "      <th>1</th>\n",
       "      <td>1.998979e+00</td>\n",
       "      <td>0.055646</td>\n",
       "    </tr>\n",
       "    <tr>\n",
       "      <th>2</th>\n",
       "      <td>1.998776e+00</td>\n",
       "      <td>0.422625</td>\n",
       "    </tr>\n",
       "    <tr>\n",
       "      <th>3</th>\n",
       "      <td>1.999284e+00</td>\n",
       "      <td>0.422625</td>\n",
       "    </tr>\n",
       "    <tr>\n",
       "      <th>4</th>\n",
       "      <td>1.996199e+00</td>\n",
       "      <td>0.292194</td>\n",
       "    </tr>\n",
       "    <tr>\n",
       "      <th>...</th>\n",
       "      <td>...</td>\n",
       "      <td>...</td>\n",
       "    </tr>\n",
       "    <tr>\n",
       "      <th>106852</th>\n",
       "      <td>1.998900e+00</td>\n",
       "      <td>0.509581</td>\n",
       "    </tr>\n",
       "    <tr>\n",
       "      <th>106853</th>\n",
       "      <td>1.570092e-16</td>\n",
       "      <td>1.427949</td>\n",
       "    </tr>\n",
       "    <tr>\n",
       "      <th>106854</th>\n",
       "      <td>1.998787e+00</td>\n",
       "      <td>0.857408</td>\n",
       "    </tr>\n",
       "    <tr>\n",
       "      <th>106855</th>\n",
       "      <td>1.998783e+00</td>\n",
       "      <td>0.857407</td>\n",
       "    </tr>\n",
       "    <tr>\n",
       "      <th>106856</th>\n",
       "      <td>1.998787e+00</td>\n",
       "      <td>0.857408</td>\n",
       "    </tr>\n",
       "  </tbody>\n",
       "</table>\n",
       "<p>106857 rows × 2 columns</p>\n",
       "</div>"
      ],
      "text/plain": [
       "           exp_score  eng_score\n",
       "0       1.998852e+00   0.205234\n",
       "1       1.998979e+00   0.055646\n",
       "2       1.998776e+00   0.422625\n",
       "3       1.999284e+00   0.422625\n",
       "4       1.996199e+00   0.292194\n",
       "...              ...        ...\n",
       "106852  1.998900e+00   0.509581\n",
       "106853  1.570092e-16   1.427949\n",
       "106854  1.998787e+00   0.857408\n",
       "106855  1.998783e+00   0.857407\n",
       "106856  1.998787e+00   0.857408\n",
       "\n",
       "[106857 rows x 2 columns]"
      ]
     },
     "execution_count": 233,
     "metadata": {},
     "output_type": "execute_result"
    }
   ],
   "source": [
    "x_data"
   ]
  },
  {
   "cell_type": "code",
   "execution_count": 234,
   "metadata": {},
   "outputs": [
    {
     "data": {
      "text/html": [
       "<div>\n",
       "<style scoped>\n",
       "    .dataframe tbody tr th:only-of-type {\n",
       "        vertical-align: middle;\n",
       "    }\n",
       "\n",
       "    .dataframe tbody tr th {\n",
       "        vertical-align: top;\n",
       "    }\n",
       "\n",
       "    .dataframe thead th {\n",
       "        text-align: right;\n",
       "    }\n",
       "</style>\n",
       "<table border=\"1\" class=\"dataframe\">\n",
       "  <thead>\n",
       "    <tr style=\"text-align: right;\">\n",
       "      <th></th>\n",
       "      <th>sat_score</th>\n",
       "    </tr>\n",
       "  </thead>\n",
       "  <tbody>\n",
       "    <tr>\n",
       "      <th>0</th>\n",
       "      <td>1.102043</td>\n",
       "    </tr>\n",
       "    <tr>\n",
       "      <th>1</th>\n",
       "      <td>1.027312</td>\n",
       "    </tr>\n",
       "    <tr>\n",
       "      <th>2</th>\n",
       "      <td>1.210701</td>\n",
       "    </tr>\n",
       "    <tr>\n",
       "      <th>3</th>\n",
       "      <td>1.210955</td>\n",
       "    </tr>\n",
       "    <tr>\n",
       "      <th>4</th>\n",
       "      <td>1.144197</td>\n",
       "    </tr>\n",
       "    <tr>\n",
       "      <th>...</th>\n",
       "      <td>...</td>\n",
       "    </tr>\n",
       "    <tr>\n",
       "      <th>106852</th>\n",
       "      <td>1.254240</td>\n",
       "    </tr>\n",
       "    <tr>\n",
       "      <th>106853</th>\n",
       "      <td>0.713974</td>\n",
       "    </tr>\n",
       "    <tr>\n",
       "      <th>106854</th>\n",
       "      <td>1.428097</td>\n",
       "    </tr>\n",
       "    <tr>\n",
       "      <th>106855</th>\n",
       "      <td>1.428095</td>\n",
       "    </tr>\n",
       "    <tr>\n",
       "      <th>106856</th>\n",
       "      <td>1.428097</td>\n",
       "    </tr>\n",
       "  </tbody>\n",
       "</table>\n",
       "<p>106857 rows × 1 columns</p>\n",
       "</div>"
      ],
      "text/plain": [
       "        sat_score\n",
       "0        1.102043\n",
       "1        1.027312\n",
       "2        1.210701\n",
       "3        1.210955\n",
       "4        1.144197\n",
       "...           ...\n",
       "106852   1.254240\n",
       "106853   0.713974\n",
       "106854   1.428097\n",
       "106855   1.428095\n",
       "106856   1.428097\n",
       "\n",
       "[106857 rows x 1 columns]"
      ]
     },
     "execution_count": 234,
     "metadata": {},
     "output_type": "execute_result"
    }
   ],
   "source": [
    "y_data"
   ]
  },
  {
   "cell_type": "code",
   "execution_count": 235,
   "metadata": {},
   "outputs": [],
   "source": [
    "x_train, x_test, y_train, y_test = train_test_split(x_data, y_data, test_size=0.3)"
   ]
  },
  {
   "cell_type": "code",
   "execution_count": 236,
   "metadata": {},
   "outputs": [
    {
     "data": {
      "text/html": [
       "<div>\n",
       "<style scoped>\n",
       "    .dataframe tbody tr th:only-of-type {\n",
       "        vertical-align: middle;\n",
       "    }\n",
       "\n",
       "    .dataframe tbody tr th {\n",
       "        vertical-align: top;\n",
       "    }\n",
       "\n",
       "    .dataframe thead th {\n",
       "        text-align: right;\n",
       "    }\n",
       "</style>\n",
       "<table border=\"1\" class=\"dataframe\">\n",
       "  <thead>\n",
       "    <tr style=\"text-align: right;\">\n",
       "      <th></th>\n",
       "      <th>exp_score</th>\n",
       "      <th>eng_score</th>\n",
       "    </tr>\n",
       "  </thead>\n",
       "  <tbody>\n",
       "    <tr>\n",
       "      <th>33796</th>\n",
       "      <td>1.998778</td>\n",
       "      <td>0.161756</td>\n",
       "    </tr>\n",
       "    <tr>\n",
       "      <th>41538</th>\n",
       "      <td>1.999041</td>\n",
       "      <td>0.857407</td>\n",
       "    </tr>\n",
       "    <tr>\n",
       "      <th>65512</th>\n",
       "      <td>1.999005</td>\n",
       "      <td>0.248714</td>\n",
       "    </tr>\n",
       "    <tr>\n",
       "      <th>48427</th>\n",
       "      <td>1.998968</td>\n",
       "      <td>0.813929</td>\n",
       "    </tr>\n",
       "    <tr>\n",
       "      <th>7998</th>\n",
       "      <td>1.994021</td>\n",
       "      <td>0.857415</td>\n",
       "    </tr>\n",
       "    <tr>\n",
       "      <th>...</th>\n",
       "      <td>...</td>\n",
       "      <td>...</td>\n",
       "    </tr>\n",
       "    <tr>\n",
       "      <th>72674</th>\n",
       "      <td>1.993439</td>\n",
       "      <td>0.142610</td>\n",
       "    </tr>\n",
       "    <tr>\n",
       "      <th>44427</th>\n",
       "      <td>1.998961</td>\n",
       "      <td>0.857408</td>\n",
       "    </tr>\n",
       "    <tr>\n",
       "      <th>79385</th>\n",
       "      <td>1.998750</td>\n",
       "      <td>0.857407</td>\n",
       "    </tr>\n",
       "    <tr>\n",
       "      <th>84368</th>\n",
       "      <td>1.999127</td>\n",
       "      <td>0.012184</td>\n",
       "    </tr>\n",
       "    <tr>\n",
       "      <th>53756</th>\n",
       "      <td>1.992763</td>\n",
       "      <td>0.857413</td>\n",
       "    </tr>\n",
       "  </tbody>\n",
       "</table>\n",
       "<p>74799 rows × 2 columns</p>\n",
       "</div>"
      ],
      "text/plain": [
       "       exp_score  eng_score\n",
       "33796   1.998778   0.161756\n",
       "41538   1.999041   0.857407\n",
       "65512   1.999005   0.248714\n",
       "48427   1.998968   0.813929\n",
       "7998    1.994021   0.857415\n",
       "...          ...        ...\n",
       "72674   1.993439   0.142610\n",
       "44427   1.998961   0.857408\n",
       "79385   1.998750   0.857407\n",
       "84368   1.999127   0.012184\n",
       "53756   1.992763   0.857413\n",
       "\n",
       "[74799 rows x 2 columns]"
      ]
     },
     "execution_count": 236,
     "metadata": {},
     "output_type": "execute_result"
    }
   ],
   "source": [
    "x_train"
   ]
  },
  {
   "cell_type": "code",
   "execution_count": 237,
   "metadata": {},
   "outputs": [
    {
     "data": {
      "text/html": [
       "<div>\n",
       "<style scoped>\n",
       "    .dataframe tbody tr th:only-of-type {\n",
       "        vertical-align: middle;\n",
       "    }\n",
       "\n",
       "    .dataframe tbody tr th {\n",
       "        vertical-align: top;\n",
       "    }\n",
       "\n",
       "    .dataframe thead th {\n",
       "        text-align: right;\n",
       "    }\n",
       "</style>\n",
       "<table border=\"1\" class=\"dataframe\">\n",
       "  <thead>\n",
       "    <tr style=\"text-align: right;\">\n",
       "      <th></th>\n",
       "      <th>exp_score</th>\n",
       "      <th>eng_score</th>\n",
       "    </tr>\n",
       "  </thead>\n",
       "  <tbody>\n",
       "    <tr>\n",
       "      <th>97351</th>\n",
       "      <td>1.998480</td>\n",
       "      <td>0.857407</td>\n",
       "    </tr>\n",
       "    <tr>\n",
       "      <th>69088</th>\n",
       "      <td>1.997978</td>\n",
       "      <td>0.292190</td>\n",
       "    </tr>\n",
       "    <tr>\n",
       "      <th>4206</th>\n",
       "      <td>1.998849</td>\n",
       "      <td>0.683494</td>\n",
       "    </tr>\n",
       "    <tr>\n",
       "      <th>77063</th>\n",
       "      <td>1.998735</td>\n",
       "      <td>0.553059</td>\n",
       "    </tr>\n",
       "    <tr>\n",
       "      <th>23552</th>\n",
       "      <td>1.998471</td>\n",
       "      <td>0.857407</td>\n",
       "    </tr>\n",
       "    <tr>\n",
       "      <th>...</th>\n",
       "      <td>...</td>\n",
       "      <td>...</td>\n",
       "    </tr>\n",
       "    <tr>\n",
       "      <th>56679</th>\n",
       "      <td>1.999122</td>\n",
       "      <td>0.857407</td>\n",
       "    </tr>\n",
       "    <tr>\n",
       "      <th>103626</th>\n",
       "      <td>1.996752</td>\n",
       "      <td>0.074802</td>\n",
       "    </tr>\n",
       "    <tr>\n",
       "      <th>75149</th>\n",
       "      <td>1.998715</td>\n",
       "      <td>0.074800</td>\n",
       "    </tr>\n",
       "    <tr>\n",
       "      <th>72054</th>\n",
       "      <td>1.998785</td>\n",
       "      <td>0.596538</td>\n",
       "    </tr>\n",
       "    <tr>\n",
       "      <th>44813</th>\n",
       "      <td>1.997241</td>\n",
       "      <td>0.422625</td>\n",
       "    </tr>\n",
       "  </tbody>\n",
       "</table>\n",
       "<p>32058 rows × 2 columns</p>\n",
       "</div>"
      ],
      "text/plain": [
       "        exp_score  eng_score\n",
       "97351    1.998480   0.857407\n",
       "69088    1.997978   0.292190\n",
       "4206     1.998849   0.683494\n",
       "77063    1.998735   0.553059\n",
       "23552    1.998471   0.857407\n",
       "...           ...        ...\n",
       "56679    1.999122   0.857407\n",
       "103626   1.996752   0.074802\n",
       "75149    1.998715   0.074800\n",
       "72054    1.998785   0.596538\n",
       "44813    1.997241   0.422625\n",
       "\n",
       "[32058 rows x 2 columns]"
      ]
     },
     "execution_count": 237,
     "metadata": {},
     "output_type": "execute_result"
    }
   ],
   "source": [
    "x_test"
   ]
  },
  {
   "cell_type": "code",
   "execution_count": 238,
   "metadata": {},
   "outputs": [
    {
     "data": {
      "text/html": [
       "<div>\n",
       "<style scoped>\n",
       "    .dataframe tbody tr th:only-of-type {\n",
       "        vertical-align: middle;\n",
       "    }\n",
       "\n",
       "    .dataframe tbody tr th {\n",
       "        vertical-align: top;\n",
       "    }\n",
       "\n",
       "    .dataframe thead th {\n",
       "        text-align: right;\n",
       "    }\n",
       "</style>\n",
       "<table border=\"1\" class=\"dataframe\">\n",
       "  <thead>\n",
       "    <tr style=\"text-align: right;\">\n",
       "      <th></th>\n",
       "      <th>sat_score</th>\n",
       "    </tr>\n",
       "  </thead>\n",
       "  <tbody>\n",
       "    <tr>\n",
       "      <th>33796</th>\n",
       "      <td>1.080267</td>\n",
       "    </tr>\n",
       "    <tr>\n",
       "      <th>41538</th>\n",
       "      <td>1.428224</td>\n",
       "    </tr>\n",
       "    <tr>\n",
       "      <th>65512</th>\n",
       "      <td>1.123859</td>\n",
       "    </tr>\n",
       "    <tr>\n",
       "      <th>48427</th>\n",
       "      <td>1.406448</td>\n",
       "    </tr>\n",
       "    <tr>\n",
       "      <th>7998</th>\n",
       "      <td>1.425718</td>\n",
       "    </tr>\n",
       "    <tr>\n",
       "      <th>...</th>\n",
       "      <td>...</td>\n",
       "    </tr>\n",
       "    <tr>\n",
       "      <th>72674</th>\n",
       "      <td>1.068024</td>\n",
       "    </tr>\n",
       "    <tr>\n",
       "      <th>44427</th>\n",
       "      <td>1.428184</td>\n",
       "    </tr>\n",
       "    <tr>\n",
       "      <th>79385</th>\n",
       "      <td>1.428078</td>\n",
       "    </tr>\n",
       "    <tr>\n",
       "      <th>84368</th>\n",
       "      <td>1.005656</td>\n",
       "    </tr>\n",
       "    <tr>\n",
       "      <th>53756</th>\n",
       "      <td>1.425088</td>\n",
       "    </tr>\n",
       "  </tbody>\n",
       "</table>\n",
       "<p>74799 rows × 1 columns</p>\n",
       "</div>"
      ],
      "text/plain": [
       "       sat_score\n",
       "33796   1.080267\n",
       "41538   1.428224\n",
       "65512   1.123859\n",
       "48427   1.406448\n",
       "7998    1.425718\n",
       "...          ...\n",
       "72674   1.068024\n",
       "44427   1.428184\n",
       "79385   1.428078\n",
       "84368   1.005656\n",
       "53756   1.425088\n",
       "\n",
       "[74799 rows x 1 columns]"
      ]
     },
     "execution_count": 238,
     "metadata": {},
     "output_type": "execute_result"
    }
   ],
   "source": [
    "y_train"
   ]
  },
  {
   "cell_type": "code",
   "execution_count": 239,
   "metadata": {},
   "outputs": [
    {
     "data": {
      "text/html": [
       "<div>\n",
       "<style scoped>\n",
       "    .dataframe tbody tr th:only-of-type {\n",
       "        vertical-align: middle;\n",
       "    }\n",
       "\n",
       "    .dataframe tbody tr th {\n",
       "        vertical-align: top;\n",
       "    }\n",
       "\n",
       "    .dataframe thead th {\n",
       "        text-align: right;\n",
       "    }\n",
       "</style>\n",
       "<table border=\"1\" class=\"dataframe\">\n",
       "  <thead>\n",
       "    <tr style=\"text-align: right;\">\n",
       "      <th></th>\n",
       "      <th>sat_score</th>\n",
       "    </tr>\n",
       "  </thead>\n",
       "  <tbody>\n",
       "    <tr>\n",
       "      <th>97351</th>\n",
       "      <td>1.427944</td>\n",
       "    </tr>\n",
       "    <tr>\n",
       "      <th>69088</th>\n",
       "      <td>1.145084</td>\n",
       "    </tr>\n",
       "    <tr>\n",
       "      <th>4206</th>\n",
       "      <td>1.341172</td>\n",
       "    </tr>\n",
       "    <tr>\n",
       "      <th>77063</th>\n",
       "      <td>1.275897</td>\n",
       "    </tr>\n",
       "    <tr>\n",
       "      <th>23552</th>\n",
       "      <td>1.427939</td>\n",
       "    </tr>\n",
       "    <tr>\n",
       "      <th>...</th>\n",
       "      <td>...</td>\n",
       "    </tr>\n",
       "    <tr>\n",
       "      <th>56679</th>\n",
       "      <td>1.428265</td>\n",
       "    </tr>\n",
       "    <tr>\n",
       "      <th>103626</th>\n",
       "      <td>1.035777</td>\n",
       "    </tr>\n",
       "    <tr>\n",
       "      <th>75149</th>\n",
       "      <td>1.036758</td>\n",
       "    </tr>\n",
       "    <tr>\n",
       "      <th>72054</th>\n",
       "      <td>1.297662</td>\n",
       "    </tr>\n",
       "    <tr>\n",
       "      <th>44813</th>\n",
       "      <td>1.209933</td>\n",
       "    </tr>\n",
       "  </tbody>\n",
       "</table>\n",
       "<p>32058 rows × 1 columns</p>\n",
       "</div>"
      ],
      "text/plain": [
       "        sat_score\n",
       "97351    1.427944\n",
       "69088    1.145084\n",
       "4206     1.341172\n",
       "77063    1.275897\n",
       "23552    1.427939\n",
       "...           ...\n",
       "56679    1.428265\n",
       "103626   1.035777\n",
       "75149    1.036758\n",
       "72054    1.297662\n",
       "44813    1.209933\n",
       "\n",
       "[32058 rows x 1 columns]"
      ]
     },
     "execution_count": 239,
     "metadata": {},
     "output_type": "execute_result"
    }
   ],
   "source": [
    "y_test"
   ]
  },
  {
   "cell_type": "markdown",
   "metadata": {},
   "source": [
    "> Fit train data to model"
   ]
  },
  {
   "cell_type": "code",
   "execution_count": 240,
   "metadata": {},
   "outputs": [],
   "source": [
    "lm = LinearRegression()"
   ]
  },
  {
   "cell_type": "code",
   "execution_count": 241,
   "metadata": {},
   "outputs": [],
   "source": [
    "model = lm.fit(x_train, y_train)"
   ]
  },
  {
   "cell_type": "markdown",
   "metadata": {},
   "source": [
    "> Now Let's test the model"
   ]
  },
  {
   "cell_type": "code",
   "execution_count": 242,
   "metadata": {},
   "outputs": [],
   "source": [
    "test_result = model.predict(x_test)"
   ]
  },
  {
   "cell_type": "code",
   "execution_count": 243,
   "metadata": {},
   "outputs": [
    {
     "data": {
      "text/plain": [
       "array([[1.42794389],\n",
       "       [1.14508389],\n",
       "       [1.3411716 ],\n",
       "       ...,\n",
       "       [1.03675766],\n",
       "       [1.29766167],\n",
       "       [1.20993322]])"
      ]
     },
     "execution_count": 243,
     "metadata": {},
     "output_type": "execute_result"
    }
   ],
   "source": [
    "test_result"
   ]
  },
  {
   "cell_type": "markdown",
   "metadata": {},
   "source": [
    "> Check model accuracy - compare observed result of x_text with expected result of y_test"
   ]
  },
  {
   "cell_type": "code",
   "execution_count": 244,
   "metadata": {},
   "outputs": [
    {
     "data": {
      "text/plain": [
       "1.0"
      ]
     },
     "execution_count": 244,
     "metadata": {},
     "output_type": "execute_result"
    }
   ],
   "source": [
    "model.score(x_test, y_test)"
   ]
  },
  {
   "cell_type": "markdown",
   "metadata": {},
   "source": [
    ">> Visulaize model accuracy"
   ]
  },
  {
   "cell_type": "code",
   "execution_count": 245,
   "metadata": {},
   "outputs": [
    {
     "data": {
      "image/png": "[encoded data removed]",
      "text/plain": [
       "<Figure size 720x576 with 1 Axes>"
      ]
     },
     "metadata": {
      "needs_background": "light"
     },
     "output_type": "display_data"
    }
   ],
   "source": [
    "plt.subplots(figsize=(10,8))\n",
    "plt.text(s=f'Prediction Score: {model.score(x_test, y_test)}', x=1.2, y=1.4,\n",
    "         fontsize=15, color='r',  bbox=dict(facecolor='white', alpha=0.5))\n",
    "plt.scatter(x=test_result, y=y_test)\n",
    "plt.title('Customer Satisfaction Prediction Model', fontsize=18)\n",
    "plt.xlabel('experience & engagement score', fontsize=15)\n",
    "plt.ylabel('satisfaction score', fontsize=15)\n",
    "plt.savefig(format='png', fname='visuals/user_satisfaction/satPrdModel.png')"
   ]
  },
  {
   "cell_type": "markdown",
   "metadata": {},
   "source": [
    "The model has high accuracy - we have a mean squared error of 1"
   ]
  },
  {
   "cell_type": "markdown",
   "metadata": {},
   "source": [
    "##### Research Question 3\n",
    "\n",
    "- Customer Clustering\n",
    "    \n",
    "- -        Do the following:\n",
    "\n",
    "            a. Run a k-means (k=2) on the engagement & the experience score:\n",
    "            \n",
    "            b. Aggregate the average enagagement & experience score per cluster\n",
    "            \n",
    "            c. Export your final table containing all user id + engagement, experience &\n",
    "            satisfaction scores in your local MySQL database. Report a screenshot of a select on th\n",
    "            exported table"
   ]
  },
  {
   "cell_type": "code",
   "execution_count": 246,
   "metadata": {},
   "outputs": [
    {
     "data": {
      "text/html": [
       "<div>\n",
       "<style scoped>\n",
       "    .dataframe tbody tr th:only-of-type {\n",
       "        vertical-align: middle;\n",
       "    }\n",
       "\n",
       "    .dataframe tbody tr th {\n",
       "        vertical-align: top;\n",
       "    }\n",
       "\n",
       "    .dataframe thead th {\n",
       "        text-align: right;\n",
       "    }\n",
       "</style>\n",
       "<table border=\"1\" class=\"dataframe\">\n",
       "  <thead>\n",
       "    <tr style=\"text-align: right;\">\n",
       "      <th></th>\n",
       "      <th>users</th>\n",
       "      <th>exp_score</th>\n",
       "      <th>eng_score</th>\n",
       "      <th>sat_score</th>\n",
       "    </tr>\n",
       "  </thead>\n",
       "  <tbody>\n",
       "    <tr>\n",
       "      <th>0</th>\n",
       "      <td>33601001722</td>\n",
       "      <td>1.998852e+00</td>\n",
       "      <td>0.205234</td>\n",
       "      <td>1.102043</td>\n",
       "    </tr>\n",
       "    <tr>\n",
       "      <th>1</th>\n",
       "      <td>33601001754</td>\n",
       "      <td>1.998979e+00</td>\n",
       "      <td>0.055646</td>\n",
       "      <td>1.027312</td>\n",
       "    </tr>\n",
       "    <tr>\n",
       "      <th>2</th>\n",
       "      <td>33601002511</td>\n",
       "      <td>1.998776e+00</td>\n",
       "      <td>0.422625</td>\n",
       "      <td>1.210701</td>\n",
       "    </tr>\n",
       "    <tr>\n",
       "      <th>3</th>\n",
       "      <td>33601007832</td>\n",
       "      <td>1.999284e+00</td>\n",
       "      <td>0.422625</td>\n",
       "      <td>1.210955</td>\n",
       "    </tr>\n",
       "    <tr>\n",
       "      <th>4</th>\n",
       "      <td>33601008617</td>\n",
       "      <td>1.996199e+00</td>\n",
       "      <td>0.292194</td>\n",
       "      <td>1.144197</td>\n",
       "    </tr>\n",
       "    <tr>\n",
       "      <th>...</th>\n",
       "      <td>...</td>\n",
       "      <td>...</td>\n",
       "      <td>...</td>\n",
       "      <td>...</td>\n",
       "    </tr>\n",
       "    <tr>\n",
       "      <th>106852</th>\n",
       "      <td>33789997247</td>\n",
       "      <td>1.998900e+00</td>\n",
       "      <td>0.509581</td>\n",
       "      <td>1.254240</td>\n",
       "    </tr>\n",
       "    <tr>\n",
       "      <th>106853</th>\n",
       "      <td>41882819545</td>\n",
       "      <td>1.570092e-16</td>\n",
       "      <td>1.427949</td>\n",
       "      <td>0.713974</td>\n",
       "    </tr>\n",
       "    <tr>\n",
       "      <th>106854</th>\n",
       "      <td>3197020876596</td>\n",
       "      <td>1.998787e+00</td>\n",
       "      <td>0.857408</td>\n",
       "      <td>1.428097</td>\n",
       "    </tr>\n",
       "    <tr>\n",
       "      <th>106855</th>\n",
       "      <td>337000037000919</td>\n",
       "      <td>1.998783e+00</td>\n",
       "      <td>0.857407</td>\n",
       "      <td>1.428095</td>\n",
       "    </tr>\n",
       "    <tr>\n",
       "      <th>106856</th>\n",
       "      <td>882397108489451</td>\n",
       "      <td>1.998787e+00</td>\n",
       "      <td>0.857408</td>\n",
       "      <td>1.428097</td>\n",
       "    </tr>\n",
       "  </tbody>\n",
       "</table>\n",
       "<p>106857 rows × 4 columns</p>\n",
       "</div>"
      ],
      "text/plain": [
       "                  users     exp_score  eng_score  sat_score\n",
       "0           33601001722  1.998852e+00   0.205234   1.102043\n",
       "1           33601001754  1.998979e+00   0.055646   1.027312\n",
       "2           33601002511  1.998776e+00   0.422625   1.210701\n",
       "3           33601007832  1.999284e+00   0.422625   1.210955\n",
       "4           33601008617  1.996199e+00   0.292194   1.144197\n",
       "...                 ...           ...        ...        ...\n",
       "106852      33789997247  1.998900e+00   0.509581   1.254240\n",
       "106853      41882819545  1.570092e-16   1.427949   0.713974\n",
       "106854    3197020876596  1.998787e+00   0.857408   1.428097\n",
       "106855  337000037000919  1.998783e+00   0.857407   1.428095\n",
       "106856  882397108489451  1.998787e+00   0.857408   1.428097\n",
       "\n",
       "[106857 rows x 4 columns]"
      ]
     },
     "execution_count": 246,
     "metadata": {},
     "output_type": "execute_result"
    }
   ],
   "source": [
    "sat_table"
   ]
  },
  {
   "cell_type": "code",
   "execution_count": 247,
   "metadata": {},
   "outputs": [],
   "source": [
    "k_table = sat_table[['exp_score', 'eng_score']]"
   ]
  },
  {
   "cell_type": "code",
   "execution_count": 248,
   "metadata": {},
   "outputs": [
    {
     "data": {
      "text/html": [
       "<div>\n",
       "<style scoped>\n",
       "    .dataframe tbody tr th:only-of-type {\n",
       "        vertical-align: middle;\n",
       "    }\n",
       "\n",
       "    .dataframe tbody tr th {\n",
       "        vertical-align: top;\n",
       "    }\n",
       "\n",
       "    .dataframe thead th {\n",
       "        text-align: right;\n",
       "    }\n",
       "</style>\n",
       "<table border=\"1\" class=\"dataframe\">\n",
       "  <thead>\n",
       "    <tr style=\"text-align: right;\">\n",
       "      <th></th>\n",
       "      <th>exp_score</th>\n",
       "      <th>eng_score</th>\n",
       "    </tr>\n",
       "  </thead>\n",
       "  <tbody>\n",
       "    <tr>\n",
       "      <th>0</th>\n",
       "      <td>1.998852e+00</td>\n",
       "      <td>0.205234</td>\n",
       "    </tr>\n",
       "    <tr>\n",
       "      <th>1</th>\n",
       "      <td>1.998979e+00</td>\n",
       "      <td>0.055646</td>\n",
       "    </tr>\n",
       "    <tr>\n",
       "      <th>2</th>\n",
       "      <td>1.998776e+00</td>\n",
       "      <td>0.422625</td>\n",
       "    </tr>\n",
       "    <tr>\n",
       "      <th>3</th>\n",
       "      <td>1.999284e+00</td>\n",
       "      <td>0.422625</td>\n",
       "    </tr>\n",
       "    <tr>\n",
       "      <th>4</th>\n",
       "      <td>1.996199e+00</td>\n",
       "      <td>0.292194</td>\n",
       "    </tr>\n",
       "    <tr>\n",
       "      <th>...</th>\n",
       "      <td>...</td>\n",
       "      <td>...</td>\n",
       "    </tr>\n",
       "    <tr>\n",
       "      <th>106852</th>\n",
       "      <td>1.998900e+00</td>\n",
       "      <td>0.509581</td>\n",
       "    </tr>\n",
       "    <tr>\n",
       "      <th>106853</th>\n",
       "      <td>1.570092e-16</td>\n",
       "      <td>1.427949</td>\n",
       "    </tr>\n",
       "    <tr>\n",
       "      <th>106854</th>\n",
       "      <td>1.998787e+00</td>\n",
       "      <td>0.857408</td>\n",
       "    </tr>\n",
       "    <tr>\n",
       "      <th>106855</th>\n",
       "      <td>1.998783e+00</td>\n",
       "      <td>0.857407</td>\n",
       "    </tr>\n",
       "    <tr>\n",
       "      <th>106856</th>\n",
       "      <td>1.998787e+00</td>\n",
       "      <td>0.857408</td>\n",
       "    </tr>\n",
       "  </tbody>\n",
       "</table>\n",
       "<p>106857 rows × 2 columns</p>\n",
       "</div>"
      ],
      "text/plain": [
       "           exp_score  eng_score\n",
       "0       1.998852e+00   0.205234\n",
       "1       1.998979e+00   0.055646\n",
       "2       1.998776e+00   0.422625\n",
       "3       1.999284e+00   0.422625\n",
       "4       1.996199e+00   0.292194\n",
       "...              ...        ...\n",
       "106852  1.998900e+00   0.509581\n",
       "106853  1.570092e-16   1.427949\n",
       "106854  1.998787e+00   0.857408\n",
       "106855  1.998783e+00   0.857407\n",
       "106856  1.998787e+00   0.857408\n",
       "\n",
       "[106857 rows x 2 columns]"
      ]
     },
     "execution_count": 248,
     "metadata": {},
     "output_type": "execute_result"
    }
   ],
   "source": [
    "k_table"
   ]
  },
  {
   "cell_type": "code",
   "execution_count": 249,
   "metadata": {},
   "outputs": [
    {
     "data": {
      "text/plain": [
       "KMeans(n_clusters=2, random_state=0)"
      ]
     },
     "execution_count": 249,
     "metadata": {},
     "output_type": "execute_result"
    }
   ],
   "source": [
    "km = KMeans(n_clusters=2, random_state=0)\n",
    "km"
   ]
  },
  {
   "cell_type": "code",
   "execution_count": 250,
   "metadata": {},
   "outputs": [
    {
     "data": {
      "text/plain": [
       "KMeans(n_clusters=2, random_state=0)"
      ]
     },
     "execution_count": 250,
     "metadata": {},
     "output_type": "execute_result"
    }
   ],
   "source": [
    "km.fit(k_table)"
   ]
  },
  {
   "cell_type": "code",
   "execution_count": 251,
   "metadata": {},
   "outputs": [],
   "source": [
    "score_clusters = km.cluster_centers_"
   ]
  },
  {
   "cell_type": "code",
   "execution_count": 252,
   "metadata": {},
   "outputs": [
    {
     "data": {
      "text/plain": [
       "array([[1.99781859, 0.73239694],\n",
       "       [1.99810583, 0.16992356]])"
      ]
     },
     "execution_count": 252,
     "metadata": {},
     "output_type": "execute_result"
    }
   ],
   "source": [
    "score_clusters"
   ]
  },
  {
   "cell_type": "code",
   "execution_count": 253,
   "metadata": {},
   "outputs": [],
   "source": [
    "score_labels = km.labels_"
   ]
  },
  {
   "cell_type": "code",
   "execution_count": 254,
   "metadata": {},
   "outputs": [
    {
     "data": {
      "text/plain": [
       "{0, 1}"
      ]
     },
     "execution_count": 254,
     "metadata": {},
     "output_type": "execute_result"
    }
   ],
   "source": [
    "set(score_labels)"
   ]
  },
  {
   "cell_type": "code",
   "execution_count": 255,
   "metadata": {},
   "outputs": [
    {
     "name": "stderr",
     "output_type": "stream",
     "text": [
      "/home/patrick/.local/lib/python3.6/site-packages/ipykernel_launcher.py:1: SettingWithCopyWarning: \n",
      "A value is trying to be set on a copy of a slice from a DataFrame.\n",
      "Try using .loc[row_indexer,col_indexer] = value instead\n",
      "\n",
      "See the caveats in the documentation: https://pandas.pydata.org/pandas-docs/stable/user_guide/indexing.html#returning-a-view-versus-a-copy\n",
      "  \"\"\"Entry point for launching an IPython kernel.\n"
     ]
    }
   ],
   "source": [
    "k_table['clusters'] = score_labels"
   ]
  },
  {
   "cell_type": "code",
   "execution_count": 256,
   "metadata": {},
   "outputs": [
    {
     "data": {
      "text/html": [
       "<div>\n",
       "<style scoped>\n",
       "    .dataframe tbody tr th:only-of-type {\n",
       "        vertical-align: middle;\n",
       "    }\n",
       "\n",
       "    .dataframe tbody tr th {\n",
       "        vertical-align: top;\n",
       "    }\n",
       "\n",
       "    .dataframe thead th {\n",
       "        text-align: right;\n",
       "    }\n",
       "</style>\n",
       "<table border=\"1\" class=\"dataframe\">\n",
       "  <thead>\n",
       "    <tr style=\"text-align: right;\">\n",
       "      <th></th>\n",
       "      <th>exp_score</th>\n",
       "      <th>eng_score</th>\n",
       "      <th>clusters</th>\n",
       "    </tr>\n",
       "  </thead>\n",
       "  <tbody>\n",
       "    <tr>\n",
       "      <th>0</th>\n",
       "      <td>1.998852e+00</td>\n",
       "      <td>0.205234</td>\n",
       "      <td>1</td>\n",
       "    </tr>\n",
       "    <tr>\n",
       "      <th>1</th>\n",
       "      <td>1.998979e+00</td>\n",
       "      <td>0.055646</td>\n",
       "      <td>1</td>\n",
       "    </tr>\n",
       "    <tr>\n",
       "      <th>2</th>\n",
       "      <td>1.998776e+00</td>\n",
       "      <td>0.422625</td>\n",
       "      <td>1</td>\n",
       "    </tr>\n",
       "    <tr>\n",
       "      <th>3</th>\n",
       "      <td>1.999284e+00</td>\n",
       "      <td>0.422625</td>\n",
       "      <td>1</td>\n",
       "    </tr>\n",
       "    <tr>\n",
       "      <th>4</th>\n",
       "      <td>1.996199e+00</td>\n",
       "      <td>0.292194</td>\n",
       "      <td>1</td>\n",
       "    </tr>\n",
       "    <tr>\n",
       "      <th>...</th>\n",
       "      <td>...</td>\n",
       "      <td>...</td>\n",
       "      <td>...</td>\n",
       "    </tr>\n",
       "    <tr>\n",
       "      <th>106852</th>\n",
       "      <td>1.998900e+00</td>\n",
       "      <td>0.509581</td>\n",
       "      <td>0</td>\n",
       "    </tr>\n",
       "    <tr>\n",
       "      <th>106853</th>\n",
       "      <td>1.570092e-16</td>\n",
       "      <td>1.427949</td>\n",
       "      <td>0</td>\n",
       "    </tr>\n",
       "    <tr>\n",
       "      <th>106854</th>\n",
       "      <td>1.998787e+00</td>\n",
       "      <td>0.857408</td>\n",
       "      <td>0</td>\n",
       "    </tr>\n",
       "    <tr>\n",
       "      <th>106855</th>\n",
       "      <td>1.998783e+00</td>\n",
       "      <td>0.857407</td>\n",
       "      <td>0</td>\n",
       "    </tr>\n",
       "    <tr>\n",
       "      <th>106856</th>\n",
       "      <td>1.998787e+00</td>\n",
       "      <td>0.857408</td>\n",
       "      <td>0</td>\n",
       "    </tr>\n",
       "  </tbody>\n",
       "</table>\n",
       "<p>106857 rows × 3 columns</p>\n",
       "</div>"
      ],
      "text/plain": [
       "           exp_score  eng_score  clusters\n",
       "0       1.998852e+00   0.205234         1\n",
       "1       1.998979e+00   0.055646         1\n",
       "2       1.998776e+00   0.422625         1\n",
       "3       1.999284e+00   0.422625         1\n",
       "4       1.996199e+00   0.292194         1\n",
       "...              ...        ...       ...\n",
       "106852  1.998900e+00   0.509581         0\n",
       "106853  1.570092e-16   1.427949         0\n",
       "106854  1.998787e+00   0.857408         0\n",
       "106855  1.998783e+00   0.857407         0\n",
       "106856  1.998787e+00   0.857408         0\n",
       "\n",
       "[106857 rows x 3 columns]"
      ]
     },
     "execution_count": 256,
     "metadata": {},
     "output_type": "execute_result"
    }
   ],
   "source": [
    "k_table"
   ]
  },
  {
   "cell_type": "markdown",
   "metadata": {},
   "source": [
    "<!-- > Plot CLusters on 3D -->"
   ]
  },
  {
   "cell_type": "code",
   "execution_count": 257,
   "metadata": {},
   "outputs": [],
   "source": [
    "# fig = plt.figure(figsize=(10,8))\n",
    "# ax = Axes3D(fig)\n",
    "# ax.set_title('Customer Score Clusters', fontsize=20, color='r')\n",
    "# ax.scatter(xs=k_table.eng_score, ys=k_table.exp_score , c=k_table.clusters)\n",
    "#        #   zs= np.log(exp_metrics.trp_sum)+1,\n",
    "# # ax.scatter(xs=scaled_metrics[:,0], ys= scaled_metrics[:,1],\n",
    "# #            zs= scaled_metrics[:,2], c=km2.labels_)\n",
    "# ax.set_xlabel('Enagegement Score', fontsize=15)\n",
    "# ax.set_ylabel('Expereince Score', fontsize=15)\n",
    "# #ax.set_zlabel('Throuhgput Experience ,', fontsize=15)\n",
    "# plt.savefig(\"visuals/user_satisfaction/scoreClusters3D.png\", format=\"png\")\n",
    "# plt.show()"
   ]
  },
  {
   "cell_type": "markdown",
   "metadata": {},
   "source": [
    "b. Aggregate the average enagagement & experience score per cluster\n"
   ]
  },
  {
   "cell_type": "code",
   "execution_count": null,
   "metadata": {},
   "outputs": [],
   "source": []
  },
  {
   "cell_type": "code",
   "execution_count": 258,
   "metadata": {},
   "outputs": [],
   "source": [
    "cluster_agg = k_table.groupby('clusters').aggregate({'exp_score':'mean', 'eng_score':'mean'}).reset_index().rename(\n",
    "   columns= {'exp_score':'exp_score_avg','eng_score':'eng-score_avg'})"
   ]
  },
  {
   "cell_type": "code",
   "execution_count": 259,
   "metadata": {},
   "outputs": [
    {
     "data": {
      "text/html": [
       "<div>\n",
       "<style scoped>\n",
       "    .dataframe tbody tr th:only-of-type {\n",
       "        vertical-align: middle;\n",
       "    }\n",
       "\n",
       "    .dataframe tbody tr th {\n",
       "        vertical-align: top;\n",
       "    }\n",
       "\n",
       "    .dataframe thead th {\n",
       "        text-align: right;\n",
       "    }\n",
       "</style>\n",
       "<table border=\"1\" class=\"dataframe\">\n",
       "  <thead>\n",
       "    <tr style=\"text-align: right;\">\n",
       "      <th></th>\n",
       "      <th>clusters</th>\n",
       "      <th>exp_score_avg</th>\n",
       "      <th>eng-score_avg</th>\n",
       "    </tr>\n",
       "  </thead>\n",
       "  <tbody>\n",
       "    <tr>\n",
       "      <th>0</th>\n",
       "      <td>0</td>\n",
       "      <td>1.997819</td>\n",
       "      <td>0.732397</td>\n",
       "    </tr>\n",
       "    <tr>\n",
       "      <th>1</th>\n",
       "      <td>1</td>\n",
       "      <td>1.998106</td>\n",
       "      <td>0.169924</td>\n",
       "    </tr>\n",
       "  </tbody>\n",
       "</table>\n",
       "</div>"
      ],
      "text/plain": [
       "   clusters  exp_score_avg  eng-score_avg\n",
       "0         0       1.997819       0.732397\n",
       "1         1       1.998106       0.169924"
      ]
     },
     "execution_count": 259,
     "metadata": {},
     "output_type": "execute_result"
    }
   ],
   "source": [
    "cluster_agg"
   ]
  },
  {
   "cell_type": "code",
   "execution_count": 260,
   "metadata": {},
   "outputs": [
    {
     "data": {
      "image/png": "[encoded data removed]",
      "text/plain": [
       "<Figure size 720x576 with 1 Axes>"
      ]
     },
     "metadata": {
      "needs_background": "light"
     },
     "output_type": "display_data"
    }
   ],
   "source": [
    "cluster_agg.plot.bar(figsize=(10,8), x='clusters')\n",
    "plt.title('Customer Score Clusters', fontsize=18)\n",
    "plt.xlabel('Clusters', fontsize=14)\n",
    "plt.ylabel('Score', fontsize=14)\n",
    "plt.savefig(\"visuals/user_satisfaction/scoresClusterAgg.png\", format=\"png\")"
   ]
  },
  {
   "cell_type": "markdown",
   "metadata": {},
   "source": [
    "> Cluster 0 Generally have better score than cluster 1 "
   ]
  },
  {
   "cell_type": "markdown",
   "metadata": {},
   "source": [
    "c. Export your final table containing all user id + engagement, experience &\n",
    "            satisfaction scores in your local MySQL database. Report a screenshot of a select on th\n",
    "            exported table"
   ]
  },
  {
   "cell_type": "code",
   "execution_count": null,
   "metadata": {},
   "outputs": [],
   "source": []
  }
 ],
 "metadata": {
  "kernelspec": {
   "display_name": "venv_tellco_user_analytics",
   "language": "python",
   "name": "venv_tellco_user_analytics"
  },
  "language_info": {
   "codemirror_mode": {
    "name": "ipython",
    "version": 3
   },
   "file_extension": ".py",
   "mimetype": "text/x-python",
   "name": "python",
   "nbconvert_exporter": "python",
   "pygments_lexer": "ipython3",
   "version": "3.6.9"
  }
 },
 "nbformat": 4,
 "nbformat_minor": 4
}
