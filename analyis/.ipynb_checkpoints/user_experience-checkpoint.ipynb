{
 "cells": [
  {
   "cell_type": "markdown",
   "metadata": {},
   "source": [
    "<a id='top'></a>\n",
    "\n",
    "## User Expereicne Analysis of Tellco Telecommunications"
   ]
  },
  {
   "cell_type": "markdown",
   "metadata": {},
   "source": [
    "#### Tables of Content"
   ]
  },
  {
   "cell_type": "markdown",
   "metadata": {},
   "source": [
    "<html>\n",
    "    <ul>\n",
    "        <li><a href='#intro'>Introduction</a></li>\n",
    "        <li><a href='#obj'>Objective</a></li>\n",
    "        <li><a href= '#research'/>Research Questions<a/></li>        \n",
    "        <li><a href= '#ana'>Analysis<a/><li.>\n",
    "              <br/>\n",
    "            <ul>\n",
    "             <li><a href='#lib'>Libraries</a></li>  \n",
    "             <li><a href='#fe'>Feature Engineering</a></li>\n",
    "             </ul>\n",
    "            <ol>\n",
    "            <li><a href='#r1'>Research Question 1</a></li>\n",
    "             <li><a href='#r2'>Research Question 2</a></li>\n",
    "<!--              <li><a href='#r3'>Research Question 3</a></li> -->\n",
    "            </ol>\n",
    "        <li><a href= '#go'>General Observation<a/></li>\n",
    "        <li><a href= '#rc'>Recommendation & Conclusions<a/></li>\n",
    "        <li><a href= '#lim'>Limitations<a/></li>\n",
    "        <li><a href= '#ref'>Referecnes<a/></li>\n",
    "    </ul>\n",
    "</html>"
   ]
  },
  {
   "cell_type": "markdown",
   "metadata": {},
   "source": [
    " "
   ]
  },
  {
   "cell_type": "markdown",
   "metadata": {},
   "source": [
    "<a id='intro'></a>\n",
    "#### Introduction"
   ]
  },
  {
   "cell_type": "markdown",
   "metadata": {},
   "source": [
    "The Telecommunication industry has experienced a great revolution since the last decade. \n",
    "Mobile devices have become the new fashion trend and play a vital role in\n",
    "everyone's life. The success of the mobile industry is by and large dependent on its\n",
    "consumers. \n",
    "\n",
    "Therefore, it is necessary for the vendors to focus on their target audience\n",
    "i.e. what are the needs and requirements of their consumers and how they feel and\n",
    "perceive their products. Tracking & evaluation of customers’ experience can help the\n",
    "organizations to optimize their products and services so that it meets the evolving user\n",
    "expectations, needs, and acceptance.\n",
    "\n",
    "In the telecommunication industry, the user experience is related, most of the time, to\n",
    "network parameter performances or the customers’ device characteristics."
   ]
  },
  {
   "cell_type": "markdown",
   "metadata": {},
   "source": [
    "<a id='obj'></a>\n",
    "\n",
    "#### Objective"
   ]
  },
  {
   "cell_type": "markdown",
   "metadata": {},
   "source": [
    "In this section, I woulf be focusing on network parameters like ​TCP retransmission​,\n",
    "Round Trip Time (RTT)​, ​Throughput​, and the customers’ device characteristics like the\n",
    "handset type to conduct a deep user experience analysis. \n",
    "\n",
    "The network parameters are\n",
    "all columns in the dataset. The following questions are your guidance to complete the\n",
    "task."
   ]
  },
  {
   "cell_type": "markdown",
   "metadata": {},
   "source": [
    "<a id='ana'></a>\n",
    "\n",
    "#### Analyis"
   ]
  },
  {
   "cell_type": "markdown",
   "metadata": {},
   "source": [
    "<a id='lib'></a>\n",
    "##### Libraries"
   ]
  },
  {
   "cell_type": "code",
   "execution_count": 6,
   "metadata": {},
   "outputs": [],
   "source": [
    "import numpy as np\n",
    "import pandas as pd\n",
    "import seaborn as sns\n",
    "%matplotlib inline\n",
    "import matplotlib.pyplot as plt\n",
    "from sklearn.cluster import KMeans\n",
    "from  scipy.stats import zscore\n",
    "from sklearn.preprocessing import MinMaxScaler"
   ]
  },
  {
   "cell_type": "markdown",
   "metadata": {},
   "source": [
    " "
   ]
  },
  {
   "cell_type": "markdown",
   "metadata": {},
   "source": [
    "<a id='research'></a>\n",
    "\n",
    "#### Research Questions"
   ]
  },
  {
   "cell_type": "markdown",
   "metadata": {},
   "source": [
    "##### Research Question 1\n",
    "\n",
    "- Customer Aggregation\n",
    "\n",
    "             \n",
    " 1.    Aggregate the above metrics per customer id(MSISDN)  \n",
    "                     \n",
    "                 i  Report the top 10 customers per engagement metric\n",
    "\n",
    "2.      Aggregat euser total traffic per application \n",
    "                    \n",
    "                 i  Report the top 10 most engaged users per application \n",
    "                   \n",
    "                 ii  Plot the top 3 most used applications"
   ]
  },
  {
   "cell_type": "code",
   "execution_count": null,
   "metadata": {},
   "outputs": [],
   "source": []
  }
 ],
 "metadata": {
  "kernelspec": {
   "display_name": "venv_tellco_user_analytics",
   "language": "python",
   "name": "venv_tellco_user_analytics"
  },
  "language_info": {
   "codemirror_mode": {
    "name": "ipython",
    "version": 3
   },
   "file_extension": ".py",
   "mimetype": "text/x-python",
   "name": "python",
   "nbconvert_exporter": "python",
   "pygments_lexer": "ipython3",
   "version": "3.6.9"
  }
 },
 "nbformat": 4,
 "nbformat_minor": 4
}
