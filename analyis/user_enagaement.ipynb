{
 "cells": [
  {
   "cell_type": "markdown",
   "metadata": {},
   "source": [
    "<a id='top'></a>\n",
    "\n",
    "## User Engagement Analysis of Tellco Telecommunications"
   ]
  },
  {
   "cell_type": "markdown",
   "metadata": {},
   "source": [
    "#### Tables of Content"
   ]
  },
  {
   "cell_type": "markdown",
   "metadata": {},
   "source": [
    "<html>\n",
    "    <ul>\n",
    "        <li><a href='#intro'>Introduction</a></li>\n",
    "        <li><a href='#obj'>Objective</a></li>\n",
    "        <li><a href= '#research'/>Research Questions<a/></li>\n",
    "              <br/>\n",
    "            <ul>\n",
    "             <li><a href='#fe'>Feature Engineering</a></li>\n",
    "             </ul>\n",
    "            <ol>\n",
    "            <li><a href='#r1'>Research Question 1</a></li>\n",
    "             <li><a href='#r2'>Research Question 2</a></li>\n",
    "             <li><a href='#r3'>Research Question 3</a></li>\n",
    "            </ol>\n",
    "        <br/>\n",
    "        <li><a href= '#ana'>Analysis<a/></li>\n",
    "        <li><a href= '#go'>General Observation<a/></li>\n",
    "        <li><a href= '#rc'>Recommendation & Conclusions<a/></li>\n",
    "        <li><a href= '#lim'>Limitations<a/></li>\n",
    "        <li><a href= '#ref'>Referecnes<a/></li>\n",
    "    </ul>\n",
    "</html>"
   ]
  },
  {
   "cell_type": "markdown",
   "metadata": {},
   "source": [
    "<a id= 'intro'> </a>\n",
    "\n",
    "#### Introduction"
   ]
  },
  {
   "cell_type": "markdown",
   "metadata": {},
   "source": [
    "In telecommunication , tracking the user activities on the database sessions is a good starting point to appreciate the user engagement for \n",
    "\n",
    "the overall applications and per application as well.\n",
    "\n",
    "If we can determine the level of engagement of a random user for any application, then it could help the technical teams of the business to \n",
    "\n",
    "know where to concentrate network resources for different clusters of customers based on the engagement scores "
   ]
  },
  {
   "cell_type": "markdown",
   "metadata": {},
   "source": [
    "<a id='obj'></a>\n",
    "\n",
    "#### Objective"
   ]
  },
  {
   "cell_type": "markdown",
   "metadata": {},
   "source": [
    "The objective of this analysis is outlised as below:\n",
    "    \n",
    "- Track the user’s engagement using the following engagement `metrics`:\n",
    "\n",
    "- -             Sessions frequency\n",
    "\n",
    "- -  The duration of the session\n",
    "\n",
    "- -  The sessions total traffic (download and upload (bytes))"
   ]
  },
  {
   "cell_type": "markdown",
   "metadata": {},
   "source": [
    "> Import libraries"
   ]
  },
  {
   "cell_type": "code",
   "execution_count": 5,
   "metadata": {},
   "outputs": [],
   "source": [
    "import numpy as np\n",
    "import pandas as pd\n",
    "import seaborn as sns\n",
    "from sklearn import cluster"
   ]
  },
  {
   "cell_type": "markdown",
   "metadata": {},
   "source": [
    " "
   ]
  },
  {
   "cell_type": "markdown",
   "metadata": {},
   "source": [
    "<a id='research'></a>\n",
    "\n",
    "#### Research Questions"
   ]
  },
  {
   "cell_type": "markdown",
   "metadata": {},
   "source": [
    "##### Research Question 1\n",
    "\n",
    "- Customer Aggregation\n",
    "\n",
    "             \n",
    " 1.    Aggregate the above metrics per customer id(MSISDN)  \n",
    "                     \n",
    "                 i  Report the top 10 customers per engagement metric\n",
    "\n",
    "2.      Aggregat euser total traffic per application \n",
    "                    \n",
    "                 i  Report the top 10 most engaged users per application \n",
    "                   \n",
    "                 ii  Plot the top 3 most used applications"
   ]
  },
  {
   "cell_type": "markdown",
   "metadata": {},
   "source": [
    " "
   ]
  },
  {
   "cell_type": "markdown",
   "metadata": {},
   "source": [
    "##### Research Question 2\n",
    "\n",
    "- Customer Classification\n",
    "\n",
    "             \n",
    " 1. K-Means Clustering \n",
    " \n",
    "      \n",
    "        i  Normalize each engagement metric & run a k-means(k=3)\n",
    "                  \n",
    "            to classify customers in three groups of engagement.\n",
    "                          \n",
    "        ii  Compute the minimum, maximum, average & total non-normalized metrics for each cluster.                        \n",
    "                          \n",
    "             Visual representaiton of result and textaul interpretations\n",
    "             \n",
    "        iii Using ​k​-means clustering algorithm:\n",
    "            \n",
    "            group users in k-ngagement cluster sbased on the engagement metrics\n",
    "\n"
   ]
  },
  {
   "cell_type": "code",
   "execution_count": null,
   "metadata": {},
   "outputs": [],
   "source": []
  }
 ],
 "metadata": {
  "kernelspec": {
   "display_name": "venv_tellco_user_analytics",
   "language": "python",
   "name": "venv_tellco_user_analytics"
  },
  "language_info": {
   "codemirror_mode": {
    "name": "ipython",
    "version": 3
   },
   "file_extension": ".py",
   "mimetype": "text/x-python",
   "name": "python",
   "nbconvert_exporter": "python",
   "pygments_lexer": "ipython3",
   "version": "3.6.9"
  }
 },
 "nbformat": 4,
 "nbformat_minor": 4
}
